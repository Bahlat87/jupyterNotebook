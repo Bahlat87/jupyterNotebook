{
 "cells": [
  {
   "cell_type": "markdown",
   "id": "ordinary-colorado",
   "metadata": {},
   "source": [
    "# Coinbase Cryptocurrency Price Data In R\n"
   ]
  },
  {
   "cell_type": "markdown",
   "id": "expensive-memorial",
   "metadata": {},
   "source": [
    "In this personal project, I use R programming to obtain cryptocurrency price data from Coinbase. \n",
    "\n",
    "\n",
    "\n",
    "\n",
    "\n",
    "Reference: https://www.cryptodatadownload.com/blog/how-to-download-coinbase-price-data-R.html"
   ]
  },
  {
   "cell_type": "markdown",
   "id": "blessed-dictionary",
   "metadata": {},
   "source": [
    "## Topics\n",
    "\n",
    "* Cryptodatadownload Blog Post On Obtaining Data Into R\n",
    "* Creating A Function For Producing Candlestick Charts From Coinbase Data\n"
   ]
  },
  {
   "cell_type": "markdown",
   "id": "false-ability",
   "metadata": {},
   "source": [
    "## Cryptodatadownload Blog Post On Obtaining Data Into R"
   ]
  },
  {
   "cell_type": "markdown",
   "id": "polar-prediction",
   "metadata": {},
   "source": [
    "Blog Post: https://www.cryptodatadownload.com/blog/how-to-download-coinbase-price-data-R.html\n",
    "\n",
    "From the blog post, a script is provided where there is a function which takes a crypto pair and filename as inputs.\n",
    "\n",
    "The Coinbase API is called and a .csv file is created based on the filename input. The later sections will build upon this script. "
   ]
  },
  {
   "cell_type": "markdown",
   "id": "characteristic-triumph",
   "metadata": {},
   "source": [
    "The script below is better if it is run in RStudio."
   ]
  },
  {
   "cell_type": "code",
   "execution_count": null,
   "id": "reserved-effect",
   "metadata": {},
   "outputs": [],
   "source": [
    "# Packages installation\n",
    "# Reference: https://plotly.com/r/using-r-in-jupyter-notebooks/\n",
    "\n",
    "install.packages(c('repr', 'IRdisplay', 'pbdZMQ'))\n",
    "devtools::install_github('IRkernel/IRkernel')\n",
    "IRkernel::installspec()"
   ]
  },
  {
   "cell_type": "code",
   "execution_count": 2,
   "id": "controlling-magnet",
   "metadata": {},
   "outputs": [
    {
     "ename": "ERROR",
     "evalue": "Error in retreive_daily_data(newPair, filename = fileName): unused argument (filename = fileName)\n",
     "output_type": "error",
     "traceback": [
      "Error in retreive_daily_data(newPair, filename = fileName): unused argument (filename = fileName)\nTraceback:\n"
     ]
    }
   ],
   "source": [
    "# Reference: https://www.cryptodatadownload.com/blog/how-to-download-coinbase-price-data-R.html\n",
    "\n",
    "rm(list = ls())  # reset global variables\n",
    "#import the libraries we need\n",
    "library(jsonlite)\n",
    "library(glue)\n",
    "\n",
    "# create a function to retrieve daily data\n",
    "retreive_daily_data <- function(pair) {\n",
    "  url = glue(\"https://api.pro.coinbase.com/products/{pair}/candles?granularity=86400\")\n",
    "  columnNames <- c('unix', 'low', 'high', 'open', 'close', glue('{pair} volume'))\n",
    "  mydata <- fromJSON(url)\n",
    "  df <- as.data.frame(mydata)\n",
    "  colnames(df) <- columnNames  # rename the columns\n",
    "  \n",
    "  write.csv(df, file = filename)\n",
    "}\n",
    "\n",
    "newPair <- \"BTC-USD\"\n",
    "fileName <- glue(\"dailyData{newPair}.csv\")\n",
    "runFunc <- retreive_daily_data(newPair, filename = fileName)\n",
    "#runFunc"
   ]
  },
  {
   "cell_type": "code",
   "execution_count": null,
   "id": "similar-arbitration",
   "metadata": {},
   "outputs": [],
   "source": []
  },
  {
   "cell_type": "markdown",
   "id": "accompanied-stage",
   "metadata": {},
   "source": [
    "## Creating A Function For Producing Candlestick Charts From Coinbase Data"
   ]
  },
  {
   "cell_type": "markdown",
   "id": "auburn-worry",
   "metadata": {},
   "source": [
    "What if I do not want to write a .csv file and want to work with the data right away? \n",
    "\n",
    "I have modified the blog post script. It is a function which takes in a crypto trading pair as the only input. The function extracts crypto data from Coinbase's API.\n",
    "\n",
    "Column names are renamed and UNIX times are converted into a datetime. \n",
    "\n",
    "Candlestick price charts are produced as the output with the use of plotly."
   ]
  },
  {
   "cell_type": "markdown",
   "id": "physical-november",
   "metadata": {},
   "source": [
    "**About Granularity**\n",
    "\n",
    "Reference: https://docs.pro.coinbase.com/?r=1#get-historic-rates\\\n",
    "\n",
    "At first, I was confused about the granularity part. I asked myself why it was 86400. This 86400 represents 86400 seconds in a day. Setting the granularity to 86400 means that the obtained data would be daily price data.\n",
    "\n",
    "Setting the granularity to 60 means price data every minute. Having the granularity at 300 would be every 5 minutes price data.\n",
    "\n"
   ]
  },
  {
   "cell_type": "code",
   "execution_count": 4,
   "id": "demographic-discovery",
   "metadata": {},
   "outputs": [
    {
     "name": "stderr",
     "output_type": "stream",
     "text": [
      "also installing the dependencies 'glue', 'tibble', 'pillar', 'dplyr', 'tidyselect', 'cpp11', 'htmlwidgets', 'tidyr', 'rlang', 'crosstalk'\n",
      "\n"
     ]
    },
    {
     "name": "stdout",
     "output_type": "stream",
     "text": [
      "\n",
      "  There are binary versions available but the source versions are later:\n",
      "       binary  source needs_compilation\n",
      "tibble  3.1.1   3.1.3              TRUE\n",
      "pillar  1.6.0   1.6.1             FALSE\n",
      "dplyr   1.0.6   1.0.7              TRUE\n",
      "cpp11   0.2.7   0.3.1             FALSE\n",
      "plotly  4.9.3 4.9.4.1             FALSE\n",
      "\n",
      "  Binaries will be installed\n"
     ]
    },
    {
     "name": "stderr",
     "output_type": "stream",
     "text": [
      "Warning message:\n",
      "\"packages 'glue', 'dplyr', 'tidyr' are in use and will not be installed\""
     ]
    },
    {
     "name": "stdout",
     "output_type": "stream",
     "text": [
      "package 'tibble' successfully unpacked and MD5 sums checked\n"
     ]
    },
    {
     "name": "stderr",
     "output_type": "stream",
     "text": [
      "Warning message:\n",
      "\"cannot remove prior installation of package 'tibble'\"Warning message in file.copy(savedcopy, lib, recursive = TRUE):\n",
      "\"problem copying C:\\Users\\DKu_7\\anaconda3\\envs\\PythonR\\Lib\\R\\library\\00LOCK\\tibble\\libs\\x64\\tibble.dll to C:\\Users\\DKu_7\\anaconda3\\envs\\PythonR\\Lib\\R\\library\\tibble\\libs\\x64\\tibble.dll: Permission denied\"Warning message:\n",
      "\"restored 'tibble'\""
     ]
    },
    {
     "name": "stdout",
     "output_type": "stream",
     "text": [
      "package 'tidyselect' successfully unpacked and MD5 sums checked\n"
     ]
    },
    {
     "name": "stderr",
     "output_type": "stream",
     "text": [
      "Warning message:\n",
      "\"cannot remove prior installation of package 'tidyselect'\"Warning message in file.copy(savedcopy, lib, recursive = TRUE):\n",
      "\"problem copying C:\\Users\\DKu_7\\anaconda3\\envs\\PythonR\\Lib\\R\\library\\00LOCK\\tidyselect\\libs\\x64\\tidyselect.dll to C:\\Users\\DKu_7\\anaconda3\\envs\\PythonR\\Lib\\R\\library\\tidyselect\\libs\\x64\\tidyselect.dll: Permission denied\"Warning message:\n",
      "\"restored 'tidyselect'\""
     ]
    },
    {
     "name": "stdout",
     "output_type": "stream",
     "text": [
      "package 'htmlwidgets' successfully unpacked and MD5 sums checked\n",
      "package 'rlang' successfully unpacked and MD5 sums checked\n"
     ]
    },
    {
     "name": "stderr",
     "output_type": "stream",
     "text": [
      "Warning message:\n",
      "\"cannot remove prior installation of package 'rlang'\"Warning message in file.copy(savedcopy, lib, recursive = TRUE):\n",
      "\"problem copying C:\\Users\\DKu_7\\anaconda3\\envs\\PythonR\\Lib\\R\\library\\00LOCK\\rlang\\libs\\x64\\rlang.dll to C:\\Users\\DKu_7\\anaconda3\\envs\\PythonR\\Lib\\R\\library\\rlang\\libs\\x64\\rlang.dll: Permission denied\"Warning message:\n",
      "\"restored 'rlang'\""
     ]
    },
    {
     "name": "stdout",
     "output_type": "stream",
     "text": [
      "package 'crosstalk' successfully unpacked and MD5 sums checked\n",
      "\n",
      "The downloaded binary packages are in\n",
      "\tC:\\Users\\DKu_7\\AppData\\Local\\Temp\\Rtmpmc1gL1\\downloaded_packages\n"
     ]
    },
    {
     "name": "stderr",
     "output_type": "stream",
     "text": [
      "installing the source packages 'pillar', 'cpp11', 'plotly'\n",
      "\n",
      "Warning message in install.packages(\"plotly\"):\n",
      "\"installation of package 'pillar' had non-zero exit status\"Warning message in install.packages(\"plotly\"):\n",
      "\"installation of package 'plotly' had non-zero exit status\""
     ]
    }
   ],
   "source": [
    "install.packages(\"plotly\")"
   ]
  },
  {
   "cell_type": "code",
   "execution_count": 6,
   "id": "atmospheric-saver",
   "metadata": {},
   "outputs": [
    {
     "ename": "ERROR",
     "evalue": "Error in library(plotly): there is no package called 'plotly'\n",
     "output_type": "error",
     "traceback": [
      "Error in library(plotly): there is no package called 'plotly'\nTraceback:\n",
      "1. library(plotly)"
     ]
    }
   ],
   "source": [
    "# Load R libraries:\n",
    "\n",
    "library(tidyr)\n",
    "library(dplyr)\n",
    "library(ggplot2)\n",
    "library(plotly)"
   ]
  },
  {
   "cell_type": "code",
   "execution_count": 8,
   "id": "sticky-smooth",
   "metadata": {},
   "outputs": [],
   "source": [
    "# Function Creation:\n",
    "coinbase_candlestick_plot <- function(crypto_pair){\n",
    "  \n",
    "  # Obtain url given the crypto pair\n",
    "  url = glue(\"https://api.pro.coinbase.com/products/{crypto_pair}/candles?granularity=86400\")\n",
    "  crypto_data <- fromJSON(url)\n",
    "  df <- as.data.frame(crypto_data)\n",
    "  \n",
    "  # Renaming column names:\n",
    "  columnNames <- c('unix', 'low', 'high', 'open', 'close', glue('{crypto_pair} volume'))\n",
    "  colnames(df) <- columnNames\n",
    "  \n",
    "  # Change unix epoch time into date, change column names.\n",
    "  df$unix <- as.POSIXct(df$unix, origin = '1970-01-01', tz = 'GMT')\n",
    "  \n",
    "  colnames(df) <- c('Date', 'Low', 'High', 'Open', 'Close', 'Volume')\n",
    "  \n",
    "  df %>% plot_ly(x = ~Date, type=\"candlestick\",\n",
    "                                 open = ~Open, close = ~Close,\n",
    "                                 high = ~High, low = ~Low) %>% \n",
    "  layout(title = paste(\"Basic Candlestick Chart Of\", crypto_pair, \"\\n\"),\n",
    "        xaxis = list(rangeslider = list(visible = F)),\n",
    "        yaxis = list(title = 'Price'))\n",
    "}"
   ]
  },
  {
   "cell_type": "code",
   "execution_count": 7,
   "id": "appropriate-marshall",
   "metadata": {},
   "outputs": [
    {
     "ename": "ERROR",
     "evalue": "Error in coinbase_candlestick_plot(\"ETH-USDT\"): could not find function \"coinbase_candlestick_plot\"\n",
     "output_type": "error",
     "traceback": [
      "Error in coinbase_candlestick_plot(\"ETH-USDT\"): could not find function \"coinbase_candlestick_plot\"\nTraceback:\n"
     ]
    }
   ],
   "source": [
    "# Function call #1 (Ethereum priced in USDT) :\n",
    "\n",
    "coinbase_candlestick_plot(\"ETH-USDT\")\n",
    "\n"
   ]
  },
  {
   "cell_type": "code",
   "execution_count": 8,
   "id": "emotional-bronze",
   "metadata": {},
   "outputs": [
    {
     "ename": "ERROR",
     "evalue": "Error in coinbase_candlestick_plot(\"SOL-USDT\"): could not find function \"coinbase_candlestick_plot\"\n",
     "output_type": "error",
     "traceback": [
      "Error in coinbase_candlestick_plot(\"SOL-USDT\"): could not find function \"coinbase_candlestick_plot\"\nTraceback:\n"
     ]
    }
   ],
   "source": [
    "# Function call #2 (Solana priced in USDT) :\n",
    "\n",
    "coinbase_candlestick_plot(\"SOL-USDT\")"
   ]
  },
  {
   "cell_type": "code",
   "execution_count": null,
   "id": "assigned-router",
   "metadata": {},
   "outputs": [],
   "source": []
  },
  {
   "cell_type": "code",
   "execution_count": null,
   "id": "sensitive-indiana",
   "metadata": {},
   "outputs": [],
   "source": []
  },
  {
   "cell_type": "code",
   "execution_count": null,
   "id": "realistic-township",
   "metadata": {},
   "outputs": [],
   "source": []
  },
  {
   "cell_type": "code",
   "execution_count": null,
   "id": "increasing-canberra",
   "metadata": {},
   "outputs": [],
   "source": []
  },
  {
   "cell_type": "code",
   "execution_count": null,
   "id": "convenient-courage",
   "metadata": {},
   "outputs": [],
   "source": []
  }
 ],
 "metadata": {
  "kernelspec": {
   "display_name": "R",
   "language": "R",
   "name": "ir"
  },
  "language_info": {
   "codemirror_mode": "r",
   "file_extension": ".r",
   "mimetype": "text/x-r-source",
   "name": "R",
   "pygments_lexer": "r",
   "version": "3.6.1"
  }
 },
 "nbformat": 4,
 "nbformat_minor": 5
}
