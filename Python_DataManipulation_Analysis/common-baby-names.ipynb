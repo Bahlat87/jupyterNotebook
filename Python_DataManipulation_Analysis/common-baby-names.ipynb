{
 "cells": [
  {
   "cell_type": "markdown",
   "metadata": {},
   "source": [
    "**<u>Finding The Most Common Baby Names In A Dataset With Python</u>**\n",
    "\n",
    "&nbsp;\n",
    "\n",
    "Hi there. This page focuses on finding the most common baby names from a dataset with the Python programming language. The Python packages pandas and matplotlib are used heavily.\n",
    "\n",
    "&nbsp;\n",
    "\n",
    "<center><img src=\"http://latesthdwallpapers1.com/wp-content/uploads/2014/12/Babies-Images-1.jpg\" /></center>\n",
    "\n",
    "\n",
    "<center>Image Source:  http://latesthdwallpapers1.com/wp-content/uploads/2014/12/Babies-Images-1.jpg</center>\n",
    "\n",
    "\n",
    "---\n",
    "\n",
    "**<u>Sections</u>**\n",
    "\n",
    "* References\n",
    "* Importing Data\n",
    "* Most Common Baby Names Of 2016\n",
    "* The Full Baby Names Dataset\n",
    "* Popular Baby Names With matplotlib Graphs\n",
    "\n",
    "---\n",
    "\n",
    "**<u>References</u>**\n",
    "\n",
    "* https://matplotlib.org/gallery/lines_bars_and_markers/barh.html\n",
    "* https://stackoverflow.com/questions/28931224/adding-value-labels-on-a-matplotlib-bar-chart\n",
    "* Python For Data Analysis By Wes McKinney\n",
    "* https://pandas.pydata.org/pandas-docs/stable/generated/pandas.pivot_table.html\n",
    "* https://matplotlib.org/users/legend_guide.html\n",
    "* https://matplotlib.org/api/_as_gen/matplotlib.pyplot.legend.html\n",
    "* https://stackoverflow.com/questions/16096627/selecting-a-row-of-pandas-series-dataframe-by-integer-index\n",
    "\n",
    "---\n",
    "\n",
    "**<u>Importing Data</u>**\n",
    "\n",
    "From the website source link https://www.ssa.gov/oact/babynames/limits.html, you can download the zip file. You have to unzip the files into a folder on your computer. Do make sure that you know the directory of the folder where the files are. The os module in Python will allow for importing and reading data (offline).\n",
    "\n",
    "The Python packages `pandas`, `matplotlib` and `numpy` are imported into Python as well.\n",
    "\n",
    "&nbsp;\n"
   ]
  },
  {
   "cell_type": "code",
   "execution_count": 5,
   "metadata": {
    "collapsed": true
   },
   "outputs": [],
   "source": [
    "# Baby Names In Python\n",
    "\n",
    "'''\n",
    "Website Source: https://www.ssa.gov/oact/babynames/limits.html\n",
    "\n",
    "Download zip file from National Data\n",
    "\n",
    "Reference: Python For Data Analysis by Wes McKinney\n",
    "\n",
    "'''\n",
    "\n",
    "# Get current working directory: import os; os.getcwd()\n",
    "# Set current working directory: import os; os.chdir(aPath)\n",
    "\n",
    "import pandas as pd\n",
    "import os\n",
    "import matplotlib.pyplot as plt\n",
    "import numpy as np\n",
    "\n",
    "%matplotlib inline"
   ]
  },
  {
   "cell_type": "markdown",
   "metadata": {},
   "source": [
    "Before reading in files offline, set the working directory where the files are unzipped to. (** = censored)"
   ]
  },
  {
   "cell_type": "markdown",
   "metadata": {},
   "source": [
    "`# Example:\n",
    "\n",
    "os.chdir(\"C:\\\\Users\\**\\\\Documents\\\\PythonWork\\\\**\\\\babynames\")`"
   ]
  },
  {
   "cell_type": "markdown",
   "metadata": {},
   "source": [
    "**<u>Most Common Baby Names Of 2016</u>**\n",
    "\n",
    "One of the unzipped files has the file name of yob2016.txt. With pandas' `read_csv()` function, this .txt file can be read into Python. The `.head()` and `.tail()` methods are used to preview the data (output not shown)."
   ]
  },
  {
   "cell_type": "code",
   "execution_count": 6,
   "metadata": {},
   "outputs": [
    {
     "data": {
      "text/html": [
       "<div>\n",
       "<style>\n",
       "    .dataframe thead tr:only-child th {\n",
       "        text-align: right;\n",
       "    }\n",
       "\n",
       "    .dataframe thead th {\n",
       "        text-align: left;\n",
       "    }\n",
       "\n",
       "    .dataframe tbody tr th {\n",
       "        vertical-align: top;\n",
       "    }\n",
       "</style>\n",
       "<table border=\"1\" class=\"dataframe\">\n",
       "  <thead>\n",
       "    <tr style=\"text-align: right;\">\n",
       "      <th></th>\n",
       "      <th>Name</th>\n",
       "      <th>Sex</th>\n",
       "      <th>Births</th>\n",
       "    </tr>\n",
       "  </thead>\n",
       "  <tbody>\n",
       "    <tr>\n",
       "      <th>0</th>\n",
       "      <td>Emma</td>\n",
       "      <td>F</td>\n",
       "      <td>19414</td>\n",
       "    </tr>\n",
       "    <tr>\n",
       "      <th>1</th>\n",
       "      <td>Olivia</td>\n",
       "      <td>F</td>\n",
       "      <td>19246</td>\n",
       "    </tr>\n",
       "    <tr>\n",
       "      <th>2</th>\n",
       "      <td>Ava</td>\n",
       "      <td>F</td>\n",
       "      <td>16237</td>\n",
       "    </tr>\n",
       "    <tr>\n",
       "      <th>3</th>\n",
       "      <td>Sophia</td>\n",
       "      <td>F</td>\n",
       "      <td>16070</td>\n",
       "    </tr>\n",
       "    <tr>\n",
       "      <th>4</th>\n",
       "      <td>Isabella</td>\n",
       "      <td>F</td>\n",
       "      <td>14722</td>\n",
       "    </tr>\n",
       "    <tr>\n",
       "      <th>5</th>\n",
       "      <td>Mia</td>\n",
       "      <td>F</td>\n",
       "      <td>14366</td>\n",
       "    </tr>\n",
       "    <tr>\n",
       "      <th>6</th>\n",
       "      <td>Charlotte</td>\n",
       "      <td>F</td>\n",
       "      <td>13030</td>\n",
       "    </tr>\n",
       "    <tr>\n",
       "      <th>7</th>\n",
       "      <td>Abigail</td>\n",
       "      <td>F</td>\n",
       "      <td>11699</td>\n",
       "    </tr>\n",
       "    <tr>\n",
       "      <th>8</th>\n",
       "      <td>Emily</td>\n",
       "      <td>F</td>\n",
       "      <td>10926</td>\n",
       "    </tr>\n",
       "    <tr>\n",
       "      <th>9</th>\n",
       "      <td>Harper</td>\n",
       "      <td>F</td>\n",
       "      <td>10733</td>\n",
       "    </tr>\n",
       "    <tr>\n",
       "      <th>10</th>\n",
       "      <td>Amelia</td>\n",
       "      <td>F</td>\n",
       "      <td>10702</td>\n",
       "    </tr>\n",
       "    <tr>\n",
       "      <th>11</th>\n",
       "      <td>Evelyn</td>\n",
       "      <td>F</td>\n",
       "      <td>10060</td>\n",
       "    </tr>\n",
       "    <tr>\n",
       "      <th>12</th>\n",
       "      <td>Elizabeth</td>\n",
       "      <td>F</td>\n",
       "      <td>9493</td>\n",
       "    </tr>\n",
       "    <tr>\n",
       "      <th>13</th>\n",
       "      <td>Sofia</td>\n",
       "      <td>F</td>\n",
       "      <td>9134</td>\n",
       "    </tr>\n",
       "    <tr>\n",
       "      <th>14</th>\n",
       "      <td>Madison</td>\n",
       "      <td>F</td>\n",
       "      <td>8982</td>\n",
       "    </tr>\n",
       "  </tbody>\n",
       "</table>\n",
       "</div>"
      ],
      "text/plain": [
       "         Name Sex  Births\n",
       "0        Emma   F   19414\n",
       "1      Olivia   F   19246\n",
       "2         Ava   F   16237\n",
       "3      Sophia   F   16070\n",
       "4    Isabella   F   14722\n",
       "5         Mia   F   14366\n",
       "6   Charlotte   F   13030\n",
       "7     Abigail   F   11699\n",
       "8       Emily   F   10926\n",
       "9      Harper   F   10733\n",
       "10     Amelia   F   10702\n",
       "11     Evelyn   F   10060\n",
       "12  Elizabeth   F    9493\n",
       "13      Sofia   F    9134\n",
       "14    Madison   F    8982"
      ]
     },
     "execution_count": 6,
     "metadata": {},
     "output_type": "execute_result"
    }
   ],
   "source": [
    "#### 2016 Babynames:\n",
    "\n",
    "# Import 2016 baby names data:\n",
    "babynames_2016 = pd.read_csv(\"yob2016.txt\",  names=['Name', 'Sex', 'Births'])\n",
    "\n",
    "\n",
    "# Preview data with .head and .tail functions:\n",
    " \n",
    "babynames_2016.head(15)\n"
   ]
  },
  {
   "cell_type": "code",
   "execution_count": 7,
   "metadata": {},
   "outputs": [
    {
     "data": {
      "text/html": [
       "<div>\n",
       "<style>\n",
       "    .dataframe thead tr:only-child th {\n",
       "        text-align: right;\n",
       "    }\n",
       "\n",
       "    .dataframe thead th {\n",
       "        text-align: left;\n",
       "    }\n",
       "\n",
       "    .dataframe tbody tr th {\n",
       "        vertical-align: top;\n",
       "    }\n",
       "</style>\n",
       "<table border=\"1\" class=\"dataframe\">\n",
       "  <thead>\n",
       "    <tr style=\"text-align: right;\">\n",
       "      <th></th>\n",
       "      <th>Name</th>\n",
       "      <th>Sex</th>\n",
       "      <th>Births</th>\n",
       "    </tr>\n",
       "  </thead>\n",
       "  <tbody>\n",
       "    <tr>\n",
       "      <th>32853</th>\n",
       "      <td>Zeric</td>\n",
       "      <td>M</td>\n",
       "      <td>5</td>\n",
       "    </tr>\n",
       "    <tr>\n",
       "      <th>32854</th>\n",
       "      <td>Zerin</td>\n",
       "      <td>M</td>\n",
       "      <td>5</td>\n",
       "    </tr>\n",
       "    <tr>\n",
       "      <th>32855</th>\n",
       "      <td>Zethan</td>\n",
       "      <td>M</td>\n",
       "      <td>5</td>\n",
       "    </tr>\n",
       "    <tr>\n",
       "      <th>32856</th>\n",
       "      <td>Zihao</td>\n",
       "      <td>M</td>\n",
       "      <td>5</td>\n",
       "    </tr>\n",
       "    <tr>\n",
       "      <th>32857</th>\n",
       "      <td>Zimo</td>\n",
       "      <td>M</td>\n",
       "      <td>5</td>\n",
       "    </tr>\n",
       "    <tr>\n",
       "      <th>32858</th>\n",
       "      <td>Zinn</td>\n",
       "      <td>M</td>\n",
       "      <td>5</td>\n",
       "    </tr>\n",
       "    <tr>\n",
       "      <th>32859</th>\n",
       "      <td>Zirui</td>\n",
       "      <td>M</td>\n",
       "      <td>5</td>\n",
       "    </tr>\n",
       "    <tr>\n",
       "      <th>32860</th>\n",
       "      <td>Ziya</td>\n",
       "      <td>M</td>\n",
       "      <td>5</td>\n",
       "    </tr>\n",
       "    <tr>\n",
       "      <th>32861</th>\n",
       "      <td>Ziyang</td>\n",
       "      <td>M</td>\n",
       "      <td>5</td>\n",
       "    </tr>\n",
       "    <tr>\n",
       "      <th>32862</th>\n",
       "      <td>Zoel</td>\n",
       "      <td>M</td>\n",
       "      <td>5</td>\n",
       "    </tr>\n",
       "    <tr>\n",
       "      <th>32863</th>\n",
       "      <td>Zolton</td>\n",
       "      <td>M</td>\n",
       "      <td>5</td>\n",
       "    </tr>\n",
       "    <tr>\n",
       "      <th>32864</th>\n",
       "      <td>Zurich</td>\n",
       "      <td>M</td>\n",
       "      <td>5</td>\n",
       "    </tr>\n",
       "    <tr>\n",
       "      <th>32865</th>\n",
       "      <td>Zyahir</td>\n",
       "      <td>M</td>\n",
       "      <td>5</td>\n",
       "    </tr>\n",
       "    <tr>\n",
       "      <th>32866</th>\n",
       "      <td>Zyel</td>\n",
       "      <td>M</td>\n",
       "      <td>5</td>\n",
       "    </tr>\n",
       "    <tr>\n",
       "      <th>32867</th>\n",
       "      <td>Zylyn</td>\n",
       "      <td>M</td>\n",
       "      <td>5</td>\n",
       "    </tr>\n",
       "  </tbody>\n",
       "</table>\n",
       "</div>"
      ],
      "text/plain": [
       "         Name Sex  Births\n",
       "32853   Zeric   M       5\n",
       "32854   Zerin   M       5\n",
       "32855  Zethan   M       5\n",
       "32856   Zihao   M       5\n",
       "32857    Zimo   M       5\n",
       "32858    Zinn   M       5\n",
       "32859   Zirui   M       5\n",
       "32860    Ziya   M       5\n",
       "32861  Ziyang   M       5\n",
       "32862    Zoel   M       5\n",
       "32863  Zolton   M       5\n",
       "32864  Zurich   M       5\n",
       "32865  Zyahir   M       5\n",
       "32866    Zyel   M       5\n",
       "32867   Zylyn   M       5"
      ]
     },
     "execution_count": 7,
     "metadata": {},
     "output_type": "execute_result"
    }
   ],
   "source": [
    "babynames_2016.tail(15)"
   ]
  },
  {
   "cell_type": "markdown",
   "metadata": {},
   "source": [
    "Obtaining the number of 2016 births for each gender can be done with the use of the `.groupby()` method. The column Sex is in `.groupby()` and the `.sum()` method is used afterwards."
   ]
  },
  {
   "cell_type": "code",
   "execution_count": 8,
   "metadata": {},
   "outputs": [
    {
     "data": {
      "text/html": [
       "<div>\n",
       "<style>\n",
       "    .dataframe thead tr:only-child th {\n",
       "        text-align: right;\n",
       "    }\n",
       "\n",
       "    .dataframe thead th {\n",
       "        text-align: left;\n",
       "    }\n",
       "\n",
       "    .dataframe tbody tr th {\n",
       "        vertical-align: top;\n",
       "    }\n",
       "</style>\n",
       "<table border=\"1\" class=\"dataframe\">\n",
       "  <thead>\n",
       "    <tr style=\"text-align: right;\">\n",
       "      <th></th>\n",
       "      <th>Births</th>\n",
       "    </tr>\n",
       "    <tr>\n",
       "      <th>Sex</th>\n",
       "      <th></th>\n",
       "    </tr>\n",
       "  </thead>\n",
       "  <tbody>\n",
       "    <tr>\n",
       "      <th>F</th>\n",
       "      <td>1756647</td>\n",
       "    </tr>\n",
       "    <tr>\n",
       "      <th>M</th>\n",
       "      <td>1880674</td>\n",
       "    </tr>\n",
       "  </tbody>\n",
       "</table>\n",
       "</div>"
      ],
      "text/plain": [
       "      Births\n",
       "Sex         \n",
       "F    1756647\n",
       "M    1880674"
      ]
     },
     "execution_count": 8,
     "metadata": {},
     "output_type": "execute_result"
    }
   ],
   "source": [
    "# Counts For Each Gender:\n",
    "    \n",
    "babynames_2016.groupby(\"Sex\").sum()"
   ]
  },
  {
   "cell_type": "markdown",
   "metadata": {},
   "source": [
    "Filtering out rows in the pandas environment can be done by using the format of df[ condition ] where df is a Pandas dataframe. For finding the male subset, I select the rows where there is an M under the Sex column of babynames_2016."
   ]
  },
  {
   "cell_type": "code",
   "execution_count": 9,
   "metadata": {},
   "outputs": [
    {
     "data": {
      "text/html": [
       "<div>\n",
       "<style>\n",
       "    .dataframe thead tr:only-child th {\n",
       "        text-align: right;\n",
       "    }\n",
       "\n",
       "    .dataframe thead th {\n",
       "        text-align: left;\n",
       "    }\n",
       "\n",
       "    .dataframe tbody tr th {\n",
       "        vertical-align: top;\n",
       "    }\n",
       "</style>\n",
       "<table border=\"1\" class=\"dataframe\">\n",
       "  <thead>\n",
       "    <tr style=\"text-align: right;\">\n",
       "      <th></th>\n",
       "      <th>Name</th>\n",
       "      <th>Sex</th>\n",
       "      <th>Births</th>\n",
       "    </tr>\n",
       "  </thead>\n",
       "  <tbody>\n",
       "    <tr>\n",
       "      <th>18757</th>\n",
       "      <td>Noah</td>\n",
       "      <td>M</td>\n",
       "      <td>19015</td>\n",
       "    </tr>\n",
       "    <tr>\n",
       "      <th>18758</th>\n",
       "      <td>Liam</td>\n",
       "      <td>M</td>\n",
       "      <td>18138</td>\n",
       "    </tr>\n",
       "    <tr>\n",
       "      <th>18759</th>\n",
       "      <td>William</td>\n",
       "      <td>M</td>\n",
       "      <td>15668</td>\n",
       "    </tr>\n",
       "    <tr>\n",
       "      <th>18760</th>\n",
       "      <td>Mason</td>\n",
       "      <td>M</td>\n",
       "      <td>15192</td>\n",
       "    </tr>\n",
       "    <tr>\n",
       "      <th>18761</th>\n",
       "      <td>James</td>\n",
       "      <td>M</td>\n",
       "      <td>14776</td>\n",
       "    </tr>\n",
       "    <tr>\n",
       "      <th>18762</th>\n",
       "      <td>Benjamin</td>\n",
       "      <td>M</td>\n",
       "      <td>14569</td>\n",
       "    </tr>\n",
       "    <tr>\n",
       "      <th>18763</th>\n",
       "      <td>Jacob</td>\n",
       "      <td>M</td>\n",
       "      <td>14416</td>\n",
       "    </tr>\n",
       "    <tr>\n",
       "      <th>18764</th>\n",
       "      <td>Michael</td>\n",
       "      <td>M</td>\n",
       "      <td>13998</td>\n",
       "    </tr>\n",
       "    <tr>\n",
       "      <th>18765</th>\n",
       "      <td>Elijah</td>\n",
       "      <td>M</td>\n",
       "      <td>13764</td>\n",
       "    </tr>\n",
       "    <tr>\n",
       "      <th>18766</th>\n",
       "      <td>Ethan</td>\n",
       "      <td>M</td>\n",
       "      <td>13758</td>\n",
       "    </tr>\n",
       "    <tr>\n",
       "      <th>18767</th>\n",
       "      <td>Alexander</td>\n",
       "      <td>M</td>\n",
       "      <td>13321</td>\n",
       "    </tr>\n",
       "    <tr>\n",
       "      <th>18768</th>\n",
       "      <td>Oliver</td>\n",
       "      <td>M</td>\n",
       "      <td>12975</td>\n",
       "    </tr>\n",
       "    <tr>\n",
       "      <th>18769</th>\n",
       "      <td>Daniel</td>\n",
       "      <td>M</td>\n",
       "      <td>12839</td>\n",
       "    </tr>\n",
       "    <tr>\n",
       "      <th>18770</th>\n",
       "      <td>Lucas</td>\n",
       "      <td>M</td>\n",
       "      <td>12838</td>\n",
       "    </tr>\n",
       "    <tr>\n",
       "      <th>18771</th>\n",
       "      <td>Matthew</td>\n",
       "      <td>M</td>\n",
       "      <td>12551</td>\n",
       "    </tr>\n",
       "  </tbody>\n",
       "</table>\n",
       "</div>"
      ],
      "text/plain": [
       "            Name Sex  Births\n",
       "18757       Noah   M   19015\n",
       "18758       Liam   M   18138\n",
       "18759    William   M   15668\n",
       "18760      Mason   M   15192\n",
       "18761      James   M   14776\n",
       "18762   Benjamin   M   14569\n",
       "18763      Jacob   M   14416\n",
       "18764    Michael   M   13998\n",
       "18765     Elijah   M   13764\n",
       "18766      Ethan   M   13758\n",
       "18767  Alexander   M   13321\n",
       "18768     Oliver   M   12975\n",
       "18769     Daniel   M   12839\n",
       "18770      Lucas   M   12838\n",
       "18771    Matthew   M   12551"
      ]
     },
     "execution_count": 9,
     "metadata": {},
     "output_type": "execute_result"
    }
   ],
   "source": [
    "# Males\n",
    "\n",
    "males_2016 = babynames_2016[babynames_2016.Sex == \"M\"]\n",
    "\n",
    "males_2016.head(15)"
   ]
  },
  {
   "cell_type": "markdown",
   "metadata": {},
   "source": [
    "Getting the females is not much different in terms of the code. (Harper is a female name??!!!)"
   ]
  },
  {
   "cell_type": "code",
   "execution_count": 10,
   "metadata": {},
   "outputs": [
    {
     "data": {
      "text/html": [
       "<div>\n",
       "<style>\n",
       "    .dataframe thead tr:only-child th {\n",
       "        text-align: right;\n",
       "    }\n",
       "\n",
       "    .dataframe thead th {\n",
       "        text-align: left;\n",
       "    }\n",
       "\n",
       "    .dataframe tbody tr th {\n",
       "        vertical-align: top;\n",
       "    }\n",
       "</style>\n",
       "<table border=\"1\" class=\"dataframe\">\n",
       "  <thead>\n",
       "    <tr style=\"text-align: right;\">\n",
       "      <th></th>\n",
       "      <th>Name</th>\n",
       "      <th>Sex</th>\n",
       "      <th>Births</th>\n",
       "    </tr>\n",
       "  </thead>\n",
       "  <tbody>\n",
       "    <tr>\n",
       "      <th>0</th>\n",
       "      <td>Emma</td>\n",
       "      <td>F</td>\n",
       "      <td>19414</td>\n",
       "    </tr>\n",
       "    <tr>\n",
       "      <th>1</th>\n",
       "      <td>Olivia</td>\n",
       "      <td>F</td>\n",
       "      <td>19246</td>\n",
       "    </tr>\n",
       "    <tr>\n",
       "      <th>2</th>\n",
       "      <td>Ava</td>\n",
       "      <td>F</td>\n",
       "      <td>16237</td>\n",
       "    </tr>\n",
       "    <tr>\n",
       "      <th>3</th>\n",
       "      <td>Sophia</td>\n",
       "      <td>F</td>\n",
       "      <td>16070</td>\n",
       "    </tr>\n",
       "    <tr>\n",
       "      <th>4</th>\n",
       "      <td>Isabella</td>\n",
       "      <td>F</td>\n",
       "      <td>14722</td>\n",
       "    </tr>\n",
       "    <tr>\n",
       "      <th>5</th>\n",
       "      <td>Mia</td>\n",
       "      <td>F</td>\n",
       "      <td>14366</td>\n",
       "    </tr>\n",
       "    <tr>\n",
       "      <th>6</th>\n",
       "      <td>Charlotte</td>\n",
       "      <td>F</td>\n",
       "      <td>13030</td>\n",
       "    </tr>\n",
       "    <tr>\n",
       "      <th>7</th>\n",
       "      <td>Abigail</td>\n",
       "      <td>F</td>\n",
       "      <td>11699</td>\n",
       "    </tr>\n",
       "    <tr>\n",
       "      <th>8</th>\n",
       "      <td>Emily</td>\n",
       "      <td>F</td>\n",
       "      <td>10926</td>\n",
       "    </tr>\n",
       "    <tr>\n",
       "      <th>9</th>\n",
       "      <td>Harper</td>\n",
       "      <td>F</td>\n",
       "      <td>10733</td>\n",
       "    </tr>\n",
       "    <tr>\n",
       "      <th>10</th>\n",
       "      <td>Amelia</td>\n",
       "      <td>F</td>\n",
       "      <td>10702</td>\n",
       "    </tr>\n",
       "    <tr>\n",
       "      <th>11</th>\n",
       "      <td>Evelyn</td>\n",
       "      <td>F</td>\n",
       "      <td>10060</td>\n",
       "    </tr>\n",
       "    <tr>\n",
       "      <th>12</th>\n",
       "      <td>Elizabeth</td>\n",
       "      <td>F</td>\n",
       "      <td>9493</td>\n",
       "    </tr>\n",
       "    <tr>\n",
       "      <th>13</th>\n",
       "      <td>Sofia</td>\n",
       "      <td>F</td>\n",
       "      <td>9134</td>\n",
       "    </tr>\n",
       "    <tr>\n",
       "      <th>14</th>\n",
       "      <td>Madison</td>\n",
       "      <td>F</td>\n",
       "      <td>8982</td>\n",
       "    </tr>\n",
       "  </tbody>\n",
       "</table>\n",
       "</div>"
      ],
      "text/plain": [
       "         Name Sex  Births\n",
       "0        Emma   F   19414\n",
       "1      Olivia   F   19246\n",
       "2         Ava   F   16237\n",
       "3      Sophia   F   16070\n",
       "4    Isabella   F   14722\n",
       "5         Mia   F   14366\n",
       "6   Charlotte   F   13030\n",
       "7     Abigail   F   11699\n",
       "8       Emily   F   10926\n",
       "9      Harper   F   10733\n",
       "10     Amelia   F   10702\n",
       "11     Evelyn   F   10060\n",
       "12  Elizabeth   F    9493\n",
       "13      Sofia   F    9134\n",
       "14    Madison   F    8982"
      ]
     },
     "execution_count": 10,
     "metadata": {},
     "output_type": "execute_result"
    }
   ],
   "source": [
    "# Females\n",
    "\n",
    "females_2016 = babynames_2016[babynames_2016.Sex == \"F\"]\n",
    "\n",
    "females_2016.head(15)"
   ]
  },
  {
   "cell_type": "markdown",
   "metadata": {},
   "source": [
    "**<u>Bar Graphs For Each Gender</u>**\n",
    "\n",
    "For an audience, it is more appropriate to display the counts in the form of bar plots instead of showing outputs. I want the top 15 baby names of 2016 for each gender. The first one is for the males."
   ]
  },
  {
   "cell_type": "code",
   "execution_count": 11,
   "metadata": {
    "collapsed": true
   },
   "outputs": [],
   "source": [
    "# Bar Graphs From matplotlib:\n",
    "# Reference: https://matplotlib.org/gallery/lines_bars_and_markers/barh.html\n",
    "# https://stackoverflow.com/questions/28931224/adding-value-labels-on-a-matplotlib-bar-chart\n",
    "\n",
    "# Male Baby Names 2016\n",
    "\n",
    "males_2016_15 = males_2016.head(15)"
   ]
  },
  {
   "cell_type": "markdown",
   "metadata": {},
   "source": [
    "The plots in this page are all done with Python's matplotlib module. In the code below, the setup starts with `fig, ax = plt.subplots()` and having names and respective counts as variables.\n",
    "\n",
    "This second block of code starts with `ax.barh()` for generating a horizontal bar graph. The functions after are for adding in labels, titles and adjusting the viewing range for x. For the colours, you can use common ones such as blue, green, and red. Alternatively, you can use HTML colour codes to get the colour and shade you want in your plots.\n",
    "\n",
    "In the for loop below with `enumerate()`, `ax.text()` is used for adding in text labels with the bars.\n",
    "\n",
    "The final line of code consists of display the plot with plt.show()."
   ]
  },
  {
   "cell_type": "code",
   "execution_count": 12,
   "metadata": {},
   "outputs": [
    {
     "data": {
      "image/png": "[encoded data removed]",
      "text/plain": [
       "<matplotlib.figure.Figure at 0x2a477b81518>"
      ]
     },
     "metadata": {},
     "output_type": "display_data"
    }
   ],
   "source": [
    "fig, ax = plt.subplots()\n",
    "\n",
    "people = males_2016_15['Name']\n",
    "counts = males_2016_15['Births']\n",
    "y_pos = np.arange(len(people))\n",
    "\n",
    "ax.barh(y_pos, counts , align='center',\n",
    "        color = '#99FF99', ecolor='black')\n",
    "ax.set_yticks(y_pos)\n",
    "ax.set_yticklabels(people)\n",
    "ax.invert_yaxis()  # labels read top-to-bottom\n",
    "ax.set_xlabel('Count \\n')\n",
    "ax.set_ylabel('\\n Name')\n",
    "ax.set_title('Popular Male Baby Names Of 2016 \\n')\n",
    "ax.set_xlim([0, 22000])\n",
    "\n",
    "\n",
    "for i, v in enumerate(counts):\n",
    "    ax.text(v - 2200, i + 0.3, str(v), color='blue', fontweight='bold')\n",
    "    \n",
    "plt.show()"
   ]
  },
  {
   "cell_type": "markdown",
   "metadata": {},
   "source": [
    "With the female baby names, the code is not much different. I have used a few different colours."
   ]
  },
  {
   "cell_type": "code",
   "execution_count": 13,
   "metadata": {},
   "outputs": [
    {
     "data": {
      "image/png": "[encoded data removed]",
      "text/plain": [
       "<matplotlib.figure.Figure at 0x2a47710db00>"
      ]
     },
     "metadata": {},
     "output_type": "display_data"
    }
   ],
   "source": [
    "# Females Baby Names 2016\n",
    "\n",
    "females_2016_15 = females_2016.head(15)\n",
    "\n",
    "fig, ax = plt.subplots()\n",
    "\n",
    "people_f = females_2016_15['Name']\n",
    "counts_f = females_2016_15['Births']\n",
    "y_pos_f = np.arange(len(people))\n",
    "\n",
    "ax.barh(y_pos_f, counts , align='center',\n",
    "        color = '#FF9999', ecolor='black')\n",
    "ax.set_yticks(y_pos_f)\n",
    "ax.set_yticklabels(people_f)\n",
    "ax.invert_yaxis()  # labels read top-to-bottom\n",
    "ax.set_xlabel('\\n Count')\n",
    "ax.set_ylabel('\\n Female Name')\n",
    "ax.set_title('Popular Female Baby Names Of 2016 \\n')\n",
    "ax.set_xlim([0, 20000])\n",
    "\n",
    "\n",
    "for i, v in enumerate(counts):\n",
    "    ax.text(v - 2200, i + 0.3, str(v), color='#660000', fontweight='bold')\n",
    "\n",
    "plt.show()"
   ]
  },
  {
   "cell_type": "markdown",
   "metadata": {},
   "source": [
    "**<u>The Full Baby Names Dataset</u>**\n",
    "\n",
    "The previous section only looked at babynames from 2016. What if we want all of the baby names from 1880 to 2016? From the zip file there is a .txt file for each year from 1880 to 2016. The format of the file is of yob****.txt where * is a numeric digit.\n",
    "\n",
    "After the initialization of years, pieces, and columns, a for loop is used to read in all the unzipped files and place them into the pieces list. The pandas concat function is used to put everything into one pandas dataframe."
   ]
  },
  {
   "cell_type": "code",
   "execution_count": 14,
   "metadata": {
    "collapsed": true
   },
   "outputs": [],
   "source": [
    "### Babynames as a whole:\n",
    "\n",
    "import matplotlib.pyplot as plt\n",
    "import numpy as np\n",
    "import pandas as pd\n",
    "\n",
    "# Reference: Python For Data Analysis By Wes McKinney\n",
    "\n",
    "\n",
    "### 2016 is the last available year from files\n",
    "\n",
    "years = range(1880, 2017)\n",
    "pieces = []\n",
    "columns = ['Baby_Name', 'Sex', 'Count']\n",
    "\n",
    "for year in years:\n",
    "    path = 'yob%d.txt' % year\n",
    "    frame = pd.read_csv(path, names=columns)\n",
    "    frame['year'] = year\n",
    "    pieces.append(frame)\n",
    "\n",
    "### Combine/Concatenate everything into a single Pandas DataFrame\n",
    "\n",
    "names = pd.concat(pieces, ignore_index = True)"
   ]
  },
  {
   "cell_type": "markdown",
   "metadata": {},
   "source": [
    "For checking purposes, the .head() and .tail() methods can be used."
   ]
  },
  {
   "cell_type": "code",
   "execution_count": 15,
   "metadata": {},
   "outputs": [
    {
     "data": {
      "text/html": [
       "<div>\n",
       "<style>\n",
       "    .dataframe thead tr:only-child th {\n",
       "        text-align: right;\n",
       "    }\n",
       "\n",
       "    .dataframe thead th {\n",
       "        text-align: left;\n",
       "    }\n",
       "\n",
       "    .dataframe tbody tr th {\n",
       "        vertical-align: top;\n",
       "    }\n",
       "</style>\n",
       "<table border=\"1\" class=\"dataframe\">\n",
       "  <thead>\n",
       "    <tr style=\"text-align: right;\">\n",
       "      <th></th>\n",
       "      <th>Baby_Name</th>\n",
       "      <th>Sex</th>\n",
       "      <th>Count</th>\n",
       "      <th>year</th>\n",
       "    </tr>\n",
       "  </thead>\n",
       "  <tbody>\n",
       "    <tr>\n",
       "      <th>0</th>\n",
       "      <td>Mary</td>\n",
       "      <td>F</td>\n",
       "      <td>7065</td>\n",
       "      <td>1880</td>\n",
       "    </tr>\n",
       "    <tr>\n",
       "      <th>1</th>\n",
       "      <td>Anna</td>\n",
       "      <td>F</td>\n",
       "      <td>2604</td>\n",
       "      <td>1880</td>\n",
       "    </tr>\n",
       "    <tr>\n",
       "      <th>2</th>\n",
       "      <td>Emma</td>\n",
       "      <td>F</td>\n",
       "      <td>2003</td>\n",
       "      <td>1880</td>\n",
       "    </tr>\n",
       "    <tr>\n",
       "      <th>3</th>\n",
       "      <td>Elizabeth</td>\n",
       "      <td>F</td>\n",
       "      <td>1939</td>\n",
       "      <td>1880</td>\n",
       "    </tr>\n",
       "    <tr>\n",
       "      <th>4</th>\n",
       "      <td>Minnie</td>\n",
       "      <td>F</td>\n",
       "      <td>1746</td>\n",
       "      <td>1880</td>\n",
       "    </tr>\n",
       "    <tr>\n",
       "      <th>5</th>\n",
       "      <td>Margaret</td>\n",
       "      <td>F</td>\n",
       "      <td>1578</td>\n",
       "      <td>1880</td>\n",
       "    </tr>\n",
       "    <tr>\n",
       "      <th>6</th>\n",
       "      <td>Ida</td>\n",
       "      <td>F</td>\n",
       "      <td>1472</td>\n",
       "      <td>1880</td>\n",
       "    </tr>\n",
       "    <tr>\n",
       "      <th>7</th>\n",
       "      <td>Alice</td>\n",
       "      <td>F</td>\n",
       "      <td>1414</td>\n",
       "      <td>1880</td>\n",
       "    </tr>\n",
       "    <tr>\n",
       "      <th>8</th>\n",
       "      <td>Bertha</td>\n",
       "      <td>F</td>\n",
       "      <td>1320</td>\n",
       "      <td>1880</td>\n",
       "    </tr>\n",
       "    <tr>\n",
       "      <th>9</th>\n",
       "      <td>Sarah</td>\n",
       "      <td>F</td>\n",
       "      <td>1288</td>\n",
       "      <td>1880</td>\n",
       "    </tr>\n",
       "  </tbody>\n",
       "</table>\n",
       "</div>"
      ],
      "text/plain": [
       "   Baby_Name Sex  Count  year\n",
       "0       Mary   F   7065  1880\n",
       "1       Anna   F   2604  1880\n",
       "2       Emma   F   2003  1880\n",
       "3  Elizabeth   F   1939  1880\n",
       "4     Minnie   F   1746  1880\n",
       "5   Margaret   F   1578  1880\n",
       "6        Ida   F   1472  1880\n",
       "7      Alice   F   1414  1880\n",
       "8     Bertha   F   1320  1880\n",
       "9      Sarah   F   1288  1880"
      ]
     },
     "execution_count": 15,
     "metadata": {},
     "output_type": "execute_result"
    }
   ],
   "source": [
    "### Preview the names dataframe:\n",
    "\n",
    "names.head(10)"
   ]
  },
  {
   "cell_type": "code",
   "execution_count": 16,
   "metadata": {},
   "outputs": [
    {
     "data": {
      "text/html": [
       "<div>\n",
       "<style>\n",
       "    .dataframe thead tr:only-child th {\n",
       "        text-align: right;\n",
       "    }\n",
       "\n",
       "    .dataframe thead th {\n",
       "        text-align: left;\n",
       "    }\n",
       "\n",
       "    .dataframe tbody tr th {\n",
       "        vertical-align: top;\n",
       "    }\n",
       "</style>\n",
       "<table border=\"1\" class=\"dataframe\">\n",
       "  <thead>\n",
       "    <tr style=\"text-align: right;\">\n",
       "      <th></th>\n",
       "      <th>Baby_Name</th>\n",
       "      <th>Sex</th>\n",
       "      <th>Count</th>\n",
       "      <th>year</th>\n",
       "    </tr>\n",
       "  </thead>\n",
       "  <tbody>\n",
       "    <tr>\n",
       "      <th>1891884</th>\n",
       "      <td>Zinn</td>\n",
       "      <td>M</td>\n",
       "      <td>5</td>\n",
       "      <td>2016</td>\n",
       "    </tr>\n",
       "    <tr>\n",
       "      <th>1891885</th>\n",
       "      <td>Zirui</td>\n",
       "      <td>M</td>\n",
       "      <td>5</td>\n",
       "      <td>2016</td>\n",
       "    </tr>\n",
       "    <tr>\n",
       "      <th>1891886</th>\n",
       "      <td>Ziya</td>\n",
       "      <td>M</td>\n",
       "      <td>5</td>\n",
       "      <td>2016</td>\n",
       "    </tr>\n",
       "    <tr>\n",
       "      <th>1891887</th>\n",
       "      <td>Ziyang</td>\n",
       "      <td>M</td>\n",
       "      <td>5</td>\n",
       "      <td>2016</td>\n",
       "    </tr>\n",
       "    <tr>\n",
       "      <th>1891888</th>\n",
       "      <td>Zoel</td>\n",
       "      <td>M</td>\n",
       "      <td>5</td>\n",
       "      <td>2016</td>\n",
       "    </tr>\n",
       "    <tr>\n",
       "      <th>1891889</th>\n",
       "      <td>Zolton</td>\n",
       "      <td>M</td>\n",
       "      <td>5</td>\n",
       "      <td>2016</td>\n",
       "    </tr>\n",
       "    <tr>\n",
       "      <th>1891890</th>\n",
       "      <td>Zurich</td>\n",
       "      <td>M</td>\n",
       "      <td>5</td>\n",
       "      <td>2016</td>\n",
       "    </tr>\n",
       "    <tr>\n",
       "      <th>1891891</th>\n",
       "      <td>Zyahir</td>\n",
       "      <td>M</td>\n",
       "      <td>5</td>\n",
       "      <td>2016</td>\n",
       "    </tr>\n",
       "    <tr>\n",
       "      <th>1891892</th>\n",
       "      <td>Zyel</td>\n",
       "      <td>M</td>\n",
       "      <td>5</td>\n",
       "      <td>2016</td>\n",
       "    </tr>\n",
       "    <tr>\n",
       "      <th>1891893</th>\n",
       "      <td>Zylyn</td>\n",
       "      <td>M</td>\n",
       "      <td>5</td>\n",
       "      <td>2016</td>\n",
       "    </tr>\n",
       "  </tbody>\n",
       "</table>\n",
       "</div>"
      ],
      "text/plain": [
       "        Baby_Name Sex  Count  year\n",
       "1891884      Zinn   M      5  2016\n",
       "1891885     Zirui   M      5  2016\n",
       "1891886      Ziya   M      5  2016\n",
       "1891887    Ziyang   M      5  2016\n",
       "1891888      Zoel   M      5  2016\n",
       "1891889    Zolton   M      5  2016\n",
       "1891890    Zurich   M      5  2016\n",
       "1891891    Zyahir   M      5  2016\n",
       "1891892      Zyel   M      5  2016\n",
       "1891893     Zylyn   M      5  2016"
      ]
     },
     "execution_count": 16,
     "metadata": {},
     "output_type": "execute_result"
    }
   ],
   "source": [
    "names.tail(10)"
   ]
  },
  {
   "cell_type": "markdown",
   "metadata": {},
   "source": [
    "**<u>Total Births By Gender</u>**\n",
    "\n",
    "To obtain the total number of births for each gender, the .groupby method on the Sex column is used. After that, I take the sum and extract the Count column."
   ]
  },
  {
   "cell_type": "code",
   "execution_count": 17,
   "metadata": {},
   "outputs": [
    {
     "name": "stdout",
     "output_type": "stream",
     "text": [
      "Sex\n",
      "F    170639571\n",
      "M    173894326\n",
      "Name: Count, dtype: int64\n"
     ]
    }
   ],
   "source": [
    "### Total Births by Gender \n",
    "\n",
    "total_births_gender = names.groupby(\"Sex\").sum()[\"Count\"]\n",
    "\n",
    "print(total_births_gender)"
   ]
  },
  {
   "cell_type": "markdown",
   "metadata": {},
   "source": [
    "**<u>Total Births Per Year With Graph</u>**\n",
    "\n",
    "The groupby method can also be used to obtain the number of births per year."
   ]
  },
  {
   "cell_type": "code",
   "execution_count": 18,
   "metadata": {},
   "outputs": [
    {
     "name": "stdout",
     "output_type": "stream",
     "text": [
      "        Count\n",
      "year         \n",
      "1880   201483\n",
      "1881   192696\n",
      "1882   221533\n",
      "1883   216945\n",
      "1884   243463\n",
      "1885   240854\n",
      "1886   255317\n",
      "1887   247396\n",
      "1888   299475\n",
      "1889   288947\n",
      "1890   301401\n",
      "1891   286673\n",
      "1892   334375\n",
      "1893   325222\n",
      "1894   338691\n",
      "1895   351023\n",
      "1896   357485\n",
      "1897   346958\n",
      "1898   381459\n",
      "1899   339234\n",
      "1900   450296\n",
      "1901   345817\n",
      "1902   386735\n",
      "1903   381205\n",
      "1904   403489\n",
      "1905   423937\n",
      "1906   428462\n",
      "1907   465395\n",
      "1908   488652\n",
      "1909   511230\n",
      "...       ...\n",
      "1987  3604086\n",
      "1988  3693102\n",
      "1989  3843384\n",
      "1990  3950720\n",
      "1991  3894143\n",
      "1992  3840017\n",
      "1993  3769139\n",
      "1994  3716629\n",
      "1995  3661216\n",
      "1996  3646119\n",
      "1997  3624565\n",
      "1998  3676838\n",
      "1999  3692153\n",
      "2000  3777666\n",
      "2001  3741011\n",
      "2002  3735651\n",
      "2003  3799547\n",
      "2004  3817903\n",
      "2005  3841440\n",
      "2006  3952231\n",
      "2007  3993206\n",
      "2008  3925486\n",
      "2009  3814539\n",
      "2010  3689517\n",
      "2011  3650434\n",
      "2012  3648441\n",
      "2013  3634744\n",
      "2014  3692930\n",
      "2015  3683749\n",
      "2016  3637321\n",
      "\n",
      "[137 rows x 1 columns]\n"
     ]
    }
   ],
   "source": [
    "### Total Births Per Year With Graph\n",
    "\n",
    "total_births_perYear = names.groupby([\"year\"]).sum()\n",
    "\n",
    "print(total_births_perYear)"
   ]
  },
  {
   "cell_type": "markdown",
   "metadata": {},
   "source": [
    "Seeing the numbers from the output is not the best for seeing trends. A simple plot with .plot allows us to see the upward trend of the number of births."
   ]
  },
  {
   "cell_type": "code",
   "execution_count": 19,
   "metadata": {},
   "outputs": [
    {
     "data": {
      "text/plain": [
       "<matplotlib.axes._subplots.AxesSubplot at 0x2a402941630>"
      ]
     },
     "execution_count": 19,
     "metadata": {},
     "output_type": "execute_result"
    },
    {
     "data": {
      "image/png": "[encoded data removed]",
      "text/plain": [
       "<matplotlib.figure.Figure at 0x2a40292df98>"
      ]
     },
     "metadata": {},
     "output_type": "display_data"
    }
   ],
   "source": [
    "# Simple plot of total births per year:\n",
    "\n",
    "total_births_perYear.plot(title ='Total births by sex and year')"
   ]
  },
  {
   "cell_type": "markdown",
   "metadata": {},
   "source": [
    "From the data, the number of births has been increasing from the years 1880 to 1960. Then it decreases from 1960 to about 1975 and increases to the 2010 level of about 3.6 million. To really understand why birth numbers have increased, one may need to consider factors such as immigration, economic cycles, financial situations and such.\n",
    "\n",
    "The above plot is a quick and simple one. This next plot is a more refined version where the labels look cleaner. There is no legend though."
   ]
  },
  {
   "cell_type": "code",
   "execution_count": 20,
   "metadata": {},
   "outputs": [
    {
     "data": {
      "image/png": "[encoded data removed]",
      "text/plain": [
       "<matplotlib.figure.Figure at 0x2a40110ce48>"
      ]
     },
     "metadata": {},
     "output_type": "display_data"
    }
   ],
   "source": [
    "# A More Refined Plot:\n",
    "# Ref: https://matplotlib.org/users/pyplot_tutorial.html\n",
    "\n",
    "plt.plot(total_births_perYear)\n",
    "plt.xlabel('\\n Year')\n",
    "plt.ylabel('Number Of Births \\n')\n",
    "plt.title('Baby Births Per Year \\n')\n",
    "\n",
    "plt.show()"
   ]
  },
  {
   "cell_type": "markdown",
   "metadata": {},
   "source": [
    "**<u>Total Births Per Year By Gender</u>**\n",
    "\n",
    "To obtain the total births per year for each gender, pandas' pivot_table function helps with this.  You need to specify the pandas dataframe, the values, the index column, the (new) columns and function is applied."
   ]
  },
  {
   "cell_type": "code",
   "execution_count": 21,
   "metadata": {},
   "outputs": [
    {
     "data": {
      "text/html": [
       "<div>\n",
       "<style>\n",
       "    .dataframe thead tr:only-child th {\n",
       "        text-align: right;\n",
       "    }\n",
       "\n",
       "    .dataframe thead th {\n",
       "        text-align: left;\n",
       "    }\n",
       "\n",
       "    .dataframe tbody tr th {\n",
       "        vertical-align: top;\n",
       "    }\n",
       "</style>\n",
       "<table border=\"1\" class=\"dataframe\">\n",
       "  <thead>\n",
       "    <tr style=\"text-align: right;\">\n",
       "      <th>Sex</th>\n",
       "      <th>F</th>\n",
       "      <th>M</th>\n",
       "    </tr>\n",
       "    <tr>\n",
       "      <th>year</th>\n",
       "      <th></th>\n",
       "      <th></th>\n",
       "    </tr>\n",
       "  </thead>\n",
       "  <tbody>\n",
       "    <tr>\n",
       "      <th>1880</th>\n",
       "      <td>90992</td>\n",
       "      <td>110491</td>\n",
       "    </tr>\n",
       "    <tr>\n",
       "      <th>1881</th>\n",
       "      <td>91953</td>\n",
       "      <td>100743</td>\n",
       "    </tr>\n",
       "    <tr>\n",
       "      <th>1882</th>\n",
       "      <td>107847</td>\n",
       "      <td>113686</td>\n",
       "    </tr>\n",
       "    <tr>\n",
       "      <th>1883</th>\n",
       "      <td>112318</td>\n",
       "      <td>104627</td>\n",
       "    </tr>\n",
       "    <tr>\n",
       "      <th>1884</th>\n",
       "      <td>129020</td>\n",
       "      <td>114443</td>\n",
       "    </tr>\n",
       "    <tr>\n",
       "      <th>1885</th>\n",
       "      <td>133055</td>\n",
       "      <td>107799</td>\n",
       "    </tr>\n",
       "    <tr>\n",
       "      <th>1886</th>\n",
       "      <td>144533</td>\n",
       "      <td>110784</td>\n",
       "    </tr>\n",
       "    <tr>\n",
       "      <th>1887</th>\n",
       "      <td>145981</td>\n",
       "      <td>101415</td>\n",
       "    </tr>\n",
       "    <tr>\n",
       "      <th>1888</th>\n",
       "      <td>178624</td>\n",
       "      <td>120851</td>\n",
       "    </tr>\n",
       "    <tr>\n",
       "      <th>1889</th>\n",
       "      <td>178366</td>\n",
       "      <td>110581</td>\n",
       "    </tr>\n",
       "  </tbody>\n",
       "</table>\n",
       "</div>"
      ],
      "text/plain": [
       "Sex        F       M\n",
       "year                \n",
       "1880   90992  110491\n",
       "1881   91953  100743\n",
       "1882  107847  113686\n",
       "1883  112318  104627\n",
       "1884  129020  114443\n",
       "1885  133055  107799\n",
       "1886  144533  110784\n",
       "1887  145981  101415\n",
       "1888  178624  120851\n",
       "1889  178366  110581"
      ]
     },
     "execution_count": 21,
     "metadata": {},
     "output_type": "execute_result"
    }
   ],
   "source": [
    "### Total Births Per Year By Gender\n",
    "# References: https://pandas.pydata.org/pandas-docs/stable/generated/pandas.pivot_table.html\n",
    "# https://matplotlib.org/users/legend_guide.html\n",
    "\n",
    "\n",
    "# Pivot table\n",
    "                \n",
    "total_births_gender_year = pd.pivot_table(names, values= 'Count', index = ['year'],\n",
    "                           columns = ['Sex'], aggfunc=np.sum)\n",
    "                              \n",
    "total_births_gender_year.head(10)  "
   ]
  },
  {
   "cell_type": "markdown",
   "metadata": {},
   "source": [
    "From the `.head()` output you can see the total birth counts for each year for each gender. A simple plot can be made for visualizing these results."
   ]
  },
  {
   "cell_type": "code",
   "execution_count": 22,
   "metadata": {},
   "outputs": [
    {
     "data": {
      "text/plain": [
       "<matplotlib.axes._subplots.AxesSubplot at 0x2a4011ab0b8>"
      ]
     },
     "execution_count": 22,
     "metadata": {},
     "output_type": "execute_result"
    },
    {
     "data": {
      "image/png": "[encoded data removed]",
      "text/plain": [
       "<matplotlib.figure.Figure at 0x2a401119438>"
      ]
     },
     "metadata": {},
     "output_type": "display_data"
    }
   ],
   "source": [
    "# Simple Plot:\n",
    "\n",
    "total_births_gender_year.plot(title = \"Total Births Per Year By Gender \\n\")"
   ]
  },
  {
   "cell_type": "markdown",
   "metadata": {},
   "source": [
    "A more refined plot of the above requires a bit more work."
   ]
  },
  {
   "cell_type": "code",
   "execution_count": 23,
   "metadata": {},
   "outputs": [
    {
     "data": {
      "image/png": "[encoded data removed]",
      "text/plain": [
       "<matplotlib.figure.Figure at 0x2a40120db70>"
      ]
     },
     "metadata": {},
     "output_type": "display_data"
    }
   ],
   "source": [
    "# A More fancy and detailed plot:\n",
    "# https://matplotlib.org/api/_as_gen/matplotlib.pyplot.legend.html\n",
    "\n",
    "\n",
    "total_births_male = total_births_gender_year[\"M\"]\n",
    "total_births_female = total_births_gender_year[\"F\"]\n",
    "\n",
    "years = range(1880, 2017)\n",
    "\n",
    "fig, ax = plt.subplots()\n",
    "ax.plot(years, total_births_female, '#bd404f', label= 'Female')\n",
    "ax.plot(years, total_births_male, '#4085bd', label= 'Male')\n",
    "\n",
    "legend = ax.legend(loc='lower right', shadow=True, fontsize='x-large')\n",
    "\n",
    "#ax.plot(total_births_gender_year)\n",
    "ax.set_xlabel('\\n Year')\n",
    "ax.set_ylabel('Number Of Births \\n')\n",
    "ax.set_title('Baby Births Per Year \\n')\n",
    "\n",
    "# Put a nicer background color on the legend.\n",
    "\n",
    "legend.get_frame().set_facecolor('#00FFCC')\n",
    "\n",
    "plt.show()"
   ]
  },
  {
   "cell_type": "markdown",
   "metadata": {},
   "source": [
    "<u>**Popular Baby Names With matplotlib Bar Graphs**</u>\n",
    "\n",
    "This section looks at obtaining the most popular baby names from the dataset in Python. The two subsections focus on the most popular female names and the most popular male names."
   ]
  },
  {
   "cell_type": "code",
   "execution_count": 24,
   "metadata": {},
   "outputs": [
    {
     "data": {
      "text/plain": [
       "Baby_Name  Sex\n",
       "James      M      5136026\n",
       "John       M      5105834\n",
       "Robert     M      4809176\n",
       "Michael    M      4338144\n",
       "Mary       F      4120692\n",
       "William    M      4087525\n",
       "David      M      3601032\n",
       "Joseph     M      2592856\n",
       "Richard    M      2560771\n",
       "Charles    M      2378806\n",
       "Name: Count, dtype: int64"
      ]
     },
     "execution_count": 24,
     "metadata": {},
     "output_type": "execute_result"
    }
   ],
   "source": [
    "##### Popular Baby Names With Bar Graphs\n",
    "\n",
    "### Popular Baby Names\n",
    "\n",
    "popular_baby_names = names.groupby([\"Baby_Name\", \"Sex\"]).sum()\n",
    "\n",
    "popular_baby_names = popular_baby_names.sort_values(by = \"Count\", ascending = False)[\"Count\"]\n",
    "\n",
    "popular_baby_names.head(10)"
   ]
  },
  {
   "cell_type": "markdown",
   "metadata": {},
   "source": [
    "<u>**Popular Female Baby Names**</u>\n",
    "\n",
    "From the names Pandas dataframe, the female names can be obtained through filtering. To obtain, the female names counts throughout all years the `.groupby()`, `.sum()` and `sort_values()` methods are used."
   ]
  },
  {
   "cell_type": "code",
   "execution_count": 25,
   "metadata": {},
   "outputs": [
    {
     "data": {
      "text/plain": [
       "Baby_Name\n",
       "Mary         4120692\n",
       "Elizabeth    1620611\n",
       "Patricia     1571380\n",
       "Jennifer     1465243\n",
       "Linda        1451809\n",
       "Barbara      1433727\n",
       "Margaret     1244388\n",
       "Susan        1121148\n",
       "Dorothy      1106575\n",
       "Sarah        1069797\n",
       "Jessica      1043625\n",
       "Helen        1017519\n",
       "Nancy        1001671\n",
       "Betty         999275\n",
       "Karen         985097\n",
       "Name: Count, dtype: int64"
      ]
     },
     "execution_count": 25,
     "metadata": {},
     "output_type": "execute_result"
    }
   ],
   "source": [
    "### Popular Female Baby Names\n",
    "\n",
    "female_names = names[names.Sex == 'F']\n",
    "\n",
    "female_counts = female_names.groupby([\"Baby_Name\"]).sum().sort_values(by = \"Count\", ascending = False)\n",
    "\n",
    "females_names_15 = female_counts.head(15)['Count']\n",
    "\n",
    "females_names_15"
   ]
  },
  {
   "cell_type": "markdown",
   "metadata": {},
   "source": [
    "For the horizontal bar plot, the baby names, the counts are obtained to help with the plot setup. The main line after `fig, ax = plt.subplots()` is `ax.barh()`. After `ax.barh()`, I insert the ticks, labels, title and set limits for the x variable. The enumerate for loop part is for adding the number labels with the bars."
   ]
  },
  {
   "cell_type": "code",
   "execution_count": 26,
   "metadata": {},
   "outputs": [
    {
     "data": {
      "image/png": "[encoded data removed]",
      "text/plain": [
       "<matplotlib.figure.Figure at 0x2a401339470>"
      ]
     },
     "metadata": {},
     "output_type": "display_data"
    }
   ],
   "source": [
    "# Ref: https://stackoverflow.com/questions/16096627/selecting-a-row-of-pandas-series-dataframe-by-integer-index\n",
    "\n",
    "people_f = females_names_15.index.values # Get the names from index values \n",
    "counts_f = females_names_15\n",
    "y_pos_f = np.arange(len(people_f))\n",
    "\n",
    "fig, ax = plt.subplots()\n",
    "\n",
    "ax.barh(y_pos_f, counts_f , align='center', color = '#FF9999', ecolor='black')\n",
    "ax.set_yticks(y_pos_f)\n",
    "ax.set_yticklabels(people_f)\n",
    "ax.invert_yaxis()  # labels read top-to-bottom\n",
    "ax.set_xlabel('\\n Count')\n",
    "ax.set_ylabel('\\n Female Name')\n",
    "ax.set_title('Top 15 Most Common Female Baby Names [1880-2010] \\n')\n",
    "ax.set_xlim([0, 5000000])\n",
    "\n",
    "\n",
    "for i, v in enumerate(counts_f):\n",
    "    ax.text(v - 2200, i + 0.3, str(v), color='#660000', fontweight='bold')\n",
    "\n",
    "plt.show()"
   ]
  },
  {
   "cell_type": "markdown",
   "metadata": {},
   "source": [
    "Mary comes in as the clear number one female baby name followed by Elizabeth, Patricia and Jennifer. It is uncertain whether related names such as Marie and Maria are counted the same as Mary. The name Sarah has the variation Sara but it is not known if those are the same during the counting.\n",
    "\n",
    "&nbsp;\n",
    "\n",
    "**<u>Popular Male Baby Names</u>**\n",
    "\n",
    "The code for the popular male baby names is not much different."
   ]
  },
  {
   "cell_type": "code",
   "execution_count": 27,
   "metadata": {},
   "outputs": [
    {
     "data": {
      "text/plain": [
       "Baby_Name\n",
       "James          5136026\n",
       "John           5105834\n",
       "Robert         4809176\n",
       "Michael        4338144\n",
       "William        4087525\n",
       "David          3601032\n",
       "Joseph         2592856\n",
       "Richard        2560771\n",
       "Charles        2378806\n",
       "Thomas         2297759\n",
       "Christopher    2013855\n",
       "Daniel         1895502\n",
       "Matthew        1578713\n",
       "George         1461000\n",
       "Anthony        1423825\n",
       "Name: Count, dtype: int64"
      ]
     },
     "execution_count": 27,
     "metadata": {},
     "output_type": "execute_result"
    }
   ],
   "source": [
    "### Popular Male Baby Names\n",
    "\n",
    "male_names = names[names.Sex == 'M']\n",
    "\n",
    "male_counts = male_names.groupby([\"Baby_Name\"]).sum().sort_values(by = \"Count\", ascending = False)\n",
    "\n",
    "male_names_15 = male_counts.head(15)['Count']\n",
    "\n",
    "male_names_15"
   ]
  },
  {
   "cell_type": "code",
   "execution_count": 28,
   "metadata": {},
   "outputs": [
    {
     "data": {
      "image/png": "[encoded data removed]",
      "text/plain": [
       "<matplotlib.figure.Figure at 0x2a401274c88>"
      ]
     },
     "metadata": {},
     "output_type": "display_data"
    }
   ],
   "source": [
    "# Ref: https://stackoverflow.com/questions/16096627/selecting-a-row-of-pandas-series-dataframe-by-integer-index\n",
    "\n",
    "people_m = male_names_15.index.values # Get the names from index values \n",
    "counts_m = male_names_15\n",
    "y_pos_m = np.arange(len(people_m))\n",
    "\n",
    "fig, ax = plt.subplots()\n",
    "\n",
    "ax.barh(y_pos_m, counts_m , align='center', color = '#2a5391', ecolor='black')\n",
    "ax.set_yticks(y_pos_m)\n",
    "ax.set_yticklabels(people_m)\n",
    "ax.invert_yaxis()  # labels read top-to-bottom\n",
    "ax.set_xlabel('\\n Count')\n",
    "ax.set_ylabel('Male Baby Name \\n')\n",
    "ax.set_title('Top 15 Common Male Baby Names [1880-2010] \\n')\n",
    "ax.set_xlim([0, 5900000])\n",
    "\n",
    "\n",
    "for i, v in enumerate(counts_m):\n",
    "    ax.text(v - 2200, i + 0.3, str(v), color='#26421f', fontweight='bold')\n",
    "\n",
    "plt.show()"
   ]
  },
  {
   "cell_type": "markdown",
   "metadata": {},
   "source": [
    "From the dataset, the top names are James, John, Robert, Michael and William. Names like James have variations such as Jim and William is related to Will and Bill. It is not known if related names are counted separately or counted together."
   ]
  }
 ],
 "metadata": {
  "kernelspec": {
   "display_name": "Python 3",
   "language": "python",
   "name": "python3"
  },
  "language_info": {
   "codemirror_mode": {
    "name": "ipython",
    "version": 3
   },
   "file_extension": ".py",
   "mimetype": "text/x-python",
   "name": "python",
   "nbconvert_exporter": "python",
   "pygments_lexer": "ipython3",
   "version": "3.7.3"
  }
 },
 "nbformat": 4,
 "nbformat_minor": 2
}
