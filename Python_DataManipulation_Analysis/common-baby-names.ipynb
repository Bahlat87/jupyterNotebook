{
 "cells": [
  {
   "cell_type": "markdown",
   "metadata": {},
   "source": [
    "**<u>Finding The Most Common Baby Names In A Dataset With Python</u>**\n",
    "\n",
    "&nbsp;\n",
    "\n",
    "Hi there. This page focuses on finding the most common baby names from a dataset with the Python programming language. The Python packages pandas and matplotlib are used heavily.\n",
    "\n",
    "&nbsp;\n",
    "\n",
    "<center><img src=\"http://latesthdwallpapers1.com/wp-content/uploads/2014/12/Babies-Images-1.jpg\" /></center>\n",
    "\n",
    "\n",
    "<center>Image Source:  http://latesthdwallpapers1.com/wp-content/uploads/2014/12/Babies-Images-1.jpg</center>\n",
    "\n",
    "\n",
    "---\n",
    "\n",
    "**<u>Sections</u>**\n",
    "\n",
    "* References\n",
    "* Importing Data\n",
    "* Most Common Baby Names Of 2016\n",
    "* The Full Baby Names Dataset\n",
    "* Popular Baby Names With matplotlib Graphs\n",
    "\n",
    "---\n",
    "\n",
    "**<u>References</u>**\n",
    "\n",
    "* https://matplotlib.org/gallery/lines_bars_and_markers/barh.html\n",
    "* https://stackoverflow.com/questions/28931224/adding-value-labels-on-a-matplotlib-bar-chart\n",
    "* Python For Data Analysis By Wes McKinney\n",
    "* https://pandas.pydata.org/pandas-docs/stable/generated/pandas.pivot_table.html\n",
    "* https://matplotlib.org/users/legend_guide.html\n",
    "* https://matplotlib.org/api/_as_gen/matplotlib.pyplot.legend.html\n",
    "* https://stackoverflow.com/questions/16096627/selecting-a-row-of-pandas-series-dataframe-by-integer-index\n",
    "\n",
    "---\n",
    "\n",
    "**<u>Importing Data</u>**\n",
    "\n",
    "From the website source link https://www.ssa.gov/oact/babynames/limits.html, you can download the zip file. You have to unzip the files into a folder on your computer. Do make sure that you know the directory of the folder where the files are. The os module in Python will allow for importing and reading data (offline).\n",
    "\n",
    "The Python packages `pandas`, `matplotlib` and `numpy` are imported into Python as well.\n",
    "\n",
    "&nbsp;\n"
   ]
  },
  {
   "cell_type": "code",
   "execution_count": 1,
   "metadata": {},
   "outputs": [
    {
     "ename": "ModuleNotFoundError",
     "evalue": "No module named 'matplotlib'",
     "output_type": "error",
     "traceback": [
      "\u001b[1;31m---------------------------------------------------------------------------\u001b[0m",
      "\u001b[1;31mModuleNotFoundError\u001b[0m                       Traceback (most recent call last)",
      "\u001b[1;32m<ipython-input-1-3d82e2c8ba8e>\u001b[0m in \u001b[0;36m<module>\u001b[1;34m\u001b[0m\n\u001b[0;32m     15\u001b[0m \u001b[1;32mimport\u001b[0m \u001b[0mpandas\u001b[0m \u001b[1;32mas\u001b[0m \u001b[0mpd\u001b[0m\u001b[1;33m\u001b[0m\u001b[1;33m\u001b[0m\u001b[0m\n\u001b[0;32m     16\u001b[0m \u001b[1;32mimport\u001b[0m \u001b[0mos\u001b[0m\u001b[1;33m\u001b[0m\u001b[1;33m\u001b[0m\u001b[0m\n\u001b[1;32m---> 17\u001b[1;33m \u001b[1;32mimport\u001b[0m \u001b[0mmatplotlib\u001b[0m\u001b[1;33m.\u001b[0m\u001b[0mpyplot\u001b[0m \u001b[1;32mas\u001b[0m \u001b[0mplt\u001b[0m\u001b[1;33m\u001b[0m\u001b[1;33m\u001b[0m\u001b[0m\n\u001b[0m\u001b[0;32m     18\u001b[0m \u001b[1;32mimport\u001b[0m \u001b[0mnumpy\u001b[0m \u001b[1;32mas\u001b[0m \u001b[0mnp\u001b[0m\u001b[1;33m\u001b[0m\u001b[1;33m\u001b[0m\u001b[0m\n\u001b[0;32m     19\u001b[0m \u001b[1;33m\u001b[0m\u001b[0m\n",
      "\u001b[1;31mModuleNotFoundError\u001b[0m: No module named 'matplotlib'"
     ]
    }
   ],
   "source": [
    "# Baby Names In Python\n",
    "\n",
    "'''\n",
    "Website Source: https://www.ssa.gov/oact/babynames/limits.html\n",
    "\n",
    "Download zip file from National Data\n",
    "\n",
    "Reference: Python For Data Analysis by Wes McKinney\n",
    "\n",
    "'''\n",
    "\n",
    "# Get current working directory: import os; os.getcwd()\n",
    "# Set current working directory: import os; os.chdir(aPath)\n",
    "\n",
    "import pandas as pd\n",
    "import os\n",
    "import matplotlib.pyplot as plt\n",
    "import numpy as np\n",
    "\n",
    "%matplotlib inline"
   ]
  },
  {
   "cell_type": "markdown",
   "metadata": {},
   "source": [
    "Before reading in files offline, set the working directory where the files are unzipped to. (** = censored)"
   ]
  },
  {
   "cell_type": "markdown",
   "metadata": {},
   "source": [
    "`# Example:\n",
    "\n",
    "os.chdir(\"C:\\\\Users\\**\\\\Documents\\\\PythonWork\\\\**\\\\babynames\")`"
   ]
  },
  {
   "cell_type": "markdown",
   "metadata": {},
   "source": [
    "**<u>Most Common Baby Names Of 2016</u>**\n",
    "\n",
    "One of the unzipped files has the file name of yob2016.txt. With pandas' `read_csv()` function, this .txt file can be read into Python. The `.head()` and `.tail()` methods are used to preview the data (output not shown)."
   ]
  },
  {
   "cell_type": "code",
   "execution_count": null,
   "metadata": {},
   "outputs": [],
   "source": [
    "#### 2016 Babynames:\n",
    "\n",
    "# Import 2016 baby names data:\n",
    "babynames_2016 = pd.read_csv(\"yob2016.txt\",  names=['Name', 'Sex', 'Births'])\n",
    "\n",
    "\n",
    "# Preview data with .head and .tail functions:\n",
    " \n",
    "babynames_2016.head(15)\n"
   ]
  },
  {
   "cell_type": "code",
   "execution_count": null,
   "metadata": {},
   "outputs": [],
   "source": [
    "babynames_2016.tail(15)"
   ]
  },
  {
   "cell_type": "markdown",
   "metadata": {},
   "source": [
    "Obtaining the number of 2016 births for each gender can be done with the use of the `.groupby()` method. The column Sex is in `.groupby()` and the `.sum()` method is used afterwards."
   ]
  },
  {
   "cell_type": "code",
   "execution_count": null,
   "metadata": {},
   "outputs": [],
   "source": [
    "# Counts For Each Gender:\n",
    "    \n",
    "babynames_2016.groupby(\"Sex\").sum()"
   ]
  },
  {
   "cell_type": "markdown",
   "metadata": {},
   "source": [
    "Filtering out rows in the pandas environment can be done by using the format of df[ condition ] where df is a Pandas dataframe. For finding the male subset, I select the rows where there is an M under the Sex column of babynames_2016."
   ]
  },
  {
   "cell_type": "code",
   "execution_count": null,
   "metadata": {},
   "outputs": [],
   "source": [
    "# Males\n",
    "\n",
    "males_2016 = babynames_2016[babynames_2016.Sex == \"M\"]\n",
    "\n",
    "males_2016.head(15)"
   ]
  },
  {
   "cell_type": "markdown",
   "metadata": {},
   "source": [
    "Getting the females is not much different in terms of the code. (Harper is a female name??!!!)"
   ]
  },
  {
   "cell_type": "code",
   "execution_count": null,
   "metadata": {},
   "outputs": [],
   "source": [
    "# Females\n",
    "\n",
    "females_2016 = babynames_2016[babynames_2016.Sex == \"F\"]\n",
    "\n",
    "females_2016.head(15)"
   ]
  },
  {
   "cell_type": "markdown",
   "metadata": {},
   "source": [
    "**<u>Bar Graphs For Each Gender</u>**\n",
    "\n",
    "For an audience, it is more appropriate to display the counts in the form of bar plots instead of showing outputs. I want the top 15 baby names of 2016 for each gender. The first one is for the males."
   ]
  },
  {
   "cell_type": "code",
   "execution_count": null,
   "metadata": {},
   "outputs": [],
   "source": [
    "# Bar Graphs From matplotlib:\n",
    "# Reference: https://matplotlib.org/gallery/lines_bars_and_markers/barh.html\n",
    "# https://stackoverflow.com/questions/28931224/adding-value-labels-on-a-matplotlib-bar-chart\n",
    "\n",
    "# Male Baby Names 2016\n",
    "\n",
    "males_2016_15 = males_2016.head(15)"
   ]
  },
  {
   "cell_type": "markdown",
   "metadata": {},
   "source": [
    "The plots in this page are all done with Python's matplotlib module. In the code below, the setup starts with `fig, ax = plt.subplots()` and having names and respective counts as variables.\n",
    "\n",
    "This second block of code starts with `ax.barh()` for generating a horizontal bar graph. The functions after are for adding in labels, titles and adjusting the viewing range for x. For the colours, you can use common ones such as blue, green, and red. Alternatively, you can use HTML colour codes to get the colour and shade you want in your plots.\n",
    "\n",
    "In the for loop below with `enumerate()`, `ax.text()` is used for adding in text labels with the bars.\n",
    "\n",
    "The final line of code consists of display the plot with plt.show()."
   ]
  },
  {
   "cell_type": "code",
   "execution_count": null,
   "metadata": {},
   "outputs": [],
   "source": [
    "fig, ax = plt.subplots()\n",
    "\n",
    "people = males_2016_15['Name']\n",
    "counts = males_2016_15['Births']\n",
    "y_pos = np.arange(len(people))\n",
    "\n",
    "ax.barh(y_pos, counts , align='center',\n",
    "        color = '#99FF99', ecolor='black')\n",
    "ax.set_yticks(y_pos)\n",
    "ax.set_yticklabels(people)\n",
    "ax.invert_yaxis()  # labels read top-to-bottom\n",
    "ax.set_xlabel('Count \\n')\n",
    "ax.set_ylabel('\\n Name')\n",
    "ax.set_title('Popular Male Baby Names Of 2016 \\n')\n",
    "ax.set_xlim([0, 22000])\n",
    "\n",
    "\n",
    "for i, v in enumerate(counts):\n",
    "    ax.text(v - 2200, i + 0.3, str(v), color='blue', fontweight='bold')\n",
    "    \n",
    "plt.show()"
   ]
  },
  {
   "cell_type": "markdown",
   "metadata": {},
   "source": [
    "With the female baby names, the code is not much different. I have used a few different colours."
   ]
  },
  {
   "cell_type": "code",
   "execution_count": null,
   "metadata": {},
   "outputs": [],
   "source": [
    "# Females Baby Names 2016\n",
    "\n",
    "females_2016_15 = females_2016.head(15)\n",
    "\n",
    "fig, ax = plt.subplots()\n",
    "\n",
    "people_f = females_2016_15['Name']\n",
    "counts_f = females_2016_15['Births']\n",
    "y_pos_f = np.arange(len(people))\n",
    "\n",
    "ax.barh(y_pos_f, counts , align='center',\n",
    "        color = '#FF9999', ecolor='black')\n",
    "ax.set_yticks(y_pos_f)\n",
    "ax.set_yticklabels(people_f)\n",
    "ax.invert_yaxis()  # labels read top-to-bottom\n",
    "ax.set_xlabel('\\n Count')\n",
    "ax.set_ylabel('\\n Female Name')\n",
    "ax.set_title('Popular Female Baby Names Of 2016 \\n')\n",
    "ax.set_xlim([0, 20000])\n",
    "\n",
    "\n",
    "for i, v in enumerate(counts):\n",
    "    ax.text(v - 2200, i + 0.3, str(v), color='#660000', fontweight='bold')\n",
    "\n",
    "plt.show()"
   ]
  },
  {
   "cell_type": "markdown",
   "metadata": {},
   "source": [
    "**<u>The Full Baby Names Dataset</u>**\n",
    "\n",
    "The previous section only looked at babynames from 2016. What if we want all of the baby names from 1880 to 2016? From the zip file there is a .txt file for each year from 1880 to 2016. The format of the file is of yob****.txt where * is a numeric digit.\n",
    "\n",
    "After the initialization of years, pieces, and columns, a for loop is used to read in all the unzipped files and place them into the pieces list. The pandas concat function is used to put everything into one pandas dataframe."
   ]
  },
  {
   "cell_type": "code",
   "execution_count": null,
   "metadata": {},
   "outputs": [],
   "source": [
    "### Babynames as a whole:\n",
    "\n",
    "import matplotlib.pyplot as plt\n",
    "import numpy as np\n",
    "import pandas as pd\n",
    "\n",
    "# Reference: Python For Data Analysis By Wes McKinney\n",
    "\n",
    "\n",
    "### 2016 is the last available year from files\n",
    "\n",
    "years = range(1880, 2017)\n",
    "pieces = []\n",
    "columns = ['Baby_Name', 'Sex', 'Count']\n",
    "\n",
    "for year in years:\n",
    "    path = 'yob%d.txt' % year\n",
    "    frame = pd.read_csv(path, names=columns)\n",
    "    frame['year'] = year\n",
    "    pieces.append(frame)\n",
    "\n",
    "### Combine/Concatenate everything into a single Pandas DataFrame\n",
    "\n",
    "names = pd.concat(pieces, ignore_index = True)"
   ]
  },
  {
   "cell_type": "markdown",
   "metadata": {},
   "source": [
    "For checking purposes, the .head() and .tail() methods can be used."
   ]
  },
  {
   "cell_type": "code",
   "execution_count": null,
   "metadata": {},
   "outputs": [],
   "source": [
    "### Preview the names dataframe:\n",
    "\n",
    "names.head(10)"
   ]
  },
  {
   "cell_type": "code",
   "execution_count": null,
   "metadata": {},
   "outputs": [],
   "source": [
    "names.tail(10)"
   ]
  },
  {
   "cell_type": "markdown",
   "metadata": {},
   "source": [
    "**<u>Total Births By Gender</u>**\n",
    "\n",
    "To obtain the total number of births for each gender, the .groupby method on the Sex column is used. After that, I take the sum and extract the Count column."
   ]
  },
  {
   "cell_type": "code",
   "execution_count": null,
   "metadata": {},
   "outputs": [],
   "source": [
    "### Total Births by Gender \n",
    "\n",
    "total_births_gender = names.groupby(\"Sex\").sum()[\"Count\"]\n",
    "\n",
    "print(total_births_gender)"
   ]
  },
  {
   "cell_type": "markdown",
   "metadata": {},
   "source": [
    "**<u>Total Births Per Year With Graph</u>**\n",
    "\n",
    "The groupby method can also be used to obtain the number of births per year."
   ]
  },
  {
   "cell_type": "code",
   "execution_count": null,
   "metadata": {},
   "outputs": [],
   "source": [
    "### Total Births Per Year With Graph\n",
    "\n",
    "total_births_perYear = names.groupby([\"year\"]).sum()\n",
    "\n",
    "print(total_births_perYear[0:5])"
   ]
  },
  {
   "cell_type": "markdown",
   "metadata": {},
   "source": [
    "Seeing the numbers from the output is not the best for seeing trends. A simple plot with .plot allows us to see the upward trend of the number of births."
   ]
  },
  {
   "cell_type": "code",
   "execution_count": null,
   "metadata": {},
   "outputs": [],
   "source": [
    "# Simple plot of total births per year:\n",
    "\n",
    "total_births_perYear.plot(title ='Total births by sex and year')"
   ]
  },
  {
   "cell_type": "markdown",
   "metadata": {},
   "source": [
    "From the data, the number of births has been increasing from the years 1880 to 1960. Then it decreases from 1960 to about 1975 and increases to the 2010 level of about 3.6 million. To really understand why birth numbers have increased, one may need to consider factors such as immigration, economic cycles, financial situations and such.\n",
    "\n",
    "The above plot is a quick and simple one. This next plot is a more refined version where the labels look cleaner. There is no legend though."
   ]
  },
  {
   "cell_type": "code",
   "execution_count": null,
   "metadata": {},
   "outputs": [],
   "source": [
    "# A More Refined Plot:\n",
    "# Ref: https://matplotlib.org/users/pyplot_tutorial.html\n",
    "\n",
    "plt.plot(total_births_perYear)\n",
    "plt.xlabel('\\n Year')\n",
    "plt.ylabel('Number Of Births \\n')\n",
    "plt.title('Baby Births Per Year \\n')\n",
    "\n",
    "plt.show()"
   ]
  },
  {
   "cell_type": "markdown",
   "metadata": {},
   "source": [
    "**<u>Total Births Per Year By Gender</u>**\n",
    "\n",
    "To obtain the total births per year for each gender, pandas' pivot_table function helps with this.  You need to specify the pandas dataframe, the values, the index column, the (new) columns and function is applied."
   ]
  },
  {
   "cell_type": "code",
   "execution_count": null,
   "metadata": {},
   "outputs": [],
   "source": [
    "### Total Births Per Year By Gender\n",
    "# References: https://pandas.pydata.org/pandas-docs/stable/generated/pandas.pivot_table.html\n",
    "# https://matplotlib.org/users/legend_guide.html\n",
    "\n",
    "\n",
    "# Pivot table\n",
    "                \n",
    "total_births_gender_year = pd.pivot_table(names, values= 'Count', index = ['year'],\n",
    "                           columns = ['Sex'], aggfunc=np.sum)\n",
    "                              \n",
    "total_births_gender_year.head(10)  "
   ]
  },
  {
   "cell_type": "markdown",
   "metadata": {},
   "source": [
    "From the `.head()` output you can see the total birth counts for each year for each gender. A simple plot can be made for visualizing these results."
   ]
  },
  {
   "cell_type": "code",
   "execution_count": null,
   "metadata": {},
   "outputs": [],
   "source": [
    "# Simple Plot:\n",
    "\n",
    "total_births_gender_year.plot(title = \"Total Births Per Year By Gender \\n\")"
   ]
  },
  {
   "cell_type": "markdown",
   "metadata": {},
   "source": [
    "A more refined plot of the above requires a bit more work."
   ]
  },
  {
   "cell_type": "code",
   "execution_count": null,
   "metadata": {},
   "outputs": [],
   "source": [
    "# A More fancy and detailed plot:\n",
    "# https://matplotlib.org/api/_as_gen/matplotlib.pyplot.legend.html\n",
    "\n",
    "\n",
    "total_births_male = total_births_gender_year[\"M\"]\n",
    "total_births_female = total_births_gender_year[\"F\"]\n",
    "\n",
    "years = range(1880, 2017)\n",
    "\n",
    "fig, ax = plt.subplots()\n",
    "ax.plot(years, total_births_female, '#bd404f', label= 'Female')\n",
    "ax.plot(years, total_births_male, '#4085bd', label= 'Male')\n",
    "\n",
    "legend = ax.legend(loc='lower right', shadow=True, fontsize='x-large')\n",
    "\n",
    "#ax.plot(total_births_gender_year)\n",
    "ax.set_xlabel('\\n Year')\n",
    "ax.set_ylabel('Number Of Births \\n')\n",
    "ax.set_title('Baby Births Per Year \\n')\n",
    "\n",
    "# Put a nicer background color on the legend.\n",
    "\n",
    "legend.get_frame().set_facecolor('#00FFCC')\n",
    "\n",
    "plt.show()"
   ]
  },
  {
   "cell_type": "markdown",
   "metadata": {},
   "source": [
    "<u>**Popular Baby Names With matplotlib Bar Graphs**</u>\n",
    "\n",
    "This section looks at obtaining the most popular baby names from the dataset in Python. The two subsections focus on the most popular female names and the most popular male names."
   ]
  },
  {
   "cell_type": "code",
   "execution_count": null,
   "metadata": {},
   "outputs": [],
   "source": [
    "##### Popular Baby Names With Bar Graphs\n",
    "\n",
    "### Popular Baby Names\n",
    "\n",
    "popular_baby_names = names.groupby([\"Baby_Name\", \"Sex\"]).sum()\n",
    "\n",
    "popular_baby_names = popular_baby_names.sort_values(by = \"Count\", ascending = False)[\"Count\"]\n",
    "\n",
    "popular_baby_names.head(10)"
   ]
  },
  {
   "cell_type": "markdown",
   "metadata": {},
   "source": [
    "<u>**Popular Female Baby Names**</u>\n",
    "\n",
    "From the names Pandas dataframe, the female names can be obtained through filtering. To obtain, the female names counts throughout all years the `.groupby()`, `.sum()` and `sort_values()` methods are used."
   ]
  },
  {
   "cell_type": "code",
   "execution_count": null,
   "metadata": {},
   "outputs": [],
   "source": [
    "### Popular Female Baby Names\n",
    "\n",
    "female_names = names[names.Sex == 'F']\n",
    "\n",
    "female_counts = female_names.groupby([\"Baby_Name\"]).sum().sort_values(by = \"Count\", ascending = False)\n",
    "\n",
    "females_names_15 = female_counts.head(15)['Count']\n",
    "\n",
    "females_names_15"
   ]
  },
  {
   "cell_type": "markdown",
   "metadata": {},
   "source": [
    "For the horizontal bar plot, the baby names, the counts are obtained to help with the plot setup. The main line after `fig, ax = plt.subplots()` is `ax.barh()`. After `ax.barh()`, I insert the ticks, labels, title and set limits for the x variable. The enumerate for loop part is for adding the number labels with the bars."
   ]
  },
  {
   "cell_type": "code",
   "execution_count": null,
   "metadata": {},
   "outputs": [],
   "source": [
    "# Ref: https://stackoverflow.com/questions/16096627/selecting-a-row-of-pandas-series-dataframe-by-integer-index\n",
    "\n",
    "people_f = females_names_15.index.values # Get the names from index values \n",
    "counts_f = females_names_15\n",
    "y_pos_f = np.arange(len(people_f))\n",
    "\n",
    "fig, ax = plt.subplots()\n",
    "\n",
    "ax.barh(y_pos_f, counts_f , align='center', color = '#FF9999', ecolor='black')\n",
    "ax.set_yticks(y_pos_f)\n",
    "ax.set_yticklabels(people_f)\n",
    "ax.invert_yaxis()  # labels read top-to-bottom\n",
    "ax.set_xlabel('\\n Count')\n",
    "ax.set_ylabel('\\n Female Name')\n",
    "ax.set_title('Top 15 Most Common Female Baby Names [1880-2010] \\n')\n",
    "ax.set_xlim([0, 5000000])\n",
    "\n",
    "\n",
    "for i, v in enumerate(counts_f):\n",
    "    ax.text(v - 2200, i + 0.3, str(v), color='#660000', fontweight='bold')\n",
    "\n",
    "plt.show()"
   ]
  },
  {
   "cell_type": "markdown",
   "metadata": {},
   "source": [
    "Mary comes in as the clear number one female baby name followed by Elizabeth, Patricia and Jennifer. It is uncertain whether related names such as Marie and Maria are counted the same as Mary. The name Sarah has the variation Sara but it is not known if those are the same during the counting.\n",
    "\n",
    "&nbsp;\n",
    "\n",
    "**<u>Popular Male Baby Names</u>**\n",
    "\n",
    "The code for the popular male baby names is not much different."
   ]
  },
  {
   "cell_type": "code",
   "execution_count": null,
   "metadata": {},
   "outputs": [],
   "source": [
    "### Popular Male Baby Names\n",
    "\n",
    "male_names = names[names.Sex == 'M']\n",
    "\n",
    "male_counts = male_names.groupby([\"Baby_Name\"]).sum().sort_values(by = \"Count\", ascending = False)\n",
    "\n",
    "male_names_15 = male_counts.head(15)['Count']\n",
    "\n",
    "male_names_15"
   ]
  },
  {
   "cell_type": "code",
   "execution_count": null,
   "metadata": {},
   "outputs": [],
   "source": [
    "# Ref: https://stackoverflow.com/questions/16096627/selecting-a-row-of-pandas-series-dataframe-by-integer-index\n",
    "\n",
    "people_m = male_names_15.index.values # Get the names from index values \n",
    "counts_m = male_names_15\n",
    "y_pos_m = np.arange(len(people_m))\n",
    "\n",
    "fig, ax = plt.subplots()\n",
    "\n",
    "ax.barh(y_pos_m, counts_m , align='center', color = '#2a5391', ecolor='black')\n",
    "ax.set_yticks(y_pos_m)\n",
    "ax.set_yticklabels(people_m)\n",
    "ax.invert_yaxis()  # labels read top-to-bottom\n",
    "ax.set_xlabel('\\n Count')\n",
    "ax.set_ylabel('Male Baby Name \\n')\n",
    "ax.set_title('Top 15 Common Male Baby Names [1880-2010] \\n')\n",
    "ax.set_xlim([0, 5900000])\n",
    "\n",
    "\n",
    "for i, v in enumerate(counts_m):\n",
    "    ax.text(v - 2200, i + 0.3, str(v), color='#26421f', fontweight='bold')\n",
    "\n",
    "plt.show()"
   ]
  },
  {
   "cell_type": "markdown",
   "metadata": {},
   "source": [
    "From the dataset, the top names are James, John, Robert, Michael and William. Names like James have variations such as Jim and William is related to Will and Bill. It is not known if related names are counted separately or counted together."
   ]
  }
 ],
 "metadata": {
  "kernelspec": {
   "display_name": "Python 3",
   "language": "python",
   "name": "python3"
  },
  "language_info": {
   "codemirror_mode": {
    "name": "ipython",
    "version": 3
   },
   "file_extension": ".py",
   "mimetype": "text/x-python",
   "name": "python",
   "nbconvert_exporter": "python",
   "pygments_lexer": "ipython3",
   "version": "3.8.5"
  }
 },
 "nbformat": 4,
 "nbformat_minor": 2
}
