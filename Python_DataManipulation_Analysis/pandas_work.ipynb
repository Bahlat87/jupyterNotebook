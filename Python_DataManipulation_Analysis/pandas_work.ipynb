{
 "cells": [
  {
   "cell_type": "markdown",
   "metadata": {},
   "source": [
    "**<u>Some Work With pandas In Python</u>**\n",
    "\n",
    "Hi there. Here is some experimental data wrangling work with Python and the pandas package.\n",
    "\n",
    "**<u>Sections</u>**\n",
    "\n",
    "* A Real Estate Dataset Example\n",
    "* A Plotting Example With pandas and matplotlib\n",
    "* Data Wrangling With pandas\n",
    "* References"
   ]
  },
  {
   "cell_type": "markdown",
   "metadata": {},
   "source": [
    "**<u>A Real Estate Dataset Example</u>**\n",
    "\n",
    "This first example is on a real estate dataset. I import pandas and load in the data with the read_csv() command from pandas."
   ]
  },
  {
   "cell_type": "code",
   "execution_count": 104,
   "metadata": {
    "collapsed": true
   },
   "outputs": [],
   "source": [
    "# Pandas Testing Work\n",
    "# 10 Minutes to pandas guide reference:\n",
    "# https://pandas.pydata.org/pandas-docs/stable/10min.html\n",
    "# %matplotlib inline To enable plots in Jupyter Notebook\n",
    "\n",
    "import pandas as pd\n",
    "%matplotlib inline \n",
    "\n",
    "real_estate_url = \"http://samplecsvs.s3.amazonaws.com/Sacramentorealestatetransactions.csv\"\n",
    "\n",
    "re_data = pd.read_csv(real_estate_url)"
   ]
  },
  {
   "cell_type": "markdown",
   "metadata": {},
   "source": [
    "Now that the data is loaded into Python, I want to take a preview of the data to see what kind of variables I am dealing with."
   ]
  },
  {
   "cell_type": "code",
   "execution_count": 105,
   "metadata": {},
   "outputs": [
    {
     "name": "stdout",
     "output_type": "stream",
     "text": [
      "           street        city    zip state  beds  baths  sq__ft         type  \\\n",
      "0    3526 HIGH ST  SACRAMENTO  95838    CA     2      1     836  Residential   \n",
      "1     51 OMAHA CT  SACRAMENTO  95823    CA     3      1    1167  Residential   \n",
      "2  2796 BRANCH ST  SACRAMENTO  95815    CA     2      1     796  Residential   \n",
      "\n",
      "                      sale_date  price   latitude   longitude  \n",
      "0  Wed May 21 00:00:00 EDT 2008  59222  38.631913 -121.434879  \n",
      "1  Wed May 21 00:00:00 EDT 2008  68212  38.478902 -121.431028  \n",
      "2  Wed May 21 00:00:00 EDT 2008  68880  38.618305 -121.443839  \n"
     ]
    }
   ],
   "source": [
    "### Printing rows:\n",
    "\n",
    "print(re_data[:3]) # Print First three rows\n"
   ]
  },
  {
   "cell_type": "code",
   "execution_count": 106,
   "metadata": {},
   "outputs": [
    {
     "name": "stdout",
     "output_type": "stream",
     "text": [
      "             street        city    zip state  beds  baths  sq__ft  \\\n",
      "1       51 OMAHA CT  SACRAMENTO  95823    CA     3      1    1167   \n",
      "2    2796 BRANCH ST  SACRAMENTO  95815    CA     2      1     796   \n",
      "3  2805 JANETTE WAY  SACRAMENTO  95815    CA     2      1     852   \n",
      "4   6001 MCMAHON DR  SACRAMENTO  95824    CA     2      1     797   \n",
      "\n",
      "          type                     sale_date  price   latitude   longitude  \n",
      "1  Residential  Wed May 21 00:00:00 EDT 2008  68212  38.478902 -121.431028  \n",
      "2  Residential  Wed May 21 00:00:00 EDT 2008  68880  38.618305 -121.443839  \n",
      "3  Residential  Wed May 21 00:00:00 EDT 2008  69307  38.616835 -121.439146  \n",
      "4  Residential  Wed May 21 00:00:00 EDT 2008  81900  38.519470 -121.435768  \n"
     ]
    }
   ],
   "source": [
    "### Printing Rows:\n",
    "\n",
    "print(re_data[1:5]) # Print rows 1, 2, 3 and 4."
   ]
  },
  {
   "cell_type": "markdown",
   "metadata": {},
   "source": [
    "**<u>Selecting Columns</u>**\n",
    "\n",
    "I can select columns in pandas by specifying the column variable. (Outputs not shown to save space.)"
   ]
  },
  {
   "cell_type": "code",
   "execution_count": 107,
   "metadata": {},
   "outputs": [
    {
     "name": "stdout",
     "output_type": "stream",
     "text": [
      "0           SACRAMENTO\n",
      "1           SACRAMENTO\n",
      "2           SACRAMENTO\n",
      "3           SACRAMENTO\n",
      "4           SACRAMENTO\n",
      "5           SACRAMENTO\n",
      "6           SACRAMENTO\n",
      "7           SACRAMENTO\n",
      "8       RANCHO CORDOVA\n",
      "9            RIO LINDA\n",
      "10          SACRAMENTO\n",
      "11          SACRAMENTO\n",
      "12          SACRAMENTO\n",
      "13          SACRAMENTO\n",
      "14          SACRAMENTO\n",
      "15          SACRAMENTO\n",
      "16           RIO LINDA\n",
      "17      CITRUS HEIGHTS\n",
      "18          SACRAMENTO\n",
      "19           RIO LINDA\n",
      "20      CITRUS HEIGHTS\n",
      "21          SACRAMENTO\n",
      "22     NORTH HIGHLANDS\n",
      "23          SACRAMENTO\n",
      "24     NORTH HIGHLANDS\n",
      "25            ANTELOPE\n",
      "26          SACRAMENTO\n",
      "27          SACRAMENTO\n",
      "28          SACRAMENTO\n",
      "29          SACRAMENTO\n",
      "            ...       \n",
      "955          ROSEVILLE\n",
      "956    NORTH HIGHLANDS\n",
      "957               GALT\n",
      "958          ELK GROVE\n",
      "959           ANTELOPE\n",
      "960         SACRAMENTO\n",
      "961          ELK GROVE\n",
      "962         SACRAMENTO\n",
      "963     CITRUS HEIGHTS\n",
      "964          ELK GROVE\n",
      "965          ELK GROVE\n",
      "966          ROSEVILLE\n",
      "967         CARMICHAEL\n",
      "968               GALT\n",
      "969         SACRAMENTO\n",
      "970         SACRAMENTO\n",
      "971         SACRAMENTO\n",
      "972    NORTH HIGHLANDS\n",
      "973       CAMERON PARK\n",
      "974         ORANGEVALE\n",
      "975          ELK GROVE\n",
      "976            LINCOLN\n",
      "977         SACRAMENTO\n",
      "978         SACRAMENTO\n",
      "979          ELK GROVE\n",
      "980         SACRAMENTO\n",
      "981         SACRAMENTO\n",
      "982     CITRUS HEIGHTS\n",
      "983          ELK GROVE\n",
      "984    EL DORADO HILLS\n",
      "Name: city, Length: 985, dtype: object\n"
     ]
    }
   ],
   "source": [
    "### Select column(s):\n",
    "\n",
    "print(re_data['city'])\n"
   ]
  },
  {
   "cell_type": "code",
   "execution_count": 108,
   "metadata": {},
   "outputs": [
    {
     "name": "stdout",
     "output_type": "stream",
     "text": [
      "                city    zip state  beds   price\n",
      "0         SACRAMENTO  95838    CA     2   59222\n",
      "1         SACRAMENTO  95823    CA     3   68212\n",
      "2         SACRAMENTO  95815    CA     2   68880\n",
      "3         SACRAMENTO  95815    CA     2   69307\n",
      "4         SACRAMENTO  95824    CA     2   81900\n",
      "5         SACRAMENTO  95841    CA     3   89921\n",
      "6         SACRAMENTO  95842    CA     3   90895\n",
      "7         SACRAMENTO  95820    CA     3   91002\n",
      "8     RANCHO CORDOVA  95670    CA     2   94905\n",
      "9          RIO LINDA  95673    CA     3   98937\n",
      "10        SACRAMENTO  95838    CA     3  100309\n",
      "11        SACRAMENTO  95823    CA     3  106250\n",
      "12        SACRAMENTO  95815    CA     1  106852\n",
      "13        SACRAMENTO  95822    CA     3  107502\n",
      "14        SACRAMENTO  95842    CA     2  108750\n",
      "15        SACRAMENTO  95842    CA     2  110700\n",
      "16         RIO LINDA  95673    CA     2  113263\n",
      "17    CITRUS HEIGHTS  95621    CA     2  116250\n",
      "18        SACRAMENTO  95833    CA     2  120000\n",
      "19         RIO LINDA  95673    CA     3  121630\n",
      "20    CITRUS HEIGHTS  95621    CA     3  122000\n",
      "21        SACRAMENTO  95823    CA     4  122682\n",
      "22   NORTH HIGHLANDS  95660    CA     4  123000\n",
      "23        SACRAMENTO  95834    CA     3  124100\n",
      "24   NORTH HIGHLANDS  95660    CA     3  125000\n",
      "25          ANTELOPE  95843    CA     3  126640\n",
      "26        SACRAMENTO  95820    CA     3  127281\n",
      "27        SACRAMENTO  95832    CA     3  129000\n",
      "28        SACRAMENTO  95827    CA     4  131200\n",
      "29        SACRAMENTO  95828    CA     3  132000\n",
      "..               ...    ...   ...   ...     ...\n",
      "955        ROSEVILLE  95747    CA     3  208250\n",
      "956  NORTH HIGHLANDS  95660    CA     3  208318\n",
      "957             GALT  95632    CA     3  209347\n",
      "958        ELK GROVE  95624    CA     4  211500\n",
      "959         ANTELOPE  95843    CA     3  212000\n",
      "960       SACRAMENTO  95828    CA     3  213000\n",
      "961        ELK GROVE  95624    CA     3  216000\n",
      "962       SACRAMENTO  95828    CA     3  216021\n",
      "963   CITRUS HEIGHTS  95610    CA     3  219000\n",
      "964        ELK GROVE  95757    CA     3  219794\n",
      "965        ELK GROVE  95758    CA     3  220000\n",
      "966        ROSEVILLE  95678    CA     3  220000\n",
      "967       CARMICHAEL  95608    CA     4  220000\n",
      "968             GALT  95632    CA     4  220000\n",
      "969       SACRAMENTO  95842    CA     4  223000\n",
      "970       SACRAMENTO  95834    CA     0  224000\n",
      "971       SACRAMENTO  95821    CA     3  224000\n",
      "972  NORTH HIGHLANDS  95660    CA     3  224252\n",
      "973     CAMERON PARK  95682    CA     3  224500\n",
      "974       ORANGEVALE  95662    CA     3  225000\n",
      "975        ELK GROVE  95757    CA     3  228000\n",
      "976          LINCOLN  95648    CA     3  229027\n",
      "977       SACRAMENTO  95823    CA     4  229500\n",
      "978       SACRAMENTO  95823    CA     4  230000\n",
      "979        ELK GROVE  95758    CA     3  230000\n",
      "980       SACRAMENTO  95829    CA     4  232425\n",
      "981       SACRAMENTO  95823    CA     3  234000\n",
      "982   CITRUS HEIGHTS  95610    CA     3  235000\n",
      "983        ELK GROVE  95758    CA     4  235301\n",
      "984  EL DORADO HILLS  95762    CA     3  235738\n",
      "\n",
      "[985 rows x 5 columns]\n"
     ]
    }
   ],
   "source": [
    "print(re_data[['city', 'zip', 'state', 'beds', 'price']])"
   ]
  },
  {
   "cell_type": "markdown",
   "metadata": {},
   "source": [
    "**<u>Selecting Rows & Columns</u>**\n",
    "\n",
    "In pandas, rows and columns can be selected with the `.iloc()` function."
   ]
  },
  {
   "cell_type": "code",
   "execution_count": 109,
   "metadata": {},
   "outputs": [
    {
     "name": "stdout",
     "output_type": "stream",
     "text": [
      "         city    zip state  beds\n",
      "1  SACRAMENTO  95823    CA     3\n",
      "2  SACRAMENTO  95815    CA     2\n",
      "3  SACRAMENTO  95815    CA     2\n",
      "4  SACRAMENTO  95824    CA     2\n"
     ]
    }
   ],
   "source": [
    "### Rows & columns printing:\n",
    "\n",
    "print(re_data.iloc[1:5, 1:5]) # First 4 rows and 4 columns"
   ]
  },
  {
   "cell_type": "code",
   "execution_count": 110,
   "metadata": {},
   "outputs": [
    {
     "name": "stdout",
     "output_type": "stream",
     "text": [
      "           street        city\n",
      "1     51 OMAHA CT  SACRAMENTO\n",
      "2  2796 BRANCH ST  SACRAMENTO\n"
     ]
    }
   ],
   "source": [
    "print(re_data.iloc[1:3, 0:2]) "
   ]
  },
  {
   "cell_type": "code",
   "execution_count": 111,
   "metadata": {},
   "outputs": [
    {
     "name": "stdout",
     "output_type": "stream",
     "text": [
      "           street        city    zip state  beds  baths  sq__ft         type  \\\n",
      "1     51 OMAHA CT  SACRAMENTO  95823    CA     3      1    1167  Residential   \n",
      "2  2796 BRANCH ST  SACRAMENTO  95815    CA     2      1     796  Residential   \n",
      "\n",
      "                      sale_date  price   latitude   longitude  \n",
      "1  Wed May 21 00:00:00 EDT 2008  68212  38.478902 -121.431028  \n",
      "2  Wed May 21 00:00:00 EDT 2008  68880  38.618305 -121.443839  \n"
     ]
    }
   ],
   "source": [
    "print(re_data.iloc[1:3,:]) # Select rows 1 and 2 from all columns"
   ]
  },
  {
   "cell_type": "code",
   "execution_count": 112,
   "metadata": {},
   "outputs": [
    {
     "name": "stdout",
     "output_type": "stream",
     "text": [
      "                              street             city    zip state  beds\n",
      "0                       3526 HIGH ST       SACRAMENTO  95838    CA     2\n",
      "1                        51 OMAHA CT       SACRAMENTO  95823    CA     3\n",
      "2                     2796 BRANCH ST       SACRAMENTO  95815    CA     2\n",
      "3                   2805 JANETTE WAY       SACRAMENTO  95815    CA     2\n",
      "4                    6001 MCMAHON DR       SACRAMENTO  95824    CA     2\n",
      "5                 5828 PEPPERMILL CT       SACRAMENTO  95841    CA     3\n",
      "6                6048 OGDEN NASH WAY       SACRAMENTO  95842    CA     3\n",
      "7                      2561 19TH AVE       SACRAMENTO  95820    CA     3\n",
      "8    11150 TRINITY RIVER DR Unit 114   RANCHO CORDOVA  95670    CA     2\n",
      "9                       7325 10TH ST        RIO LINDA  95673    CA     3\n",
      "10                  645 MORRISON AVE       SACRAMENTO  95838    CA     3\n",
      "11                     4085 FAWN CIR       SACRAMENTO  95823    CA     3\n",
      "12                   2930 LA ROSA RD       SACRAMENTO  95815    CA     1\n",
      "13                     2113 KIRK WAY       SACRAMENTO  95822    CA     3\n",
      "14               4533 LOCH HAVEN WAY       SACRAMENTO  95842    CA     2\n",
      "15                    7340 HAMDEN PL       SACRAMENTO  95842    CA     2\n",
      "16                       6715 6TH ST        RIO LINDA  95673    CA     2\n",
      "17           6236 LONGFORD DR Unit 1   CITRUS HEIGHTS  95621    CA     2\n",
      "18                   250 PERALTA AVE       SACRAMENTO  95833    CA     2\n",
      "19                   113 LEEWILL AVE        RIO LINDA  95673    CA     3\n",
      "20                6118 STONEHAND AVE   CITRUS HEIGHTS  95621    CA     3\n",
      "21                 4882 BANDALIN WAY       SACRAMENTO  95823    CA     4\n",
      "22                   7511 OAKVALE CT  NORTH HIGHLANDS  95660    CA     4\n",
      "23                      9 PASTURE CT       SACRAMENTO  95834    CA     3\n",
      "24                3729 BAINBRIDGE DR  NORTH HIGHLANDS  95660    CA     3\n",
      "25                3828 BLACKFOOT WAY         ANTELOPE  95843    CA     3\n",
      "26                   4108 NORTON WAY       SACRAMENTO  95820    CA     3\n",
      "27                  1469 JANRICK AVE       SACRAMENTO  95832    CA     3\n",
      "28                     9861 CULP WAY       SACRAMENTO  95827    CA     4\n",
      "29             7825 CREEK VALLEY CIR       SACRAMENTO  95828    CA     3\n",
      "..                               ...              ...    ...   ...   ...\n",
      "955                  2100 BEATTY WAY        ROSEVILLE  95747    CA     3\n",
      "956              6920 GILLINGHAM WAY  NORTH HIGHLANDS  95660    CA     3\n",
      "957                 82 WILDFLOWER DR             GALT  95632    CA     3\n",
      "958                  8652 BANTON CIR        ELK GROVE  95624    CA     4\n",
      "959              8428 MISTY PASS WAY         ANTELOPE  95843    CA     3\n",
      "960                7958 ROSEVIEW WAY       SACRAMENTO  95828    CA     3\n",
      "961                    9020 LUKEN CT        ELK GROVE  95624    CA     3\n",
      "962              7809 VALLECITOS WAY       SACRAMENTO  95828    CA     3\n",
      "963               8445 OLD AUBURN RD   CITRUS HEIGHTS  95610    CA     3\n",
      "964                  10085 ATKINS DR        ELK GROVE  95757    CA     3\n",
      "965              9185 CERROLINDA CIR        ELK GROVE  95758    CA     3\n",
      "966                 9197 CORTINA CIR        ROSEVILLE  95678    CA     3\n",
      "967                  5429 HESPER WAY       CARMICHAEL  95608    CA     4\n",
      "968                 1178 WARMWOOD CT             GALT  95632    CA     4\n",
      "969                    4900 ELUDE CT       SACRAMENTO  95842    CA     4\n",
      "970                    3557 SODA WAY       SACRAMENTO  95834    CA     0\n",
      "971             3528 SAINT GEORGE DR       SACRAMENTO  95821    CA     3\n",
      "972                7381 WASHBURN WAY  NORTH HIGHLANDS  95660    CA     3\n",
      "973             2181 WINTERHAVEN CIR     CAMERON PARK  95682    CA     3\n",
      "974                 7540 HICKORY AVE       ORANGEVALE  95662    CA     3\n",
      "975              5024 CHAMBERLIN CIR        ELK GROVE  95757    CA     3\n",
      "976                2400 INVERNESS DR          LINCOLN  95648    CA     3\n",
      "977                  5 BISHOPGATE CT       SACRAMENTO  95823    CA     4\n",
      "978                 5601 REXLEIGH DR       SACRAMENTO  95823    CA     4\n",
      "979                 1909 YARNELL WAY        ELK GROVE  95758    CA     3\n",
      "980               9169 GARLINGTON CT       SACRAMENTO  95829    CA     4\n",
      "981                  6932 RUSKUT WAY       SACRAMENTO  95823    CA     3\n",
      "982                7933 DAFFODIL WAY   CITRUS HEIGHTS  95610    CA     3\n",
      "983                 8304 RED FOX WAY        ELK GROVE  95758    CA     4\n",
      "984              3882 YELLOWSTONE LN  EL DORADO HILLS  95762    CA     3\n",
      "\n",
      "[985 rows x 5 columns]\n"
     ]
    }
   ],
   "source": [
    "print(re_data.iloc[:, 0:5]) # Output not shown to save space, choose all of cols 1 to 4"
   ]
  },
  {
   "cell_type": "markdown",
   "metadata": {},
   "source": [
    "**<u>A Plotting Example With pandas and matplotlib</u>**\n",
    "\n",
    "This second example deals with create a pandas dataframe of favourite colours and their counts. These results are then plotted as a horizontal bar graph in matplotlib."
   ]
  },
  {
   "cell_type": "code",
   "execution_count": 113,
   "metadata": {},
   "outputs": [
    {
     "name": "stdout",
     "output_type": "stream",
     "text": [
      "   Colour  Counts\n",
      "0   Green      35\n",
      "1     Red      20\n",
      "2    Blue      40\n",
      "3  Yellow      23\n",
      "4  Orange      38\n"
     ]
    }
   ],
   "source": [
    "# pandas & Plotting With matplotlib\n",
    "\n",
    "import pandas as pd\n",
    "import matplotlib.pyplot as plt\n",
    "\n",
    "sample_data = pd.DataFrame({'Colour': [\"Green\", \"Red\", \"Blue\", \"Yellow\", \"Orange\"],\n",
    "                            'Counts': [35, 20, 40, 23, 38]})\n",
    "\n",
    "print(sample_data)"
   ]
  },
  {
   "cell_type": "markdown",
   "metadata": {},
   "source": [
    "I can sort the table by the counts in ascending order (lowest to highest)."
   ]
  },
  {
   "cell_type": "code",
   "execution_count": 114,
   "metadata": {},
   "outputs": [
    {
     "name": "stdout",
     "output_type": "stream",
     "text": [
      "   Colour  Counts\n",
      "1     Red      20\n",
      "3  Yellow      23\n",
      "0   Green      35\n",
      "4  Orange      38\n",
      "2    Blue      40\n"
     ]
    }
   ],
   "source": [
    "# Sorting:\n",
    "\n",
    "sample_data =  sample_data.sort_values(by = 'Counts', ascending = True)\n",
    "\n",
    "print(sample_data)"
   ]
  },
  {
   "cell_type": "markdown",
   "metadata": {},
   "source": [
    "With some stackoverflow references, I have created a sorted horizontal bar graph which shows the results from the survey. It is important to use barh instead of bar to achieve the horizontal bars."
   ]
  },
  {
   "cell_type": "code",
   "execution_count": 115,
   "metadata": {},
   "outputs": [
    {
     "data": {
      "image/png": "[encoded data removed]",
      "text/plain": [
       "<matplotlib.figure.Figure at 0x1f751708f60>"
      ]
     },
     "metadata": {},
     "output_type": "display_data"
    }
   ],
   "source": [
    "# Matplotlib sorted bar graph:\n",
    "# Ref: https://stackoverflow.com/questions/32244019/how-to-rotate-x-axis-tick-labels-in-pandas-barplot\n",
    "# https://stackoverflow.com/questions/18973404/setting-different-bar-color-in-matplotlib-python\n",
    "# https://stackoverflow.com/questions/5735208/remove-the-legend-on-a-matplotlib-figure\n",
    "\n",
    "sample_data.set_index([\"Colour\"], inplace = True)\n",
    "\n",
    "color_order = ['r', 'y', 'g', 'orange', 'blue']\n",
    "\n",
    "sample_data.plot(kind = 'barh', alpha = 0.75, rot=0, color = color_order, legend=None)\n",
    "plt.title(\"Favourite Colour Survey Results \\n\")\n",
    "plt.xlabel(\"\\n Counts\")\n",
    "plt.ylabel(\"Colours \\n\")\n",
    "\n",
    "plt.show()"
   ]
  },
  {
   "cell_type": "markdown",
   "metadata": {},
   "source": [
    "**<u>Data Wrangling With pandas</u>**\n",
    "\n",
    "There are times when you need to reformat the data/dataframes into a format that is ready for plotting and/or data analysis. The pandas package contains a wide variety of functions which allow you reshape the data the way you want it to be.\n",
    "\n",
    "The main references is the pandas Cheatsheet."
   ]
  },
  {
   "cell_type": "code",
   "execution_count": 116,
   "metadata": {},
   "outputs": [
    {
     "name": "stdout",
     "output_type": "stream",
     "text": [
      "         Blue  Green  Red\n",
      "Class 1    12      6    7\n",
      "Class 2     8     10   11\n",
      "Class 3     9      8    9\n"
     ]
    }
   ],
   "source": [
    "### Data Wrangling With pandas Cheatsheet Reference\n",
    "# http://pandas.pydata.org\n",
    "\n",
    "import pandas as pd\n",
    "\n",
    "df = pd.DataFrame(\n",
    "        {\"Green\" : [6, 10, 8],\n",
    "         \"Red\" : [7, 11, 9],\n",
    "         \"Blue\" : [12, 8, 9]},\n",
    "         index = [\"Class 1\", \"Class 2\", \"Class 3\"])\n",
    "\n",
    "print(df)"
   ]
  },
  {
   "cell_type": "markdown",
   "metadata": {},
   "source": [
    "<u>The melt Function</u>\n",
    "\n",
    "In pandas, the melt function converts the dataframe into a long format. (More rows than columns)."
   ]
  },
  {
   "cell_type": "code",
   "execution_count": 117,
   "metadata": {},
   "outputs": [
    {
     "name": "stdout",
     "output_type": "stream",
     "text": [
      "  variable  value\n",
      "0     Blue     12\n",
      "1     Blue      8\n",
      "2     Blue      9\n",
      "3    Green      6\n",
      "4    Green     10\n",
      "5    Green      8\n",
      "6      Red      7\n",
      "7      Red     11\n",
      "8      Red      9\n"
     ]
    }
   ],
   "source": [
    "### Melt: Gather columns into rows; converts to long format\n",
    "    \n",
    "melted = pd.melt(df)\n",
    "\n",
    "print(melted)"
   ]
  },
  {
   "cell_type": "markdown",
   "metadata": {},
   "source": [
    "<u>Subsetting Rows</u>\n",
    "\n"
   ]
  },
  {
   "cell_type": "code",
   "execution_count": 118,
   "metadata": {},
   "outputs": [
    {
     "data": {
      "text/html": [
       "<div>\n",
       "<style>\n",
       "    .dataframe thead tr:only-child th {\n",
       "        text-align: right;\n",
       "    }\n",
       "\n",
       "    .dataframe thead th {\n",
       "        text-align: left;\n",
       "    }\n",
       "\n",
       "    .dataframe tbody tr th {\n",
       "        vertical-align: top;\n",
       "    }\n",
       "</style>\n",
       "<table border=\"1\" class=\"dataframe\">\n",
       "  <thead>\n",
       "    <tr style=\"text-align: right;\">\n",
       "      <th></th>\n",
       "      <th>variable</th>\n",
       "      <th>value</th>\n",
       "    </tr>\n",
       "  </thead>\n",
       "  <tbody>\n",
       "    <tr>\n",
       "      <th>0</th>\n",
       "      <td>Blue</td>\n",
       "      <td>12</td>\n",
       "    </tr>\n",
       "    <tr>\n",
       "      <th>2</th>\n",
       "      <td>Blue</td>\n",
       "      <td>9</td>\n",
       "    </tr>\n",
       "    <tr>\n",
       "      <th>4</th>\n",
       "      <td>Green</td>\n",
       "      <td>10</td>\n",
       "    </tr>\n",
       "    <tr>\n",
       "      <th>7</th>\n",
       "      <td>Red</td>\n",
       "      <td>11</td>\n",
       "    </tr>\n",
       "    <tr>\n",
       "      <th>8</th>\n",
       "      <td>Red</td>\n",
       "      <td>9</td>\n",
       "    </tr>\n",
       "  </tbody>\n",
       "</table>\n",
       "</div>"
      ],
      "text/plain": [
       "  variable  value\n",
       "0     Blue     12\n",
       "2     Blue      9\n",
       "4    Green     10\n",
       "7      Red     11\n",
       "8      Red      9"
      ]
     },
     "execution_count": 118,
     "metadata": {},
     "output_type": "execute_result"
    }
   ],
   "source": [
    "### Subseting Rows:\n",
    "    \n",
    "melted[melted.value > 8] #Extract rows that meet logical criteria"
   ]
  },
  {
   "cell_type": "code",
   "execution_count": 119,
   "metadata": {},
   "outputs": [
    {
     "data": {
      "text/html": [
       "<div>\n",
       "<style>\n",
       "    .dataframe thead tr:only-child th {\n",
       "        text-align: right;\n",
       "    }\n",
       "\n",
       "    .dataframe thead th {\n",
       "        text-align: left;\n",
       "    }\n",
       "\n",
       "    .dataframe tbody tr th {\n",
       "        vertical-align: top;\n",
       "    }\n",
       "</style>\n",
       "<table border=\"1\" class=\"dataframe\">\n",
       "  <thead>\n",
       "    <tr style=\"text-align: right;\">\n",
       "      <th></th>\n",
       "      <th>variable</th>\n",
       "      <th>value</th>\n",
       "    </tr>\n",
       "  </thead>\n",
       "  <tbody>\n",
       "    <tr>\n",
       "      <th>2</th>\n",
       "      <td>Blue</td>\n",
       "      <td>9</td>\n",
       "    </tr>\n",
       "    <tr>\n",
       "      <th>5</th>\n",
       "      <td>Green</td>\n",
       "      <td>8</td>\n",
       "    </tr>\n",
       "    <tr>\n",
       "      <th>1</th>\n",
       "      <td>Blue</td>\n",
       "      <td>8</td>\n",
       "    </tr>\n",
       "    <tr>\n",
       "      <th>6</th>\n",
       "      <td>Red</td>\n",
       "      <td>7</td>\n",
       "    </tr>\n",
       "  </tbody>\n",
       "</table>\n",
       "</div>"
      ],
      "text/plain": [
       "  variable  value\n",
       "2     Blue      9\n",
       "5    Green      8\n",
       "1     Blue      8\n",
       "6      Red      7"
      ]
     },
     "execution_count": 119,
     "metadata": {},
     "output_type": "execute_result"
    }
   ],
   "source": [
    "melted.sample(n = 4) # Randomly select n rows"
   ]
  },
  {
   "cell_type": "code",
   "execution_count": 120,
   "metadata": {},
   "outputs": [
    {
     "data": {
      "text/html": [
       "<div>\n",
       "<style>\n",
       "    .dataframe thead tr:only-child th {\n",
       "        text-align: right;\n",
       "    }\n",
       "\n",
       "    .dataframe thead th {\n",
       "        text-align: left;\n",
       "    }\n",
       "\n",
       "    .dataframe tbody tr th {\n",
       "        vertical-align: top;\n",
       "    }\n",
       "</style>\n",
       "<table border=\"1\" class=\"dataframe\">\n",
       "  <thead>\n",
       "    <tr style=\"text-align: right;\">\n",
       "      <th></th>\n",
       "      <th>variable</th>\n",
       "      <th>value</th>\n",
       "    </tr>\n",
       "  </thead>\n",
       "  <tbody>\n",
       "    <tr>\n",
       "      <th>3</th>\n",
       "      <td>Green</td>\n",
       "      <td>6</td>\n",
       "    </tr>\n",
       "    <tr>\n",
       "      <th>4</th>\n",
       "      <td>Green</td>\n",
       "      <td>10</td>\n",
       "    </tr>\n",
       "    <tr>\n",
       "      <th>5</th>\n",
       "      <td>Green</td>\n",
       "      <td>8</td>\n",
       "    </tr>\n",
       "  </tbody>\n",
       "</table>\n",
       "</div>"
      ],
      "text/plain": [
       "  variable  value\n",
       "3    Green      6\n",
       "4    Green     10\n",
       "5    Green      8"
      ]
     },
     "execution_count": 120,
     "metadata": {},
     "output_type": "execute_result"
    }
   ],
   "source": [
    "melted.iloc[3:6] #Select rows of index 3, 4 and 5."
   ]
  },
  {
   "cell_type": "code",
   "execution_count": 121,
   "metadata": {},
   "outputs": [
    {
     "data": {
      "text/html": [
       "<div>\n",
       "<style>\n",
       "    .dataframe thead tr:only-child th {\n",
       "        text-align: right;\n",
       "    }\n",
       "\n",
       "    .dataframe thead th {\n",
       "        text-align: left;\n",
       "    }\n",
       "\n",
       "    .dataframe tbody tr th {\n",
       "        vertical-align: top;\n",
       "    }\n",
       "</style>\n",
       "<table border=\"1\" class=\"dataframe\">\n",
       "  <thead>\n",
       "    <tr style=\"text-align: right;\">\n",
       "      <th></th>\n",
       "      <th>variable</th>\n",
       "      <th>value</th>\n",
       "    </tr>\n",
       "  </thead>\n",
       "  <tbody>\n",
       "    <tr>\n",
       "      <th>0</th>\n",
       "      <td>Blue</td>\n",
       "      <td>12</td>\n",
       "    </tr>\n",
       "    <tr>\n",
       "      <th>7</th>\n",
       "      <td>Red</td>\n",
       "      <td>11</td>\n",
       "    </tr>\n",
       "    <tr>\n",
       "      <th>4</th>\n",
       "      <td>Green</td>\n",
       "      <td>10</td>\n",
       "    </tr>\n",
       "    <tr>\n",
       "      <th>2</th>\n",
       "      <td>Blue</td>\n",
       "      <td>9</td>\n",
       "    </tr>\n",
       "    <tr>\n",
       "      <th>8</th>\n",
       "      <td>Red</td>\n",
       "      <td>9</td>\n",
       "    </tr>\n",
       "  </tbody>\n",
       "</table>\n",
       "</div>"
      ],
      "text/plain": [
       "  variable  value\n",
       "0     Blue     12\n",
       "7      Red     11\n",
       "4    Green     10\n",
       "2     Blue      9\n",
       "8      Red      9"
      ]
     },
     "execution_count": 121,
     "metadata": {},
     "output_type": "execute_result"
    }
   ],
   "source": [
    "melted.nlargest(5, 'value') # Select top 5 values from a column (desc. order)"
   ]
  },
  {
   "cell_type": "markdown",
   "metadata": {},
   "source": [
    "<u>Subsetting Variables/Columns</u>"
   ]
  },
  {
   "cell_type": "code",
   "execution_count": 122,
   "metadata": {},
   "outputs": [
    {
     "data": {
      "text/plain": [
       "Class 1    12\n",
       "Class 2     8\n",
       "Class 3     9\n",
       "Name: Blue, dtype: int64"
      ]
     },
     "execution_count": 122,
     "metadata": {},
     "output_type": "execute_result"
    }
   ],
   "source": [
    "# Select single column (2 ways):\n",
    "\n",
    "df['Blue']"
   ]
  },
  {
   "cell_type": "code",
   "execution_count": 123,
   "metadata": {},
   "outputs": [
    {
     "data": {
      "text/plain": [
       "Class 1    12\n",
       "Class 2     8\n",
       "Class 3     9\n",
       "Name: Blue, dtype: int64"
      ]
     },
     "execution_count": 123,
     "metadata": {},
     "output_type": "execute_result"
    }
   ],
   "source": [
    "df.Blue"
   ]
  },
  {
   "cell_type": "code",
   "execution_count": 124,
   "metadata": {},
   "outputs": [
    {
     "data": {
      "text/html": [
       "<div>\n",
       "<style>\n",
       "    .dataframe thead tr:only-child th {\n",
       "        text-align: right;\n",
       "    }\n",
       "\n",
       "    .dataframe thead th {\n",
       "        text-align: left;\n",
       "    }\n",
       "\n",
       "    .dataframe tbody tr th {\n",
       "        vertical-align: top;\n",
       "    }\n",
       "</style>\n",
       "<table border=\"1\" class=\"dataframe\">\n",
       "  <thead>\n",
       "    <tr style=\"text-align: right;\">\n",
       "      <th></th>\n",
       "      <th>Blue</th>\n",
       "      <th>Green</th>\n",
       "    </tr>\n",
       "  </thead>\n",
       "  <tbody>\n",
       "    <tr>\n",
       "      <th>Class 1</th>\n",
       "      <td>12</td>\n",
       "      <td>6</td>\n",
       "    </tr>\n",
       "    <tr>\n",
       "      <th>Class 2</th>\n",
       "      <td>8</td>\n",
       "      <td>10</td>\n",
       "    </tr>\n",
       "    <tr>\n",
       "      <th>Class 3</th>\n",
       "      <td>9</td>\n",
       "      <td>8</td>\n",
       "    </tr>\n",
       "  </tbody>\n",
       "</table>\n",
       "</div>"
      ],
      "text/plain": [
       "         Blue  Green\n",
       "Class 1    12      6\n",
       "Class 2     8     10\n",
       "Class 3     9      8"
      ]
     },
     "execution_count": 124,
     "metadata": {},
     "output_type": "execute_result"
    }
   ],
   "source": [
    "df[['Blue', 'Green']] # Select multiple columns"
   ]
  },
  {
   "cell_type": "code",
   "execution_count": 125,
   "metadata": {},
   "outputs": [
    {
     "data": {
      "text/html": [
       "<div>\n",
       "<style>\n",
       "    .dataframe thead tr:only-child th {\n",
       "        text-align: right;\n",
       "    }\n",
       "\n",
       "    .dataframe thead th {\n",
       "        text-align: left;\n",
       "    }\n",
       "\n",
       "    .dataframe tbody tr th {\n",
       "        vertical-align: top;\n",
       "    }\n",
       "</style>\n",
       "<table border=\"1\" class=\"dataframe\">\n",
       "  <thead>\n",
       "    <tr style=\"text-align: right;\">\n",
       "      <th></th>\n",
       "      <th>Blue</th>\n",
       "      <th>Red</th>\n",
       "    </tr>\n",
       "  </thead>\n",
       "  <tbody>\n",
       "    <tr>\n",
       "      <th>Class 1</th>\n",
       "      <td>12</td>\n",
       "      <td>7</td>\n",
       "    </tr>\n",
       "    <tr>\n",
       "      <th>Class 2</th>\n",
       "      <td>8</td>\n",
       "      <td>11</td>\n",
       "    </tr>\n",
       "    <tr>\n",
       "      <th>Class 3</th>\n",
       "      <td>9</td>\n",
       "      <td>9</td>\n",
       "    </tr>\n",
       "  </tbody>\n",
       "</table>\n",
       "</div>"
      ],
      "text/plain": [
       "         Blue  Red\n",
       "Class 1    12    7\n",
       "Class 2     8   11\n",
       "Class 3     9    9"
      ]
     },
     "execution_count": 125,
     "metadata": {},
     "output_type": "execute_result"
    }
   ],
   "source": [
    "df.iloc[:, [0, 2]] # Select columns at indices 0 and 2."
   ]
  },
  {
   "cell_type": "markdown",
   "metadata": {},
   "source": [
    "<u>Summarize Data</u>\n",
    "\n",
    "You can gather some basic statistics about your dataframe."
   ]
  },
  {
   "cell_type": "code",
   "execution_count": 126,
   "metadata": {},
   "outputs": [
    {
     "data": {
      "text/plain": [
       "3"
      ]
     },
     "execution_count": 126,
     "metadata": {},
     "output_type": "execute_result"
    }
   ],
   "source": [
    "### Summarize Data:\n",
    "    \n",
    "len(df) # Number of rows in dataframe  "
   ]
  },
  {
   "cell_type": "code",
   "execution_count": 127,
   "metadata": {},
   "outputs": [
    {
     "data": {
      "text/html": [
       "<div>\n",
       "<style>\n",
       "    .dataframe thead tr:only-child th {\n",
       "        text-align: right;\n",
       "    }\n",
       "\n",
       "    .dataframe thead th {\n",
       "        text-align: left;\n",
       "    }\n",
       "\n",
       "    .dataframe tbody tr th {\n",
       "        vertical-align: top;\n",
       "    }\n",
       "</style>\n",
       "<table border=\"1\" class=\"dataframe\">\n",
       "  <thead>\n",
       "    <tr style=\"text-align: right;\">\n",
       "      <th></th>\n",
       "      <th>Blue</th>\n",
       "      <th>Green</th>\n",
       "      <th>Red</th>\n",
       "    </tr>\n",
       "  </thead>\n",
       "  <tbody>\n",
       "    <tr>\n",
       "      <th>count</th>\n",
       "      <td>3.000000</td>\n",
       "      <td>3.0</td>\n",
       "      <td>3.0</td>\n",
       "    </tr>\n",
       "    <tr>\n",
       "      <th>mean</th>\n",
       "      <td>9.666667</td>\n",
       "      <td>8.0</td>\n",
       "      <td>9.0</td>\n",
       "    </tr>\n",
       "    <tr>\n",
       "      <th>std</th>\n",
       "      <td>2.081666</td>\n",
       "      <td>2.0</td>\n",
       "      <td>2.0</td>\n",
       "    </tr>\n",
       "    <tr>\n",
       "      <th>min</th>\n",
       "      <td>8.000000</td>\n",
       "      <td>6.0</td>\n",
       "      <td>7.0</td>\n",
       "    </tr>\n",
       "    <tr>\n",
       "      <th>25%</th>\n",
       "      <td>8.500000</td>\n",
       "      <td>7.0</td>\n",
       "      <td>8.0</td>\n",
       "    </tr>\n",
       "    <tr>\n",
       "      <th>50%</th>\n",
       "      <td>9.000000</td>\n",
       "      <td>8.0</td>\n",
       "      <td>9.0</td>\n",
       "    </tr>\n",
       "    <tr>\n",
       "      <th>75%</th>\n",
       "      <td>10.500000</td>\n",
       "      <td>9.0</td>\n",
       "      <td>10.0</td>\n",
       "    </tr>\n",
       "    <tr>\n",
       "      <th>max</th>\n",
       "      <td>12.000000</td>\n",
       "      <td>10.0</td>\n",
       "      <td>11.0</td>\n",
       "    </tr>\n",
       "  </tbody>\n",
       "</table>\n",
       "</div>"
      ],
      "text/plain": [
       "            Blue  Green   Red\n",
       "count   3.000000    3.0   3.0\n",
       "mean    9.666667    8.0   9.0\n",
       "std     2.081666    2.0   2.0\n",
       "min     8.000000    6.0   7.0\n",
       "25%     8.500000    7.0   8.0\n",
       "50%     9.000000    8.0   9.0\n",
       "75%    10.500000    9.0  10.0\n",
       "max    12.000000   10.0  11.0"
      ]
     },
     "execution_count": 127,
     "metadata": {},
     "output_type": "execute_result"
    }
   ],
   "source": [
    "df.describe() # Summary statistics for dataframe"
   ]
  },
  {
   "cell_type": "code",
   "execution_count": 128,
   "metadata": {},
   "outputs": [
    {
     "data": {
      "text/plain": [
       "Blue     29\n",
       "Green    24\n",
       "Red      27\n",
       "dtype: int64"
      ]
     },
     "execution_count": 128,
     "metadata": {},
     "output_type": "execute_result"
    }
   ],
   "source": [
    "df.sum() # Total number for each column"
   ]
  },
  {
   "cell_type": "code",
   "execution_count": 129,
   "metadata": {},
   "outputs": [
    {
     "data": {
      "text/plain": [
       "Blue     12\n",
       "Green    10\n",
       "Red      11\n",
       "dtype: int64"
      ]
     },
     "execution_count": 129,
     "metadata": {},
     "output_type": "execute_result"
    }
   ],
   "source": [
    "df.max() # Maximum for each column"
   ]
  },
  {
   "cell_type": "markdown",
   "metadata": {},
   "source": [
    "<u>Grouping Data & A Plot</u>\n",
    "\n",
    "In this section, I create a new list of answers which are either Yes or No to a survey question. This list will be converted into a table."
   ]
  },
  {
   "cell_type": "code",
   "execution_count": 130,
   "metadata": {},
   "outputs": [
    {
     "name": "stdout",
     "output_type": "stream",
     "text": [
      "   answer\n",
      "0     yes\n",
      "1      no\n",
      "2      no\n",
      "3      no\n",
      "4     yes\n",
      "5     yes\n",
      "6      no\n",
      "7      no\n",
      "8      no\n",
      "9      no\n",
      "10     no\n",
      "11     no\n",
      "12    yes\n",
      "13    yes\n",
      "14    yes\n",
      "15    yes\n",
      "16     no\n",
      "17    yes\n",
      "18     no\n"
     ]
    }
   ],
   "source": [
    "### Group Data:\n",
    "    \n",
    "# New Data table: Survey Data: Yes/No answers \n",
    "\n",
    "surveyAnswers = pd.DataFrame({\"answer\" : [\"yes\", \"no\", \"no\", \"no\", \"yes\", \"yes\", \"no\", \"no\",\n",
    "                              \"no\", \"no\", \"no\", \"no\", \"yes\", \"yes\", \"yes\", \"yes\",\n",
    "                              \"no\", \"yes\", \"no\"]})\n",
    "\n",
    "print(surveyAnswers)"
   ]
  },
  {
   "cell_type": "code",
   "execution_count": 131,
   "metadata": {},
   "outputs": [
    {
     "name": "stdout",
     "output_type": "stream",
     "text": [
      "answer\n",
      "no     11\n",
      "yes     8\n",
      "dtype: int64\n"
     ]
    }
   ],
   "source": [
    "# Give counts for yes and no in a table:\n",
    "counts = surveyAnswers.groupby(by = \"answer\").size()\n",
    "print(counts)"
   ]
  },
  {
   "cell_type": "markdown",
   "metadata": {},
   "source": [
    "The results from the table can be plotted."
   ]
  },
  {
   "cell_type": "code",
   "execution_count": 132,
   "metadata": {},
   "outputs": [
    {
     "data": {
      "text/plain": [
       "<matplotlib.axes._subplots.AxesSubplot at 0x1f7527320f0>"
      ]
     },
     "execution_count": 132,
     "metadata": {},
     "output_type": "execute_result"
    },
    {
     "data": {
      "image/png": "[encoded data removed]",
      "text/plain": [
       "<matplotlib.figure.Figure at 0x1f752775470>"
      ]
     },
     "metadata": {},
     "output_type": "display_data"
    }
   ],
   "source": [
    "### Plotting:\n",
    "#https://pandas.pydata.org/pandas-docs/stable/generated/pandas.DataFrame.plot.bar.html\n",
    "plt.figure()\n",
    "\n",
    "counts.plot.bar() # Quick Bar Graph"
   ]
  },
  {
   "cell_type": "markdown",
   "metadata": {},
   "source": [
    "**<u>References</u>**\n",
    "\n",
    "* http://pandas.pydata.org\n",
    "* https://pandas.pydata.org/pandas-docs/stable/generated/pandas.DataFrame.pivot.html\n",
    "* https://pandas.pydata.org/pandas-docs/stable/generated/pandas.DataFrame.plot.bar.html\n",
    "* https://stackoverflow.com/questions/32244019/how-to-rotate-x-axis-tick-labels-in-pandas-barplot\n",
    "* https://stackoverflow.com/questions/18973404/setting-different-bar-color-in-matplotlib-python\n",
    "* https://stackoverflow.com/questions/5735208/remove-the-legend-on-a-matplotlib-figure"
   ]
  }
 ],
 "metadata": {
  "kernelspec": {
   "display_name": "Python 3",
   "language": "python",
   "name": "python3"
  },
  "language_info": {
   "codemirror_mode": {
    "name": "ipython",
    "version": 3
   },
   "file_extension": ".py",
   "mimetype": "text/x-python",
   "name": "python",
   "nbconvert_exporter": "python",
   "pygments_lexer": "ipython3",
   "version": "3.7.3"
  }
 },
 "nbformat": 4,
 "nbformat_minor": 2
}
