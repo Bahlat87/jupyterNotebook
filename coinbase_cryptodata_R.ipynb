{
 "cells": [
  {
   "cell_type": "markdown",
   "id": "average-vatican",
   "metadata": {},
   "source": [
    "# Coinbase Cryptocurrency Price Data In R\n"
   ]
  },
  {
   "cell_type": "markdown",
   "id": "taken-galaxy",
   "metadata": {},
   "source": [
    "In this personal project, I use R programming to obtain cryptocurrency price data from Coinbase. \n",
    "\n",
    "\n",
    "\n",
    "\n",
    "\n",
    "Reference: https://www.cryptodatadownload.com/blog/how-to-download-coinbase-price-data-R.html"
   ]
  },
  {
   "cell_type": "markdown",
   "id": "painted-frederick",
   "metadata": {},
   "source": [
    "## Topics\n",
    "\n",
    "* Cryptodatadownload Blog Post On Obtaining Data Into R\n",
    "* Creating A Function For Producing Candlestick Charts From Coinbase Data\n"
   ]
  },
  {
   "cell_type": "markdown",
   "id": "subject-collaboration",
   "metadata": {},
   "source": [
    "## Cryptodatadownload Blog Post On Obtaining Data Into R"
   ]
  },
  {
   "cell_type": "markdown",
   "id": "narrative-burden",
   "metadata": {},
   "source": [
    "Blog Post: https://www.cryptodatadownload.com/blog/how-to-download-coinbase-price-data-R.html\n",
    "\n",
    "From the blog post, a script is provided where there is a function which takes a crypto pair and filename as inputs.\n",
    "\n",
    "The Coinbase API is called and a .csv file is created based on the filename input. The later sections will build upon this script. "
   ]
  },
  {
   "cell_type": "markdown",
   "id": "flying-special",
   "metadata": {},
   "source": [
    "The script below is better if it is run in RStudio."
   ]
  },
  {
   "cell_type": "code",
   "execution_count": 1,
   "id": "copyrighted-forestry",
   "metadata": {},
   "outputs": [
    {
     "name": "stderr",
     "output_type": "stream",
     "text": [
      "also installing the dependencies 'credentials', 'openssl', 'zip', 'gitcreds', 'ini', 'fastmap', 'diffobj', 'rematch2', 'vctrs', 'gert', 'gh', 'rappdirs', 'rprojroot', 'processx', 'cachem', 'xopen', 'brew', 'commonmark', 'purrr', 'brio', 'praise', 'ps', 'waldo', 'pillar', 'usethis', 'callr', 'cli', 'desc', 'ellipsis', 'fs', 'httr', 'lifecycle', 'memoise', 'pkgbuild', 'pkgload', 'rcmdcheck', 'remotes', 'rlang', 'roxygen2', 'rstudioapi', 'rversions', 'sessioninfo', 'testthat', 'withr'\n",
      "\n"
     ]
    },
    {
     "name": "stdout",
     "output_type": "stream",
     "text": [
      "\n",
      "  There are binary versions available but the source versions are later:\n",
      "            binary source needs_compilation\n",
      "credentials  1.3.0  1.3.1             FALSE\n",
      "zip          2.1.1  2.2.0              TRUE\n",
      "gert         1.3.0  1.3.1              TRUE\n",
      "cachem       1.0.4  1.0.5              TRUE\n",
      "pillar       1.6.0  1.6.1             FALSE\n",
      "cli          2.5.0  3.0.1              TRUE\n",
      "remotes      2.3.0  2.4.0             FALSE\n",
      "rversions    2.0.2  2.1.1             FALSE\n",
      "testthat     3.0.2  3.0.4              TRUE\n",
      "devtools     2.4.1  2.4.2             FALSE\n",
      "\n",
      "  Binaries will be installed\n",
      "package 'openssl' successfully unpacked and MD5 sums checked\n",
      "package 'zip' successfully unpacked and MD5 sums checked\n",
      "package 'gitcreds' successfully unpacked and MD5 sums checked\n",
      "package 'ini' successfully unpacked and MD5 sums checked\n",
      "package 'fastmap' successfully unpacked and MD5 sums checked\n",
      "package 'diffobj' successfully unpacked and MD5 sums checked\n",
      "package 'rematch2' successfully unpacked and MD5 sums checked\n",
      "package 'vctrs' successfully unpacked and MD5 sums checked\n",
      "package 'gert' successfully unpacked and MD5 sums checked\n",
      "package 'gh' successfully unpacked and MD5 sums checked\n",
      "package 'rappdirs' successfully unpacked and MD5 sums checked\n",
      "package 'rprojroot' successfully unpacked and MD5 sums checked\n",
      "package 'processx' successfully unpacked and MD5 sums checked\n",
      "package 'cachem' successfully unpacked and MD5 sums checked\n",
      "package 'xopen' successfully unpacked and MD5 sums checked\n",
      "package 'brew' successfully unpacked and MD5 sums checked\n",
      "package 'commonmark' successfully unpacked and MD5 sums checked\n",
      "package 'purrr' successfully unpacked and MD5 sums checked\n"
     ]
    },
    {
     "name": "stderr",
     "output_type": "stream",
     "text": [
      "Warning message:\n",
      "\"cannot remove prior installation of package 'purrr'\"Warning message in file.copy(savedcopy, lib, recursive = TRUE):\n",
      "\"problem copying C:\\Users\\DKu_7\\anaconda3\\envs\\PythonR\\Lib\\R\\library\\00LOCK\\purrr\\libs\\x64\\purrr.dll to C:\\Users\\DKu_7\\anaconda3\\envs\\PythonR\\Lib\\R\\library\\purrr\\libs\\x64\\purrr.dll: Permission denied\"Warning message:\n",
      "\"restored 'purrr'\""
     ]
    },
    {
     "name": "stdout",
     "output_type": "stream",
     "text": [
      "package 'brio' successfully unpacked and MD5 sums checked\n",
      "package 'praise' successfully unpacked and MD5 sums checked\n",
      "package 'ps' successfully unpacked and MD5 sums checked\n",
      "package 'waldo' successfully unpacked and MD5 sums checked\n",
      "package 'usethis' successfully unpacked and MD5 sums checked\n",
      "package 'callr' successfully unpacked and MD5 sums checked\n",
      "package 'cli' successfully unpacked and MD5 sums checked\n",
      "package 'desc' successfully unpacked and MD5 sums checked\n",
      "package 'ellipsis' successfully unpacked and MD5 sums checked\n",
      "package 'fs' successfully unpacked and MD5 sums checked\n",
      "package 'httr' successfully unpacked and MD5 sums checked\n",
      "package 'lifecycle' successfully unpacked and MD5 sums checked\n",
      "package 'memoise' successfully unpacked and MD5 sums checked\n",
      "package 'pkgbuild' successfully unpacked and MD5 sums checked\n",
      "package 'pkgload' successfully unpacked and MD5 sums checked\n",
      "package 'rcmdcheck' successfully unpacked and MD5 sums checked\n",
      "package 'rlang' successfully unpacked and MD5 sums checked\n"
     ]
    },
    {
     "name": "stderr",
     "output_type": "stream",
     "text": [
      "Warning message:\n",
      "\"cannot remove prior installation of package 'rlang'\"Warning message in file.copy(savedcopy, lib, recursive = TRUE):\n",
      "\"problem copying C:\\Users\\DKu_7\\anaconda3\\envs\\PythonR\\Lib\\R\\library\\00LOCK\\rlang\\libs\\x64\\rlang.dll to C:\\Users\\DKu_7\\anaconda3\\envs\\PythonR\\Lib\\R\\library\\rlang\\libs\\x64\\rlang.dll: Permission denied\"Warning message:\n",
      "\"restored 'rlang'\""
     ]
    },
    {
     "name": "stdout",
     "output_type": "stream",
     "text": [
      "package 'roxygen2' successfully unpacked and MD5 sums checked\n",
      "package 'rstudioapi' successfully unpacked and MD5 sums checked\n",
      "package 'sessioninfo' successfully unpacked and MD5 sums checked\n",
      "package 'testthat' successfully unpacked and MD5 sums checked\n",
      "package 'withr' successfully unpacked and MD5 sums checked\n",
      "package 'repr' successfully unpacked and MD5 sums checked\n",
      "package 'IRdisplay' successfully unpacked and MD5 sums checked\n",
      "package 'pbdZMQ' successfully unpacked and MD5 sums checked\n"
     ]
    },
    {
     "name": "stderr",
     "output_type": "stream",
     "text": [
      "Warning message:\n",
      "\"cannot remove prior installation of package 'pbdZMQ'\"Warning message in file.copy(savedcopy, lib, recursive = TRUE):\n",
      "\"problem copying C:\\Users\\DKu_7\\anaconda3\\envs\\PythonR\\Lib\\R\\library\\00LOCK\\pbdZMQ\\libs\\x64\\libzmq.dll to C:\\Users\\DKu_7\\anaconda3\\envs\\PythonR\\Lib\\R\\library\\pbdZMQ\\libs\\x64\\libzmq.dll: Permission denied\"Warning message in file.copy(savedcopy, lib, recursive = TRUE):\n",
      "\"problem copying C:\\Users\\DKu_7\\anaconda3\\envs\\PythonR\\Lib\\R\\library\\00LOCK\\pbdZMQ\\libs\\x64\\pbdZMQ.dll to C:\\Users\\DKu_7\\anaconda3\\envs\\PythonR\\Lib\\R\\library\\pbdZMQ\\libs\\x64\\pbdZMQ.dll: Permission denied\"Warning message:\n",
      "\"restored 'pbdZMQ'\""
     ]
    },
    {
     "name": "stdout",
     "output_type": "stream",
     "text": [
      "\n",
      "The downloaded binary packages are in\n",
      "\tC:\\Users\\DKu_7\\AppData\\Local\\Temp\\Rtmpmc1gL1\\downloaded_packages\n"
     ]
    },
    {
     "name": "stderr",
     "output_type": "stream",
     "text": [
      "installing the source packages 'credentials', 'pillar', 'remotes', 'rversions', 'devtools'\n",
      "\n",
      "Warning message in install.packages(c(\"repr\", \"IRdisplay\", \"pbdZMQ\", \"devtools\")):\n",
      "\"installation of package 'pillar' had non-zero exit status\"Warning message in install.packages(c(\"repr\", \"IRdisplay\", \"pbdZMQ\", \"devtools\")):\n",
      "\"installation of package 'devtools' had non-zero exit status\""
     ]
    },
    {
     "ename": "ERROR",
     "evalue": "Error in loadNamespace(name): there is no package called 'devtools'\n",
     "output_type": "error",
     "traceback": [
      "Error in loadNamespace(name): there is no package called 'devtools'\nTraceback:\n",
      "1. devtools::install_github",
      "2. getExportedValue(pkg, name)",
      "3. asNamespace(ns)",
      "4. getNamespace(ns)",
      "5. loadNamespace(name)",
      "6. withRestarts(stop(cond), retry_loadNamespace = function() NULL)",
      "7. withOneRestart(expr, restarts[[1L]])",
      "8. doWithOneRestart(return(expr), restart)"
     ]
    }
   ],
   "source": [
    "# Packages installation\n",
    "# Reference: https://plotly.com/r/using-r-in-jupyter-notebooks/\n",
    "\n",
    "install.packages(c('repr', 'IRdisplay', 'pbdZMQ', 'devtools'))\n",
    "devtools::install_github('IRkernel/IRkernel')\n",
    "IRkernel::installspec()"
   ]
  },
  {
   "cell_type": "code",
   "execution_count": 2,
   "id": "absolute-charm",
   "metadata": {},
   "outputs": [
    {
     "ename": "ERROR",
     "evalue": "Error in retreive_daily_data(newPair, filename = fileName): unused argument (filename = fileName)\n",
     "output_type": "error",
     "traceback": [
      "Error in retreive_daily_data(newPair, filename = fileName): unused argument (filename = fileName)\nTraceback:\n"
     ]
    }
   ],
   "source": [
    "# Reference: https://www.cryptodatadownload.com/blog/how-to-download-coinbase-price-data-R.html\n",
    "\n",
    "rm(list = ls())  # reset global variables\n",
    "#import the libraries we need\n",
    "library(jsonlite)\n",
    "library(glue)\n",
    "\n",
    "# create a function to retrieve daily data\n",
    "retreive_daily_data <- function(pair) {\n",
    "  url = glue(\"https://api.pro.coinbase.com/products/{pair}/candles?granularity=86400\")\n",
    "  columnNames <- c('unix', 'low', 'high', 'open', 'close', glue('{pair} volume'))\n",
    "  mydata <- fromJSON(url)\n",
    "  df <- as.data.frame(mydata)\n",
    "  colnames(df) <- columnNames  # rename the columns\n",
    "  \n",
    "  write.csv(df, file = filename)\n",
    "}\n",
    "\n",
    "newPair <- \"BTC-USD\"\n",
    "fileName <- glue(\"dailyData{newPair}.csv\")\n",
    "runFunc <- retreive_daily_data(newPair, filename = fileName)\n",
    "#runFunc"
   ]
  },
  {
   "cell_type": "code",
   "execution_count": null,
   "id": "quick-browse",
   "metadata": {},
   "outputs": [],
   "source": []
  },
  {
   "cell_type": "markdown",
   "id": "tribal-stopping",
   "metadata": {},
   "source": [
    "## Creating A Function For Producing Candlestick Charts From Coinbase Data"
   ]
  },
  {
   "cell_type": "markdown",
   "id": "institutional-mercury",
   "metadata": {},
   "source": [
    "What if I do not want to write a .csv file and want to work with the data right away? \n",
    "\n",
    "I have modified the blog post script. It is a function which takes in a crypto trading pair as the only input. The function extracts crypto data from Coinbase's API.\n",
    "\n",
    "Column names are renamed and UNIX times are converted into a datetime. \n",
    "\n",
    "Candlestick price charts are produced as the output with the use of plotly."
   ]
  },
  {
   "cell_type": "markdown",
   "id": "executed-meditation",
   "metadata": {},
   "source": [
    "**About Granularity**\n",
    "\n",
    "Reference: https://docs.pro.coinbase.com/?r=1#get-historic-rates\\\n",
    "\n",
    "At first, I was confused about the granularity part. I asked myself why it was 86400. This 86400 represents 86400 seconds in a day. Setting the granularity to 86400 means that the obtained data would be daily price data.\n",
    "\n",
    "Setting the granularity to 60 means price data every minute. Having the granularity at 300 would be every 5 minutes price data.\n",
    "\n"
   ]
  },
  {
   "cell_type": "code",
   "execution_count": 4,
   "id": "happy-raising",
   "metadata": {},
   "outputs": [
    {
     "name": "stderr",
     "output_type": "stream",
     "text": [
      "also installing the dependencies 'glue', 'tibble', 'pillar', 'dplyr', 'tidyselect', 'cpp11', 'htmlwidgets', 'tidyr', 'rlang', 'crosstalk'\n",
      "\n"
     ]
    },
    {
     "name": "stdout",
     "output_type": "stream",
     "text": [
      "\n",
      "  There are binary versions available but the source versions are later:\n",
      "       binary  source needs_compilation\n",
      "tibble  3.1.1   3.1.3              TRUE\n",
      "pillar  1.6.0   1.6.1             FALSE\n",
      "dplyr   1.0.6   1.0.7              TRUE\n",
      "cpp11   0.2.7   0.3.1             FALSE\n",
      "plotly  4.9.3 4.9.4.1             FALSE\n",
      "\n",
      "  Binaries will be installed\n"
     ]
    },
    {
     "name": "stderr",
     "output_type": "stream",
     "text": [
      "Warning message:\n",
      "\"packages 'glue', 'dplyr', 'tidyr' are in use and will not be installed\""
     ]
    },
    {
     "name": "stdout",
     "output_type": "stream",
     "text": [
      "package 'tibble' successfully unpacked and MD5 sums checked\n"
     ]
    },
    {
     "name": "stderr",
     "output_type": "stream",
     "text": [
      "Warning message:\n",
      "\"cannot remove prior installation of package 'tibble'\"Warning message in file.copy(savedcopy, lib, recursive = TRUE):\n",
      "\"problem copying C:\\Users\\DKu_7\\anaconda3\\envs\\PythonR\\Lib\\R\\library\\00LOCK\\tibble\\libs\\x64\\tibble.dll to C:\\Users\\DKu_7\\anaconda3\\envs\\PythonR\\Lib\\R\\library\\tibble\\libs\\x64\\tibble.dll: Permission denied\"Warning message:\n",
      "\"restored 'tibble'\""
     ]
    },
    {
     "name": "stdout",
     "output_type": "stream",
     "text": [
      "package 'tidyselect' successfully unpacked and MD5 sums checked\n"
     ]
    },
    {
     "name": "stderr",
     "output_type": "stream",
     "text": [
      "Warning message:\n",
      "\"cannot remove prior installation of package 'tidyselect'\"Warning message in file.copy(savedcopy, lib, recursive = TRUE):\n",
      "\"problem copying C:\\Users\\DKu_7\\anaconda3\\envs\\PythonR\\Lib\\R\\library\\00LOCK\\tidyselect\\libs\\x64\\tidyselect.dll to C:\\Users\\DKu_7\\anaconda3\\envs\\PythonR\\Lib\\R\\library\\tidyselect\\libs\\x64\\tidyselect.dll: Permission denied\"Warning message:\n",
      "\"restored 'tidyselect'\""
     ]
    },
    {
     "name": "stdout",
     "output_type": "stream",
     "text": [
      "package 'htmlwidgets' successfully unpacked and MD5 sums checked\n",
      "package 'rlang' successfully unpacked and MD5 sums checked\n"
     ]
    },
    {
     "name": "stderr",
     "output_type": "stream",
     "text": [
      "Warning message:\n",
      "\"cannot remove prior installation of package 'rlang'\"Warning message in file.copy(savedcopy, lib, recursive = TRUE):\n",
      "\"problem copying C:\\Users\\DKu_7\\anaconda3\\envs\\PythonR\\Lib\\R\\library\\00LOCK\\rlang\\libs\\x64\\rlang.dll to C:\\Users\\DKu_7\\anaconda3\\envs\\PythonR\\Lib\\R\\library\\rlang\\libs\\x64\\rlang.dll: Permission denied\"Warning message:\n",
      "\"restored 'rlang'\""
     ]
    },
    {
     "name": "stdout",
     "output_type": "stream",
     "text": [
      "package 'crosstalk' successfully unpacked and MD5 sums checked\n",
      "\n",
      "The downloaded binary packages are in\n",
      "\tC:\\Users\\DKu_7\\AppData\\Local\\Temp\\Rtmpmc1gL1\\downloaded_packages\n"
     ]
    },
    {
     "name": "stderr",
     "output_type": "stream",
     "text": [
      "installing the source packages 'pillar', 'cpp11', 'plotly'\n",
      "\n",
      "Warning message in install.packages(\"plotly\"):\n",
      "\"installation of package 'pillar' had non-zero exit status\"Warning message in install.packages(\"plotly\"):\n",
      "\"installation of package 'plotly' had non-zero exit status\""
     ]
    }
   ],
   "source": [
    "install.packages(\"plotly\")"
   ]
  },
  {
   "cell_type": "code",
   "execution_count": 6,
   "id": "architectural-noise",
   "metadata": {},
   "outputs": [
    {
     "ename": "ERROR",
     "evalue": "Error in library(plotly): there is no package called 'plotly'\n",
     "output_type": "error",
     "traceback": [
      "Error in library(plotly): there is no package called 'plotly'\nTraceback:\n",
      "1. library(plotly)"
     ]
    }
   ],
   "source": [
    "# Load R libraries:\n",
    "\n",
    "library(tidyr)\n",
    "library(dplyr)\n",
    "library(ggplot2)\n",
    "library(plotly)"
   ]
  },
  {
   "cell_type": "code",
   "execution_count": 8,
   "id": "identified-liverpool",
   "metadata": {},
   "outputs": [],
   "source": [
    "# Function Creation:\n",
    "coinbase_candlestick_plot <- function(crypto_pair){\n",
    "  \n",
    "  # Obtain url given the crypto pair\n",
    "  url = glue(\"https://api.pro.coinbase.com/products/{crypto_pair}/candles?granularity=86400\")\n",
    "  crypto_data <- fromJSON(url)\n",
    "  df <- as.data.frame(crypto_data)\n",
    "  \n",
    "  # Renaming column names:\n",
    "  columnNames <- c('unix', 'low', 'high', 'open', 'close', glue('{crypto_pair} volume'))\n",
    "  colnames(df) <- columnNames\n",
    "  \n",
    "  # Change unix epoch time into date, change column names.\n",
    "  df$unix <- as.POSIXct(df$unix, origin = '1970-01-01', tz = 'GMT')\n",
    "  \n",
    "  colnames(df) <- c('Date', 'Low', 'High', 'Open', 'Close', 'Volume')\n",
    "  \n",
    "  df %>% plot_ly(x = ~Date, type=\"candlestick\",\n",
    "                                 open = ~Open, close = ~Close,\n",
    "                                 high = ~High, low = ~Low) %>% \n",
    "  layout(title = paste(\"Basic Candlestick Chart Of\", crypto_pair, \"\\n\"),\n",
    "        xaxis = list(rangeslider = list(visible = F)),\n",
    "        yaxis = list(title = 'Price'))\n",
    "}"
   ]
  },
  {
   "cell_type": "code",
   "execution_count": 7,
   "id": "middle-copying",
   "metadata": {},
   "outputs": [
    {
     "ename": "ERROR",
     "evalue": "Error in coinbase_candlestick_plot(\"ETH-USDT\"): could not find function \"coinbase_candlestick_plot\"\n",
     "output_type": "error",
     "traceback": [
      "Error in coinbase_candlestick_plot(\"ETH-USDT\"): could not find function \"coinbase_candlestick_plot\"\nTraceback:\n"
     ]
    }
   ],
   "source": [
    "# Function call #1 (Ethereum priced in USDT) :\n",
    "\n",
    "coinbase_candlestick_plot(\"ETH-USDT\")\n",
    "\n"
   ]
  },
  {
   "cell_type": "code",
   "execution_count": 8,
   "id": "alternative-delta",
   "metadata": {},
   "outputs": [
    {
     "ename": "ERROR",
     "evalue": "Error in coinbase_candlestick_plot(\"SOL-USDT\"): could not find function \"coinbase_candlestick_plot\"\n",
     "output_type": "error",
     "traceback": [
      "Error in coinbase_candlestick_plot(\"SOL-USDT\"): could not find function \"coinbase_candlestick_plot\"\nTraceback:\n"
     ]
    }
   ],
   "source": [
    "# Function call #2 (Solana priced in USDT) :\n",
    "\n",
    "coinbase_candlestick_plot(\"SOL-USDT\")"
   ]
  },
  {
   "cell_type": "code",
   "execution_count": null,
   "id": "likely-kentucky",
   "metadata": {},
   "outputs": [],
   "source": []
  },
  {
   "cell_type": "code",
   "execution_count": null,
   "id": "third-customs",
   "metadata": {},
   "outputs": [],
   "source": []
  },
  {
   "cell_type": "code",
   "execution_count": null,
   "id": "impossible-awareness",
   "metadata": {},
   "outputs": [],
   "source": []
  },
  {
   "cell_type": "code",
   "execution_count": null,
   "id": "pleased-princeton",
   "metadata": {},
   "outputs": [],
   "source": []
  },
  {
   "cell_type": "code",
   "execution_count": null,
   "id": "knowing-chart",
   "metadata": {},
   "outputs": [],
   "source": []
  }
 ],
 "metadata": {
  "kernelspec": {
   "display_name": "R",
   "language": "R",
   "name": "ir"
  },
  "language_info": {
   "codemirror_mode": "r",
   "file_extension": ".r",
   "mimetype": "text/x-r-source",
   "name": "R",
   "pygments_lexer": "r",
   "version": "3.6.1"
  }
 },
 "nbformat": 4,
 "nbformat_minor": 5
}
