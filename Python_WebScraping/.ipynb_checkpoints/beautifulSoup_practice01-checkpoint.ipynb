{
 "cells": [
  {
   "cell_type": "markdown",
   "metadata": {},
   "source": [
    "## Basic Web Scraping In Python"
   ]
  },
  {
   "cell_type": "code",
   "execution_count": 4,
   "metadata": {},
   "outputs": [],
   "source": [
    "# Basic Web Scraping In Python\n",
    "# Video Reference: https://www.youtube.com/watch?v=aIPqt-OdmS0 And the rest of the Python - Beautiful Soup series\n",
    "\n",
    "import bs4 as bs\n",
    "import urllib.request"
   ]
  },
  {
   "cell_type": "code",
   "execution_count": 6,
   "metadata": {},
   "outputs": [
    {
     "name": "stdout",
     "output_type": "stream",
     "text": [
      "55 percent of Canadian parents say their kids spend more time online during summer: study\n",
      "55 percent of canadian parents say their kids spend more time online during summer: study\n"
     ]
    }
   ],
   "source": [
    "# Mobilesyrup Article: \n",
    "# 55 percent of Canadian parents say their kids spend more time online during summer: study\n",
    "\n",
    "\n",
    "source = urllib.request.urlopen(\"https://mobilesyrup.com/2019/07/02/55-percent-canadian-parents-kids-spend-more-time-online-summer/\").read()\n",
    "\n",
    "soup = bs.BeautifulSoup(source, 'lxml')\n",
    "\n",
    "# Print title:\n",
    "\n",
    "print(soup.title.text)\n"
   ]
  },
  {
   "cell_type": "code",
   "execution_count": 8,
   "metadata": {},
   "outputs": [
    {
     "name": "stdout",
     "output_type": "stream",
     "text": [
      "55 Percent Of Canadian Parents Say Their Kids Spend More Time Online During Summer: Study\n"
     ]
    }
   ],
   "source": [
    "print(soup.title.text.title())"
   ]
  },
  {
   "cell_type": "code",
   "execution_count": null,
   "metadata": {},
   "outputs": [],
   "source": []
  }
 ],
 "metadata": {
  "kernelspec": {
   "display_name": "Python 3",
   "language": "python",
   "name": "python3"
  },
  "language_info": {
   "codemirror_mode": {
    "name": "ipython",
    "version": 3
   },
   "file_extension": ".py",
   "mimetype": "text/x-python",
   "name": "python",
   "nbconvert_exporter": "python",
   "pygments_lexer": "ipython3",
   "version": "3.7.3"
  }
 },
 "nbformat": 4,
 "nbformat_minor": 2
}
