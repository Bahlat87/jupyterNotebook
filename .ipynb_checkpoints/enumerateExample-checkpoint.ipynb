{
 "cells": [
  {
   "cell_type": "markdown",
   "metadata": {},
   "source": [
    "### An Example Of Python's enumerate Function"
   ]
  },
  {
   "cell_type": "markdown",
   "metadata": {},
   "source": [
    "The enumerate function in Python allows for accessing items in a list and it comes with a built in (index) counter. A good example of using the `enumerate()` built in function in Python is with a Pokemon Pokedex. For simplicity, I show the first nine Pokemon."
   ]
  },
  {
   "cell_type": "code",
   "execution_count": 3,
   "metadata": {
    "collapsed": true
   },
   "outputs": [],
   "source": [
    "### Python's enumerate function:\n",
    "\n",
    "# Pokemon example: First nine Pokemon in Pokedex:\n",
    "\n",
    "pokemon_list = [\"Bulbasaur\", \"Ivysaur\", \"Venusaur\", \"Charmander\", \"Charmeleon\", \n",
    "                \"Charizard\", \"Squirtle\", \"Wartortle\", \"Blastoise\"]\n"
   ]
  },
  {
   "cell_type": "code",
   "execution_count": 4,
   "metadata": {},
   "outputs": [
    {
     "name": "stdout",
     "output_type": "stream",
     "text": [
      "0 - Bulbasaur\n",
      "1 - Ivysaur\n",
      "2 - Venusaur\n",
      "3 - Charmander\n",
      "4 - Charmeleon\n",
      "5 - Charizard\n",
      "6 - Squirtle\n",
      "7 - Wartortle\n",
      "8 - Blastoise\n"
     ]
    }
   ],
   "source": [
    "# enumerate() where number starts at index 0:\n",
    "\n",
    "for number, pokemon in enumerate(pokemon_list):\n",
    "    print(number, \"-\", pokemon)"
   ]
  },
  {
   "cell_type": "markdown",
   "metadata": {},
   "source": [
    "The problem with the printed output is that the Pokemon number does not start at zero. The `number` index variable starts at 0 but we want it to start at 1. This can be fixed by adding a number one to `number`."
   ]
  },
  {
   "cell_type": "code",
   "execution_count": 2,
   "metadata": {},
   "outputs": [
    {
     "name": "stdout",
     "output_type": "stream",
     "text": [
      "1 - Bulbasaur\n",
      "2 - Ivysaur\n",
      "3 - Venusaur\n",
      "4 - Charmander\n",
      "5 - Charmeleon\n",
      "6 - Charizard\n",
      "7 - Squirtle\n",
      "8 - Wartortle\n",
      "9 - Blastoise\n"
     ]
    }
   ],
   "source": [
    "# Working version for enumerate():\n",
    "\n",
    "for number, pokemon in enumerate(pokemon_list):\n",
    "    print(number + 1, \"-\", pokemon)"
   ]
  },
  {
   "cell_type": "markdown",
   "metadata": {},
   "source": [
    "Another way that works is adding an argument in enumerate. Setting one as the second argument would make the `number` counting index variable to start at one."
   ]
  },
  {
   "cell_type": "code",
   "execution_count": 5,
   "metadata": {},
   "outputs": [
    {
     "name": "stdout",
     "output_type": "stream",
     "text": [
      "1 - Bulbasaur\n",
      "2 - Ivysaur\n",
      "3 - Venusaur\n",
      "4 - Charmander\n",
      "5 - Charmeleon\n",
      "6 - Charizard\n",
      "7 - Squirtle\n",
      "8 - Wartortle\n",
      "9 - Blastoise\n"
     ]
    }
   ],
   "source": [
    "# Another way for enumerate() with starting index at 1:\n",
    "\n",
    "for number, pokemon in enumerate(pokemon_list, 1):\n",
    "    print(number, \"-\", pokemon)"
   ]
  }
 ],
 "metadata": {
  "kernelspec": {
   "display_name": "Python 3",
   "language": "python",
   "name": "python3"
  },
  "language_info": {
   "codemirror_mode": {
    "name": "ipython",
    "version": 3
   },
   "file_extension": ".py",
   "mimetype": "text/x-python",
   "name": "python",
   "nbconvert_exporter": "python",
   "pygments_lexer": "ipython3",
   "version": "3.6.6"
  }
 },
 "nbformat": 4,
 "nbformat_minor": 2
}
