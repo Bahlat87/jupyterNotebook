{
 "cells": [
  {
   "cell_type": "markdown",
   "metadata": {},
   "source": [
    "# Coinbase Crypto Data Into Python"
   ]
  },
  {
   "cell_type": "code",
   "execution_count": 1,
   "metadata": {},
   "outputs": [],
   "source": [
    "# Reference: https://www.cryptodatadownload.com/blog/how-to-download-coinbase-price-data.html\n",
    "\n",
    "import pandas as pd\n",
    "import requests\n",
    "import json"
   ]
  },
  {
   "cell_type": "code",
   "execution_count": 8,
   "metadata": {},
   "outputs": [
    {
     "name": "stdout",
     "output_type": "stream",
     "text": [
      "BTC-USD\n"
     ]
    }
   ],
   "source": [
    "# Crypto trade symbol:\n",
    "\n",
    "crypto_pair = \"BTC/USD\"\n",
    "\n",
    "split_pair = crypto_pair.split('/')\n",
    "\n",
    "symbol = split_pair[0] + '-' + split_pair[1]\n",
    "\n",
    "# Print crypto symbol\n",
    "print(symbol)"
   ]
  },
  {
   "cell_type": "code",
   "execution_count": 10,
   "metadata": {},
   "outputs": [],
   "source": [
    "# Obtaining data:\n",
    "\n",
    "# Url in a f-string\n",
    "url = f'https://api.pro.coinbase.com/products/{symbol}/candles?granularity=86400'\n",
    "\n",
    "response = requests.get(url)\n",
    "\n",
    "# Check sever response is good:\n",
    "if response.status_code == 200:\n",
    "    data = pd.DataFrame(json.loads(response.text), \n",
    "                       columns=['unix', 'low', 'high', 'open', 'close', 'volume'])\n",
    "    # Convert date to datetime:\n",
    "    data['date'] = pd.to_datetime(data['unix'], unit = \"s\")\n",
    "    # Volume in USD:\n",
    "    data['volume_fiat'] = data['volume'] * data['close']    \n",
    "else:\n",
    "    print(\"Response from Coinbase is not good given the trading pair.\")"
   ]
  },
  {
   "cell_type": "code",
   "execution_count": 11,
   "metadata": {},
   "outputs": [
    {
     "data": {
      "text/html": [
       "<div>\n",
       "<style scoped>\n",
       "    .dataframe tbody tr th:only-of-type {\n",
       "        vertical-align: middle;\n",
       "    }\n",
       "\n",
       "    .dataframe tbody tr th {\n",
       "        vertical-align: top;\n",
       "    }\n",
       "\n",
       "    .dataframe thead th {\n",
       "        text-align: right;\n",
       "    }\n",
       "</style>\n",
       "<table border=\"1\" class=\"dataframe\">\n",
       "  <thead>\n",
       "    <tr style=\"text-align: right;\">\n",
       "      <th></th>\n",
       "      <th>unix</th>\n",
       "      <th>low</th>\n",
       "      <th>high</th>\n",
       "      <th>open</th>\n",
       "      <th>close</th>\n",
       "      <th>volume</th>\n",
       "      <th>date</th>\n",
       "      <th>volume_fiat</th>\n",
       "    </tr>\n",
       "  </thead>\n",
       "  <tbody>\n",
       "    <tr>\n",
       "      <th>0</th>\n",
       "      <td>1632787200</td>\n",
       "      <td>41114.31</td>\n",
       "      <td>42780.00</td>\n",
       "      <td>42166.31</td>\n",
       "      <td>41305.25</td>\n",
       "      <td>8039.729706</td>\n",
       "      <td>2021-09-28</td>\n",
       "      <td>3.320830e+08</td>\n",
       "    </tr>\n",
       "    <tr>\n",
       "      <th>1</th>\n",
       "      <td>1632700800</td>\n",
       "      <td>42111.00</td>\n",
       "      <td>44366.96</td>\n",
       "      <td>43172.17</td>\n",
       "      <td>42171.76</td>\n",
       "      <td>10094.770998</td>\n",
       "      <td>2021-09-27</td>\n",
       "      <td>4.257143e+08</td>\n",
       "    </tr>\n",
       "    <tr>\n",
       "      <th>2</th>\n",
       "      <td>1632614400</td>\n",
       "      <td>40803.00</td>\n",
       "      <td>43937.00</td>\n",
       "      <td>42705.51</td>\n",
       "      <td>43178.02</td>\n",
       "      <td>9971.645452</td>\n",
       "      <td>2021-09-26</td>\n",
       "      <td>4.305559e+08</td>\n",
       "    </tr>\n",
       "    <tr>\n",
       "      <th>3</th>\n",
       "      <td>1632528000</td>\n",
       "      <td>41675.00</td>\n",
       "      <td>42998.76</td>\n",
       "      <td>42848.44</td>\n",
       "      <td>42705.51</td>\n",
       "      <td>7383.323903</td>\n",
       "      <td>2021-09-25</td>\n",
       "      <td>3.153086e+08</td>\n",
       "    </tr>\n",
       "    <tr>\n",
       "      <th>4</th>\n",
       "      <td>1632441600</td>\n",
       "      <td>40683.29</td>\n",
       "      <td>45200.00</td>\n",
       "      <td>44896.55</td>\n",
       "      <td>42848.92</td>\n",
       "      <td>22451.577115</td>\n",
       "      <td>2021-09-24</td>\n",
       "      <td>9.620258e+08</td>\n",
       "    </tr>\n",
       "    <tr>\n",
       "      <th>5</th>\n",
       "      <td>1632355200</td>\n",
       "      <td>43096.73</td>\n",
       "      <td>45000.00</td>\n",
       "      <td>43575.19</td>\n",
       "      <td>44897.59</td>\n",
       "      <td>13446.874687</td>\n",
       "      <td>2021-09-23</td>\n",
       "      <td>6.037323e+08</td>\n",
       "    </tr>\n",
       "    <tr>\n",
       "      <th>6</th>\n",
       "      <td>1632268800</td>\n",
       "      <td>40570.42</td>\n",
       "      <td>44035.44</td>\n",
       "      <td>40736.81</td>\n",
       "      <td>43575.10</td>\n",
       "      <td>19462.538652</td>\n",
       "      <td>2021-09-22</td>\n",
       "      <td>8.480821e+08</td>\n",
       "    </tr>\n",
       "    <tr>\n",
       "      <th>7</th>\n",
       "      <td>1632182400</td>\n",
       "      <td>39600.00</td>\n",
       "      <td>43639.88</td>\n",
       "      <td>43007.69</td>\n",
       "      <td>40719.60</td>\n",
       "      <td>27275.338182</td>\n",
       "      <td>2021-09-21</td>\n",
       "      <td>1.110641e+09</td>\n",
       "    </tr>\n",
       "    <tr>\n",
       "      <th>8</th>\n",
       "      <td>1632096000</td>\n",
       "      <td>42500.00</td>\n",
       "      <td>47358.92</td>\n",
       "      <td>47253.71</td>\n",
       "      <td>43012.97</td>\n",
       "      <td>27706.676362</td>\n",
       "      <td>2021-09-20</td>\n",
       "      <td>1.191746e+09</td>\n",
       "    </tr>\n",
       "    <tr>\n",
       "      <th>9</th>\n",
       "      <td>1632009600</td>\n",
       "      <td>46850.87</td>\n",
       "      <td>48379.19</td>\n",
       "      <td>48309.86</td>\n",
       "      <td>47255.92</td>\n",
       "      <td>7086.346262</td>\n",
       "      <td>2021-09-19</td>\n",
       "      <td>3.348718e+08</td>\n",
       "    </tr>\n",
       "  </tbody>\n",
       "</table>\n",
       "</div>"
      ],
      "text/plain": [
       "         unix       low      high      open     close        volume  \\\n",
       "0  1632787200  41114.31  42780.00  42166.31  41305.25   8039.729706   \n",
       "1  1632700800  42111.00  44366.96  43172.17  42171.76  10094.770998   \n",
       "2  1632614400  40803.00  43937.00  42705.51  43178.02   9971.645452   \n",
       "3  1632528000  41675.00  42998.76  42848.44  42705.51   7383.323903   \n",
       "4  1632441600  40683.29  45200.00  44896.55  42848.92  22451.577115   \n",
       "5  1632355200  43096.73  45000.00  43575.19  44897.59  13446.874687   \n",
       "6  1632268800  40570.42  44035.44  40736.81  43575.10  19462.538652   \n",
       "7  1632182400  39600.00  43639.88  43007.69  40719.60  27275.338182   \n",
       "8  1632096000  42500.00  47358.92  47253.71  43012.97  27706.676362   \n",
       "9  1632009600  46850.87  48379.19  48309.86  47255.92   7086.346262   \n",
       "\n",
       "        date   volume_fiat  \n",
       "0 2021-09-28  3.320830e+08  \n",
       "1 2021-09-27  4.257143e+08  \n",
       "2 2021-09-26  4.305559e+08  \n",
       "3 2021-09-25  3.153086e+08  \n",
       "4 2021-09-24  9.620258e+08  \n",
       "5 2021-09-23  6.037323e+08  \n",
       "6 2021-09-22  8.480821e+08  \n",
       "7 2021-09-21  1.110641e+09  \n",
       "8 2021-09-20  1.191746e+09  \n",
       "9 2021-09-19  3.348718e+08  "
      ]
     },
     "execution_count": 11,
     "metadata": {},
     "output_type": "execute_result"
    }
   ],
   "source": [
    "data.head(10)"
   ]
  },
  {
   "cell_type": "markdown",
   "metadata": {},
   "source": [
    "## Candlestick Chart With mplfinance"
   ]
  },
  {
   "cell_type": "code",
   "execution_count": 16,
   "metadata": {},
   "outputs": [],
   "source": [
    "import mplfinance as mpf"
   ]
  },
  {
   "cell_type": "code",
   "execution_count": 20,
   "metadata": {},
   "outputs": [
    {
     "data": {
      "image/png": "[encoded data removed]",
      "text/plain": [
       "<Figure size 800x575 with 4 Axes>"
      ]
     },
     "metadata": {},
     "output_type": "display_data"
    }
   ],
   "source": [
    "# Candlestick Chart\n",
    "\n",
    "mpf.plot(data.set_index('date').tail(200),\n",
    "         type = 'candle', style = 'charles',\n",
    "         volume = True,\n",
    "         title = symbol + \" Price \",\n",
    "         ylabel = '\\n ' + split_pair[0] + ' Price in ' + split_pair[1])"
   ]
  },
  {
   "cell_type": "code",
   "execution_count": null,
   "metadata": {},
   "outputs": [],
   "source": []
  },
  {
   "cell_type": "markdown",
   "metadata": {},
   "source": [
    "## Plotly Candlestick Chart"
   ]
  },
  {
   "cell_type": "code",
   "execution_count": 21,
   "metadata": {},
   "outputs": [],
   "source": [
    "import plotly.graph_objects as go"
   ]
  },
  {
   "cell_type": "code",
   "execution_count": 31,
   "metadata": {},
   "outputs": [
    {
     "data": {
      "application/vnd.plotly.v1+json": {
       "config": {
        "plotlyServerURL": "https://plot.ly"
       },
       "data": [
        {
         "close": [
          41305.25,
          42171.76,
          43178.02,
          42705.51,
          42848.92,
          44897.59,
          43575.1,
          40719.6,
          43012.97,
          47255.92,
          48314.56,
          47303.5,
          47753.16,
          48148.12,
          47127.22,
          44947.72,
          46024.23,
          45171.83,
          44851.45,
          46400,
          46060.36,
          46894.5,
          52698.81,
          51789.17,
          49942.98,
          50025,
          49279.37,
          48839.86,
          47112.5,
          46993.71,
          48802.58,
          48942.94,
          49077.57,
          46851.47,
          48987.33,
          47682.45,
          49506.5,
          49284.63,
          48867.02,
          49342.4,
          46765.87,
          44707.98,
          44671.58,
          45902.46,
          47014.49,
          47109.65,
          47833.64,
          44422.14,
          45553.49,
          45595.66,
          46285.48,
          43829.14,
          44637.34,
          42869.58,
          40888.74,
          39722.41,
          38191.44,
          39149.59,
          39865.41,
          41495.01,
          42237.95,
          40039.44,
          40035.1,
          39470.48,
          37262.77,
          35428.26,
          34283.01,
          33647.26,
          32287.74,
          32135.19,
          29796.16,
          30842.03,
          31788.25,
          31533.91,
          31388.06,
          31868.68,
          32816.39,
          32734.14,
          33091.1,
          34259.23,
          33515.35,
          33824.26,
          32875.95,
          33878.56,
          34225.73,
          33697.78,
          35284.05,
          34682.16,
          33805.02,
          33516.11,
          35060,
          35904.28,
          34493.22,
          34709.23,
          32275.19,
          31594.63,
          34654.58,
          33688.35,
          32538.37,
          31609.82,
          35585.78,
          35484.79,
          35841.81,
          38095.17,
          38351,
          40162.37,
          40539.47,
          39015.24,
          35557.33,
          37338.44,
          36694.05,
          37403.86,
          33402.13,
          33575.91,
          35800.48,
          35539.49,
          36856.52,
          39248.55,
          37577.91,
          36685,
          37279.31,
          35669.44,
          34627.82,
          35680.47,
          38556.88,
          39293.23,
          38361.81,
          38878.56,
          34758.67,
          37476.83,
          37340.77,
          40623.33,
          36731.75,
          42857.15,
          43580.5,
          46450.79,
          46775.51,
          49893.48,
          49690.11,
          49498.77,
          56753.19,
          55866.41,
          58312.57,
          58958.05,
          57380.39,
          56440.66,
          57515.69,
          53241.92,
          57212.73,
          56625.2,
          57859.28,
          57798.77,
          53580,
          54894.03,
          55069.62,
          54053.6,
          49121,
          50089.15,
          51187.27,
          51701.59,
          53800.86,
          56499.29,
          55696.83,
          56274.41,
          60058.86,
          61427.27,
          63229.04,
          62971.8,
          63588.22,
          59839.82,
          59985.26,
          59778.6,
          58092.68,
          58083.1,
          55955.75,
          58019.98,
          59123.02,
          58215.94,
          57094.34,
          58981.04,
          58726.48,
          58800,
          58786.46,
          57613.48,
          55778.82,
          55856.53,
          55072.44,
          51325.01,
          52276.16,
          54345.54,
          54110.07,
          57363.32,
          58116.7,
          58039.66,
          57644.95,
          58925.54,
          56927.11,
          55636.15,
          58972.7,
          61178.5,
          57225.91,
          57815.47,
          55890.69,
          54916.38,
          52415.23,
          50978.61,
          48909.84,
          48769.47,
          48368.52,
          50360,
          48511.6,
          49639.4,
          45231.75,
          46180.75,
          46326.2,
          47058.48,
          49737.82,
          48899.99,
          54142.13,
          57489.16,
          55923.52,
          55983.56,
          51601.73,
          52170.01,
          49158.71,
          47936.37,
          48680.69,
          47232.45,
          47408.34,
          47997.91,
          44850,
          46514.73,
          46448.1,
          38871.42,
          39265.43,
          38311.49,
          36975,
          37678.37,
          35512.67,
          33533.19,
          33137.74,
          34315.63,
          34262.11,
          33488.99,
          30407.13,
          32510.82,
          32261.87,
          32288.56,
          32112.01,
          32984.93,
          30855.95,
          35503.09,
          35917.28,
          36624.23,
          35820,
          36006.94,
          36754.67,
          39125.14,
          37393.66,
          34038.98,
          35452.59,
          38171.57,
          40257.43,
          40665.15,
          39505.56,
          36859.26,
          34030.64,
          32019.99,
          33080.66,
          32225.91,
          29412.84,
          28990.08,
          28897.42,
          27366.35,
          27040.36,
          26258.65,
          26475.35,
          24704.71,
          23717.96,
          23228.35,
          23823.27,
          22729.4,
          23476.51,
          23849.99,
          23137.76,
          22826.48,
          21359.65,
          19444.6,
          19272.37,
          19166.65,
          18821.28,
          18042.15,
          18253.44,
          18546.55,
          18316.22,
          19177.71,
          19375.6,
          19158.96,
          18658.1,
          19448.64
         ],
         "high": [
          42780,
          44366.96,
          43937,
          42998.76,
          45200,
          45000,
          44035.44,
          43639.88,
          47358.92,
          48379.19,
          48825.62,
          48176.64,
          48499.99,
          48475,
          47274.92,
          46900,
          46462.98,
          45989.94,
          47040.76,
          47400,
          47381.47,
          52944.96,
          52802.03,
          51907.08,
          50558.75,
          51064.44,
          50392.19,
          49125,
          48259.68,
          48906.51,
          49667.1,
          49309.83,
          49185.12,
          49365.1,
          49277,
          49875.9,
          50505,
          49526.13,
          49821.92,
          49400,
          47088.08,
          46035.27,
          47174.62,
          48076.52,
          47400,
          48176.52,
          47953.9,
          46223.95,
          46781.09,
          46718.44,
          46497.42,
          45363.83,
          44750,
          43399.26,
          41447.89,
          39965.1,
          39785.3,
          40459.68,
          42605.64,
          42414.61,
          42320.57,
          40644.85,
          40925.56,
          39550,
          40593.93,
          35451.04,
          34525,
          33647.27,
          32611.84,
          32825,
          31052.65,
          31887.82,
          32450,
          31949.99,
          32259.16,
          33187.6,
          33125.55,
          33337.61,
          34670,
          34607.37,
          34267.14,
          34100,
          33934.62,
          35077.46,
          35100,
          35290.82,
          35951,
          34953.07,
          33972.06,
          35066.54,
          36094.42,
          36675,
          35301.43,
          34749,
          32711.68,
          35500,
          35295.67,
          34881.02,
          33352,
          35741.54,
          36139.73,
          36457.18,
          38216.22,
          39554.98,
          40499,
          41322.55,
          41076.03,
          39396,
          37448,
          37695,
          38425.67,
          37573.99,
          34069,
          36812.39,
          36477.86,
          37921.35,
          39291.24,
          39489.82,
          38237.37,
          37918.97,
          37534.09,
          36500,
          37325,
          38900,
          40440.95,
          40900,
          39878.51,
          39966.87,
          38319.36,
          38889.76,
          42275.99,
          42605,
          43591.7,
          45851,
          46646.15,
          49808.28,
          50730.58,
          51569.56,
          52500,
          58041,
          56962.07,
          59592.2,
          59300.52,
          59559.84,
          58735.95,
          58400,
          57980.86,
          57247.24,
          58986,
          57972.26,
          58550,
          58075.01,
          55226.86,
          56476.17,
          55509.39,
          54400,
          50591.38,
          51260.61,
          52130.58,
          55469.98,
          56810.56,
          57111,
          57600,
          60437.97,
          62572.48,
          63604.34,
          63831.82,
          64899,
          63774.39,
          61199,
          60658.89,
          61218.97,
          58869.69,
          58152,
          58630,
          59475,
          59251.76,
          58500,
          59752,
          60055.02,
          59474.94,
          59800,
          59397.48,
          58400,
          56587.08,
          56640,
          55125.13,
          53238,
          57209.97,
          55858,
          58421.68,
          58651.22,
          59928,
          59461.99,
          60100,
          58996.38,
          56970,
          60601.07,
          61680,
          61788.45,
          58065.92,
          58113,
          57402.14,
          54936,
          52425,
          51459,
          49210,
          49473.99,
          51798.33,
          52666,
          50250,
          49829,
          46656,
          48356.86,
          48464.64,
          52107.83,
          51415.41,
          54206.22,
          57577.69,
          58367,
          57563.57,
          56370.05,
          52549.99,
          52640.35,
          50645,
          49093.44,
          49700,
          48199,
          48912,
          48690,
          47349.99,
          48200,
          46750,
          39737.83,
          41000,
          38349,
          38769,
          37723.72,
          36000,
          34728.57,
          34387.75,
          34900,
          38570.13,
          34000,
          32584.62,
          32960.37,
          34888,
          33086.53,
          33488.79,
          33867,
          35628.24,
          36415.34,
          37857,
          37402,
          36860,
          37948,
          39697,
          40127.66,
          37888,
          36604.51,
          38273.88,
          41452.12,
          41406.94,
          41986.37,
          40425,
          37000,
          34499.67,
          33666.99,
          34810,
          33300,
          29688.88,
          29321.9,
          29018.26,
          27396.77,
          27477,
          28387,
          26822,
          24770.95,
          23785,
          24090,
          23839.78,
          24118.75,
          24300,
          24200,
          23280,
          23776.94,
          21569.94,
          19565,
          19349.98,
          19421.03,
          18955.34,
          18293.08,
          18556.42,
          18647.33,
          19299.51,
          19432.57,
          19430.25,
          19189.98,
          19546.46,
          19625.64
         ],
         "low": [
          41114.31,
          42111,
          40803,
          41675,
          40683.29,
          43096.73,
          40570.42,
          39600,
          42500,
          46850.87,
          47050,
          46752.67,
          47020.82,
          46705,
          44679.92,
          43465,
          44754.31,
          44730.29,
          44140.48,
          45511.82,
          44423.49,
          42830.77,
          51020.08,
          49500,
          49400,
          48349.66,
          48620.73,
          46537.62,
          46708.93,
          46866,
          47801,
          48370,
          46361.01,
          46315.48,
          47122.02,
          47600,
          49012.84,
          48102.89,
          48285.28,
          46644.95,
          43955,
          44216.47,
          44405.39,
          45676.91,
          45525.19,
          46034.93,
          44249.64,
          43714.36,
          45350.74,
          44650.27,
          42821.3,
          43131.97,
          42457.27,
          39876.74,
          37300,
          37509,
          37627.21,
          38690,
          39426,
          41064.11,
          38342,
          39229.47,
          38803.34,
          36413.26,
          35251.54,
          33888.89,
          33424.7,
          32000,
          31729.68,
          29501.02,
          29301.56,
          30429.99,
          31125.6,
          31179.01,
          31025.42,
          31064.77,
          31600,
          32201.12,
          32665,
          33333.33,
          33027.83,
          32255.24,
          32111,
          33770.01,
          33300,
          33156.86,
          34390.53,
          33320,
          32704.73,
          32703.48,
          34033,
          34233.35,
          33864.99,
          32002.21,
          30173.49,
          31300,
          32300,
          31708.03,
          28800,
          31259,
          33347.05,
          34833.26,
          35153.16,
          37365.63,
          38105,
          39510.98,
          38744.83,
          34780.57,
          34635.47,
          35944,
          35800,
          32408.53,
          31004.95,
          33333,
          35258,
          34832.17,
          35593.22,
          37184.88,
          35920,
          35669.14,
          34183,
          33333,
          33650.86,
          34688,
          37191.99,
          37837.36,
          36481.26,
          34407.17,
          31111,
          35257.52,
          33501.54,
          35000,
          30000,
          42300,
          42101,
          43825,
          46573,
          48895,
          46000,
          48500,
          54511.48,
          53600,
          56265.3,
          56980.01,
          55300,
          55288,
          52913.02,
          53057.7,
          56500,
          56072,
          57050.94,
          53068.43,
          52369.61,
          53887,
          53321,
          48817.62,
          47044.01,
          48726.87,
          47464.65,
          50400,
          53620.91,
          53430.01,
          54187.85,
          51300,
          59700,
          60048.43,
          62036.73,
          61277.91,
          59799.01,
          59369,
          59177.06,
          57875.41,
          57670.51,
          55700,
          55400,
          57333.33,
          56817.64,
          56478.53,
          56943,
          58441.88,
          57930,
          56873.8,
          57000,
          54900,
          54701,
          53966,
          51250,
          50305,
          51673.82,
          53000,
          53739.5,
          55543.89,
          57827.97,
          56260,
          56996.15,
          54138.01,
          53221,
          54568,
          58950,
          56083.74,
          55050,
          54283,
          53025,
          51845.01,
          49328.62,
          48909.83,
          47077,
          46219.32,
          47502,
          48161.75,
          47075.11,
          45042.13,
          43016,
          45055,
          44150,
          46700,
          47002,
          44888.08,
          46616,
          55531.23,
          54000.1,
          50725,
          50875,
          48942.87,
          47051.22,
          45768.46,
          47100.13,
          46300,
          46300,
          44011,
          43706.86,
          45020,
          38057.01,
          37371.35,
          38250,
          36605.87,
          36156.45,
          35393.8,
          33450,
          32333,
          32200,
          32852.86,
          31990,
          29902.14,
          29156,
          30830,
          31920.8,
          30931.21,
          31432.19,
          28732,
          30011,
          33387.01,
          35895.11,
          34736.46,
          33850.03,
          35372.59,
          34298.93,
          36751.11,
          32309.04,
          32500,
          30100,
          34444,
          38800,
          36565.08,
          36200,
          33352.54,
          29891.13,
          27678,
          32008.62,
          29039,
          28700,
          28000,
          27311.73,
          25833.73,
          26086.19,
          25772.55,
          24490.01,
          23416,
          22712.89,
          22600,
          22380.05,
          21913.84,
          23100,
          22770,
          22329,
          21252.01,
          19300,
          19051.27,
          18967.68,
          18730,
          18023.57,
          17580,
          17905,
          17639,
          18200,
          18901,
          18878,
          18501,
          18576.05,
          18885
         ],
         "open": [
          42166.31,
          43172.17,
          42705.51,
          42848.44,
          44896.55,
          43575.19,
          40736.81,
          43007.69,
          47253.71,
          48309.86,
          47306.87,
          47753.15,
          48144.03,
          47127.81,
          44953.23,
          46027.8,
          45173.66,
          44850.37,
          46396.26,
          46059.94,
          46894.49,
          52698.8,
          51789.17,
          49944.89,
          50025,
          49279.38,
          48834.27,
          47110.33,
          46996.8,
          48802.58,
          48942.89,
          49081.08,
          46851.47,
          48991.57,
          47682.45,
          49504.53,
          49284.38,
          48870.21,
          49349.99,
          46769.02,
          44709.1,
          44675.34,
          45903.22,
          47014.38,
          47109.64,
          47833.64,
          44422.15,
          45553.1,
          45601.82,
          46280,
          43829.15,
          44628.11,
          42869.59,
          40888.73,
          39718.9,
          38189.4,
          39149.59,
          39859.18,
          41499,
          42233.66,
          40039.44,
          40035.1,
          39475.99,
          37262.76,
          35428.25,
          34291.67,
          33647.27,
          32287.75,
          32152.68,
          29796.15,
          30842.04,
          31786.37,
          31533.9,
          31389.57,
          31872.49,
          32815.75,
          32734.14,
          33077.43,
          34259.22,
          33515.35,
          33824.25,
          32875.95,
          33879.5,
          34225.72,
          33697.78,
          35284.06,
          34685.03,
          33805.01,
          33510.93,
          35060,
          35906.17,
          34493.22,
          34708.53,
          32267.59,
          31594.62,
          34654.87,
          33688.51,
          32538.9,
          31609.82,
          35585.79,
          35484.8,
          35840.96,
          38103.94,
          38351,
          40158.06,
          40537.93,
          39015.24,
          35557.32,
          37340.08,
          36694.91,
          37404.75,
          33402.13,
          33567.26,
          35800.48,
          35539.97,
          36856.53,
          39248.54,
          37581.83,
          36684.99,
          37276.23,
          35669.44,
          34627.81,
          35680.48,
          38556.88,
          39293.23,
          38361.81,
          38874.53,
          34758.88,
          37476.84,
          37333.09,
          40623.24,
          36735.44,
          42865.05,
          43571.89,
          46450.78,
          46771.01,
          49893.48,
          49682.28,
          49498.76,
          56753.19,
          55866.38,
          58313.84,
          58958.06,
          57380.39,
          56444.82,
          57515.69,
          53241.91,
          57212.73,
          56625.21,
          57859.28,
          57798.77,
          53580,
          54889.81,
          55069.61,
          54047.8,
          49121,
          50101.42,
          51187.75,
          51695.98,
          53795.62,
          56477.67,
          55696.83,
          56273.65,
          60067.2,
          61427.27,
          63229.04,
          62971.8,
          63588.22,
          59836.88,
          59983.66,
          59778.59,
          58092.68,
          58083.1,
          55962.67,
          58021.67,
          59134.07,
          58216.73,
          57094.34,
          58981.04,
          58726.47,
          58800.01,
          58786.46,
          57613.76,
          55781.22,
          55856.54,
          55080.9,
          51320.76,
          52259.69,
          54333.27,
          54111.49,
          57377.29,
          58126.34,
          58026.91,
          57644.95,
          58925.54,
          56924.26,
          55629.08,
          58972.71,
          61181.38,
          57220.84,
          57820.15,
          55888.7,
          54921.61,
          52413.17,
          50976.22,
          48909.84,
          48766.01,
          48370.97,
          50370.33,
          48502.18,
          49635.3,
          45231.74,
          46169.92,
          46319.79,
          47063.9,
          49737.81,
          48899.99,
          54125.67,
          57489.16,
          55921.44,
          55983.57,
          51596,
          52170.01,
          49141.43,
          47935.66,
          48667.23,
          47240.75,
          47408.34,
          47993.6,
          44850,
          46514.73,
          46453.66,
          38871.43,
          39266.1,
          38327.09,
          36976.59,
          37688.42,
          35513,
          33534.39,
          33137.75,
          34315.63,
          34262.11,
          33487.92,
          30414.11,
          32510.82,
          32260.52,
          32293.18,
          32110,
          32982.66,
          30855.9,
          35498.85,
          35921.91,
          36624.23,
          35820.01,
          36004.8,
          36754.6,
          39123.05,
          37393.67,
          34035.53,
          35456.89,
          38168.89,
          40257.43,
          40642.15,
          39510.55,
          36859.26,
          34043.91,
          32020.22,
          33082.84,
          32222.88,
          29413.29,
          28990.08,
          28897.42,
          27366.35,
          27039.39,
          26255.16,
          26482.64,
          24704.71,
          23718.61,
          23226.18,
          23824.13,
          22729.4,
          23476.51,
          23850,
          23138.89,
          22826.37,
          21360.5,
          19443.19,
          19272.37,
          19166.65,
          18821.28,
          18044.19,
          18257.18,
          18546.55,
          18316.22,
          19177.08,
          19375.6,
          19158.96,
          18658.09,
          19446.43,
          19222.45
         ],
         "type": "candlestick",
         "x": [
          "2021-09-28T00:00:00",
          "2021-09-27T00:00:00",
          "2021-09-26T00:00:00",
          "2021-09-25T00:00:00",
          "2021-09-24T00:00:00",
          "2021-09-23T00:00:00",
          "2021-09-22T00:00:00",
          "2021-09-21T00:00:00",
          "2021-09-20T00:00:00",
          "2021-09-19T00:00:00",
          "2021-09-18T00:00:00",
          "2021-09-17T00:00:00",
          "2021-09-16T00:00:00",
          "2021-09-15T00:00:00",
          "2021-09-14T00:00:00",
          "2021-09-13T00:00:00",
          "2021-09-12T00:00:00",
          "2021-09-11T00:00:00",
          "2021-09-10T00:00:00",
          "2021-09-09T00:00:00",
          "2021-09-08T00:00:00",
          "2021-09-07T00:00:00",
          "2021-09-06T00:00:00",
          "2021-09-05T00:00:00",
          "2021-09-04T00:00:00",
          "2021-09-03T00:00:00",
          "2021-09-02T00:00:00",
          "2021-09-01T00:00:00",
          "2021-08-31T00:00:00",
          "2021-08-30T00:00:00",
          "2021-08-29T00:00:00",
          "2021-08-28T00:00:00",
          "2021-08-27T00:00:00",
          "2021-08-26T00:00:00",
          "2021-08-25T00:00:00",
          "2021-08-24T00:00:00",
          "2021-08-23T00:00:00",
          "2021-08-22T00:00:00",
          "2021-08-21T00:00:00",
          "2021-08-20T00:00:00",
          "2021-08-19T00:00:00",
          "2021-08-18T00:00:00",
          "2021-08-17T00:00:00",
          "2021-08-16T00:00:00",
          "2021-08-15T00:00:00",
          "2021-08-14T00:00:00",
          "2021-08-13T00:00:00",
          "2021-08-12T00:00:00",
          "2021-08-11T00:00:00",
          "2021-08-10T00:00:00",
          "2021-08-09T00:00:00",
          "2021-08-08T00:00:00",
          "2021-08-07T00:00:00",
          "2021-08-06T00:00:00",
          "2021-08-05T00:00:00",
          "2021-08-04T00:00:00",
          "2021-08-03T00:00:00",
          "2021-08-02T00:00:00",
          "2021-08-01T00:00:00",
          "2021-07-31T00:00:00",
          "2021-07-30T00:00:00",
          "2021-07-29T00:00:00",
          "2021-07-28T00:00:00",
          "2021-07-27T00:00:00",
          "2021-07-26T00:00:00",
          "2021-07-25T00:00:00",
          "2021-07-24T00:00:00",
          "2021-07-23T00:00:00",
          "2021-07-22T00:00:00",
          "2021-07-21T00:00:00",
          "2021-07-20T00:00:00",
          "2021-07-19T00:00:00",
          "2021-07-18T00:00:00",
          "2021-07-17T00:00:00",
          "2021-07-16T00:00:00",
          "2021-07-15T00:00:00",
          "2021-07-14T00:00:00",
          "2021-07-13T00:00:00",
          "2021-07-12T00:00:00",
          "2021-07-11T00:00:00",
          "2021-07-10T00:00:00",
          "2021-07-09T00:00:00",
          "2021-07-08T00:00:00",
          "2021-07-07T00:00:00",
          "2021-07-06T00:00:00",
          "2021-07-05T00:00:00",
          "2021-07-04T00:00:00",
          "2021-07-03T00:00:00",
          "2021-07-02T00:00:00",
          "2021-07-01T00:00:00",
          "2021-06-30T00:00:00",
          "2021-06-29T00:00:00",
          "2021-06-28T00:00:00",
          "2021-06-27T00:00:00",
          "2021-06-26T00:00:00",
          "2021-06-25T00:00:00",
          "2021-06-24T00:00:00",
          "2021-06-23T00:00:00",
          "2021-06-22T00:00:00",
          "2021-06-21T00:00:00",
          "2021-06-20T00:00:00",
          "2021-06-19T00:00:00",
          "2021-06-18T00:00:00",
          "2021-06-17T00:00:00",
          "2021-06-16T00:00:00",
          "2021-06-15T00:00:00",
          "2021-06-14T00:00:00",
          "2021-06-13T00:00:00",
          "2021-06-12T00:00:00",
          "2021-06-11T00:00:00",
          "2021-06-10T00:00:00",
          "2021-06-09T00:00:00",
          "2021-06-08T00:00:00",
          "2021-06-07T00:00:00",
          "2021-06-06T00:00:00",
          "2021-06-05T00:00:00",
          "2021-06-04T00:00:00",
          "2021-06-03T00:00:00",
          "2021-06-02T00:00:00",
          "2021-06-01T00:00:00",
          "2021-05-31T00:00:00",
          "2021-05-30T00:00:00",
          "2021-05-29T00:00:00",
          "2021-05-28T00:00:00",
          "2021-05-27T00:00:00",
          "2021-05-26T00:00:00",
          "2021-05-25T00:00:00",
          "2021-05-24T00:00:00",
          "2021-05-23T00:00:00",
          "2021-05-22T00:00:00",
          "2021-05-21T00:00:00",
          "2021-05-20T00:00:00",
          "2021-05-19T00:00:00",
          "2021-05-18T00:00:00",
          "2021-05-17T00:00:00",
          "2021-05-16T00:00:00",
          "2021-05-15T00:00:00",
          "2021-05-14T00:00:00",
          "2021-05-13T00:00:00",
          "2021-05-12T00:00:00",
          "2021-05-11T00:00:00",
          "2021-05-10T00:00:00",
          "2021-05-09T00:00:00",
          "2021-05-08T00:00:00",
          "2021-05-07T00:00:00",
          "2021-05-06T00:00:00",
          "2021-05-05T00:00:00",
          "2021-05-04T00:00:00",
          "2021-05-03T00:00:00",
          "2021-05-02T00:00:00",
          "2021-05-01T00:00:00",
          "2021-04-30T00:00:00",
          "2021-04-29T00:00:00",
          "2021-04-28T00:00:00",
          "2021-04-27T00:00:00",
          "2021-04-26T00:00:00",
          "2021-04-25T00:00:00",
          "2021-04-24T00:00:00",
          "2021-04-23T00:00:00",
          "2021-04-22T00:00:00",
          "2021-04-21T00:00:00",
          "2021-04-20T00:00:00",
          "2021-04-19T00:00:00",
          "2021-04-18T00:00:00",
          "2021-04-17T00:00:00",
          "2021-04-16T00:00:00",
          "2021-04-15T00:00:00",
          "2021-04-14T00:00:00",
          "2021-04-13T00:00:00",
          "2021-04-12T00:00:00",
          "2021-04-11T00:00:00",
          "2021-04-10T00:00:00",
          "2021-04-09T00:00:00",
          "2021-04-08T00:00:00",
          "2021-04-07T00:00:00",
          "2021-04-06T00:00:00",
          "2021-04-05T00:00:00",
          "2021-04-04T00:00:00",
          "2021-04-03T00:00:00",
          "2021-04-02T00:00:00",
          "2021-04-01T00:00:00",
          "2021-03-31T00:00:00",
          "2021-03-30T00:00:00",
          "2021-03-29T00:00:00",
          "2021-03-28T00:00:00",
          "2021-03-27T00:00:00",
          "2021-03-26T00:00:00",
          "2021-03-25T00:00:00",
          "2021-03-24T00:00:00",
          "2021-03-23T00:00:00",
          "2021-03-22T00:00:00",
          "2021-03-21T00:00:00",
          "2021-03-20T00:00:00",
          "2021-03-19T00:00:00",
          "2021-03-18T00:00:00",
          "2021-03-17T00:00:00",
          "2021-03-16T00:00:00",
          "2021-03-15T00:00:00",
          "2021-03-14T00:00:00",
          "2021-03-13T00:00:00",
          "2021-03-12T00:00:00",
          "2021-03-11T00:00:00",
          "2021-03-10T00:00:00",
          "2021-03-09T00:00:00",
          "2021-03-08T00:00:00",
          "2021-03-07T00:00:00",
          "2021-03-06T00:00:00",
          "2021-03-05T00:00:00",
          "2021-03-04T00:00:00",
          "2021-03-03T00:00:00",
          "2021-03-02T00:00:00",
          "2021-03-01T00:00:00",
          "2021-02-28T00:00:00",
          "2021-02-27T00:00:00",
          "2021-02-26T00:00:00",
          "2021-02-25T00:00:00",
          "2021-02-24T00:00:00",
          "2021-02-23T00:00:00",
          "2021-02-22T00:00:00",
          "2021-02-21T00:00:00",
          "2021-02-20T00:00:00",
          "2021-02-19T00:00:00",
          "2021-02-18T00:00:00",
          "2021-02-17T00:00:00",
          "2021-02-16T00:00:00",
          "2021-02-15T00:00:00",
          "2021-02-14T00:00:00",
          "2021-02-13T00:00:00",
          "2021-02-12T00:00:00",
          "2021-02-11T00:00:00",
          "2021-02-10T00:00:00",
          "2021-02-09T00:00:00",
          "2021-02-08T00:00:00",
          "2021-02-07T00:00:00",
          "2021-02-06T00:00:00",
          "2021-02-05T00:00:00",
          "2021-02-04T00:00:00",
          "2021-02-03T00:00:00",
          "2021-02-02T00:00:00",
          "2021-02-01T00:00:00",
          "2021-01-31T00:00:00",
          "2021-01-30T00:00:00",
          "2021-01-29T00:00:00",
          "2021-01-28T00:00:00",
          "2021-01-27T00:00:00",
          "2021-01-26T00:00:00",
          "2021-01-25T00:00:00",
          "2021-01-24T00:00:00",
          "2021-01-23T00:00:00",
          "2021-01-22T00:00:00",
          "2021-01-21T00:00:00",
          "2021-01-20T00:00:00",
          "2021-01-19T00:00:00",
          "2021-01-18T00:00:00",
          "2021-01-17T00:00:00",
          "2021-01-16T00:00:00",
          "2021-01-15T00:00:00",
          "2021-01-14T00:00:00",
          "2021-01-13T00:00:00",
          "2021-01-12T00:00:00",
          "2021-01-11T00:00:00",
          "2021-01-10T00:00:00",
          "2021-01-09T00:00:00",
          "2021-01-08T00:00:00",
          "2021-01-07T00:00:00",
          "2021-01-06T00:00:00",
          "2021-01-05T00:00:00",
          "2021-01-04T00:00:00",
          "2021-01-03T00:00:00",
          "2021-01-02T00:00:00",
          "2021-01-01T00:00:00",
          "2020-12-31T00:00:00",
          "2020-12-30T00:00:00",
          "2020-12-29T00:00:00",
          "2020-12-28T00:00:00",
          "2020-12-27T00:00:00",
          "2020-12-26T00:00:00",
          "2020-12-25T00:00:00",
          "2020-12-24T00:00:00",
          "2020-12-23T00:00:00",
          "2020-12-22T00:00:00",
          "2020-12-21T00:00:00",
          "2020-12-20T00:00:00",
          "2020-12-19T00:00:00",
          "2020-12-18T00:00:00",
          "2020-12-17T00:00:00",
          "2020-12-16T00:00:00",
          "2020-12-15T00:00:00",
          "2020-12-14T00:00:00",
          "2020-12-13T00:00:00",
          "2020-12-12T00:00:00",
          "2020-12-11T00:00:00",
          "2020-12-10T00:00:00",
          "2020-12-09T00:00:00",
          "2020-12-08T00:00:00",
          "2020-12-07T00:00:00",
          "2020-12-06T00:00:00",
          "2020-12-05T00:00:00",
          "2020-12-04T00:00:00",
          "2020-12-03T00:00:00"
         ]
        }
       ],
       "layout": {
        "template": {
         "data": {
          "bar": [
           {
            "error_x": {
             "color": "#2a3f5f"
            },
            "error_y": {
             "color": "#2a3f5f"
            },
            "marker": {
             "line": {
              "color": "#E5ECF6",
              "width": 0.5
             }
            },
            "type": "bar"
           }
          ],
          "barpolar": [
           {
            "marker": {
             "line": {
              "color": "#E5ECF6",
              "width": 0.5
             }
            },
            "type": "barpolar"
           }
          ],
          "carpet": [
           {
            "aaxis": {
             "endlinecolor": "#2a3f5f",
             "gridcolor": "white",
             "linecolor": "white",
             "minorgridcolor": "white",
             "startlinecolor": "#2a3f5f"
            },
            "baxis": {
             "endlinecolor": "#2a3f5f",
             "gridcolor": "white",
             "linecolor": "white",
             "minorgridcolor": "white",
             "startlinecolor": "#2a3f5f"
            },
            "type": "carpet"
           }
          ],
          "choropleth": [
           {
            "colorbar": {
             "outlinewidth": 0,
             "ticks": ""
            },
            "type": "choropleth"
           }
          ],
          "contour": [
           {
            "colorbar": {
             "outlinewidth": 0,
             "ticks": ""
            },
            "colorscale": [
             [
              0,
              "#0d0887"
             ],
             [
              0.1111111111111111,
              "#46039f"
             ],
             [
              0.2222222222222222,
              "#7201a8"
             ],
             [
              0.3333333333333333,
              "#9c179e"
             ],
             [
              0.4444444444444444,
              "#bd3786"
             ],
             [
              0.5555555555555556,
              "#d8576b"
             ],
             [
              0.6666666666666666,
              "#ed7953"
             ],
             [
              0.7777777777777778,
              "#fb9f3a"
             ],
             [
              0.8888888888888888,
              "#fdca26"
             ],
             [
              1,
              "#f0f921"
             ]
            ],
            "type": "contour"
           }
          ],
          "contourcarpet": [
           {
            "colorbar": {
             "outlinewidth": 0,
             "ticks": ""
            },
            "type": "contourcarpet"
           }
          ],
          "heatmap": [
           {
            "colorbar": {
             "outlinewidth": 0,
             "ticks": ""
            },
            "colorscale": [
             [
              0,
              "#0d0887"
             ],
             [
              0.1111111111111111,
              "#46039f"
             ],
             [
              0.2222222222222222,
              "#7201a8"
             ],
             [
              0.3333333333333333,
              "#9c179e"
             ],
             [
              0.4444444444444444,
              "#bd3786"
             ],
             [
              0.5555555555555556,
              "#d8576b"
             ],
             [
              0.6666666666666666,
              "#ed7953"
             ],
             [
              0.7777777777777778,
              "#fb9f3a"
             ],
             [
              0.8888888888888888,
              "#fdca26"
             ],
             [
              1,
              "#f0f921"
             ]
            ],
            "type": "heatmap"
           }
          ],
          "heatmapgl": [
           {
            "colorbar": {
             "outlinewidth": 0,
             "ticks": ""
            },
            "colorscale": [
             [
              0,
              "#0d0887"
             ],
             [
              0.1111111111111111,
              "#46039f"
             ],
             [
              0.2222222222222222,
              "#7201a8"
             ],
             [
              0.3333333333333333,
              "#9c179e"
             ],
             [
              0.4444444444444444,
              "#bd3786"
             ],
             [
              0.5555555555555556,
              "#d8576b"
             ],
             [
              0.6666666666666666,
              "#ed7953"
             ],
             [
              0.7777777777777778,
              "#fb9f3a"
             ],
             [
              0.8888888888888888,
              "#fdca26"
             ],
             [
              1,
              "#f0f921"
             ]
            ],
            "type": "heatmapgl"
           }
          ],
          "histogram": [
           {
            "marker": {
             "colorbar": {
              "outlinewidth": 0,
              "ticks": ""
             }
            },
            "type": "histogram"
           }
          ],
          "histogram2d": [
           {
            "colorbar": {
             "outlinewidth": 0,
             "ticks": ""
            },
            "colorscale": [
             [
              0,
              "#0d0887"
             ],
             [
              0.1111111111111111,
              "#46039f"
             ],
             [
              0.2222222222222222,
              "#7201a8"
             ],
             [
              0.3333333333333333,
              "#9c179e"
             ],
             [
              0.4444444444444444,
              "#bd3786"
             ],
             [
              0.5555555555555556,
              "#d8576b"
             ],
             [
              0.6666666666666666,
              "#ed7953"
             ],
             [
              0.7777777777777778,
              "#fb9f3a"
             ],
             [
              0.8888888888888888,
              "#fdca26"
             ],
             [
              1,
              "#f0f921"
             ]
            ],
            "type": "histogram2d"
           }
          ],
          "histogram2dcontour": [
           {
            "colorbar": {
             "outlinewidth": 0,
             "ticks": ""
            },
            "colorscale": [
             [
              0,
              "#0d0887"
             ],
             [
              0.1111111111111111,
              "#46039f"
             ],
             [
              0.2222222222222222,
              "#7201a8"
             ],
             [
              0.3333333333333333,
              "#9c179e"
             ],
             [
              0.4444444444444444,
              "#bd3786"
             ],
             [
              0.5555555555555556,
              "#d8576b"
             ],
             [
              0.6666666666666666,
              "#ed7953"
             ],
             [
              0.7777777777777778,
              "#fb9f3a"
             ],
             [
              0.8888888888888888,
              "#fdca26"
             ],
             [
              1,
              "#f0f921"
             ]
            ],
            "type": "histogram2dcontour"
           }
          ],
          "mesh3d": [
           {
            "colorbar": {
             "outlinewidth": 0,
             "ticks": ""
            },
            "type": "mesh3d"
           }
          ],
          "parcoords": [
           {
            "line": {
             "colorbar": {
              "outlinewidth": 0,
              "ticks": ""
             }
            },
            "type": "parcoords"
           }
          ],
          "pie": [
           {
            "automargin": true,
            "type": "pie"
           }
          ],
          "scatter": [
           {
            "marker": {
             "colorbar": {
              "outlinewidth": 0,
              "ticks": ""
             }
            },
            "type": "scatter"
           }
          ],
          "scatter3d": [
           {
            "line": {
             "colorbar": {
              "outlinewidth": 0,
              "ticks": ""
             }
            },
            "marker": {
             "colorbar": {
              "outlinewidth": 0,
              "ticks": ""
             }
            },
            "type": "scatter3d"
           }
          ],
          "scattercarpet": [
           {
            "marker": {
             "colorbar": {
              "outlinewidth": 0,
              "ticks": ""
             }
            },
            "type": "scattercarpet"
           }
          ],
          "scattergeo": [
           {
            "marker": {
             "colorbar": {
              "outlinewidth": 0,
              "ticks": ""
             }
            },
            "type": "scattergeo"
           }
          ],
          "scattergl": [
           {
            "marker": {
             "colorbar": {
              "outlinewidth": 0,
              "ticks": ""
             }
            },
            "type": "scattergl"
           }
          ],
          "scattermapbox": [
           {
            "marker": {
             "colorbar": {
              "outlinewidth": 0,
              "ticks": ""
             }
            },
            "type": "scattermapbox"
           }
          ],
          "scatterpolar": [
           {
            "marker": {
             "colorbar": {
              "outlinewidth": 0,
              "ticks": ""
             }
            },
            "type": "scatterpolar"
           }
          ],
          "scatterpolargl": [
           {
            "marker": {
             "colorbar": {
              "outlinewidth": 0,
              "ticks": ""
             }
            },
            "type": "scatterpolargl"
           }
          ],
          "scatterternary": [
           {
            "marker": {
             "colorbar": {
              "outlinewidth": 0,
              "ticks": ""
             }
            },
            "type": "scatterternary"
           }
          ],
          "surface": [
           {
            "colorbar": {
             "outlinewidth": 0,
             "ticks": ""
            },
            "colorscale": [
             [
              0,
              "#0d0887"
             ],
             [
              0.1111111111111111,
              "#46039f"
             ],
             [
              0.2222222222222222,
              "#7201a8"
             ],
             [
              0.3333333333333333,
              "#9c179e"
             ],
             [
              0.4444444444444444,
              "#bd3786"
             ],
             [
              0.5555555555555556,
              "#d8576b"
             ],
             [
              0.6666666666666666,
              "#ed7953"
             ],
             [
              0.7777777777777778,
              "#fb9f3a"
             ],
             [
              0.8888888888888888,
              "#fdca26"
             ],
             [
              1,
              "#f0f921"
             ]
            ],
            "type": "surface"
           }
          ],
          "table": [
           {
            "cells": {
             "fill": {
              "color": "#EBF0F8"
             },
             "line": {
              "color": "white"
             }
            },
            "header": {
             "fill": {
              "color": "#C8D4E3"
             },
             "line": {
              "color": "white"
             }
            },
            "type": "table"
           }
          ]
         },
         "layout": {
          "annotationdefaults": {
           "arrowcolor": "#2a3f5f",
           "arrowhead": 0,
           "arrowwidth": 1
          },
          "autotypenumbers": "strict",
          "coloraxis": {
           "colorbar": {
            "outlinewidth": 0,
            "ticks": ""
           }
          },
          "colorscale": {
           "diverging": [
            [
             0,
             "#8e0152"
            ],
            [
             0.1,
             "#c51b7d"
            ],
            [
             0.2,
             "#de77ae"
            ],
            [
             0.3,
             "#f1b6da"
            ],
            [
             0.4,
             "#fde0ef"
            ],
            [
             0.5,
             "#f7f7f7"
            ],
            [
             0.6,
             "#e6f5d0"
            ],
            [
             0.7,
             "#b8e186"
            ],
            [
             0.8,
             "#7fbc41"
            ],
            [
             0.9,
             "#4d9221"
            ],
            [
             1,
             "#276419"
            ]
           ],
           "sequential": [
            [
             0,
             "#0d0887"
            ],
            [
             0.1111111111111111,
             "#46039f"
            ],
            [
             0.2222222222222222,
             "#7201a8"
            ],
            [
             0.3333333333333333,
             "#9c179e"
            ],
            [
             0.4444444444444444,
             "#bd3786"
            ],
            [
             0.5555555555555556,
             "#d8576b"
            ],
            [
             0.6666666666666666,
             "#ed7953"
            ],
            [
             0.7777777777777778,
             "#fb9f3a"
            ],
            [
             0.8888888888888888,
             "#fdca26"
            ],
            [
             1,
             "#f0f921"
            ]
           ],
           "sequentialminus": [
            [
             0,
             "#0d0887"
            ],
            [
             0.1111111111111111,
             "#46039f"
            ],
            [
             0.2222222222222222,
             "#7201a8"
            ],
            [
             0.3333333333333333,
             "#9c179e"
            ],
            [
             0.4444444444444444,
             "#bd3786"
            ],
            [
             0.5555555555555556,
             "#d8576b"
            ],
            [
             0.6666666666666666,
             "#ed7953"
            ],
            [
             0.7777777777777778,
             "#fb9f3a"
            ],
            [
             0.8888888888888888,
             "#fdca26"
            ],
            [
             1,
             "#f0f921"
            ]
           ]
          },
          "colorway": [
           "#636efa",
           "#EF553B",
           "#00cc96",
           "#ab63fa",
           "#FFA15A",
           "#19d3f3",
           "#FF6692",
           "#B6E880",
           "#FF97FF",
           "#FECB52"
          ],
          "font": {
           "color": "#2a3f5f"
          },
          "geo": {
           "bgcolor": "white",
           "lakecolor": "white",
           "landcolor": "#E5ECF6",
           "showlakes": true,
           "showland": true,
           "subunitcolor": "white"
          },
          "hoverlabel": {
           "align": "left"
          },
          "hovermode": "closest",
          "mapbox": {
           "style": "light"
          },
          "paper_bgcolor": "white",
          "plot_bgcolor": "#E5ECF6",
          "polar": {
           "angularaxis": {
            "gridcolor": "white",
            "linecolor": "white",
            "ticks": ""
           },
           "bgcolor": "#E5ECF6",
           "radialaxis": {
            "gridcolor": "white",
            "linecolor": "white",
            "ticks": ""
           }
          },
          "scene": {
           "xaxis": {
            "backgroundcolor": "#E5ECF6",
            "gridcolor": "white",
            "gridwidth": 2,
            "linecolor": "white",
            "showbackground": true,
            "ticks": "",
            "zerolinecolor": "white"
           },
           "yaxis": {
            "backgroundcolor": "#E5ECF6",
            "gridcolor": "white",
            "gridwidth": 2,
            "linecolor": "white",
            "showbackground": true,
            "ticks": "",
            "zerolinecolor": "white"
           },
           "zaxis": {
            "backgroundcolor": "#E5ECF6",
            "gridcolor": "white",
            "gridwidth": 2,
            "linecolor": "white",
            "showbackground": true,
            "ticks": "",
            "zerolinecolor": "white"
           }
          },
          "shapedefaults": {
           "line": {
            "color": "#2a3f5f"
           }
          },
          "ternary": {
           "aaxis": {
            "gridcolor": "white",
            "linecolor": "white",
            "ticks": ""
           },
           "baxis": {
            "gridcolor": "white",
            "linecolor": "white",
            "ticks": ""
           },
           "bgcolor": "#E5ECF6",
           "caxis": {
            "gridcolor": "white",
            "linecolor": "white",
            "ticks": ""
           }
          },
          "title": {
           "x": 0.05
          },
          "xaxis": {
           "automargin": true,
           "gridcolor": "white",
           "linecolor": "white",
           "ticks": "",
           "title": {
            "standoff": 15
           },
           "zerolinecolor": "white",
           "zerolinewidth": 2
          },
          "yaxis": {
           "automargin": true,
           "gridcolor": "white",
           "linecolor": "white",
           "ticks": "",
           "title": {
            "standoff": 15
           },
           "zerolinecolor": "white",
           "zerolinewidth": 2
          }
         }
        },
        "title": {
         "text": "BTC Price In USD",
         "x": 0.5
        },
        "xaxis": {
         "title": {
          "text": "Date"
         }
        },
        "yaxis": {
         "title": {
          "text": "BTC Price"
         }
        }
       }
      },
      "text/html": [
       "<div>                            <div id=\"d96858da-812d-49e6-b18e-4504938394a5\" class=\"plotly-graph-div\" style=\"height:525px; width:100%;\"></div>            <script type=\"text/javascript\">                require([\"plotly\"], function(Plotly) {                    window.PLOTLYENV=window.PLOTLYENV || {};                                    if (document.getElementById(\"d96858da-812d-49e6-b18e-4504938394a5\")) {                    Plotly.newPlot(                        \"d96858da-812d-49e6-b18e-4504938394a5\",                        [{\"close\": [41305.25, 42171.76, 43178.02, 42705.51, 42848.92, 44897.59, 43575.1, 40719.6, 43012.97, 47255.92, 48314.56, 47303.5, 47753.16, 48148.12, 47127.22, 44947.72, 46024.23, 45171.83, 44851.45, 46400.0, 46060.36, 46894.5, 52698.81, 51789.17, 49942.98, 50025.0, 49279.37, 48839.86, 47112.5, 46993.71, 48802.58, 48942.94, 49077.57, 46851.47, 48987.33, 47682.45, 49506.5, 49284.63, 48867.02, 49342.4, 46765.87, 44707.98, 44671.58, 45902.46, 47014.49, 47109.65, 47833.64, 44422.14, 45553.49, 45595.66, 46285.48, 43829.14, 44637.34, 42869.58, 40888.74, 39722.41, 38191.44, 39149.59, 39865.41, 41495.01, 42237.95, 40039.44, 40035.1, 39470.48, 37262.77, 35428.26, 34283.01, 33647.26, 32287.74, 32135.19, 29796.16, 30842.03, 31788.25, 31533.91, 31388.06, 31868.68, 32816.39, 32734.14, 33091.1, 34259.23, 33515.35, 33824.26, 32875.95, 33878.56, 34225.73, 33697.78, 35284.05, 34682.16, 33805.02, 33516.11, 35060.0, 35904.28, 34493.22, 34709.23, 32275.19, 31594.63, 34654.58, 33688.35, 32538.37, 31609.82, 35585.78, 35484.79, 35841.81, 38095.17, 38351.0, 40162.37, 40539.47, 39015.24, 35557.33, 37338.44, 36694.05, 37403.86, 33402.13, 33575.91, 35800.48, 35539.49, 36856.52, 39248.55, 37577.91, 36685.0, 37279.31, 35669.44, 34627.82, 35680.47, 38556.88, 39293.23, 38361.81, 38878.56, 34758.67, 37476.83, 37340.77, 40623.33, 36731.75, 42857.15, 43580.5, 46450.79, 46775.51, 49893.48, 49690.11, 49498.77, 56753.19, 55866.41, 58312.57, 58958.05, 57380.39, 56440.66, 57515.69, 53241.92, 57212.73, 56625.2, 57859.28, 57798.77, 53580.0, 54894.03, 55069.62, 54053.6, 49121.0, 50089.15, 51187.27, 51701.59, 53800.86, 56499.29, 55696.83, 56274.41, 60058.86, 61427.27, 63229.04, 62971.8, 63588.22, 59839.82, 59985.26, 59778.6, 58092.68, 58083.1, 55955.75, 58019.98, 59123.02, 58215.94, 57094.34, 58981.04, 58726.48, 58800.0, 58786.46, 57613.48, 55778.82, 55856.53, 55072.44, 51325.01, 52276.16, 54345.54, 54110.07, 57363.32, 58116.7, 58039.66, 57644.95, 58925.54, 56927.11, 55636.15, 58972.7, 61178.5, 57225.91, 57815.47, 55890.69, 54916.38, 52415.23, 50978.61, 48909.84, 48769.47, 48368.52, 50360.0, 48511.6, 49639.4, 45231.75, 46180.75, 46326.2, 47058.48, 49737.82, 48899.99, 54142.13, 57489.16, 55923.52, 55983.56, 51601.73, 52170.01, 49158.71, 47936.37, 48680.69, 47232.45, 47408.34, 47997.91, 44850.0, 46514.73, 46448.1, 38871.42, 39265.43, 38311.49, 36975.0, 37678.37, 35512.67, 33533.19, 33137.74, 34315.63, 34262.11, 33488.99, 30407.13, 32510.82, 32261.87, 32288.56, 32112.01, 32984.93, 30855.95, 35503.09, 35917.28, 36624.23, 35820.0, 36006.94, 36754.67, 39125.14, 37393.66, 34038.98, 35452.59, 38171.57, 40257.43, 40665.15, 39505.56, 36859.26, 34030.64, 32019.99, 33080.66, 32225.91, 29412.84, 28990.08, 28897.42, 27366.35, 27040.36, 26258.65, 26475.35, 24704.71, 23717.96, 23228.35, 23823.27, 22729.4, 23476.51, 23849.99, 23137.76, 22826.48, 21359.65, 19444.6, 19272.37, 19166.65, 18821.28, 18042.15, 18253.44, 18546.55, 18316.22, 19177.71, 19375.6, 19158.96, 18658.1, 19448.64], \"high\": [42780.0, 44366.96, 43937.0, 42998.76, 45200.0, 45000.0, 44035.44, 43639.88, 47358.92, 48379.19, 48825.62, 48176.64, 48499.99, 48475.0, 47274.92, 46900.0, 46462.98, 45989.94, 47040.76, 47400.0, 47381.47, 52944.96, 52802.03, 51907.08, 50558.75, 51064.44, 50392.19, 49125.0, 48259.68, 48906.51, 49667.1, 49309.83, 49185.12, 49365.1, 49277.0, 49875.9, 50505.0, 49526.13, 49821.92, 49400.0, 47088.08, 46035.27, 47174.62, 48076.52, 47400.0, 48176.52, 47953.9, 46223.95, 46781.09, 46718.44, 46497.42, 45363.83, 44750.0, 43399.26, 41447.89, 39965.1, 39785.3, 40459.68, 42605.64, 42414.61, 42320.57, 40644.85, 40925.56, 39550.0, 40593.93, 35451.04, 34525.0, 33647.27, 32611.84, 32825.0, 31052.65, 31887.82, 32450.0, 31949.99, 32259.16, 33187.6, 33125.55, 33337.61, 34670.0, 34607.37, 34267.14, 34100.0, 33934.62, 35077.46, 35100.0, 35290.82, 35951.0, 34953.07, 33972.06, 35066.54, 36094.42, 36675.0, 35301.43, 34749.0, 32711.68, 35500.0, 35295.67, 34881.02, 33352.0, 35741.54, 36139.73, 36457.18, 38216.22, 39554.98, 40499.0, 41322.55, 41076.03, 39396.0, 37448.0, 37695.0, 38425.67, 37573.99, 34069.0, 36812.39, 36477.86, 37921.35, 39291.24, 39489.82, 38237.37, 37918.97, 37534.09, 36500.0, 37325.0, 38900.0, 40440.95, 40900.0, 39878.51, 39966.87, 38319.36, 38889.76, 42275.99, 42605.0, 43591.7, 45851.0, 46646.15, 49808.28, 50730.58, 51569.56, 52500.0, 58041.0, 56962.07, 59592.2, 59300.52, 59559.84, 58735.95, 58400.0, 57980.86, 57247.24, 58986.0, 57972.26, 58550.0, 58075.01, 55226.86, 56476.17, 55509.39, 54400.0, 50591.38, 51260.61, 52130.58, 55469.98, 56810.56, 57111.0, 57600.0, 60437.97, 62572.48, 63604.34, 63831.82, 64899.0, 63774.39, 61199.0, 60658.89, 61218.97, 58869.69, 58152.0, 58630.0, 59475.0, 59251.76, 58500.0, 59752.0, 60055.02, 59474.94, 59800.0, 59397.48, 58400.0, 56587.08, 56640.0, 55125.13, 53238.0, 57209.97, 55858.0, 58421.68, 58651.22, 59928.0, 59461.99, 60100.0, 58996.38, 56970.0, 60601.07, 61680.0, 61788.45, 58065.92, 58113.0, 57402.14, 54936.0, 52425.0, 51459.0, 49210.0, 49473.99, 51798.33, 52666.0, 50250.0, 49829.0, 46656.0, 48356.86, 48464.64, 52107.83, 51415.41, 54206.22, 57577.69, 58367.0, 57563.57, 56370.05, 52549.99, 52640.35, 50645.0, 49093.44, 49700.0, 48199.0, 48912.0, 48690.0, 47349.99, 48200.0, 46750.0, 39737.83, 41000.0, 38349.0, 38769.0, 37723.72, 36000.0, 34728.57, 34387.75, 34900.0, 38570.13, 34000.0, 32584.62, 32960.37, 34888.0, 33086.53, 33488.79, 33867.0, 35628.24, 36415.34, 37857.0, 37402.0, 36860.0, 37948.0, 39697.0, 40127.66, 37888.0, 36604.51, 38273.88, 41452.12, 41406.94, 41986.37, 40425.0, 37000.0, 34499.67, 33666.99, 34810.0, 33300.0, 29688.88, 29321.9, 29018.26, 27396.77, 27477.0, 28387.0, 26822.0, 24770.95, 23785.0, 24090.0, 23839.78, 24118.75, 24300.0, 24200.0, 23280.0, 23776.94, 21569.94, 19565.0, 19349.98, 19421.03, 18955.34, 18293.08, 18556.42, 18647.33, 19299.51, 19432.57, 19430.25, 19189.98, 19546.46, 19625.64], \"low\": [41114.31, 42111.0, 40803.0, 41675.0, 40683.29, 43096.73, 40570.42, 39600.0, 42500.0, 46850.87, 47050.0, 46752.67, 47020.82, 46705.0, 44679.92, 43465.0, 44754.31, 44730.29, 44140.48, 45511.82, 44423.49, 42830.77, 51020.08, 49500.0, 49400.0, 48349.66, 48620.73, 46537.62, 46708.93, 46866.0, 47801.0, 48370.0, 46361.01, 46315.48, 47122.02, 47600.0, 49012.84, 48102.89, 48285.28, 46644.95, 43955.0, 44216.47, 44405.39, 45676.91, 45525.19, 46034.93, 44249.64, 43714.36, 45350.74, 44650.27, 42821.3, 43131.97, 42457.27, 39876.74, 37300.0, 37509.0, 37627.21, 38690.0, 39426.0, 41064.11, 38342.0, 39229.47, 38803.34, 36413.26, 35251.54, 33888.89, 33424.7, 32000.0, 31729.68, 29501.02, 29301.56, 30429.99, 31125.6, 31179.01, 31025.42, 31064.77, 31600.0, 32201.12, 32665.0, 33333.33, 33027.83, 32255.24, 32111.0, 33770.01, 33300.0, 33156.86, 34390.53, 33320.0, 32704.73, 32703.48, 34033.0, 34233.35, 33864.99, 32002.21, 30173.49, 31300.0, 32300.0, 31708.03, 28800.0, 31259.0, 33347.05, 34833.26, 35153.16, 37365.63, 38105.0, 39510.98, 38744.83, 34780.57, 34635.47, 35944.0, 35800.0, 32408.53, 31004.95, 33333.0, 35258.0, 34832.17, 35593.22, 37184.88, 35920.0, 35669.14, 34183.0, 33333.0, 33650.86, 34688.0, 37191.99, 37837.36, 36481.26, 34407.17, 31111.0, 35257.52, 33501.54, 35000.0, 30000.0, 42300.0, 42101.0, 43825.0, 46573.0, 48895.0, 46000.0, 48500.0, 54511.48, 53600.0, 56265.3, 56980.01, 55300.0, 55288.0, 52913.02, 53057.7, 56500.0, 56072.0, 57050.94, 53068.43, 52369.61, 53887.0, 53321.0, 48817.62, 47044.01, 48726.87, 47464.65, 50400.0, 53620.91, 53430.01, 54187.85, 51300.0, 59700.0, 60048.43, 62036.73, 61277.91, 59799.01, 59369.0, 59177.06, 57875.41, 57670.51, 55700.0, 55400.0, 57333.33, 56817.64, 56478.53, 56943.0, 58441.88, 57930.0, 56873.8, 57000.0, 54900.0, 54701.0, 53966.0, 51250.0, 50305.0, 51673.82, 53000.0, 53739.5, 55543.89, 57827.97, 56260.0, 56996.15, 54138.01, 53221.0, 54568.0, 58950.0, 56083.74, 55050.0, 54283.0, 53025.0, 51845.01, 49328.62, 48909.83, 47077.0, 46219.32, 47502.0, 48161.75, 47075.11, 45042.13, 43016.0, 45055.0, 44150.0, 46700.0, 47002.0, 44888.08, 46616.0, 55531.23, 54000.1, 50725.0, 50875.0, 48942.87, 47051.22, 45768.46, 47100.13, 46300.0, 46300.0, 44011.0, 43706.86, 45020.0, 38057.01, 37371.35, 38250.0, 36605.87, 36156.45, 35393.8, 33450.0, 32333.0, 32200.0, 32852.86, 31990.0, 29902.14, 29156.0, 30830.0, 31920.8, 30931.21, 31432.19, 28732.0, 30011.0, 33387.01, 35895.11, 34736.46, 33850.03, 35372.59, 34298.93, 36751.11, 32309.04, 32500.0, 30100.0, 34444.0, 38800.0, 36565.08, 36200.0, 33352.54, 29891.13, 27678.0, 32008.62, 29039.0, 28700.0, 28000.0, 27311.73, 25833.73, 26086.19, 25772.55, 24490.01, 23416.0, 22712.89, 22600.0, 22380.05, 21913.84, 23100.0, 22770.0, 22329.0, 21252.01, 19300.0, 19051.27, 18967.68, 18730.0, 18023.57, 17580.0, 17905.0, 17639.0, 18200.0, 18901.0, 18878.0, 18501.0, 18576.05, 18885.0], \"open\": [42166.31, 43172.17, 42705.51, 42848.44, 44896.55, 43575.19, 40736.81, 43007.69, 47253.71, 48309.86, 47306.87, 47753.15, 48144.03, 47127.81, 44953.23, 46027.8, 45173.66, 44850.37, 46396.26, 46059.94, 46894.49, 52698.8, 51789.17, 49944.89, 50025.0, 49279.38, 48834.27, 47110.33, 46996.8, 48802.58, 48942.89, 49081.08, 46851.47, 48991.57, 47682.45, 49504.53, 49284.38, 48870.21, 49349.99, 46769.02, 44709.1, 44675.34, 45903.22, 47014.38, 47109.64, 47833.64, 44422.15, 45553.1, 45601.82, 46280.0, 43829.15, 44628.11, 42869.59, 40888.73, 39718.9, 38189.4, 39149.59, 39859.18, 41499.0, 42233.66, 40039.44, 40035.1, 39475.99, 37262.76, 35428.25, 34291.67, 33647.27, 32287.75, 32152.68, 29796.15, 30842.04, 31786.37, 31533.9, 31389.57, 31872.49, 32815.75, 32734.14, 33077.43, 34259.22, 33515.35, 33824.25, 32875.95, 33879.5, 34225.72, 33697.78, 35284.06, 34685.03, 33805.01, 33510.93, 35060.0, 35906.17, 34493.22, 34708.53, 32267.59, 31594.62, 34654.87, 33688.51, 32538.9, 31609.82, 35585.79, 35484.8, 35840.96, 38103.94, 38351.0, 40158.06, 40537.93, 39015.24, 35557.32, 37340.08, 36694.91, 37404.75, 33402.13, 33567.26, 35800.48, 35539.97, 36856.53, 39248.54, 37581.83, 36684.99, 37276.23, 35669.44, 34627.81, 35680.48, 38556.88, 39293.23, 38361.81, 38874.53, 34758.88, 37476.84, 37333.09, 40623.24, 36735.44, 42865.05, 43571.89, 46450.78, 46771.01, 49893.48, 49682.28, 49498.76, 56753.19, 55866.38, 58313.84, 58958.06, 57380.39, 56444.82, 57515.69, 53241.91, 57212.73, 56625.21, 57859.28, 57798.77, 53580.0, 54889.81, 55069.61, 54047.8, 49121.0, 50101.42, 51187.75, 51695.98, 53795.62, 56477.67, 55696.83, 56273.65, 60067.2, 61427.27, 63229.04, 62971.8, 63588.22, 59836.88, 59983.66, 59778.59, 58092.68, 58083.1, 55962.67, 58021.67, 59134.07, 58216.73, 57094.34, 58981.04, 58726.47, 58800.01, 58786.46, 57613.76, 55781.22, 55856.54, 55080.9, 51320.76, 52259.69, 54333.27, 54111.49, 57377.29, 58126.34, 58026.91, 57644.95, 58925.54, 56924.26, 55629.08, 58972.71, 61181.38, 57220.84, 57820.15, 55888.7, 54921.61, 52413.17, 50976.22, 48909.84, 48766.01, 48370.97, 50370.33, 48502.18, 49635.3, 45231.74, 46169.92, 46319.79, 47063.9, 49737.81, 48899.99, 54125.67, 57489.16, 55921.44, 55983.57, 51596.0, 52170.01, 49141.43, 47935.66, 48667.23, 47240.75, 47408.34, 47993.6, 44850.0, 46514.73, 46453.66, 38871.43, 39266.1, 38327.09, 36976.59, 37688.42, 35513.0, 33534.39, 33137.75, 34315.63, 34262.11, 33487.92, 30414.11, 32510.82, 32260.52, 32293.18, 32110.0, 32982.66, 30855.9, 35498.85, 35921.91, 36624.23, 35820.01, 36004.8, 36754.6, 39123.05, 37393.67, 34035.53, 35456.89, 38168.89, 40257.43, 40642.15, 39510.55, 36859.26, 34043.91, 32020.22, 33082.84, 32222.88, 29413.29, 28990.08, 28897.42, 27366.35, 27039.39, 26255.16, 26482.64, 24704.71, 23718.61, 23226.18, 23824.13, 22729.4, 23476.51, 23850.0, 23138.89, 22826.37, 21360.5, 19443.19, 19272.37, 19166.65, 18821.28, 18044.19, 18257.18, 18546.55, 18316.22, 19177.08, 19375.6, 19158.96, 18658.09, 19446.43, 19222.45], \"type\": \"candlestick\", \"x\": [\"2021-09-28T00:00:00\", \"2021-09-27T00:00:00\", \"2021-09-26T00:00:00\", \"2021-09-25T00:00:00\", \"2021-09-24T00:00:00\", \"2021-09-23T00:00:00\", \"2021-09-22T00:00:00\", \"2021-09-21T00:00:00\", \"2021-09-20T00:00:00\", \"2021-09-19T00:00:00\", \"2021-09-18T00:00:00\", \"2021-09-17T00:00:00\", \"2021-09-16T00:00:00\", \"2021-09-15T00:00:00\", \"2021-09-14T00:00:00\", \"2021-09-13T00:00:00\", \"2021-09-12T00:00:00\", \"2021-09-11T00:00:00\", \"2021-09-10T00:00:00\", \"2021-09-09T00:00:00\", \"2021-09-08T00:00:00\", \"2021-09-07T00:00:00\", \"2021-09-06T00:00:00\", \"2021-09-05T00:00:00\", \"2021-09-04T00:00:00\", \"2021-09-03T00:00:00\", \"2021-09-02T00:00:00\", \"2021-09-01T00:00:00\", \"2021-08-31T00:00:00\", \"2021-08-30T00:00:00\", \"2021-08-29T00:00:00\", \"2021-08-28T00:00:00\", \"2021-08-27T00:00:00\", \"2021-08-26T00:00:00\", \"2021-08-25T00:00:00\", \"2021-08-24T00:00:00\", \"2021-08-23T00:00:00\", \"2021-08-22T00:00:00\", \"2021-08-21T00:00:00\", \"2021-08-20T00:00:00\", \"2021-08-19T00:00:00\", \"2021-08-18T00:00:00\", \"2021-08-17T00:00:00\", \"2021-08-16T00:00:00\", \"2021-08-15T00:00:00\", \"2021-08-14T00:00:00\", \"2021-08-13T00:00:00\", \"2021-08-12T00:00:00\", \"2021-08-11T00:00:00\", \"2021-08-10T00:00:00\", \"2021-08-09T00:00:00\", \"2021-08-08T00:00:00\", \"2021-08-07T00:00:00\", \"2021-08-06T00:00:00\", \"2021-08-05T00:00:00\", \"2021-08-04T00:00:00\", \"2021-08-03T00:00:00\", \"2021-08-02T00:00:00\", \"2021-08-01T00:00:00\", \"2021-07-31T00:00:00\", \"2021-07-30T00:00:00\", \"2021-07-29T00:00:00\", \"2021-07-28T00:00:00\", \"2021-07-27T00:00:00\", \"2021-07-26T00:00:00\", \"2021-07-25T00:00:00\", \"2021-07-24T00:00:00\", \"2021-07-23T00:00:00\", \"2021-07-22T00:00:00\", \"2021-07-21T00:00:00\", \"2021-07-20T00:00:00\", \"2021-07-19T00:00:00\", \"2021-07-18T00:00:00\", \"2021-07-17T00:00:00\", \"2021-07-16T00:00:00\", \"2021-07-15T00:00:00\", \"2021-07-14T00:00:00\", \"2021-07-13T00:00:00\", \"2021-07-12T00:00:00\", \"2021-07-11T00:00:00\", \"2021-07-10T00:00:00\", \"2021-07-09T00:00:00\", \"2021-07-08T00:00:00\", \"2021-07-07T00:00:00\", \"2021-07-06T00:00:00\", \"2021-07-05T00:00:00\", \"2021-07-04T00:00:00\", \"2021-07-03T00:00:00\", \"2021-07-02T00:00:00\", \"2021-07-01T00:00:00\", \"2021-06-30T00:00:00\", \"2021-06-29T00:00:00\", \"2021-06-28T00:00:00\", \"2021-06-27T00:00:00\", \"2021-06-26T00:00:00\", \"2021-06-25T00:00:00\", \"2021-06-24T00:00:00\", \"2021-06-23T00:00:00\", \"2021-06-22T00:00:00\", \"2021-06-21T00:00:00\", \"2021-06-20T00:00:00\", \"2021-06-19T00:00:00\", \"2021-06-18T00:00:00\", \"2021-06-17T00:00:00\", \"2021-06-16T00:00:00\", \"2021-06-15T00:00:00\", \"2021-06-14T00:00:00\", \"2021-06-13T00:00:00\", \"2021-06-12T00:00:00\", \"2021-06-11T00:00:00\", \"2021-06-10T00:00:00\", \"2021-06-09T00:00:00\", \"2021-06-08T00:00:00\", \"2021-06-07T00:00:00\", \"2021-06-06T00:00:00\", \"2021-06-05T00:00:00\", \"2021-06-04T00:00:00\", \"2021-06-03T00:00:00\", \"2021-06-02T00:00:00\", \"2021-06-01T00:00:00\", \"2021-05-31T00:00:00\", \"2021-05-30T00:00:00\", \"2021-05-29T00:00:00\", \"2021-05-28T00:00:00\", \"2021-05-27T00:00:00\", \"2021-05-26T00:00:00\", \"2021-05-25T00:00:00\", \"2021-05-24T00:00:00\", \"2021-05-23T00:00:00\", \"2021-05-22T00:00:00\", \"2021-05-21T00:00:00\", \"2021-05-20T00:00:00\", \"2021-05-19T00:00:00\", \"2021-05-18T00:00:00\", \"2021-05-17T00:00:00\", \"2021-05-16T00:00:00\", \"2021-05-15T00:00:00\", \"2021-05-14T00:00:00\", \"2021-05-13T00:00:00\", \"2021-05-12T00:00:00\", \"2021-05-11T00:00:00\", \"2021-05-10T00:00:00\", \"2021-05-09T00:00:00\", \"2021-05-08T00:00:00\", \"2021-05-07T00:00:00\", \"2021-05-06T00:00:00\", \"2021-05-05T00:00:00\", \"2021-05-04T00:00:00\", \"2021-05-03T00:00:00\", \"2021-05-02T00:00:00\", \"2021-05-01T00:00:00\", \"2021-04-30T00:00:00\", \"2021-04-29T00:00:00\", \"2021-04-28T00:00:00\", \"2021-04-27T00:00:00\", \"2021-04-26T00:00:00\", \"2021-04-25T00:00:00\", \"2021-04-24T00:00:00\", \"2021-04-23T00:00:00\", \"2021-04-22T00:00:00\", \"2021-04-21T00:00:00\", \"2021-04-20T00:00:00\", \"2021-04-19T00:00:00\", \"2021-04-18T00:00:00\", \"2021-04-17T00:00:00\", \"2021-04-16T00:00:00\", \"2021-04-15T00:00:00\", \"2021-04-14T00:00:00\", \"2021-04-13T00:00:00\", \"2021-04-12T00:00:00\", \"2021-04-11T00:00:00\", \"2021-04-10T00:00:00\", \"2021-04-09T00:00:00\", \"2021-04-08T00:00:00\", \"2021-04-07T00:00:00\", \"2021-04-06T00:00:00\", \"2021-04-05T00:00:00\", \"2021-04-04T00:00:00\", \"2021-04-03T00:00:00\", \"2021-04-02T00:00:00\", \"2021-04-01T00:00:00\", \"2021-03-31T00:00:00\", \"2021-03-30T00:00:00\", \"2021-03-29T00:00:00\", \"2021-03-28T00:00:00\", \"2021-03-27T00:00:00\", \"2021-03-26T00:00:00\", \"2021-03-25T00:00:00\", \"2021-03-24T00:00:00\", \"2021-03-23T00:00:00\", \"2021-03-22T00:00:00\", \"2021-03-21T00:00:00\", \"2021-03-20T00:00:00\", \"2021-03-19T00:00:00\", \"2021-03-18T00:00:00\", \"2021-03-17T00:00:00\", \"2021-03-16T00:00:00\", \"2021-03-15T00:00:00\", \"2021-03-14T00:00:00\", \"2021-03-13T00:00:00\", \"2021-03-12T00:00:00\", \"2021-03-11T00:00:00\", \"2021-03-10T00:00:00\", \"2021-03-09T00:00:00\", \"2021-03-08T00:00:00\", \"2021-03-07T00:00:00\", \"2021-03-06T00:00:00\", \"2021-03-05T00:00:00\", \"2021-03-04T00:00:00\", \"2021-03-03T00:00:00\", \"2021-03-02T00:00:00\", \"2021-03-01T00:00:00\", \"2021-02-28T00:00:00\", \"2021-02-27T00:00:00\", \"2021-02-26T00:00:00\", \"2021-02-25T00:00:00\", \"2021-02-24T00:00:00\", \"2021-02-23T00:00:00\", \"2021-02-22T00:00:00\", \"2021-02-21T00:00:00\", \"2021-02-20T00:00:00\", \"2021-02-19T00:00:00\", \"2021-02-18T00:00:00\", \"2021-02-17T00:00:00\", \"2021-02-16T00:00:00\", \"2021-02-15T00:00:00\", \"2021-02-14T00:00:00\", \"2021-02-13T00:00:00\", \"2021-02-12T00:00:00\", \"2021-02-11T00:00:00\", \"2021-02-10T00:00:00\", \"2021-02-09T00:00:00\", \"2021-02-08T00:00:00\", \"2021-02-07T00:00:00\", \"2021-02-06T00:00:00\", \"2021-02-05T00:00:00\", \"2021-02-04T00:00:00\", \"2021-02-03T00:00:00\", \"2021-02-02T00:00:00\", \"2021-02-01T00:00:00\", \"2021-01-31T00:00:00\", \"2021-01-30T00:00:00\", \"2021-01-29T00:00:00\", \"2021-01-28T00:00:00\", \"2021-01-27T00:00:00\", \"2021-01-26T00:00:00\", \"2021-01-25T00:00:00\", \"2021-01-24T00:00:00\", \"2021-01-23T00:00:00\", \"2021-01-22T00:00:00\", \"2021-01-21T00:00:00\", \"2021-01-20T00:00:00\", \"2021-01-19T00:00:00\", \"2021-01-18T00:00:00\", \"2021-01-17T00:00:00\", \"2021-01-16T00:00:00\", \"2021-01-15T00:00:00\", \"2021-01-14T00:00:00\", \"2021-01-13T00:00:00\", \"2021-01-12T00:00:00\", \"2021-01-11T00:00:00\", \"2021-01-10T00:00:00\", \"2021-01-09T00:00:00\", \"2021-01-08T00:00:00\", \"2021-01-07T00:00:00\", \"2021-01-06T00:00:00\", \"2021-01-05T00:00:00\", \"2021-01-04T00:00:00\", \"2021-01-03T00:00:00\", \"2021-01-02T00:00:00\", \"2021-01-01T00:00:00\", \"2020-12-31T00:00:00\", \"2020-12-30T00:00:00\", \"2020-12-29T00:00:00\", \"2020-12-28T00:00:00\", \"2020-12-27T00:00:00\", \"2020-12-26T00:00:00\", \"2020-12-25T00:00:00\", \"2020-12-24T00:00:00\", \"2020-12-23T00:00:00\", \"2020-12-22T00:00:00\", \"2020-12-21T00:00:00\", \"2020-12-20T00:00:00\", \"2020-12-19T00:00:00\", \"2020-12-18T00:00:00\", \"2020-12-17T00:00:00\", \"2020-12-16T00:00:00\", \"2020-12-15T00:00:00\", \"2020-12-14T00:00:00\", \"2020-12-13T00:00:00\", \"2020-12-12T00:00:00\", \"2020-12-11T00:00:00\", \"2020-12-10T00:00:00\", \"2020-12-09T00:00:00\", \"2020-12-08T00:00:00\", \"2020-12-07T00:00:00\", \"2020-12-06T00:00:00\", \"2020-12-05T00:00:00\", \"2020-12-04T00:00:00\", \"2020-12-03T00:00:00\"]}],                        {\"template\": {\"data\": {\"bar\": [{\"error_x\": {\"color\": \"#2a3f5f\"}, \"error_y\": {\"color\": \"#2a3f5f\"}, \"marker\": {\"line\": {\"color\": \"#E5ECF6\", \"width\": 0.5}}, \"type\": \"bar\"}], \"barpolar\": [{\"marker\": {\"line\": {\"color\": \"#E5ECF6\", \"width\": 0.5}}, \"type\": \"barpolar\"}], \"carpet\": [{\"aaxis\": {\"endlinecolor\": \"#2a3f5f\", \"gridcolor\": \"white\", \"linecolor\": \"white\", \"minorgridcolor\": \"white\", \"startlinecolor\": \"#2a3f5f\"}, \"baxis\": {\"endlinecolor\": \"#2a3f5f\", \"gridcolor\": \"white\", \"linecolor\": \"white\", \"minorgridcolor\": \"white\", \"startlinecolor\": \"#2a3f5f\"}, \"type\": \"carpet\"}], \"choropleth\": [{\"colorbar\": {\"outlinewidth\": 0, \"ticks\": \"\"}, \"type\": \"choropleth\"}], \"contour\": [{\"colorbar\": {\"outlinewidth\": 0, \"ticks\": \"\"}, \"colorscale\": [[0.0, \"#0d0887\"], [0.1111111111111111, \"#46039f\"], [0.2222222222222222, \"#7201a8\"], [0.3333333333333333, \"#9c179e\"], [0.4444444444444444, \"#bd3786\"], [0.5555555555555556, \"#d8576b\"], [0.6666666666666666, \"#ed7953\"], [0.7777777777777778, \"#fb9f3a\"], [0.8888888888888888, \"#fdca26\"], [1.0, \"#f0f921\"]], \"type\": \"contour\"}], \"contourcarpet\": [{\"colorbar\": {\"outlinewidth\": 0, \"ticks\": \"\"}, \"type\": \"contourcarpet\"}], \"heatmap\": [{\"colorbar\": {\"outlinewidth\": 0, \"ticks\": \"\"}, \"colorscale\": [[0.0, \"#0d0887\"], [0.1111111111111111, \"#46039f\"], [0.2222222222222222, \"#7201a8\"], [0.3333333333333333, \"#9c179e\"], [0.4444444444444444, \"#bd3786\"], [0.5555555555555556, \"#d8576b\"], [0.6666666666666666, \"#ed7953\"], [0.7777777777777778, \"#fb9f3a\"], [0.8888888888888888, \"#fdca26\"], [1.0, \"#f0f921\"]], \"type\": \"heatmap\"}], \"heatmapgl\": [{\"colorbar\": {\"outlinewidth\": 0, \"ticks\": \"\"}, \"colorscale\": [[0.0, \"#0d0887\"], [0.1111111111111111, \"#46039f\"], [0.2222222222222222, \"#7201a8\"], [0.3333333333333333, \"#9c179e\"], [0.4444444444444444, \"#bd3786\"], [0.5555555555555556, \"#d8576b\"], [0.6666666666666666, \"#ed7953\"], [0.7777777777777778, \"#fb9f3a\"], [0.8888888888888888, \"#fdca26\"], [1.0, \"#f0f921\"]], \"type\": \"heatmapgl\"}], \"histogram\": [{\"marker\": {\"colorbar\": {\"outlinewidth\": 0, \"ticks\": \"\"}}, \"type\": \"histogram\"}], \"histogram2d\": [{\"colorbar\": {\"outlinewidth\": 0, \"ticks\": \"\"}, \"colorscale\": [[0.0, \"#0d0887\"], [0.1111111111111111, \"#46039f\"], [0.2222222222222222, \"#7201a8\"], [0.3333333333333333, \"#9c179e\"], [0.4444444444444444, \"#bd3786\"], [0.5555555555555556, \"#d8576b\"], [0.6666666666666666, \"#ed7953\"], [0.7777777777777778, \"#fb9f3a\"], [0.8888888888888888, \"#fdca26\"], [1.0, \"#f0f921\"]], \"type\": \"histogram2d\"}], \"histogram2dcontour\": [{\"colorbar\": {\"outlinewidth\": 0, \"ticks\": \"\"}, \"colorscale\": [[0.0, \"#0d0887\"], [0.1111111111111111, \"#46039f\"], [0.2222222222222222, \"#7201a8\"], [0.3333333333333333, \"#9c179e\"], [0.4444444444444444, \"#bd3786\"], [0.5555555555555556, \"#d8576b\"], [0.6666666666666666, \"#ed7953\"], [0.7777777777777778, \"#fb9f3a\"], [0.8888888888888888, \"#fdca26\"], [1.0, \"#f0f921\"]], \"type\": \"histogram2dcontour\"}], \"mesh3d\": [{\"colorbar\": {\"outlinewidth\": 0, \"ticks\": \"\"}, \"type\": \"mesh3d\"}], \"parcoords\": [{\"line\": {\"colorbar\": {\"outlinewidth\": 0, \"ticks\": \"\"}}, \"type\": \"parcoords\"}], \"pie\": [{\"automargin\": true, \"type\": \"pie\"}], \"scatter\": [{\"marker\": {\"colorbar\": {\"outlinewidth\": 0, \"ticks\": \"\"}}, \"type\": \"scatter\"}], \"scatter3d\": [{\"line\": {\"colorbar\": {\"outlinewidth\": 0, \"ticks\": \"\"}}, \"marker\": {\"colorbar\": {\"outlinewidth\": 0, \"ticks\": \"\"}}, \"type\": \"scatter3d\"}], \"scattercarpet\": [{\"marker\": {\"colorbar\": {\"outlinewidth\": 0, \"ticks\": \"\"}}, \"type\": \"scattercarpet\"}], \"scattergeo\": [{\"marker\": {\"colorbar\": {\"outlinewidth\": 0, \"ticks\": \"\"}}, \"type\": \"scattergeo\"}], \"scattergl\": [{\"marker\": {\"colorbar\": {\"outlinewidth\": 0, \"ticks\": \"\"}}, \"type\": \"scattergl\"}], \"scattermapbox\": [{\"marker\": {\"colorbar\": {\"outlinewidth\": 0, \"ticks\": \"\"}}, \"type\": \"scattermapbox\"}], \"scatterpolar\": [{\"marker\": {\"colorbar\": {\"outlinewidth\": 0, \"ticks\": \"\"}}, \"type\": \"scatterpolar\"}], \"scatterpolargl\": [{\"marker\": {\"colorbar\": {\"outlinewidth\": 0, \"ticks\": \"\"}}, \"type\": \"scatterpolargl\"}], \"scatterternary\": [{\"marker\": {\"colorbar\": {\"outlinewidth\": 0, \"ticks\": \"\"}}, \"type\": \"scatterternary\"}], \"surface\": [{\"colorbar\": {\"outlinewidth\": 0, \"ticks\": \"\"}, \"colorscale\": [[0.0, \"#0d0887\"], [0.1111111111111111, \"#46039f\"], [0.2222222222222222, \"#7201a8\"], [0.3333333333333333, \"#9c179e\"], [0.4444444444444444, \"#bd3786\"], [0.5555555555555556, \"#d8576b\"], [0.6666666666666666, \"#ed7953\"], [0.7777777777777778, \"#fb9f3a\"], [0.8888888888888888, \"#fdca26\"], [1.0, \"#f0f921\"]], \"type\": \"surface\"}], \"table\": [{\"cells\": {\"fill\": {\"color\": \"#EBF0F8\"}, \"line\": {\"color\": \"white\"}}, \"header\": {\"fill\": {\"color\": \"#C8D4E3\"}, \"line\": {\"color\": \"white\"}}, \"type\": \"table\"}]}, \"layout\": {\"annotationdefaults\": {\"arrowcolor\": \"#2a3f5f\", \"arrowhead\": 0, \"arrowwidth\": 1}, \"autotypenumbers\": \"strict\", \"coloraxis\": {\"colorbar\": {\"outlinewidth\": 0, \"ticks\": \"\"}}, \"colorscale\": {\"diverging\": [[0, \"#8e0152\"], [0.1, \"#c51b7d\"], [0.2, \"#de77ae\"], [0.3, \"#f1b6da\"], [0.4, \"#fde0ef\"], [0.5, \"#f7f7f7\"], [0.6, \"#e6f5d0\"], [0.7, \"#b8e186\"], [0.8, \"#7fbc41\"], [0.9, \"#4d9221\"], [1, \"#276419\"]], \"sequential\": [[0.0, \"#0d0887\"], [0.1111111111111111, \"#46039f\"], [0.2222222222222222, \"#7201a8\"], [0.3333333333333333, \"#9c179e\"], [0.4444444444444444, \"#bd3786\"], [0.5555555555555556, \"#d8576b\"], [0.6666666666666666, \"#ed7953\"], [0.7777777777777778, \"#fb9f3a\"], [0.8888888888888888, \"#fdca26\"], [1.0, \"#f0f921\"]], \"sequentialminus\": [[0.0, \"#0d0887\"], [0.1111111111111111, \"#46039f\"], [0.2222222222222222, \"#7201a8\"], [0.3333333333333333, \"#9c179e\"], [0.4444444444444444, \"#bd3786\"], [0.5555555555555556, \"#d8576b\"], [0.6666666666666666, \"#ed7953\"], [0.7777777777777778, \"#fb9f3a\"], [0.8888888888888888, \"#fdca26\"], [1.0, \"#f0f921\"]]}, \"colorway\": [\"#636efa\", \"#EF553B\", \"#00cc96\", \"#ab63fa\", \"#FFA15A\", \"#19d3f3\", \"#FF6692\", \"#B6E880\", \"#FF97FF\", \"#FECB52\"], \"font\": {\"color\": \"#2a3f5f\"}, \"geo\": {\"bgcolor\": \"white\", \"lakecolor\": \"white\", \"landcolor\": \"#E5ECF6\", \"showlakes\": true, \"showland\": true, \"subunitcolor\": \"white\"}, \"hoverlabel\": {\"align\": \"left\"}, \"hovermode\": \"closest\", \"mapbox\": {\"style\": \"light\"}, \"paper_bgcolor\": \"white\", \"plot_bgcolor\": \"#E5ECF6\", \"polar\": {\"angularaxis\": {\"gridcolor\": \"white\", \"linecolor\": \"white\", \"ticks\": \"\"}, \"bgcolor\": \"#E5ECF6\", \"radialaxis\": {\"gridcolor\": \"white\", \"linecolor\": \"white\", \"ticks\": \"\"}}, \"scene\": {\"xaxis\": {\"backgroundcolor\": \"#E5ECF6\", \"gridcolor\": \"white\", \"gridwidth\": 2, \"linecolor\": \"white\", \"showbackground\": true, \"ticks\": \"\", \"zerolinecolor\": \"white\"}, \"yaxis\": {\"backgroundcolor\": \"#E5ECF6\", \"gridcolor\": \"white\", \"gridwidth\": 2, \"linecolor\": \"white\", \"showbackground\": true, \"ticks\": \"\", \"zerolinecolor\": \"white\"}, \"zaxis\": {\"backgroundcolor\": \"#E5ECF6\", \"gridcolor\": \"white\", \"gridwidth\": 2, \"linecolor\": \"white\", \"showbackground\": true, \"ticks\": \"\", \"zerolinecolor\": \"white\"}}, \"shapedefaults\": {\"line\": {\"color\": \"#2a3f5f\"}}, \"ternary\": {\"aaxis\": {\"gridcolor\": \"white\", \"linecolor\": \"white\", \"ticks\": \"\"}, \"baxis\": {\"gridcolor\": \"white\", \"linecolor\": \"white\", \"ticks\": \"\"}, \"bgcolor\": \"#E5ECF6\", \"caxis\": {\"gridcolor\": \"white\", \"linecolor\": \"white\", \"ticks\": \"\"}}, \"title\": {\"x\": 0.05}, \"xaxis\": {\"automargin\": true, \"gridcolor\": \"white\", \"linecolor\": \"white\", \"ticks\": \"\", \"title\": {\"standoff\": 15}, \"zerolinecolor\": \"white\", \"zerolinewidth\": 2}, \"yaxis\": {\"automargin\": true, \"gridcolor\": \"white\", \"linecolor\": \"white\", \"ticks\": \"\", \"title\": {\"standoff\": 15}, \"zerolinecolor\": \"white\", \"zerolinewidth\": 2}}}, \"title\": {\"text\": \"BTC Price In USD\", \"x\": 0.5}, \"xaxis\": {\"title\": {\"text\": \"Date\"}}, \"yaxis\": {\"title\": {\"text\": \"BTC Price\"}}},                        {\"responsive\": true}                    ).then(function(){\n",
       "                            \n",
       "var gd = document.getElementById('d96858da-812d-49e6-b18e-4504938394a5');\n",
       "var x = new MutationObserver(function (mutations, observer) {{\n",
       "        var display = window.getComputedStyle(gd).display;\n",
       "        if (!display || display === 'none') {{\n",
       "            console.log([gd, 'removed!']);\n",
       "            Plotly.purge(gd);\n",
       "            observer.disconnect();\n",
       "        }}\n",
       "}});\n",
       "\n",
       "// Listen for the removal of the full notebook cells\n",
       "var notebookContainer = gd.closest('#notebook-container');\n",
       "if (notebookContainer) {{\n",
       "    x.observe(notebookContainer, {childList: true});\n",
       "}}\n",
       "\n",
       "// Listen for the clearing of the current output cell\n",
       "var outputEl = gd.closest('.output');\n",
       "if (outputEl) {{\n",
       "    x.observe(outputEl, {childList: true});\n",
       "}}\n",
       "\n",
       "                        })                };                });            </script>        </div>"
      ]
     },
     "metadata": {},
     "output_type": "display_data"
    }
   ],
   "source": [
    "# Plotly candlestick chart with rangeslider\n",
    "\n",
    "fig = go.Figure(data = [go.Candlestick(x = data['date'],\n",
    "                open = data['open'],\n",
    "                high = data['high'],\n",
    "                low = data['low'],\n",
    "                close = data['close'])])\n",
    "\n",
    "fig.update_layout(\n",
    "    title=split_pair[0] + ' Price In ' + split_pair[1],\n",
    "    yaxis_title = split_pair[0] + ' Price',\n",
    "    xaxis_title = \"Date\",\n",
    "    title_x = 0.5\n",
    ")\n",
    "\n",
    "fig.show()"
   ]
  },
  {
   "cell_type": "markdown",
   "metadata": {},
   "source": [
    "## Putting It All Together As A Function"
   ]
  },
  {
   "cell_type": "markdown",
   "metadata": {},
   "source": [
    "You can put all the code from the previous sections into one function. The plot in this function is a Plotly candlestick chart."
   ]
  },
  {
   "cell_type": "code",
   "execution_count": 32,
   "metadata": {},
   "outputs": [],
   "source": [
    "def plot_coinbase_candlestick_chart(base_cur, quote_cur):\n",
    "    crypto_pair = base_cur + '-' + quote_cur\n",
    "    \n",
    "    # Url in a f-string\n",
    "    url = f'https://api.pro.coinbase.com/products/{crypto_pair}/candles?granularity=86400'\n",
    "\n",
    "    response = requests.get(url)\n",
    "\n",
    "    # Check sever response is good:\n",
    "    if response.status_code == 200:\n",
    "        data = pd.DataFrame(json.loads(response.text), \n",
    "                            columns=['unix', 'low', 'high', 'open', 'close', 'volume'])\n",
    "        # Convert date to datetime:\n",
    "        data['date'] = pd.to_datetime(data['unix'], unit = \"s\")\n",
    "        # Volume in USD:\n",
    "        data['volume_fiat'] = data['volume'] * data['close']    \n",
    "    else:\n",
    "        print(\"Response from Coinbase is not good given the trading pair.\")\n",
    "    \n",
    "    fig = go.Figure(data = [go.Candlestick(x = data['date'],\n",
    "                open = data['open'],\n",
    "                high = data['high'],\n",
    "                low = data['low'],\n",
    "                close = data['close'])])\n",
    "    \n",
    "    fig.update_layout(\n",
    "    title = base_cur + ' Price In ' + quote_cur,\n",
    "    yaxis_title = base_cur + ' Price',\n",
    "    xaxis_title = \"Date\",\n",
    "    title_x = 0.5)\n",
    "\n",
    "    fig.show()"
   ]
  },
  {
   "cell_type": "code",
   "execution_count": 33,
   "metadata": {},
   "outputs": [
    {
     "data": {
      "application/vnd.plotly.v1+json": {
       "config": {
        "plotlyServerURL": "https://plot.ly"
       },
       "data": [
        {
         "close": [
          2823.71,
          2925.27,
          3060.71,
          2924.01,
          2930.61,
          3154.62,
          3078.43,
          2765.69,
          2976.48,
          3328.59,
          3436.31,
          3400,
          3568.66,
          3615.65,
          3436.29,
          3286.2,
          3403.75,
          3266.77,
          3209.82,
          3424.95,
          3500.34,
          3436.96,
          3928.89,
          3952.17,
          3887.53,
          3940.06,
          3787.97,
          3829.39,
          3430.23,
          3229.01,
          3226.46,
          3247.99,
          3274.67,
          3093.2,
          3228.51,
          3171.52,
          3323.12,
          3241.42,
          3226.73,
          3286.58,
          3184.21,
          3014.38,
          3011.01,
          3146.6,
          3310.93,
          3266.52,
          3324.51,
          3047.21,
          3162.61,
          3142.09,
          3162.34,
          3014.13,
          3163.09,
          2892.98,
          2829.35,
          2724.71,
          2508.31,
          2608.12,
          2555.43,
          2533.74,
          2463.9,
          2383.32,
          2300.42,
          2300.59,
          2228.26,
          2193.03,
          2185.95,
          2125.81,
          2024.75,
          1996.18,
          1786.46,
          1818.44,
          1891.46,
          1899.75,
          1877.22,
          1918.07,
          1994.11,
          1940.76,
          2030.72,
          2140.82,
          2110.55,
          2147.38,
          2116.95,
          2316.82,
          2321.84,
          2197.34,
          2323.15,
          2226.95,
          2156,
          2107.01,
          2276.72,
          2166.18,
          2083.79,
          1984.71,
          1829.17,
          1809.07,
          1988.81,
          1968.37,
          1881.65,
          1885.67,
          2242.9,
          2164.72,
          2234.47,
          2373.33,
          2367.73,
          2543.58,
          2582.86,
          2510.23,
          2371.49,
          2355.27,
          2471.59,
          2611.27,
          2509.11,
          2592.47,
          2710.97,
          2629.75,
          2690.68,
          2856.68,
          2706.64,
          2634.42,
          2707.12,
          2387.66,
          2280.72,
          2413.81,
          2745.51,
          2889.84,
          2707.56,
          2651.24,
          2099.58,
          2297.19,
          2434.86,
          2775.07,
          2443.91,
          3375.96,
          3283.32,
          3585.62,
          3649.54,
          4080.51,
          3719.23,
          3826.37,
          4179.76,
          3949.45,
          3928.44,
          3917.26,
          3484.7,
          3492.75,
          3529.97,
          3240.01,
          3433.99,
          2952.09,
          2948.92,
          2776.45,
          2758.92,
          2751.59,
          2667.86,
          2534,
          2322.16,
          2216.72,
          2370.05,
          2399.99,
          2357.21,
          2332.6,
          2163.82,
          2241.46,
          2318.7,
          2426.64,
          2517.03,
          2432.54,
          2299.92,
          2138.03,
          2150.54,
          2133.08,
          2066.03,
          2081.29,
          1964.23,
          2113,
          2106.98,
          2076.36,
          2009.25,
          2134.68,
          1968.38,
          1920,
          1841.16,
          1815.73,
          1686.92,
          1713.88,
          1700.1,
          1587.08,
          1581.79,
          1668.09,
          1681.02,
          1784,
          1806.47,
          1809.38,
          1776.4,
          1824.74,
          1806.03,
          1795.07,
          1848.9,
          1921.61,
          1767.79,
          1827.04,
          1795.37,
          1871.99,
          1834.58,
          1728.22,
          1651.83,
          1528.82,
          1539.69,
          1567.86,
          1488.34,
          1571.82,
          1422.02,
          1460.57,
          1445.18,
          1482.62,
          1625.3,
          1577.83,
          1778.66,
          1935.57,
          1915.46,
          1957.68,
          1939.64,
          1852,
          1781.97,
          1779.62,
          1803.75,
          1818.01,
          1845,
          1787.32,
          1742.93,
          1772.16,
          1752.98,
          1615.32,
          1679.77,
          1721.06,
          1597.55,
          1668.72,
          1513.67,
          1374.6,
          1313.94,
          1380,
          1379.87,
          1333.19,
          1240.96,
          1367.98,
          1317.97,
          1394,
          1234.55,
          1233.6,
          1110.62,
          1376.88,
          1368.04,
          1258.48,
          1232.99,
          1227.14,
          1168.1,
          1231.32,
          1130.8,
          1049.79,
          1088.79,
          1255.13,
          1281.45,
          1217.35,
          1227.34,
          1212.02,
          1103.73,
          1042.38,
          980.44,
          775.3,
          730.99,
          737.67,
          752.86,
          731.76,
          729.7,
          684.12,
          636.52,
          626.75,
          612.27,
          585.11,
          636.82,
          608.07,
          638.4,
          658.96,
          654.66,
          643.37,
          637.98,
          589.08,
          586.39,
          590.75,
          568.64,
          544.23,
          559.45,
          573.38,
          554.79,
          591.47,
          601.95,
          597.29,
          567.6,
          616.65
         ],
         "high": [
          2971.16,
          3168.03,
          3117.48,
          2968.85,
          3160.48,
          3182.34,
          3090.83,
          3104.82,
          3346.58,
          3457.22,
          3543,
          3595,
          3675.92,
          3621.15,
          3439.15,
          3430,
          3472.99,
          3349.43,
          3514.37,
          3568.59,
          3562.98,
          3948,
          3973.27,
          3982.64,
          3970,
          4030.35,
          3838.28,
          3843.12,
          3486.8,
          3349,
          3287.73,
          3290.51,
          3283.26,
          3251.05,
          3249,
          3360,
          3378.6,
          3275,
          3311,
          3300,
          3187.48,
          3126.51,
          3293.15,
          3341.47,
          3323.54,
          3333,
          3330,
          3239.69,
          3275,
          3235.1,
          3190,
          3191.99,
          3173.72,
          2949.21,
          2845,
          2771.42,
          2633,
          2666.36,
          2699,
          2555,
          2474.82,
          2399.99,
          2347.88,
          2321,
          2437.99,
          2197.05,
          2200,
          2131.51,
          2046.74,
          2033.16,
          1840.79,
          1918.65,
          1994.4,
          1919,
          1965.35,
          2039.99,
          2019.9,
          2047.72,
          2169,
          2173.37,
          2192.98,
          2189.28,
          2325.46,
          2411.19,
          2350,
          2324.44,
          2389.22,
          2239.69,
          2159.43,
          2277.44,
          2288,
          2247.03,
          2143.67,
          1988.62,
          1851.97,
          2019.39,
          2035.39,
          2045,
          1996.67,
          2259.1,
          2275.78,
          2279,
          2377.8,
          2459.53,
          2555,
          2640,
          2609.02,
          2550,
          2452.58,
          2499.34,
          2625,
          2628.16,
          2621.91,
          2849.15,
          2745.36,
          2816.92,
          2859.85,
          2890,
          2803,
          2748,
          2720,
          2480.69,
          2574.86,
          2762.91,
          2893.96,
          2913.68,
          2768,
          2678.25,
          2382,
          2486.29,
          2950,
          2999.99,
          3444.96,
          3567.4,
          3590,
          3878.23,
          4138,
          4177.77,
          4055.62,
          4384.43,
          4183.25,
          4213.85,
          3984,
          3962.44,
          3595.07,
          3610.91,
          3550,
          3534.5,
          3457.75,
          2986,
          2955.9,
          2800,
          2800,
          2762.59,
          2683,
          2542.04,
          2358.22,
          2371.18,
          2442.29,
          2646.2,
          2471.72,
          2349.5,
          2282.6,
          2341,
          2497.84,
          2548,
          2546.82,
          2446.91,
          2317.3,
          2199.11,
          2163.18,
          2195,
          2100,
          2084.54,
          2128.99,
          2151,
          2131.27,
          2093.07,
          2139.33,
          2145,
          1982.21,
          1948,
          1860,
          1841.88,
          1725.71,
          1732.85,
          1700.7,
          1622.27,
          1740.91,
          1723.61,
          1806.39,
          1818.86,
          1869,
          1840.69,
          1850,
          1841.13,
          1819.2,
          1893.75,
          1931.97,
          1944,
          1841.96,
          1847,
          1879,
          1872.26,
          1843.99,
          1735,
          1673.02,
          1551.19,
          1625,
          1657.91,
          1605.89,
          1574.28,
          1469.96,
          1526.82,
          1564.11,
          1672.49,
          1714,
          1783.22,
          1938.95,
          1976.72,
          2041.42,
          1974.98,
          1950.3,
          1857.61,
          1825,
          1836,
          1852.47,
          1877.88,
          1868.9,
          1819,
          1839,
          1824.23,
          1780,
          1695.38,
          1745.25,
          1763.93,
          1699,
          1672.21,
          1549,
          1378.02,
          1382,
          1408.97,
          1442.88,
          1363.27,
          1375.91,
          1378.12,
          1477.3,
          1401.92,
          1272,
          1275.99,
          1390,
          1408.5,
          1440,
          1261,
          1268.83,
          1294,
          1255.59,
          1246.99,
          1137.75,
          1150,
          1260.24,
          1350.88,
          1310,
          1275,
          1291.94,
          1215.98,
          1136.93,
          1168.99,
          1015.14,
          789.21,
          750,
          755.9,
          759,
          739.66,
          747,
          714.99,
          652.7,
          633.97,
          614.99,
          638.75,
          638.5,
          648.35,
          661.4,
          672.06,
          664.46,
          677.05,
          639.58,
          597.04,
          591.71,
          595.21,
          574.33,
          560.62,
          575.62,
          578.67,
          595.47,
          603.4,
          607.46,
          597.88,
          620.56,
          624.57
         ],
         "low": [
          2804.4,
          2925,
          2741.34,
          2800.01,
          2735,
          3035.83,
          2738.24,
          2651,
          2911.81,
          3278,
          3369.53,
          3350.06,
          3482.97,
          3359.96,
          3270.74,
          3111.14,
          3231.75,
          3199.88,
          3142.67,
          3393.17,
          3216,
          3009,
          3868,
          3835.7,
          3834.57,
          3710.59,
          3722.65,
          3384.24,
          3190.56,
          3145.45,
          3153.75,
          3212.01,
          3050,
          3056,
          3079.92,
          3133.45,
          3233.19,
          3128.82,
          3206.96,
          3178.65,
          2960,
          2951,
          2992.15,
          3135,
          3112.96,
          3206.96,
          3034.52,
          2980,
          3122.22,
          3051,
          2892.5,
          2948.76,
          2866.58,
          2721,
          2530.69,
          2455.94,
          2445.58,
          2503.7,
          2511.5,
          2422.31,
          2317.51,
          2267.78,
          2245.1,
          2152,
          2172.99,
          2108.08,
          2107.13,
          1995,
          1948.68,
          1754.27,
          1718.41,
          1805.47,
          1878.67,
          1847,
          1850.15,
          1880,
          1865.5,
          1917.4,
          2002,
          2081.51,
          2075,
          2050,
          2084,
          2294.16,
          2195.02,
          2160,
          2190.56,
          2113.18,
          2017.07,
          2072.06,
          2089.16,
          2074.53,
          1957.24,
          1807.89,
          1717.41,
          1792,
          1884.77,
          1823.97,
          1700,
          1864.5,
          2042.5,
          2162.72,
          2125.12,
          2306.35,
          2351.01,
          2506.23,
          2461.63,
          2309.67,
          2257.07,
          2322.16,
          2428.16,
          2406.33,
          2306.52,
          2575,
          2615,
          2552.18,
          2554.39,
          2663.02,
          2552.28,
          2527.88,
          2275.22,
          2182.2,
          2207.74,
          2329.2,
          2639.32,
          2647.21,
          2383.39,
          2072.15,
          1728,
          2156,
          2105,
          2156,
          1860,
          3241.06,
          3101,
          3334.88,
          3632,
          3695,
          3525.62,
          3700,
          3760,
          3650.01,
          3726.29,
          3455,
          3356.69,
          3381.11,
          3201.33,
          3166.12,
          2952.08,
          2855.29,
          2757.28,
          2727,
          2672,
          2551,
          2484.56,
          2306.03,
          2166,
          2158.36,
          2040,
          2304,
          2237.02,
          2054.25,
          2050,
          2000,
          2305.55,
          2305,
          2401.25,
          2283.26,
          2135.9,
          2102.55,
          2112.58,
          2057.2,
          2048.41,
          1949.34,
          1929.69,
          2046.08,
          2003.1,
          1980,
          2000,
          1948.67,
          1886.11,
          1771.94,
          1785.77,
          1675.28,
          1662,
          1666.4,
          1586.81,
          1548.69,
          1545.77,
          1651.58,
          1657.17,
          1748.25,
          1800.55,
          1734.29,
          1758.4,
          1742,
          1706.25,
          1734.87,
          1836.61,
          1728.3,
          1721.15,
          1725,
          1756.29,
          1800,
          1664.08,
          1631.07,
          1512.45,
          1442.32,
          1504.06,
          1476.72,
          1455.86,
          1412.61,
          1292.76,
          1420,
          1400.01,
          1458.5,
          1500.28,
          1356,
          1507.34,
          1885,
          1811.25,
          1890,
          1851.47,
          1733.87,
          1725,
          1659.93,
          1785.07,
          1766.15,
          1741.29,
          1704.23,
          1680,
          1710.01,
          1565.98,
          1493.28,
          1646.7,
          1589.17,
          1556,
          1509.48,
          1360.27,
          1271.31,
          1283,
          1327,
          1286.56,
          1220.08,
          1206.05,
          1245,
          1293.65,
          1221.66,
          1196.74,
          1039.62,
          1081,
          1234.01,
          1252.01,
          1181.9,
          1165.78,
          1152.3,
          1065,
          1087.05,
          980,
          1006.83,
          905,
          1153,
          1172.86,
          1063.18,
          1140,
          1058.32,
          975,
          886.33,
          770,
          715.22,
          717.1,
          724,
          717,
          688,
          680.9,
          625.01,
          615.22,
          604.26,
          565.61,
          551.45,
          587.54,
          596.9,
          621.46,
          646.54,
          629.59,
          626.79,
          581.21,
          579.15,
          575.58,
          563.79,
          543.22,
          535.5,
          547.83,
          530.32,
          548.12,
          584.54,
          583.31,
          561.15,
          566,
          586.11
         ],
         "open": [
          2926.27,
          3059.92,
          2923.91,
          2930.59,
          3154.42,
          3078.42,
          2765.33,
          2976.36,
          3328.7,
          3436.59,
          3400,
          3568.77,
          3615.68,
          3436.29,
          3285.66,
          3403.81,
          3266.97,
          3209.29,
          3424.32,
          3499.54,
          3436.75,
          3928.72,
          3951.68,
          3887.58,
          3940.06,
          3788.2,
          3829.29,
          3430,
          3229.02,
          3226.45,
          3247.99,
          3275.32,
          3092.71,
          3228.51,
          3170.94,
          3322.76,
          3241.41,
          3226.38,
          3286.82,
          3184.32,
          3014.38,
          3011.77,
          3146.6,
          3311.02,
          3266.52,
          3324.51,
          3047.21,
          3162.16,
          3142.18,
          3162.33,
          3014.12,
          3163.09,
          2892.83,
          2829.49,
          2724.71,
          2508.16,
          2608.12,
          2555.99,
          2533.54,
          2463.88,
          2383.47,
          2300.76,
          2300.28,
          2228.71,
          2192.38,
          2186.76,
          2125.82,
          2024.75,
          1996.21,
          1786.51,
          1818.45,
          1891.46,
          1899.75,
          1877.22,
          1918.99,
          1994.12,
          1940.34,
          2030.74,
          2141.45,
          2110.56,
          2147.38,
          2116.3,
          2317.64,
          2322.2,
          2197.34,
          2323.27,
          2227.46,
          2156,
          2107.75,
          2276.74,
          2165.64,
          2083.99,
          1984.84,
          1829,
          1809.07,
          1988.81,
          1968.36,
          1881.24,
          1885.49,
          2242.89,
          2165.13,
          2234.8,
          2373.33,
          2368.24,
          2543.57,
          2582.45,
          2510.22,
          2371.85,
          2355.11,
          2471.59,
          2611.4,
          2509.1,
          2592.47,
          2710.97,
          2629.45,
          2691.13,
          2856.73,
          2706.87,
          2634.46,
          2707.87,
          2387.65,
          2280.78,
          2413.28,
          2745.25,
          2889.43,
          2707.75,
          2651.57,
          2100.07,
          2296.68,
          2434.86,
          2775.06,
          2443.91,
          3376.98,
          3283.32,
          3584.79,
          3648.16,
          4080.51,
          3719.22,
          3826.37,
          4179.77,
          3949.45,
          3928.41,
          3917.26,
          3484.69,
          3492.33,
          3529.96,
          3239.61,
          3433.99,
          2952.21,
          2948.92,
          2776.76,
          2758.92,
          2751.56,
          2667.86,
          2533.99,
          2322.43,
          2216.18,
          2369.8,
          2399.21,
          2357.74,
          2332.18,
          2163.69,
          2241.67,
          2319.11,
          2426.64,
          2517.03,
          2432.16,
          2300.01,
          2138.02,
          2150.54,
          2133.07,
          2066.5,
          2081.29,
          1964.69,
          2113.55,
          2107.45,
          2076.31,
          2008.97,
          2134.38,
          1968.74,
          1919.99,
          1841.03,
          1815.73,
          1686.92,
          1713.96,
          1699.97,
          1587.01,
          1581.97,
          1668.37,
          1681.4,
          1784.11,
          1806.04,
          1808.95,
          1776.4,
          1824.45,
          1805.7,
          1794.08,
          1848.56,
          1921.76,
          1766.76,
          1826.53,
          1795.55,
          1871.93,
          1834.88,
          1727.95,
          1651.75,
          1528.82,
          1539.53,
          1568.4,
          1488.34,
          1571.87,
          1421.8,
          1460.49,
          1445.09,
          1482.05,
          1625.27,
          1577.84,
          1778.33,
          1935.67,
          1915.01,
          1957.9,
          1939.64,
          1851.9,
          1782.14,
          1780.59,
          1803.25,
          1817.85,
          1844.78,
          1787.33,
          1742.51,
          1771.91,
          1752.98,
          1615.51,
          1679.76,
          1721.06,
          1597.34,
          1668.71,
          1513.85,
          1374.55,
          1313.95,
          1380,
          1380.04,
          1333.61,
          1240.62,
          1367.97,
          1317.98,
          1394.04,
          1234.47,
          1233.42,
          1110.61,
          1377.15,
          1367.7,
          1258.55,
          1232.6,
          1227.76,
          1169.04,
          1231.59,
          1130.79,
          1050.46,
          1088.55,
          1255.1,
          1281.25,
          1217.31,
          1227.55,
          1212.68,
          1103.71,
          1042.24,
          980.44,
          775.29,
          730.97,
          737.89,
          752.87,
          731.79,
          729.65,
          684.11,
          636.85,
          626.71,
          612.25,
          585.37,
          636.73,
          608.07,
          638.19,
          658.8,
          654.66,
          643.26,
          637.91,
          589.08,
          586.4,
          590.45,
          568.64,
          544.51,
          559.33,
          573.26,
          554.8,
          591.53,
          601.97,
          597.29,
          567.76,
          616.46,
          597.03
         ],
         "type": "candlestick",
         "x": [
          "2021-09-28T00:00:00",
          "2021-09-27T00:00:00",
          "2021-09-26T00:00:00",
          "2021-09-25T00:00:00",
          "2021-09-24T00:00:00",
          "2021-09-23T00:00:00",
          "2021-09-22T00:00:00",
          "2021-09-21T00:00:00",
          "2021-09-20T00:00:00",
          "2021-09-19T00:00:00",
          "2021-09-18T00:00:00",
          "2021-09-17T00:00:00",
          "2021-09-16T00:00:00",
          "2021-09-15T00:00:00",
          "2021-09-14T00:00:00",
          "2021-09-13T00:00:00",
          "2021-09-12T00:00:00",
          "2021-09-11T00:00:00",
          "2021-09-10T00:00:00",
          "2021-09-09T00:00:00",
          "2021-09-08T00:00:00",
          "2021-09-07T00:00:00",
          "2021-09-06T00:00:00",
          "2021-09-05T00:00:00",
          "2021-09-04T00:00:00",
          "2021-09-03T00:00:00",
          "2021-09-02T00:00:00",
          "2021-09-01T00:00:00",
          "2021-08-31T00:00:00",
          "2021-08-30T00:00:00",
          "2021-08-29T00:00:00",
          "2021-08-28T00:00:00",
          "2021-08-27T00:00:00",
          "2021-08-26T00:00:00",
          "2021-08-25T00:00:00",
          "2021-08-24T00:00:00",
          "2021-08-23T00:00:00",
          "2021-08-22T00:00:00",
          "2021-08-21T00:00:00",
          "2021-08-20T00:00:00",
          "2021-08-19T00:00:00",
          "2021-08-18T00:00:00",
          "2021-08-17T00:00:00",
          "2021-08-16T00:00:00",
          "2021-08-15T00:00:00",
          "2021-08-14T00:00:00",
          "2021-08-13T00:00:00",
          "2021-08-12T00:00:00",
          "2021-08-11T00:00:00",
          "2021-08-10T00:00:00",
          "2021-08-09T00:00:00",
          "2021-08-08T00:00:00",
          "2021-08-07T00:00:00",
          "2021-08-06T00:00:00",
          "2021-08-05T00:00:00",
          "2021-08-04T00:00:00",
          "2021-08-03T00:00:00",
          "2021-08-02T00:00:00",
          "2021-08-01T00:00:00",
          "2021-07-31T00:00:00",
          "2021-07-30T00:00:00",
          "2021-07-29T00:00:00",
          "2021-07-28T00:00:00",
          "2021-07-27T00:00:00",
          "2021-07-26T00:00:00",
          "2021-07-25T00:00:00",
          "2021-07-24T00:00:00",
          "2021-07-23T00:00:00",
          "2021-07-22T00:00:00",
          "2021-07-21T00:00:00",
          "2021-07-20T00:00:00",
          "2021-07-19T00:00:00",
          "2021-07-18T00:00:00",
          "2021-07-17T00:00:00",
          "2021-07-16T00:00:00",
          "2021-07-15T00:00:00",
          "2021-07-14T00:00:00",
          "2021-07-13T00:00:00",
          "2021-07-12T00:00:00",
          "2021-07-11T00:00:00",
          "2021-07-10T00:00:00",
          "2021-07-09T00:00:00",
          "2021-07-08T00:00:00",
          "2021-07-07T00:00:00",
          "2021-07-06T00:00:00",
          "2021-07-05T00:00:00",
          "2021-07-04T00:00:00",
          "2021-07-03T00:00:00",
          "2021-07-02T00:00:00",
          "2021-07-01T00:00:00",
          "2021-06-30T00:00:00",
          "2021-06-29T00:00:00",
          "2021-06-28T00:00:00",
          "2021-06-27T00:00:00",
          "2021-06-26T00:00:00",
          "2021-06-25T00:00:00",
          "2021-06-24T00:00:00",
          "2021-06-23T00:00:00",
          "2021-06-22T00:00:00",
          "2021-06-21T00:00:00",
          "2021-06-20T00:00:00",
          "2021-06-19T00:00:00",
          "2021-06-18T00:00:00",
          "2021-06-17T00:00:00",
          "2021-06-16T00:00:00",
          "2021-06-15T00:00:00",
          "2021-06-14T00:00:00",
          "2021-06-13T00:00:00",
          "2021-06-12T00:00:00",
          "2021-06-11T00:00:00",
          "2021-06-10T00:00:00",
          "2021-06-09T00:00:00",
          "2021-06-08T00:00:00",
          "2021-06-07T00:00:00",
          "2021-06-06T00:00:00",
          "2021-06-05T00:00:00",
          "2021-06-04T00:00:00",
          "2021-06-03T00:00:00",
          "2021-06-02T00:00:00",
          "2021-06-01T00:00:00",
          "2021-05-31T00:00:00",
          "2021-05-30T00:00:00",
          "2021-05-29T00:00:00",
          "2021-05-28T00:00:00",
          "2021-05-27T00:00:00",
          "2021-05-26T00:00:00",
          "2021-05-25T00:00:00",
          "2021-05-24T00:00:00",
          "2021-05-23T00:00:00",
          "2021-05-22T00:00:00",
          "2021-05-21T00:00:00",
          "2021-05-20T00:00:00",
          "2021-05-19T00:00:00",
          "2021-05-18T00:00:00",
          "2021-05-17T00:00:00",
          "2021-05-16T00:00:00",
          "2021-05-15T00:00:00",
          "2021-05-14T00:00:00",
          "2021-05-13T00:00:00",
          "2021-05-12T00:00:00",
          "2021-05-11T00:00:00",
          "2021-05-10T00:00:00",
          "2021-05-09T00:00:00",
          "2021-05-08T00:00:00",
          "2021-05-07T00:00:00",
          "2021-05-06T00:00:00",
          "2021-05-05T00:00:00",
          "2021-05-04T00:00:00",
          "2021-05-03T00:00:00",
          "2021-05-02T00:00:00",
          "2021-05-01T00:00:00",
          "2021-04-30T00:00:00",
          "2021-04-29T00:00:00",
          "2021-04-28T00:00:00",
          "2021-04-27T00:00:00",
          "2021-04-26T00:00:00",
          "2021-04-25T00:00:00",
          "2021-04-24T00:00:00",
          "2021-04-23T00:00:00",
          "2021-04-22T00:00:00",
          "2021-04-21T00:00:00",
          "2021-04-20T00:00:00",
          "2021-04-19T00:00:00",
          "2021-04-18T00:00:00",
          "2021-04-17T00:00:00",
          "2021-04-16T00:00:00",
          "2021-04-15T00:00:00",
          "2021-04-14T00:00:00",
          "2021-04-13T00:00:00",
          "2021-04-12T00:00:00",
          "2021-04-11T00:00:00",
          "2021-04-10T00:00:00",
          "2021-04-09T00:00:00",
          "2021-04-08T00:00:00",
          "2021-04-07T00:00:00",
          "2021-04-06T00:00:00",
          "2021-04-05T00:00:00",
          "2021-04-04T00:00:00",
          "2021-04-03T00:00:00",
          "2021-04-02T00:00:00",
          "2021-04-01T00:00:00",
          "2021-03-31T00:00:00",
          "2021-03-30T00:00:00",
          "2021-03-29T00:00:00",
          "2021-03-28T00:00:00",
          "2021-03-27T00:00:00",
          "2021-03-26T00:00:00",
          "2021-03-25T00:00:00",
          "2021-03-24T00:00:00",
          "2021-03-23T00:00:00",
          "2021-03-22T00:00:00",
          "2021-03-21T00:00:00",
          "2021-03-20T00:00:00",
          "2021-03-19T00:00:00",
          "2021-03-18T00:00:00",
          "2021-03-17T00:00:00",
          "2021-03-16T00:00:00",
          "2021-03-15T00:00:00",
          "2021-03-14T00:00:00",
          "2021-03-13T00:00:00",
          "2021-03-12T00:00:00",
          "2021-03-11T00:00:00",
          "2021-03-10T00:00:00",
          "2021-03-09T00:00:00",
          "2021-03-08T00:00:00",
          "2021-03-07T00:00:00",
          "2021-03-06T00:00:00",
          "2021-03-05T00:00:00",
          "2021-03-04T00:00:00",
          "2021-03-03T00:00:00",
          "2021-03-02T00:00:00",
          "2021-03-01T00:00:00",
          "2021-02-28T00:00:00",
          "2021-02-27T00:00:00",
          "2021-02-26T00:00:00",
          "2021-02-25T00:00:00",
          "2021-02-24T00:00:00",
          "2021-02-23T00:00:00",
          "2021-02-22T00:00:00",
          "2021-02-21T00:00:00",
          "2021-02-20T00:00:00",
          "2021-02-19T00:00:00",
          "2021-02-18T00:00:00",
          "2021-02-17T00:00:00",
          "2021-02-16T00:00:00",
          "2021-02-15T00:00:00",
          "2021-02-14T00:00:00",
          "2021-02-13T00:00:00",
          "2021-02-12T00:00:00",
          "2021-02-11T00:00:00",
          "2021-02-10T00:00:00",
          "2021-02-09T00:00:00",
          "2021-02-08T00:00:00",
          "2021-02-07T00:00:00",
          "2021-02-06T00:00:00",
          "2021-02-05T00:00:00",
          "2021-02-04T00:00:00",
          "2021-02-03T00:00:00",
          "2021-02-02T00:00:00",
          "2021-02-01T00:00:00",
          "2021-01-31T00:00:00",
          "2021-01-30T00:00:00",
          "2021-01-29T00:00:00",
          "2021-01-28T00:00:00",
          "2021-01-27T00:00:00",
          "2021-01-26T00:00:00",
          "2021-01-25T00:00:00",
          "2021-01-24T00:00:00",
          "2021-01-23T00:00:00",
          "2021-01-22T00:00:00",
          "2021-01-21T00:00:00",
          "2021-01-20T00:00:00",
          "2021-01-19T00:00:00",
          "2021-01-18T00:00:00",
          "2021-01-17T00:00:00",
          "2021-01-16T00:00:00",
          "2021-01-15T00:00:00",
          "2021-01-14T00:00:00",
          "2021-01-13T00:00:00",
          "2021-01-12T00:00:00",
          "2021-01-11T00:00:00",
          "2021-01-10T00:00:00",
          "2021-01-09T00:00:00",
          "2021-01-08T00:00:00",
          "2021-01-07T00:00:00",
          "2021-01-06T00:00:00",
          "2021-01-05T00:00:00",
          "2021-01-04T00:00:00",
          "2021-01-03T00:00:00",
          "2021-01-02T00:00:00",
          "2021-01-01T00:00:00",
          "2020-12-31T00:00:00",
          "2020-12-30T00:00:00",
          "2020-12-29T00:00:00",
          "2020-12-28T00:00:00",
          "2020-12-27T00:00:00",
          "2020-12-26T00:00:00",
          "2020-12-25T00:00:00",
          "2020-12-24T00:00:00",
          "2020-12-23T00:00:00",
          "2020-12-22T00:00:00",
          "2020-12-21T00:00:00",
          "2020-12-20T00:00:00",
          "2020-12-19T00:00:00",
          "2020-12-18T00:00:00",
          "2020-12-17T00:00:00",
          "2020-12-16T00:00:00",
          "2020-12-15T00:00:00",
          "2020-12-14T00:00:00",
          "2020-12-13T00:00:00",
          "2020-12-12T00:00:00",
          "2020-12-11T00:00:00",
          "2020-12-10T00:00:00",
          "2020-12-09T00:00:00",
          "2020-12-08T00:00:00",
          "2020-12-07T00:00:00",
          "2020-12-06T00:00:00",
          "2020-12-05T00:00:00",
          "2020-12-04T00:00:00",
          "2020-12-03T00:00:00"
         ]
        }
       ],
       "layout": {
        "template": {
         "data": {
          "bar": [
           {
            "error_x": {
             "color": "#2a3f5f"
            },
            "error_y": {
             "color": "#2a3f5f"
            },
            "marker": {
             "line": {
              "color": "#E5ECF6",
              "width": 0.5
             }
            },
            "type": "bar"
           }
          ],
          "barpolar": [
           {
            "marker": {
             "line": {
              "color": "#E5ECF6",
              "width": 0.5
             }
            },
            "type": "barpolar"
           }
          ],
          "carpet": [
           {
            "aaxis": {
             "endlinecolor": "#2a3f5f",
             "gridcolor": "white",
             "linecolor": "white",
             "minorgridcolor": "white",
             "startlinecolor": "#2a3f5f"
            },
            "baxis": {
             "endlinecolor": "#2a3f5f",
             "gridcolor": "white",
             "linecolor": "white",
             "minorgridcolor": "white",
             "startlinecolor": "#2a3f5f"
            },
            "type": "carpet"
           }
          ],
          "choropleth": [
           {
            "colorbar": {
             "outlinewidth": 0,
             "ticks": ""
            },
            "type": "choropleth"
           }
          ],
          "contour": [
           {
            "colorbar": {
             "outlinewidth": 0,
             "ticks": ""
            },
            "colorscale": [
             [
              0,
              "#0d0887"
             ],
             [
              0.1111111111111111,
              "#46039f"
             ],
             [
              0.2222222222222222,
              "#7201a8"
             ],
             [
              0.3333333333333333,
              "#9c179e"
             ],
             [
              0.4444444444444444,
              "#bd3786"
             ],
             [
              0.5555555555555556,
              "#d8576b"
             ],
             [
              0.6666666666666666,
              "#ed7953"
             ],
             [
              0.7777777777777778,
              "#fb9f3a"
             ],
             [
              0.8888888888888888,
              "#fdca26"
             ],
             [
              1,
              "#f0f921"
             ]
            ],
            "type": "contour"
           }
          ],
          "contourcarpet": [
           {
            "colorbar": {
             "outlinewidth": 0,
             "ticks": ""
            },
            "type": "contourcarpet"
           }
          ],
          "heatmap": [
           {
            "colorbar": {
             "outlinewidth": 0,
             "ticks": ""
            },
            "colorscale": [
             [
              0,
              "#0d0887"
             ],
             [
              0.1111111111111111,
              "#46039f"
             ],
             [
              0.2222222222222222,
              "#7201a8"
             ],
             [
              0.3333333333333333,
              "#9c179e"
             ],
             [
              0.4444444444444444,
              "#bd3786"
             ],
             [
              0.5555555555555556,
              "#d8576b"
             ],
             [
              0.6666666666666666,
              "#ed7953"
             ],
             [
              0.7777777777777778,
              "#fb9f3a"
             ],
             [
              0.8888888888888888,
              "#fdca26"
             ],
             [
              1,
              "#f0f921"
             ]
            ],
            "type": "heatmap"
           }
          ],
          "heatmapgl": [
           {
            "colorbar": {
             "outlinewidth": 0,
             "ticks": ""
            },
            "colorscale": [
             [
              0,
              "#0d0887"
             ],
             [
              0.1111111111111111,
              "#46039f"
             ],
             [
              0.2222222222222222,
              "#7201a8"
             ],
             [
              0.3333333333333333,
              "#9c179e"
             ],
             [
              0.4444444444444444,
              "#bd3786"
             ],
             [
              0.5555555555555556,
              "#d8576b"
             ],
             [
              0.6666666666666666,
              "#ed7953"
             ],
             [
              0.7777777777777778,
              "#fb9f3a"
             ],
             [
              0.8888888888888888,
              "#fdca26"
             ],
             [
              1,
              "#f0f921"
             ]
            ],
            "type": "heatmapgl"
           }
          ],
          "histogram": [
           {
            "marker": {
             "colorbar": {
              "outlinewidth": 0,
              "ticks": ""
             }
            },
            "type": "histogram"
           }
          ],
          "histogram2d": [
           {
            "colorbar": {
             "outlinewidth": 0,
             "ticks": ""
            },
            "colorscale": [
             [
              0,
              "#0d0887"
             ],
             [
              0.1111111111111111,
              "#46039f"
             ],
             [
              0.2222222222222222,
              "#7201a8"
             ],
             [
              0.3333333333333333,
              "#9c179e"
             ],
             [
              0.4444444444444444,
              "#bd3786"
             ],
             [
              0.5555555555555556,
              "#d8576b"
             ],
             [
              0.6666666666666666,
              "#ed7953"
             ],
             [
              0.7777777777777778,
              "#fb9f3a"
             ],
             [
              0.8888888888888888,
              "#fdca26"
             ],
             [
              1,
              "#f0f921"
             ]
            ],
            "type": "histogram2d"
           }
          ],
          "histogram2dcontour": [
           {
            "colorbar": {
             "outlinewidth": 0,
             "ticks": ""
            },
            "colorscale": [
             [
              0,
              "#0d0887"
             ],
             [
              0.1111111111111111,
              "#46039f"
             ],
             [
              0.2222222222222222,
              "#7201a8"
             ],
             [
              0.3333333333333333,
              "#9c179e"
             ],
             [
              0.4444444444444444,
              "#bd3786"
             ],
             [
              0.5555555555555556,
              "#d8576b"
             ],
             [
              0.6666666666666666,
              "#ed7953"
             ],
             [
              0.7777777777777778,
              "#fb9f3a"
             ],
             [
              0.8888888888888888,
              "#fdca26"
             ],
             [
              1,
              "#f0f921"
             ]
            ],
            "type": "histogram2dcontour"
           }
          ],
          "mesh3d": [
           {
            "colorbar": {
             "outlinewidth": 0,
             "ticks": ""
            },
            "type": "mesh3d"
           }
          ],
          "parcoords": [
           {
            "line": {
             "colorbar": {
              "outlinewidth": 0,
              "ticks": ""
             }
            },
            "type": "parcoords"
           }
          ],
          "pie": [
           {
            "automargin": true,
            "type": "pie"
           }
          ],
          "scatter": [
           {
            "marker": {
             "colorbar": {
              "outlinewidth": 0,
              "ticks": ""
             }
            },
            "type": "scatter"
           }
          ],
          "scatter3d": [
           {
            "line": {
             "colorbar": {
              "outlinewidth": 0,
              "ticks": ""
             }
            },
            "marker": {
             "colorbar": {
              "outlinewidth": 0,
              "ticks": ""
             }
            },
            "type": "scatter3d"
           }
          ],
          "scattercarpet": [
           {
            "marker": {
             "colorbar": {
              "outlinewidth": 0,
              "ticks": ""
             }
            },
            "type": "scattercarpet"
           }
          ],
          "scattergeo": [
           {
            "marker": {
             "colorbar": {
              "outlinewidth": 0,
              "ticks": ""
             }
            },
            "type": "scattergeo"
           }
          ],
          "scattergl": [
           {
            "marker": {
             "colorbar": {
              "outlinewidth": 0,
              "ticks": ""
             }
            },
            "type": "scattergl"
           }
          ],
          "scattermapbox": [
           {
            "marker": {
             "colorbar": {
              "outlinewidth": 0,
              "ticks": ""
             }
            },
            "type": "scattermapbox"
           }
          ],
          "scatterpolar": [
           {
            "marker": {
             "colorbar": {
              "outlinewidth": 0,
              "ticks": ""
             }
            },
            "type": "scatterpolar"
           }
          ],
          "scatterpolargl": [
           {
            "marker": {
             "colorbar": {
              "outlinewidth": 0,
              "ticks": ""
             }
            },
            "type": "scatterpolargl"
           }
          ],
          "scatterternary": [
           {
            "marker": {
             "colorbar": {
              "outlinewidth": 0,
              "ticks": ""
             }
            },
            "type": "scatterternary"
           }
          ],
          "surface": [
           {
            "colorbar": {
             "outlinewidth": 0,
             "ticks": ""
            },
            "colorscale": [
             [
              0,
              "#0d0887"
             ],
             [
              0.1111111111111111,
              "#46039f"
             ],
             [
              0.2222222222222222,
              "#7201a8"
             ],
             [
              0.3333333333333333,
              "#9c179e"
             ],
             [
              0.4444444444444444,
              "#bd3786"
             ],
             [
              0.5555555555555556,
              "#d8576b"
             ],
             [
              0.6666666666666666,
              "#ed7953"
             ],
             [
              0.7777777777777778,
              "#fb9f3a"
             ],
             [
              0.8888888888888888,
              "#fdca26"
             ],
             [
              1,
              "#f0f921"
             ]
            ],
            "type": "surface"
           }
          ],
          "table": [
           {
            "cells": {
             "fill": {
              "color": "#EBF0F8"
             },
             "line": {
              "color": "white"
             }
            },
            "header": {
             "fill": {
              "color": "#C8D4E3"
             },
             "line": {
              "color": "white"
             }
            },
            "type": "table"
           }
          ]
         },
         "layout": {
          "annotationdefaults": {
           "arrowcolor": "#2a3f5f",
           "arrowhead": 0,
           "arrowwidth": 1
          },
          "autotypenumbers": "strict",
          "coloraxis": {
           "colorbar": {
            "outlinewidth": 0,
            "ticks": ""
           }
          },
          "colorscale": {
           "diverging": [
            [
             0,
             "#8e0152"
            ],
            [
             0.1,
             "#c51b7d"
            ],
            [
             0.2,
             "#de77ae"
            ],
            [
             0.3,
             "#f1b6da"
            ],
            [
             0.4,
             "#fde0ef"
            ],
            [
             0.5,
             "#f7f7f7"
            ],
            [
             0.6,
             "#e6f5d0"
            ],
            [
             0.7,
             "#b8e186"
            ],
            [
             0.8,
             "#7fbc41"
            ],
            [
             0.9,
             "#4d9221"
            ],
            [
             1,
             "#276419"
            ]
           ],
           "sequential": [
            [
             0,
             "#0d0887"
            ],
            [
             0.1111111111111111,
             "#46039f"
            ],
            [
             0.2222222222222222,
             "#7201a8"
            ],
            [
             0.3333333333333333,
             "#9c179e"
            ],
            [
             0.4444444444444444,
             "#bd3786"
            ],
            [
             0.5555555555555556,
             "#d8576b"
            ],
            [
             0.6666666666666666,
             "#ed7953"
            ],
            [
             0.7777777777777778,
             "#fb9f3a"
            ],
            [
             0.8888888888888888,
             "#fdca26"
            ],
            [
             1,
             "#f0f921"
            ]
           ],
           "sequentialminus": [
            [
             0,
             "#0d0887"
            ],
            [
             0.1111111111111111,
             "#46039f"
            ],
            [
             0.2222222222222222,
             "#7201a8"
            ],
            [
             0.3333333333333333,
             "#9c179e"
            ],
            [
             0.4444444444444444,
             "#bd3786"
            ],
            [
             0.5555555555555556,
             "#d8576b"
            ],
            [
             0.6666666666666666,
             "#ed7953"
            ],
            [
             0.7777777777777778,
             "#fb9f3a"
            ],
            [
             0.8888888888888888,
             "#fdca26"
            ],
            [
             1,
             "#f0f921"
            ]
           ]
          },
          "colorway": [
           "#636efa",
           "#EF553B",
           "#00cc96",
           "#ab63fa",
           "#FFA15A",
           "#19d3f3",
           "#FF6692",
           "#B6E880",
           "#FF97FF",
           "#FECB52"
          ],
          "font": {
           "color": "#2a3f5f"
          },
          "geo": {
           "bgcolor": "white",
           "lakecolor": "white",
           "landcolor": "#E5ECF6",
           "showlakes": true,
           "showland": true,
           "subunitcolor": "white"
          },
          "hoverlabel": {
           "align": "left"
          },
          "hovermode": "closest",
          "mapbox": {
           "style": "light"
          },
          "paper_bgcolor": "white",
          "plot_bgcolor": "#E5ECF6",
          "polar": {
           "angularaxis": {
            "gridcolor": "white",
            "linecolor": "white",
            "ticks": ""
           },
           "bgcolor": "#E5ECF6",
           "radialaxis": {
            "gridcolor": "white",
            "linecolor": "white",
            "ticks": ""
           }
          },
          "scene": {
           "xaxis": {
            "backgroundcolor": "#E5ECF6",
            "gridcolor": "white",
            "gridwidth": 2,
            "linecolor": "white",
            "showbackground": true,
            "ticks": "",
            "zerolinecolor": "white"
           },
           "yaxis": {
            "backgroundcolor": "#E5ECF6",
            "gridcolor": "white",
            "gridwidth": 2,
            "linecolor": "white",
            "showbackground": true,
            "ticks": "",
            "zerolinecolor": "white"
           },
           "zaxis": {
            "backgroundcolor": "#E5ECF6",
            "gridcolor": "white",
            "gridwidth": 2,
            "linecolor": "white",
            "showbackground": true,
            "ticks": "",
            "zerolinecolor": "white"
           }
          },
          "shapedefaults": {
           "line": {
            "color": "#2a3f5f"
           }
          },
          "ternary": {
           "aaxis": {
            "gridcolor": "white",
            "linecolor": "white",
            "ticks": ""
           },
           "baxis": {
            "gridcolor": "white",
            "linecolor": "white",
            "ticks": ""
           },
           "bgcolor": "#E5ECF6",
           "caxis": {
            "gridcolor": "white",
            "linecolor": "white",
            "ticks": ""
           }
          },
          "title": {
           "x": 0.05
          },
          "xaxis": {
           "automargin": true,
           "gridcolor": "white",
           "linecolor": "white",
           "ticks": "",
           "title": {
            "standoff": 15
           },
           "zerolinecolor": "white",
           "zerolinewidth": 2
          },
          "yaxis": {
           "automargin": true,
           "gridcolor": "white",
           "linecolor": "white",
           "ticks": "",
           "title": {
            "standoff": 15
           },
           "zerolinecolor": "white",
           "zerolinewidth": 2
          }
         }
        },
        "title": {
         "text": "ETH Price In USD",
         "x": 0.5
        },
        "xaxis": {
         "title": {
          "text": "Date"
         }
        },
        "yaxis": {
         "title": {
          "text": "ETH Price"
         }
        }
       }
      },
      "text/html": [
       "<div>                            <div id=\"6eb57fc8-62de-4a33-bee3-ff86a385ceae\" class=\"plotly-graph-div\" style=\"height:525px; width:100%;\"></div>            <script type=\"text/javascript\">                require([\"plotly\"], function(Plotly) {                    window.PLOTLYENV=window.PLOTLYENV || {};                                    if (document.getElementById(\"6eb57fc8-62de-4a33-bee3-ff86a385ceae\")) {                    Plotly.newPlot(                        \"6eb57fc8-62de-4a33-bee3-ff86a385ceae\",                        [{\"close\": [2823.71, 2925.27, 3060.71, 2924.01, 2930.61, 3154.62, 3078.43, 2765.69, 2976.48, 3328.59, 3436.31, 3400.0, 3568.66, 3615.65, 3436.29, 3286.2, 3403.75, 3266.77, 3209.82, 3424.95, 3500.34, 3436.96, 3928.89, 3952.17, 3887.53, 3940.06, 3787.97, 3829.39, 3430.23, 3229.01, 3226.46, 3247.99, 3274.67, 3093.2, 3228.51, 3171.52, 3323.12, 3241.42, 3226.73, 3286.58, 3184.21, 3014.38, 3011.01, 3146.6, 3310.93, 3266.52, 3324.51, 3047.21, 3162.61, 3142.09, 3162.34, 3014.13, 3163.09, 2892.98, 2829.35, 2724.71, 2508.31, 2608.12, 2555.43, 2533.74, 2463.9, 2383.32, 2300.42, 2300.59, 2228.26, 2193.03, 2185.95, 2125.81, 2024.75, 1996.18, 1786.46, 1818.44, 1891.46, 1899.75, 1877.22, 1918.07, 1994.11, 1940.76, 2030.72, 2140.82, 2110.55, 2147.38, 2116.95, 2316.82, 2321.84, 2197.34, 2323.15, 2226.95, 2156.0, 2107.01, 2276.72, 2166.18, 2083.79, 1984.71, 1829.17, 1809.07, 1988.81, 1968.37, 1881.65, 1885.67, 2242.9, 2164.72, 2234.47, 2373.33, 2367.73, 2543.58, 2582.86, 2510.23, 2371.49, 2355.27, 2471.59, 2611.27, 2509.11, 2592.47, 2710.97, 2629.75, 2690.68, 2856.68, 2706.64, 2634.42, 2707.12, 2387.66, 2280.72, 2413.81, 2745.51, 2889.84, 2707.56, 2651.24, 2099.58, 2297.19, 2434.86, 2775.07, 2443.91, 3375.96, 3283.32, 3585.62, 3649.54, 4080.51, 3719.23, 3826.37, 4179.76, 3949.45, 3928.44, 3917.26, 3484.7, 3492.75, 3529.97, 3240.01, 3433.99, 2952.09, 2948.92, 2776.45, 2758.92, 2751.59, 2667.86, 2534.0, 2322.16, 2216.72, 2370.05, 2399.99, 2357.21, 2332.6, 2163.82, 2241.46, 2318.7, 2426.64, 2517.03, 2432.54, 2299.92, 2138.03, 2150.54, 2133.08, 2066.03, 2081.29, 1964.23, 2113.0, 2106.98, 2076.36, 2009.25, 2134.68, 1968.38, 1920.0, 1841.16, 1815.73, 1686.92, 1713.88, 1700.1, 1587.08, 1581.79, 1668.09, 1681.02, 1784.0, 1806.47, 1809.38, 1776.4, 1824.74, 1806.03, 1795.07, 1848.9, 1921.61, 1767.79, 1827.04, 1795.37, 1871.99, 1834.58, 1728.22, 1651.83, 1528.82, 1539.69, 1567.86, 1488.34, 1571.82, 1422.02, 1460.57, 1445.18, 1482.62, 1625.3, 1577.83, 1778.66, 1935.57, 1915.46, 1957.68, 1939.64, 1852.0, 1781.97, 1779.62, 1803.75, 1818.01, 1845.0, 1787.32, 1742.93, 1772.16, 1752.98, 1615.32, 1679.77, 1721.06, 1597.55, 1668.72, 1513.67, 1374.6, 1313.94, 1380.0, 1379.87, 1333.19, 1240.96, 1367.98, 1317.97, 1394.0, 1234.55, 1233.6, 1110.62, 1376.88, 1368.04, 1258.48, 1232.99, 1227.14, 1168.1, 1231.32, 1130.8, 1049.79, 1088.79, 1255.13, 1281.45, 1217.35, 1227.34, 1212.02, 1103.73, 1042.38, 980.44, 775.3, 730.99, 737.67, 752.86, 731.76, 729.7, 684.12, 636.52, 626.75, 612.27, 585.11, 636.82, 608.07, 638.4, 658.96, 654.66, 643.37, 637.98, 589.08, 586.39, 590.75, 568.64, 544.23, 559.45, 573.38, 554.79, 591.47, 601.95, 597.29, 567.6, 616.65], \"high\": [2971.16, 3168.03, 3117.48, 2968.85, 3160.48, 3182.34, 3090.83, 3104.82, 3346.58, 3457.22, 3543.0, 3595.0, 3675.92, 3621.15, 3439.15, 3430.0, 3472.99, 3349.43, 3514.37, 3568.59, 3562.98, 3948.0, 3973.27, 3982.64, 3970.0, 4030.35, 3838.28, 3843.12, 3486.8, 3349.0, 3287.73, 3290.51, 3283.26, 3251.05, 3249.0, 3360.0, 3378.6, 3275.0, 3311.0, 3300.0, 3187.48, 3126.51, 3293.15, 3341.47, 3323.54, 3333.0, 3330.0, 3239.69, 3275.0, 3235.1, 3190.0, 3191.99, 3173.72, 2949.21, 2845.0, 2771.42, 2633.0, 2666.36, 2699.0, 2555.0, 2474.82, 2399.99, 2347.88, 2321.0, 2437.99, 2197.05, 2200.0, 2131.51, 2046.74, 2033.16, 1840.79, 1918.65, 1994.4, 1919.0, 1965.35, 2039.99, 2019.9, 2047.72, 2169.0, 2173.37, 2192.98, 2189.28, 2325.46, 2411.19, 2350.0, 2324.44, 2389.22, 2239.69, 2159.43, 2277.44, 2288.0, 2247.03, 2143.67, 1988.62, 1851.97, 2019.39, 2035.39, 2045.0, 1996.67, 2259.1, 2275.78, 2279.0, 2377.8, 2459.53, 2555.0, 2640.0, 2609.02, 2550.0, 2452.58, 2499.34, 2625.0, 2628.16, 2621.91, 2849.15, 2745.36, 2816.92, 2859.85, 2890.0, 2803.0, 2748.0, 2720.0, 2480.69, 2574.86, 2762.91, 2893.96, 2913.68, 2768.0, 2678.25, 2382.0, 2486.29, 2950.0, 2999.99, 3444.96, 3567.4, 3590.0, 3878.23, 4138.0, 4177.77, 4055.62, 4384.43, 4183.25, 4213.85, 3984.0, 3962.44, 3595.07, 3610.91, 3550.0, 3534.5, 3457.75, 2986.0, 2955.9, 2800.0, 2800.0, 2762.59, 2683.0, 2542.04, 2358.22, 2371.18, 2442.29, 2646.2, 2471.72, 2349.5, 2282.6, 2341.0, 2497.84, 2548.0, 2546.82, 2446.91, 2317.3, 2199.11, 2163.18, 2195.0, 2100.0, 2084.54, 2128.99, 2151.0, 2131.27, 2093.07, 2139.33, 2145.0, 1982.21, 1948.0, 1860.0, 1841.88, 1725.71, 1732.85, 1700.7, 1622.27, 1740.91, 1723.61, 1806.39, 1818.86, 1869.0, 1840.69, 1850.0, 1841.13, 1819.2, 1893.75, 1931.97, 1944.0, 1841.96, 1847.0, 1879.0, 1872.26, 1843.99, 1735.0, 1673.02, 1551.19, 1625.0, 1657.91, 1605.89, 1574.28, 1469.96, 1526.82, 1564.11, 1672.49, 1714.0, 1783.22, 1938.95, 1976.72, 2041.42, 1974.98, 1950.3, 1857.61, 1825.0, 1836.0, 1852.47, 1877.88, 1868.9, 1819.0, 1839.0, 1824.23, 1780.0, 1695.38, 1745.25, 1763.93, 1699.0, 1672.21, 1549.0, 1378.02, 1382.0, 1408.97, 1442.88, 1363.27, 1375.91, 1378.12, 1477.3, 1401.92, 1272.0, 1275.99, 1390.0, 1408.5, 1440.0, 1261.0, 1268.83, 1294.0, 1255.59, 1246.99, 1137.75, 1150.0, 1260.24, 1350.88, 1310.0, 1275.0, 1291.94, 1215.98, 1136.93, 1168.99, 1015.14, 789.21, 750.0, 755.9, 759.0, 739.66, 747.0, 714.99, 652.7, 633.97, 614.99, 638.75, 638.5, 648.35, 661.4, 672.06, 664.46, 677.05, 639.58, 597.04, 591.71, 595.21, 574.33, 560.62, 575.62, 578.67, 595.47, 603.4, 607.46, 597.88, 620.56, 624.57], \"low\": [2804.4, 2925.0, 2741.34, 2800.01, 2735.0, 3035.83, 2738.24, 2651.0, 2911.81, 3278.0, 3369.53, 3350.06, 3482.97, 3359.96, 3270.74, 3111.14, 3231.75, 3199.88, 3142.67, 3393.17, 3216.0, 3009.0, 3868.0, 3835.7, 3834.57, 3710.59, 3722.65, 3384.24, 3190.56, 3145.45, 3153.75, 3212.01, 3050.0, 3056.0, 3079.92, 3133.45, 3233.19, 3128.82, 3206.96, 3178.65, 2960.0, 2951.0, 2992.15, 3135.0, 3112.96, 3206.96, 3034.52, 2980.0, 3122.22, 3051.0, 2892.5, 2948.76, 2866.58, 2721.0, 2530.69, 2455.94, 2445.58, 2503.7, 2511.5, 2422.31, 2317.51, 2267.78, 2245.1, 2152.0, 2172.99, 2108.08, 2107.13, 1995.0, 1948.68, 1754.27, 1718.41, 1805.47, 1878.67, 1847.0, 1850.15, 1880.0, 1865.5, 1917.4, 2002.0, 2081.51, 2075.0, 2050.0, 2084.0, 2294.16, 2195.02, 2160.0, 2190.56, 2113.18, 2017.07, 2072.06, 2089.16, 2074.53, 1957.24, 1807.89, 1717.41, 1792.0, 1884.77, 1823.97, 1700.0, 1864.5, 2042.5, 2162.72, 2125.12, 2306.35, 2351.01, 2506.23, 2461.63, 2309.67, 2257.07, 2322.16, 2428.16, 2406.33, 2306.52, 2575.0, 2615.0, 2552.18, 2554.39, 2663.02, 2552.28, 2527.88, 2275.22, 2182.2, 2207.74, 2329.2, 2639.32, 2647.21, 2383.39, 2072.15, 1728.0, 2156.0, 2105.0, 2156.0, 1860.0, 3241.06, 3101.0, 3334.88, 3632.0, 3695.0, 3525.62, 3700.0, 3760.0, 3650.01, 3726.29, 3455.0, 3356.69, 3381.11, 3201.33, 3166.12, 2952.08, 2855.29, 2757.28, 2727.0, 2672.0, 2551.0, 2484.56, 2306.03, 2166.0, 2158.36, 2040.0, 2304.0, 2237.02, 2054.25, 2050.0, 2000.0, 2305.55, 2305.0, 2401.25, 2283.26, 2135.9, 2102.55, 2112.58, 2057.2, 2048.41, 1949.34, 1929.69, 2046.08, 2003.1, 1980.0, 2000.0, 1948.67, 1886.11, 1771.94, 1785.77, 1675.28, 1662.0, 1666.4, 1586.81, 1548.69, 1545.77, 1651.58, 1657.17, 1748.25, 1800.55, 1734.29, 1758.4, 1742.0, 1706.25, 1734.87, 1836.61, 1728.3, 1721.15, 1725.0, 1756.29, 1800.0, 1664.08, 1631.07, 1512.45, 1442.32, 1504.06, 1476.72, 1455.86, 1412.61, 1292.76, 1420.0, 1400.01, 1458.5, 1500.28, 1356.0, 1507.34, 1885.0, 1811.25, 1890.0, 1851.47, 1733.87, 1725.0, 1659.93, 1785.07, 1766.15, 1741.29, 1704.23, 1680.0, 1710.01, 1565.98, 1493.28, 1646.7, 1589.17, 1556.0, 1509.48, 1360.27, 1271.31, 1283.0, 1327.0, 1286.56, 1220.08, 1206.05, 1245.0, 1293.65, 1221.66, 1196.74, 1039.62, 1081.0, 1234.01, 1252.01, 1181.9, 1165.78, 1152.3, 1065.0, 1087.05, 980.0, 1006.83, 905.0, 1153.0, 1172.86, 1063.18, 1140.0, 1058.32, 975.0, 886.33, 770.0, 715.22, 717.1, 724.0, 717.0, 688.0, 680.9, 625.01, 615.22, 604.26, 565.61, 551.45, 587.54, 596.9, 621.46, 646.54, 629.59, 626.79, 581.21, 579.15, 575.58, 563.79, 543.22, 535.5, 547.83, 530.32, 548.12, 584.54, 583.31, 561.15, 566.0, 586.11], \"open\": [2926.27, 3059.92, 2923.91, 2930.59, 3154.42, 3078.42, 2765.33, 2976.36, 3328.7, 3436.59, 3400.0, 3568.77, 3615.68, 3436.29, 3285.66, 3403.81, 3266.97, 3209.29, 3424.32, 3499.54, 3436.75, 3928.72, 3951.68, 3887.58, 3940.06, 3788.2, 3829.29, 3430.0, 3229.02, 3226.45, 3247.99, 3275.32, 3092.71, 3228.51, 3170.94, 3322.76, 3241.41, 3226.38, 3286.82, 3184.32, 3014.38, 3011.77, 3146.6, 3311.02, 3266.52, 3324.51, 3047.21, 3162.16, 3142.18, 3162.33, 3014.12, 3163.09, 2892.83, 2829.49, 2724.71, 2508.16, 2608.12, 2555.99, 2533.54, 2463.88, 2383.47, 2300.76, 2300.28, 2228.71, 2192.38, 2186.76, 2125.82, 2024.75, 1996.21, 1786.51, 1818.45, 1891.46, 1899.75, 1877.22, 1918.99, 1994.12, 1940.34, 2030.74, 2141.45, 2110.56, 2147.38, 2116.3, 2317.64, 2322.2, 2197.34, 2323.27, 2227.46, 2156.0, 2107.75, 2276.74, 2165.64, 2083.99, 1984.84, 1829.0, 1809.07, 1988.81, 1968.36, 1881.24, 1885.49, 2242.89, 2165.13, 2234.8, 2373.33, 2368.24, 2543.57, 2582.45, 2510.22, 2371.85, 2355.11, 2471.59, 2611.4, 2509.1, 2592.47, 2710.97, 2629.45, 2691.13, 2856.73, 2706.87, 2634.46, 2707.87, 2387.65, 2280.78, 2413.28, 2745.25, 2889.43, 2707.75, 2651.57, 2100.07, 2296.68, 2434.86, 2775.06, 2443.91, 3376.98, 3283.32, 3584.79, 3648.16, 4080.51, 3719.22, 3826.37, 4179.77, 3949.45, 3928.41, 3917.26, 3484.69, 3492.33, 3529.96, 3239.61, 3433.99, 2952.21, 2948.92, 2776.76, 2758.92, 2751.56, 2667.86, 2533.99, 2322.43, 2216.18, 2369.8, 2399.21, 2357.74, 2332.18, 2163.69, 2241.67, 2319.11, 2426.64, 2517.03, 2432.16, 2300.01, 2138.02, 2150.54, 2133.07, 2066.5, 2081.29, 1964.69, 2113.55, 2107.45, 2076.31, 2008.97, 2134.38, 1968.74, 1919.99, 1841.03, 1815.73, 1686.92, 1713.96, 1699.97, 1587.01, 1581.97, 1668.37, 1681.4, 1784.11, 1806.04, 1808.95, 1776.4, 1824.45, 1805.7, 1794.08, 1848.56, 1921.76, 1766.76, 1826.53, 1795.55, 1871.93, 1834.88, 1727.95, 1651.75, 1528.82, 1539.53, 1568.4, 1488.34, 1571.87, 1421.8, 1460.49, 1445.09, 1482.05, 1625.27, 1577.84, 1778.33, 1935.67, 1915.01, 1957.9, 1939.64, 1851.9, 1782.14, 1780.59, 1803.25, 1817.85, 1844.78, 1787.33, 1742.51, 1771.91, 1752.98, 1615.51, 1679.76, 1721.06, 1597.34, 1668.71, 1513.85, 1374.55, 1313.95, 1380.0, 1380.04, 1333.61, 1240.62, 1367.97, 1317.98, 1394.04, 1234.47, 1233.42, 1110.61, 1377.15, 1367.7, 1258.55, 1232.6, 1227.76, 1169.04, 1231.59, 1130.79, 1050.46, 1088.55, 1255.1, 1281.25, 1217.31, 1227.55, 1212.68, 1103.71, 1042.24, 980.44, 775.29, 730.97, 737.89, 752.87, 731.79, 729.65, 684.11, 636.85, 626.71, 612.25, 585.37, 636.73, 608.07, 638.19, 658.8, 654.66, 643.26, 637.91, 589.08, 586.4, 590.45, 568.64, 544.51, 559.33, 573.26, 554.8, 591.53, 601.97, 597.29, 567.76, 616.46, 597.03], \"type\": \"candlestick\", \"x\": [\"2021-09-28T00:00:00\", \"2021-09-27T00:00:00\", \"2021-09-26T00:00:00\", \"2021-09-25T00:00:00\", \"2021-09-24T00:00:00\", \"2021-09-23T00:00:00\", \"2021-09-22T00:00:00\", \"2021-09-21T00:00:00\", \"2021-09-20T00:00:00\", \"2021-09-19T00:00:00\", \"2021-09-18T00:00:00\", \"2021-09-17T00:00:00\", \"2021-09-16T00:00:00\", \"2021-09-15T00:00:00\", \"2021-09-14T00:00:00\", \"2021-09-13T00:00:00\", \"2021-09-12T00:00:00\", \"2021-09-11T00:00:00\", \"2021-09-10T00:00:00\", \"2021-09-09T00:00:00\", \"2021-09-08T00:00:00\", \"2021-09-07T00:00:00\", \"2021-09-06T00:00:00\", \"2021-09-05T00:00:00\", \"2021-09-04T00:00:00\", \"2021-09-03T00:00:00\", \"2021-09-02T00:00:00\", \"2021-09-01T00:00:00\", \"2021-08-31T00:00:00\", \"2021-08-30T00:00:00\", \"2021-08-29T00:00:00\", \"2021-08-28T00:00:00\", \"2021-08-27T00:00:00\", \"2021-08-26T00:00:00\", \"2021-08-25T00:00:00\", \"2021-08-24T00:00:00\", \"2021-08-23T00:00:00\", \"2021-08-22T00:00:00\", \"2021-08-21T00:00:00\", \"2021-08-20T00:00:00\", \"2021-08-19T00:00:00\", \"2021-08-18T00:00:00\", \"2021-08-17T00:00:00\", \"2021-08-16T00:00:00\", \"2021-08-15T00:00:00\", \"2021-08-14T00:00:00\", \"2021-08-13T00:00:00\", \"2021-08-12T00:00:00\", \"2021-08-11T00:00:00\", \"2021-08-10T00:00:00\", \"2021-08-09T00:00:00\", \"2021-08-08T00:00:00\", \"2021-08-07T00:00:00\", \"2021-08-06T00:00:00\", \"2021-08-05T00:00:00\", \"2021-08-04T00:00:00\", \"2021-08-03T00:00:00\", \"2021-08-02T00:00:00\", \"2021-08-01T00:00:00\", \"2021-07-31T00:00:00\", \"2021-07-30T00:00:00\", \"2021-07-29T00:00:00\", \"2021-07-28T00:00:00\", \"2021-07-27T00:00:00\", \"2021-07-26T00:00:00\", \"2021-07-25T00:00:00\", \"2021-07-24T00:00:00\", \"2021-07-23T00:00:00\", \"2021-07-22T00:00:00\", \"2021-07-21T00:00:00\", \"2021-07-20T00:00:00\", \"2021-07-19T00:00:00\", \"2021-07-18T00:00:00\", \"2021-07-17T00:00:00\", \"2021-07-16T00:00:00\", \"2021-07-15T00:00:00\", \"2021-07-14T00:00:00\", \"2021-07-13T00:00:00\", \"2021-07-12T00:00:00\", \"2021-07-11T00:00:00\", \"2021-07-10T00:00:00\", \"2021-07-09T00:00:00\", \"2021-07-08T00:00:00\", \"2021-07-07T00:00:00\", \"2021-07-06T00:00:00\", \"2021-07-05T00:00:00\", \"2021-07-04T00:00:00\", \"2021-07-03T00:00:00\", \"2021-07-02T00:00:00\", \"2021-07-01T00:00:00\", \"2021-06-30T00:00:00\", \"2021-06-29T00:00:00\", \"2021-06-28T00:00:00\", \"2021-06-27T00:00:00\", \"2021-06-26T00:00:00\", \"2021-06-25T00:00:00\", \"2021-06-24T00:00:00\", \"2021-06-23T00:00:00\", \"2021-06-22T00:00:00\", \"2021-06-21T00:00:00\", \"2021-06-20T00:00:00\", \"2021-06-19T00:00:00\", \"2021-06-18T00:00:00\", \"2021-06-17T00:00:00\", \"2021-06-16T00:00:00\", \"2021-06-15T00:00:00\", \"2021-06-14T00:00:00\", \"2021-06-13T00:00:00\", \"2021-06-12T00:00:00\", \"2021-06-11T00:00:00\", \"2021-06-10T00:00:00\", \"2021-06-09T00:00:00\", \"2021-06-08T00:00:00\", \"2021-06-07T00:00:00\", \"2021-06-06T00:00:00\", \"2021-06-05T00:00:00\", \"2021-06-04T00:00:00\", \"2021-06-03T00:00:00\", \"2021-06-02T00:00:00\", \"2021-06-01T00:00:00\", \"2021-05-31T00:00:00\", \"2021-05-30T00:00:00\", \"2021-05-29T00:00:00\", \"2021-05-28T00:00:00\", \"2021-05-27T00:00:00\", \"2021-05-26T00:00:00\", \"2021-05-25T00:00:00\", \"2021-05-24T00:00:00\", \"2021-05-23T00:00:00\", \"2021-05-22T00:00:00\", \"2021-05-21T00:00:00\", \"2021-05-20T00:00:00\", \"2021-05-19T00:00:00\", \"2021-05-18T00:00:00\", \"2021-05-17T00:00:00\", \"2021-05-16T00:00:00\", \"2021-05-15T00:00:00\", \"2021-05-14T00:00:00\", \"2021-05-13T00:00:00\", \"2021-05-12T00:00:00\", \"2021-05-11T00:00:00\", \"2021-05-10T00:00:00\", \"2021-05-09T00:00:00\", \"2021-05-08T00:00:00\", \"2021-05-07T00:00:00\", \"2021-05-06T00:00:00\", \"2021-05-05T00:00:00\", \"2021-05-04T00:00:00\", \"2021-05-03T00:00:00\", \"2021-05-02T00:00:00\", \"2021-05-01T00:00:00\", \"2021-04-30T00:00:00\", \"2021-04-29T00:00:00\", \"2021-04-28T00:00:00\", \"2021-04-27T00:00:00\", \"2021-04-26T00:00:00\", \"2021-04-25T00:00:00\", \"2021-04-24T00:00:00\", \"2021-04-23T00:00:00\", \"2021-04-22T00:00:00\", \"2021-04-21T00:00:00\", \"2021-04-20T00:00:00\", \"2021-04-19T00:00:00\", \"2021-04-18T00:00:00\", \"2021-04-17T00:00:00\", \"2021-04-16T00:00:00\", \"2021-04-15T00:00:00\", \"2021-04-14T00:00:00\", \"2021-04-13T00:00:00\", \"2021-04-12T00:00:00\", \"2021-04-11T00:00:00\", \"2021-04-10T00:00:00\", \"2021-04-09T00:00:00\", \"2021-04-08T00:00:00\", \"2021-04-07T00:00:00\", \"2021-04-06T00:00:00\", \"2021-04-05T00:00:00\", \"2021-04-04T00:00:00\", \"2021-04-03T00:00:00\", \"2021-04-02T00:00:00\", \"2021-04-01T00:00:00\", \"2021-03-31T00:00:00\", \"2021-03-30T00:00:00\", \"2021-03-29T00:00:00\", \"2021-03-28T00:00:00\", \"2021-03-27T00:00:00\", \"2021-03-26T00:00:00\", \"2021-03-25T00:00:00\", \"2021-03-24T00:00:00\", \"2021-03-23T00:00:00\", \"2021-03-22T00:00:00\", \"2021-03-21T00:00:00\", \"2021-03-20T00:00:00\", \"2021-03-19T00:00:00\", \"2021-03-18T00:00:00\", \"2021-03-17T00:00:00\", \"2021-03-16T00:00:00\", \"2021-03-15T00:00:00\", \"2021-03-14T00:00:00\", \"2021-03-13T00:00:00\", \"2021-03-12T00:00:00\", \"2021-03-11T00:00:00\", \"2021-03-10T00:00:00\", \"2021-03-09T00:00:00\", \"2021-03-08T00:00:00\", \"2021-03-07T00:00:00\", \"2021-03-06T00:00:00\", \"2021-03-05T00:00:00\", \"2021-03-04T00:00:00\", \"2021-03-03T00:00:00\", \"2021-03-02T00:00:00\", \"2021-03-01T00:00:00\", \"2021-02-28T00:00:00\", \"2021-02-27T00:00:00\", \"2021-02-26T00:00:00\", \"2021-02-25T00:00:00\", \"2021-02-24T00:00:00\", \"2021-02-23T00:00:00\", \"2021-02-22T00:00:00\", \"2021-02-21T00:00:00\", \"2021-02-20T00:00:00\", \"2021-02-19T00:00:00\", \"2021-02-18T00:00:00\", \"2021-02-17T00:00:00\", \"2021-02-16T00:00:00\", \"2021-02-15T00:00:00\", \"2021-02-14T00:00:00\", \"2021-02-13T00:00:00\", \"2021-02-12T00:00:00\", \"2021-02-11T00:00:00\", \"2021-02-10T00:00:00\", \"2021-02-09T00:00:00\", \"2021-02-08T00:00:00\", \"2021-02-07T00:00:00\", \"2021-02-06T00:00:00\", \"2021-02-05T00:00:00\", \"2021-02-04T00:00:00\", \"2021-02-03T00:00:00\", \"2021-02-02T00:00:00\", \"2021-02-01T00:00:00\", \"2021-01-31T00:00:00\", \"2021-01-30T00:00:00\", \"2021-01-29T00:00:00\", \"2021-01-28T00:00:00\", \"2021-01-27T00:00:00\", \"2021-01-26T00:00:00\", \"2021-01-25T00:00:00\", \"2021-01-24T00:00:00\", \"2021-01-23T00:00:00\", \"2021-01-22T00:00:00\", \"2021-01-21T00:00:00\", \"2021-01-20T00:00:00\", \"2021-01-19T00:00:00\", \"2021-01-18T00:00:00\", \"2021-01-17T00:00:00\", \"2021-01-16T00:00:00\", \"2021-01-15T00:00:00\", \"2021-01-14T00:00:00\", \"2021-01-13T00:00:00\", \"2021-01-12T00:00:00\", \"2021-01-11T00:00:00\", \"2021-01-10T00:00:00\", \"2021-01-09T00:00:00\", \"2021-01-08T00:00:00\", \"2021-01-07T00:00:00\", \"2021-01-06T00:00:00\", \"2021-01-05T00:00:00\", \"2021-01-04T00:00:00\", \"2021-01-03T00:00:00\", \"2021-01-02T00:00:00\", \"2021-01-01T00:00:00\", \"2020-12-31T00:00:00\", \"2020-12-30T00:00:00\", \"2020-12-29T00:00:00\", \"2020-12-28T00:00:00\", \"2020-12-27T00:00:00\", \"2020-12-26T00:00:00\", \"2020-12-25T00:00:00\", \"2020-12-24T00:00:00\", \"2020-12-23T00:00:00\", \"2020-12-22T00:00:00\", \"2020-12-21T00:00:00\", \"2020-12-20T00:00:00\", \"2020-12-19T00:00:00\", \"2020-12-18T00:00:00\", \"2020-12-17T00:00:00\", \"2020-12-16T00:00:00\", \"2020-12-15T00:00:00\", \"2020-12-14T00:00:00\", \"2020-12-13T00:00:00\", \"2020-12-12T00:00:00\", \"2020-12-11T00:00:00\", \"2020-12-10T00:00:00\", \"2020-12-09T00:00:00\", \"2020-12-08T00:00:00\", \"2020-12-07T00:00:00\", \"2020-12-06T00:00:00\", \"2020-12-05T00:00:00\", \"2020-12-04T00:00:00\", \"2020-12-03T00:00:00\"]}],                        {\"template\": {\"data\": {\"bar\": [{\"error_x\": {\"color\": \"#2a3f5f\"}, \"error_y\": {\"color\": \"#2a3f5f\"}, \"marker\": {\"line\": {\"color\": \"#E5ECF6\", \"width\": 0.5}}, \"type\": \"bar\"}], \"barpolar\": [{\"marker\": {\"line\": {\"color\": \"#E5ECF6\", \"width\": 0.5}}, \"type\": \"barpolar\"}], \"carpet\": [{\"aaxis\": {\"endlinecolor\": \"#2a3f5f\", \"gridcolor\": \"white\", \"linecolor\": \"white\", \"minorgridcolor\": \"white\", \"startlinecolor\": \"#2a3f5f\"}, \"baxis\": {\"endlinecolor\": \"#2a3f5f\", \"gridcolor\": \"white\", \"linecolor\": \"white\", \"minorgridcolor\": \"white\", \"startlinecolor\": \"#2a3f5f\"}, \"type\": \"carpet\"}], \"choropleth\": [{\"colorbar\": {\"outlinewidth\": 0, \"ticks\": \"\"}, \"type\": \"choropleth\"}], \"contour\": [{\"colorbar\": {\"outlinewidth\": 0, \"ticks\": \"\"}, \"colorscale\": [[0.0, \"#0d0887\"], [0.1111111111111111, \"#46039f\"], [0.2222222222222222, \"#7201a8\"], [0.3333333333333333, \"#9c179e\"], [0.4444444444444444, \"#bd3786\"], [0.5555555555555556, \"#d8576b\"], [0.6666666666666666, \"#ed7953\"], [0.7777777777777778, \"#fb9f3a\"], [0.8888888888888888, \"#fdca26\"], [1.0, \"#f0f921\"]], \"type\": \"contour\"}], \"contourcarpet\": [{\"colorbar\": {\"outlinewidth\": 0, \"ticks\": \"\"}, \"type\": \"contourcarpet\"}], \"heatmap\": [{\"colorbar\": {\"outlinewidth\": 0, \"ticks\": \"\"}, \"colorscale\": [[0.0, \"#0d0887\"], [0.1111111111111111, \"#46039f\"], [0.2222222222222222, \"#7201a8\"], [0.3333333333333333, \"#9c179e\"], [0.4444444444444444, \"#bd3786\"], [0.5555555555555556, \"#d8576b\"], [0.6666666666666666, \"#ed7953\"], [0.7777777777777778, \"#fb9f3a\"], [0.8888888888888888, \"#fdca26\"], [1.0, \"#f0f921\"]], \"type\": \"heatmap\"}], \"heatmapgl\": [{\"colorbar\": {\"outlinewidth\": 0, \"ticks\": \"\"}, \"colorscale\": [[0.0, \"#0d0887\"], [0.1111111111111111, \"#46039f\"], [0.2222222222222222, \"#7201a8\"], [0.3333333333333333, \"#9c179e\"], [0.4444444444444444, \"#bd3786\"], [0.5555555555555556, \"#d8576b\"], [0.6666666666666666, \"#ed7953\"], [0.7777777777777778, \"#fb9f3a\"], [0.8888888888888888, \"#fdca26\"], [1.0, \"#f0f921\"]], \"type\": \"heatmapgl\"}], \"histogram\": [{\"marker\": {\"colorbar\": {\"outlinewidth\": 0, \"ticks\": \"\"}}, \"type\": \"histogram\"}], \"histogram2d\": [{\"colorbar\": {\"outlinewidth\": 0, \"ticks\": \"\"}, \"colorscale\": [[0.0, \"#0d0887\"], [0.1111111111111111, \"#46039f\"], [0.2222222222222222, \"#7201a8\"], [0.3333333333333333, \"#9c179e\"], [0.4444444444444444, \"#bd3786\"], [0.5555555555555556, \"#d8576b\"], [0.6666666666666666, \"#ed7953\"], [0.7777777777777778, \"#fb9f3a\"], [0.8888888888888888, \"#fdca26\"], [1.0, \"#f0f921\"]], \"type\": \"histogram2d\"}], \"histogram2dcontour\": [{\"colorbar\": {\"outlinewidth\": 0, \"ticks\": \"\"}, \"colorscale\": [[0.0, \"#0d0887\"], [0.1111111111111111, \"#46039f\"], [0.2222222222222222, \"#7201a8\"], [0.3333333333333333, \"#9c179e\"], [0.4444444444444444, \"#bd3786\"], [0.5555555555555556, \"#d8576b\"], [0.6666666666666666, \"#ed7953\"], [0.7777777777777778, \"#fb9f3a\"], [0.8888888888888888, \"#fdca26\"], [1.0, \"#f0f921\"]], \"type\": \"histogram2dcontour\"}], \"mesh3d\": [{\"colorbar\": {\"outlinewidth\": 0, \"ticks\": \"\"}, \"type\": \"mesh3d\"}], \"parcoords\": [{\"line\": {\"colorbar\": {\"outlinewidth\": 0, \"ticks\": \"\"}}, \"type\": \"parcoords\"}], \"pie\": [{\"automargin\": true, \"type\": \"pie\"}], \"scatter\": [{\"marker\": {\"colorbar\": {\"outlinewidth\": 0, \"ticks\": \"\"}}, \"type\": \"scatter\"}], \"scatter3d\": [{\"line\": {\"colorbar\": {\"outlinewidth\": 0, \"ticks\": \"\"}}, \"marker\": {\"colorbar\": {\"outlinewidth\": 0, \"ticks\": \"\"}}, \"type\": \"scatter3d\"}], \"scattercarpet\": [{\"marker\": {\"colorbar\": {\"outlinewidth\": 0, \"ticks\": \"\"}}, \"type\": \"scattercarpet\"}], \"scattergeo\": [{\"marker\": {\"colorbar\": {\"outlinewidth\": 0, \"ticks\": \"\"}}, \"type\": \"scattergeo\"}], \"scattergl\": [{\"marker\": {\"colorbar\": {\"outlinewidth\": 0, \"ticks\": \"\"}}, \"type\": \"scattergl\"}], \"scattermapbox\": [{\"marker\": {\"colorbar\": {\"outlinewidth\": 0, \"ticks\": \"\"}}, \"type\": \"scattermapbox\"}], \"scatterpolar\": [{\"marker\": {\"colorbar\": {\"outlinewidth\": 0, \"ticks\": \"\"}}, \"type\": \"scatterpolar\"}], \"scatterpolargl\": [{\"marker\": {\"colorbar\": {\"outlinewidth\": 0, \"ticks\": \"\"}}, \"type\": \"scatterpolargl\"}], \"scatterternary\": [{\"marker\": {\"colorbar\": {\"outlinewidth\": 0, \"ticks\": \"\"}}, \"type\": \"scatterternary\"}], \"surface\": [{\"colorbar\": {\"outlinewidth\": 0, \"ticks\": \"\"}, \"colorscale\": [[0.0, \"#0d0887\"], [0.1111111111111111, \"#46039f\"], [0.2222222222222222, \"#7201a8\"], [0.3333333333333333, \"#9c179e\"], [0.4444444444444444, \"#bd3786\"], [0.5555555555555556, \"#d8576b\"], [0.6666666666666666, \"#ed7953\"], [0.7777777777777778, \"#fb9f3a\"], [0.8888888888888888, \"#fdca26\"], [1.0, \"#f0f921\"]], \"type\": \"surface\"}], \"table\": [{\"cells\": {\"fill\": {\"color\": \"#EBF0F8\"}, \"line\": {\"color\": \"white\"}}, \"header\": {\"fill\": {\"color\": \"#C8D4E3\"}, \"line\": {\"color\": \"white\"}}, \"type\": \"table\"}]}, \"layout\": {\"annotationdefaults\": {\"arrowcolor\": \"#2a3f5f\", \"arrowhead\": 0, \"arrowwidth\": 1}, \"autotypenumbers\": \"strict\", \"coloraxis\": {\"colorbar\": {\"outlinewidth\": 0, \"ticks\": \"\"}}, \"colorscale\": {\"diverging\": [[0, \"#8e0152\"], [0.1, \"#c51b7d\"], [0.2, \"#de77ae\"], [0.3, \"#f1b6da\"], [0.4, \"#fde0ef\"], [0.5, \"#f7f7f7\"], [0.6, \"#e6f5d0\"], [0.7, \"#b8e186\"], [0.8, \"#7fbc41\"], [0.9, \"#4d9221\"], [1, \"#276419\"]], \"sequential\": [[0.0, \"#0d0887\"], [0.1111111111111111, \"#46039f\"], [0.2222222222222222, \"#7201a8\"], [0.3333333333333333, \"#9c179e\"], [0.4444444444444444, \"#bd3786\"], [0.5555555555555556, \"#d8576b\"], [0.6666666666666666, \"#ed7953\"], [0.7777777777777778, \"#fb9f3a\"], [0.8888888888888888, \"#fdca26\"], [1.0, \"#f0f921\"]], \"sequentialminus\": [[0.0, \"#0d0887\"], [0.1111111111111111, \"#46039f\"], [0.2222222222222222, \"#7201a8\"], [0.3333333333333333, \"#9c179e\"], [0.4444444444444444, \"#bd3786\"], [0.5555555555555556, \"#d8576b\"], [0.6666666666666666, \"#ed7953\"], [0.7777777777777778, \"#fb9f3a\"], [0.8888888888888888, \"#fdca26\"], [1.0, \"#f0f921\"]]}, \"colorway\": [\"#636efa\", \"#EF553B\", \"#00cc96\", \"#ab63fa\", \"#FFA15A\", \"#19d3f3\", \"#FF6692\", \"#B6E880\", \"#FF97FF\", \"#FECB52\"], \"font\": {\"color\": \"#2a3f5f\"}, \"geo\": {\"bgcolor\": \"white\", \"lakecolor\": \"white\", \"landcolor\": \"#E5ECF6\", \"showlakes\": true, \"showland\": true, \"subunitcolor\": \"white\"}, \"hoverlabel\": {\"align\": \"left\"}, \"hovermode\": \"closest\", \"mapbox\": {\"style\": \"light\"}, \"paper_bgcolor\": \"white\", \"plot_bgcolor\": \"#E5ECF6\", \"polar\": {\"angularaxis\": {\"gridcolor\": \"white\", \"linecolor\": \"white\", \"ticks\": \"\"}, \"bgcolor\": \"#E5ECF6\", \"radialaxis\": {\"gridcolor\": \"white\", \"linecolor\": \"white\", \"ticks\": \"\"}}, \"scene\": {\"xaxis\": {\"backgroundcolor\": \"#E5ECF6\", \"gridcolor\": \"white\", \"gridwidth\": 2, \"linecolor\": \"white\", \"showbackground\": true, \"ticks\": \"\", \"zerolinecolor\": \"white\"}, \"yaxis\": {\"backgroundcolor\": \"#E5ECF6\", \"gridcolor\": \"white\", \"gridwidth\": 2, \"linecolor\": \"white\", \"showbackground\": true, \"ticks\": \"\", \"zerolinecolor\": \"white\"}, \"zaxis\": {\"backgroundcolor\": \"#E5ECF6\", \"gridcolor\": \"white\", \"gridwidth\": 2, \"linecolor\": \"white\", \"showbackground\": true, \"ticks\": \"\", \"zerolinecolor\": \"white\"}}, \"shapedefaults\": {\"line\": {\"color\": \"#2a3f5f\"}}, \"ternary\": {\"aaxis\": {\"gridcolor\": \"white\", \"linecolor\": \"white\", \"ticks\": \"\"}, \"baxis\": {\"gridcolor\": \"white\", \"linecolor\": \"white\", \"ticks\": \"\"}, \"bgcolor\": \"#E5ECF6\", \"caxis\": {\"gridcolor\": \"white\", \"linecolor\": \"white\", \"ticks\": \"\"}}, \"title\": {\"x\": 0.05}, \"xaxis\": {\"automargin\": true, \"gridcolor\": \"white\", \"linecolor\": \"white\", \"ticks\": \"\", \"title\": {\"standoff\": 15}, \"zerolinecolor\": \"white\", \"zerolinewidth\": 2}, \"yaxis\": {\"automargin\": true, \"gridcolor\": \"white\", \"linecolor\": \"white\", \"ticks\": \"\", \"title\": {\"standoff\": 15}, \"zerolinecolor\": \"white\", \"zerolinewidth\": 2}}}, \"title\": {\"text\": \"ETH Price In USD\", \"x\": 0.5}, \"xaxis\": {\"title\": {\"text\": \"Date\"}}, \"yaxis\": {\"title\": {\"text\": \"ETH Price\"}}},                        {\"responsive\": true}                    ).then(function(){\n",
       "                            \n",
       "var gd = document.getElementById('6eb57fc8-62de-4a33-bee3-ff86a385ceae');\n",
       "var x = new MutationObserver(function (mutations, observer) {{\n",
       "        var display = window.getComputedStyle(gd).display;\n",
       "        if (!display || display === 'none') {{\n",
       "            console.log([gd, 'removed!']);\n",
       "            Plotly.purge(gd);\n",
       "            observer.disconnect();\n",
       "        }}\n",
       "}});\n",
       "\n",
       "// Listen for the removal of the full notebook cells\n",
       "var notebookContainer = gd.closest('#notebook-container');\n",
       "if (notebookContainer) {{\n",
       "    x.observe(notebookContainer, {childList: true});\n",
       "}}\n",
       "\n",
       "// Listen for the clearing of the current output cell\n",
       "var outputEl = gd.closest('.output');\n",
       "if (outputEl) {{\n",
       "    x.observe(outputEl, {childList: true});\n",
       "}}\n",
       "\n",
       "                        })                };                });            </script>        </div>"
      ]
     },
     "metadata": {},
     "output_type": "display_data"
    }
   ],
   "source": [
    "# Function call #1\n",
    "\n",
    "plot_coinbase_candlestick_chart(base_cur = \"ETH\", quote_cur = \"USD\")"
   ]
  },
  {
   "cell_type": "code",
   "execution_count": 34,
   "metadata": {},
   "outputs": [
    {
     "data": {
      "application/vnd.plotly.v1+json": {
       "config": {
        "plotlyServerURL": "https://plot.ly"
       },
       "data": [
        {
         "close": [
          143.19,
          145.16,
          150.74,
          151.01,
          152.25,
          163.92,
          161.5,
          148.52,
          157.23,
          175.76,
          181.38,
          180,
          185.33,
          189.24,
          183.09,
          179.36,
          182.96,
          178.56,
          174.16,
          180.42,
          179.7,
          178.36,
          219.47,
          232.3,
          212.12,
          213.28,
          183.39,
          180.86,
          171.57,
          167.34,
          174.48,
          175.75,
          176.32,
          167.74,
          177.87,
          173.54,
          187.08,
          185.97,
          179.83,
          183.67,
          175.57,
          166.6,
          168.54,
          177.94,
          184.76,
          182.98,
          183.42,
          165.51,
          170.79,
          165.43,
          166.42,
          149.88,
          156.05,
          148.09,
          143.59,
          142.54,
          138.48,
          141.36,
          140.28,
          144.43,
          145.62,
          141.52,
          140.47,
          134.74,
          131.11,
          127.75,
          126.12,
          124.28,
          120.74,
          117.83,
          107.3,
          113.17,
          119.13,
          120.02,
          120.68,
          125.79,
          131.02,
          131.44,
          133.37,
          134.26,
          134.01,
          134.61,
          132.1,
          137.42,
          138.89,
          137.82,
          144.94,
          140.19,
          136.91,
          137.16,
          144.36,
          144.18,
          137.69,
          132.67,
          126.81,
          125,
          134.53,
          129.2,
          119.83,
          124.45,
          154.87,
          152.53,
          156.41,
          167.18,
          166.61,
          175.15,
          180.02,
          171.02,
          161.85,
          162.9,
          168.38,
          172.57,
          160.76,
          161.98,
          176.38,
          173.07,
          178.63,
          193.58,
          187.27,
          182.98,
          188.05,
          170.72,
          164.12,
          177.41,
          194.41,
          199.18,
          184.09,
          185.42,
          142.72,
          169.48,
          180.23,
          211.11,
          186.65,
          294.13,
          281.6,
          296.11,
          300.18,
          326.67,
          318.41,
          310.91,
          378.16,
          359.41,
          388.3,
          347.72,
          345.25,
          354.44,
          356.43,
          305.5,
          294.91,
          269.1,
          277,
          271.59,
          255.51,
          258.81,
          259.96,
          247.65,
          224.18,
          225.3,
          241.67,
          252.65,
          257.78,
          261.01,
          261.56,
          274.2,
          301.1,
          308.75,
          286.18,
          278.85,
          267.77,
          244.35,
          252.44,
          255.94,
          221.07,
          226.24,
          219.33,
          237.09,
          221.44,
          202.26,
          195.34,
          211.5,
          202.67,
          196.88,
          195.73,
          193.66,
          184.27,
          184.14,
          183.7,
          171.48,
          175.95,
          185.85,
          185.7,
          195.53,
          200.16,
          199.91,
          199.65,
          206.04,
          201.64,
          200.82,
          214.11,
          226.09,
          220.84,
          201.47,
          200.23,
          203.98,
          191.9,
          190.74,
          182.85,
          180.3,
          180.59,
          187.61,
          179.25,
          176.01,
          165.72,
          172.01,
          170.3,
          179.47,
          181.7,
          177.59,
          208.23,
          227.54,
          227.17,
          236.69,
          226.65,
          237.54,
          210.17,
          207.9,
          213.93,
          226.62,
          197.2,
          183.8,
          181.76,
          181.92,
          167.63,
          150.95,
          155.77,
          155.15,
          145.27,
          156.2,
          142.05,
          132.04,
          129.58,
          133.61,
          134.91,
          133.61,
          122.63,
          134.79,
          137.13,
          141.13,
          137.76,
          137.76,
          129.75,
          149.77,
          151.9,
          151.88,
          142.8,
          143.5,
          143.63,
          152.38,
          147.51,
          133.39,
          139.43,
          170.21,
          177.87,
          172.46,
          169.75,
          169.41,
          159.03,
          155.43,
          161.52,
          137.13,
          126.53,
          124.41,
          130.11,
          128.69,
          129.69,
          127.6,
          129.56,
          127.67,
          111.2,
          102.35,
          114.31,
          104.44,
          114.65,
          120.02,
          109.46,
          101.17,
          93.02,
          81.4,
          82.4,
          82.2,
          76.7,
          72.18,
          74.71,
          77.42,
          76.7,
          83.41,
          83.64,
          83.21,
          79.58,
          89.03
         ],
         "high": [
          148.93,
          154.97,
          153.51,
          156.13,
          166.65,
          165,
          161.87,
          162.32,
          176.13,
          181.72,
          185.95,
          190.53,
          195.49,
          191.86,
          188.88,
          237.88,
          186.1,
          186.06,
          187.38,
          188.85,
          189,
          222.04,
          232.41,
          232.64,
          225.25,
          218,
          188,
          182.78,
          175.4,
          176.59,
          182.75,
          177.15,
          176.4,
          180.36,
          178.95,
          188.68,
          191.8,
          189.81,
          184.5,
          184.05,
          175.9,
          174.58,
          184.45,
          189.12,
          186.65,
          185.11,
          184.7,
          179.79,
          176.1,
          168.42,
          171,
          157.72,
          156.53,
          150.96,
          145.25,
          144.5,
          143.26,
          145.91,
          149.87,
          146.68,
          145.93,
          143,
          142.07,
          135.19,
          140.43,
          128.12,
          127.82,
          125.06,
          122.1,
          119.22,
          115.06,
          120.71,
          124.1,
          122.95,
          127.82,
          133.07,
          132.39,
          134.62,
          139.65,
          136.44,
          136.86,
          135.8,
          137.81,
          142.98,
          142.73,
          145,
          148,
          141.41,
          139,
          144.43,
          146.94,
          149.26,
          139.6,
          132.7,
          129.37,
          138.45,
          137.4,
          133.76,
          133.02,
          155.45,
          156.2,
          160.88,
          167.39,
          173.4,
          177.34,
          181.26,
          180.18,
          171.73,
          164.36,
          173.76,
          174.69,
          173.33,
          164.58,
          182.25,
          180.06,
          185.49,
          193.8,
          197.67,
          191.27,
          193.28,
          188.5,
          181.2,
          188.72,
          198.92,
          208.98,
          204.48,
          194.89,
          185.57,
          176.51,
          184.82,
          219.79,
          232.99,
          300.49,
          318.43,
          296.76,
          324.19,
          332.01,
          339.62,
          336,
          394.46,
          379.87,
          413.91,
          389.65,
          357,
          372.88,
          365.2,
          360,
          327.91,
          299.71,
          277.64,
          278.71,
          273.87,
          262.99,
          267,
          264,
          248.36,
          235.86,
          241.79,
          257.07,
          289.8,
          276.97,
          276.47,
          283.69,
          305.33,
          335.35,
          319.94,
          291.25,
          283.2,
          273.3,
          258.69,
          262.98,
          256.63,
          228.96,
          228,
          242.96,
          244.54,
          225,
          204.74,
          217.88,
          213.56,
          204.95,
          199,
          200.08,
          197.54,
          187.3,
          186.24,
          183.93,
          178.24,
          197,
          189.51,
          199.17,
          201.95,
          206,
          204.95,
          208.23,
          206.88,
          205.27,
          222.44,
          227.94,
          230,
          224.33,
          203.45,
          208,
          205.2,
          195.22,
          192.14,
          184.71,
          183.53,
          194.5,
          196.71,
          185.48,
          176.82,
          173.17,
          180.48,
          182.9,
          205.2,
          189.69,
          208.94,
          227.72,
          233.95,
          247,
          241.99,
          239.11,
          237.59,
          221.95,
          220,
          230.81,
          229.52,
          199.99,
          193.65,
          195.15,
          184.71,
          169.48,
          157.49,
          164.23,
          156.99,
          158.99,
          156.86,
          145.95,
          136.62,
          135.21,
          136.34,
          145.88,
          136.29,
          135.13,
          139.79,
          147.69,
          142.63,
          143.54,
          142,
          150.35,
          156.3,
          166.21,
          155,
          147,
          152.68,
          155.3,
          156.87,
          148.5,
          146.88,
          170.72,
          186.34,
          179.42,
          181.55,
          181.25,
          169.9,
          163.36,
          174.5,
          164.98,
          142.21,
          134.22,
          130.35,
          132.89,
          130.67,
          136.99,
          139.3,
          135,
          128.54,
          112.3,
          117.32,
          114.6,
          118.87,
          123.19,
          124.4,
          112.92,
          110,
          93.3,
          85,
          82.99,
          84.34,
          77.65,
          75.09,
          77.64,
          78.24,
          84.93,
          86.89,
          85.26,
          84.33,
          89.9,
          91.35
         ],
         "low": [
          142.1,
          144.9,
          142.07,
          148.86,
          141.82,
          157.26,
          145.31,
          144.6,
          153.49,
          172.68,
          177.96,
          177.66,
          181.53,
          179.59,
          176.21,
          170.82,
          175.2,
          173.25,
          170.88,
          176.55,
          169.31,
          161,
          215.21,
          210.57,
          208.5,
          179.87,
          179.41,
          168.57,
          165.67,
          166.49,
          173.18,
          171.21,
          165.12,
          165.11,
          169.21,
          172.15,
          183.55,
          178.71,
          176.72,
          174.12,
          162.66,
          162.93,
          168,
          176.65,
          175.35,
          174.82,
          163.95,
          160.83,
          164.3,
          158.86,
          145.36,
          147.09,
          147.2,
          141.95,
          136.25,
          135.54,
          135.69,
          138.81,
          138.14,
          141.95,
          135.92,
          136.63,
          132.43,
          127.43,
          127.03,
          123.62,
          123.37,
          117.06,
          115.63,
          105.08,
          103.88,
          111.84,
          116.37,
          117.73,
          120.44,
          121.95,
          123.86,
          129.56,
          131.65,
          132.13,
          130.36,
          126.08,
          127.9,
          137.01,
          135.7,
          134.17,
          136.89,
          134.55,
          130.6,
          134.15,
          136.09,
          137.25,
          129.92,
          124.61,
          118.71,
          124.34,
          123.77,
          115.55,
          105,
          124.02,
          143.81,
          152.36,
          151.11,
          162.88,
          164.39,
          172.18,
          166.33,
          156.54,
          154.23,
          160.58,
          162.21,
          152.46,
          145,
          160.25,
          171.82,
          167.67,
          169.18,
          182.03,
          178.37,
          175.98,
          163.7,
          155.28,
          157.7,
          165.5,
          180.61,
          179.39,
          167.41,
          139.86,
          117.58,
          161.88,
          156.94,
          166.95,
          145.26,
          278.49,
          261.37,
          279.38,
          296.52,
          308.46,
          291,
          301,
          345.33,
          336.21,
          334,
          334.97,
          333.55,
          320,
          300.98,
          271.03,
          268.64,
          265,
          266.17,
          252.74,
          248.75,
          248.51,
          243.81,
          221.25,
          211.07,
          220.84,
          207.1,
          239.13,
          251.17,
          233.85,
          249.06,
          241.09,
          297.41,
          266.21,
          266.01,
          255,
          244.33,
          240.14,
          244.48,
          219.02,
          218.84,
          217,
          211,
          213,
          198.11,
          191.9,
          195.05,
          200.79,
          194.14,
          187.15,
          190.18,
          182.28,
          180,
          177.75,
          171.47,
          167.78,
          172.25,
          180.71,
          185,
          192.37,
          198.73,
          195.8,
          198.87,
          194.25,
          191.18,
          197.65,
          214,
          212.7,
          198.67,
          191.08,
          191.23,
          189.01,
          180,
          182.33,
          174.73,
          168.58,
          177,
          177.15,
          170.7,
          163.54,
          153.07,
          167.23,
          162.23,
          175.21,
          168.89,
          158.7,
          178,
          220.25,
          216.08,
          220.1,
          220.7,
          203.52,
          200.18,
          185.72,
          208.57,
          192,
          176.89,
          175.79,
          170.14,
          164.23,
          147.98,
          145.33,
          150,
          143.63,
          141.16,
          142.12,
          131.84,
          126.02,
          125.7,
          128.11,
          131.6,
          120.91,
          118,
          128.41,
          136.62,
          133.86,
          135,
          122.25,
          125.4,
          138.53,
          150.17,
          138.27,
          136.29,
          139.26,
          130.29,
          143.4,
          125.7,
          128,
          111.04,
          160.62,
          163.58,
          150.2,
          162,
          155.37,
          146.62,
          140,
          135.5,
          123.8,
          123.19,
          122,
          122.6,
          120,
          126.21,
          121.55,
          124.84,
          108.24,
          98.68,
          95.28,
          98.31,
          100.65,
          109.85,
          105.5,
          99.28,
          90.44,
          78.43,
          80.38,
          79.15,
          75.63,
          72.02,
          69.94,
          73.1,
          72.15,
          75.5,
          81.75,
          80.36,
          78.7,
          78.01,
          85.54
         ],
         "open": [
          145.07,
          150.67,
          151.01,
          152.27,
          163.89,
          161.45,
          148.59,
          157.16,
          175.77,
          181.34,
          180,
          185.33,
          189.26,
          183.13,
          179.4,
          183.01,
          178.59,
          174.12,
          180.45,
          179.8,
          178.54,
          219.47,
          232.3,
          212.17,
          213.29,
          183.46,
          180.86,
          171.6,
          167.39,
          174.48,
          175.78,
          176.37,
          167.71,
          177.78,
          173.4,
          186.97,
          185.97,
          179.72,
          183.7,
          175.57,
          166.58,
          168.55,
          177.93,
          184.76,
          182.92,
          183.43,
          165.53,
          170.72,
          165.45,
          166.31,
          149.81,
          156.06,
          148.06,
          143.6,
          142.54,
          138.47,
          141.35,
          140.31,
          144.46,
          145.61,
          141.57,
          140.48,
          134.75,
          131.09,
          127.74,
          126.09,
          124.3,
          120.74,
          117.77,
          107.3,
          113.2,
          119.2,
          120.04,
          120.71,
          125.92,
          131.02,
          131.43,
          133.37,
          134.29,
          134.03,
          134.61,
          132.12,
          137.47,
          138.88,
          137.82,
          144.99,
          140.22,
          136.9,
          137.04,
          144.42,
          144.19,
          137.71,
          132.64,
          126.76,
          124.97,
          134.54,
          129.22,
          119.78,
          124.4,
          154.88,
          152.58,
          156.44,
          167.18,
          166.58,
          175.2,
          179.98,
          170.92,
          161.86,
          162.88,
          168.46,
          172.69,
          160.73,
          161.98,
          176.38,
          173.01,
          178.62,
          193.55,
          187.19,
          183,
          188.05,
          170.63,
          164.15,
          177.48,
          194.42,
          199.26,
          183.95,
          185.56,
          142.73,
          169.47,
          180.33,
          211.15,
          186.65,
          294.13,
          281.5,
          296.22,
          300.11,
          326.52,
          318.3,
          310.9,
          378.16,
          359.35,
          388.13,
          347.75,
          345.27,
          354.52,
          356.5,
          305.43,
          294.91,
          269.1,
          277.02,
          271.6,
          255.5,
          258.79,
          259.99,
          247.6,
          224.25,
          225.28,
          241.74,
          252.74,
          257.84,
          260.87,
          261.7,
          274.13,
          301.05,
          308.86,
          286.18,
          278.75,
          267.77,
          244.4,
          252.31,
          256.25,
          221.12,
          226.17,
          219.2,
          237.23,
          221.42,
          202.26,
          195.26,
          211.4,
          202.74,
          196.9,
          195.74,
          193.68,
          184.24,
          184.11,
          183.71,
          171.52,
          175.95,
          185.85,
          185.73,
          195.62,
          200.16,
          199.88,
          199.74,
          206.1,
          201.67,
          200.65,
          214.02,
          226.1,
          220.83,
          201.47,
          200.32,
          204.02,
          191.91,
          190.83,
          182.88,
          180.36,
          180.59,
          187.62,
          179.27,
          176.08,
          165.58,
          171.97,
          170.27,
          179.4,
          181.59,
          177.5,
          208.21,
          227.57,
          227.04,
          236.68,
          226.69,
          237.52,
          210.17,
          208.1,
          213.92,
          226.47,
          197.2,
          183.71,
          181.73,
          181.79,
          167.6,
          151.03,
          155.98,
          155.18,
          145.25,
          156.31,
          142.12,
          131.95,
          129.61,
          133.53,
          134.88,
          133.73,
          122.7,
          134.88,
          137.06,
          141.17,
          137.78,
          137.75,
          129.65,
          149.82,
          151.89,
          151.81,
          142.76,
          143.58,
          143.75,
          152.38,
          147.55,
          133.36,
          139.35,
          170.22,
          177.9,
          172.46,
          169.75,
          169.45,
          159.01,
          155.48,
          161.44,
          137.1,
          126.53,
          124.42,
          130.09,
          128.7,
          129.67,
          127.67,
          129.56,
          127.8,
          111.17,
          102.46,
          114.28,
          104.49,
          114.65,
          120.04,
          109.45,
          101.06,
          92.94,
          81.4,
          82.4,
          82.2,
          76.67,
          72.19,
          74.71,
          77.42,
          76.7,
          83.44,
          83.58,
          83.18,
          79.54,
          89.04,
          88.96
         ],
         "type": "candlestick",
         "x": [
          "2021-09-28T00:00:00",
          "2021-09-27T00:00:00",
          "2021-09-26T00:00:00",
          "2021-09-25T00:00:00",
          "2021-09-24T00:00:00",
          "2021-09-23T00:00:00",
          "2021-09-22T00:00:00",
          "2021-09-21T00:00:00",
          "2021-09-20T00:00:00",
          "2021-09-19T00:00:00",
          "2021-09-18T00:00:00",
          "2021-09-17T00:00:00",
          "2021-09-16T00:00:00",
          "2021-09-15T00:00:00",
          "2021-09-14T00:00:00",
          "2021-09-13T00:00:00",
          "2021-09-12T00:00:00",
          "2021-09-11T00:00:00",
          "2021-09-10T00:00:00",
          "2021-09-09T00:00:00",
          "2021-09-08T00:00:00",
          "2021-09-07T00:00:00",
          "2021-09-06T00:00:00",
          "2021-09-05T00:00:00",
          "2021-09-04T00:00:00",
          "2021-09-03T00:00:00",
          "2021-09-02T00:00:00",
          "2021-09-01T00:00:00",
          "2021-08-31T00:00:00",
          "2021-08-30T00:00:00",
          "2021-08-29T00:00:00",
          "2021-08-28T00:00:00",
          "2021-08-27T00:00:00",
          "2021-08-26T00:00:00",
          "2021-08-25T00:00:00",
          "2021-08-24T00:00:00",
          "2021-08-23T00:00:00",
          "2021-08-22T00:00:00",
          "2021-08-21T00:00:00",
          "2021-08-20T00:00:00",
          "2021-08-19T00:00:00",
          "2021-08-18T00:00:00",
          "2021-08-17T00:00:00",
          "2021-08-16T00:00:00",
          "2021-08-15T00:00:00",
          "2021-08-14T00:00:00",
          "2021-08-13T00:00:00",
          "2021-08-12T00:00:00",
          "2021-08-11T00:00:00",
          "2021-08-10T00:00:00",
          "2021-08-09T00:00:00",
          "2021-08-08T00:00:00",
          "2021-08-07T00:00:00",
          "2021-08-06T00:00:00",
          "2021-08-05T00:00:00",
          "2021-08-04T00:00:00",
          "2021-08-03T00:00:00",
          "2021-08-02T00:00:00",
          "2021-08-01T00:00:00",
          "2021-07-31T00:00:00",
          "2021-07-30T00:00:00",
          "2021-07-29T00:00:00",
          "2021-07-28T00:00:00",
          "2021-07-27T00:00:00",
          "2021-07-26T00:00:00",
          "2021-07-25T00:00:00",
          "2021-07-24T00:00:00",
          "2021-07-23T00:00:00",
          "2021-07-22T00:00:00",
          "2021-07-21T00:00:00",
          "2021-07-20T00:00:00",
          "2021-07-19T00:00:00",
          "2021-07-18T00:00:00",
          "2021-07-17T00:00:00",
          "2021-07-16T00:00:00",
          "2021-07-15T00:00:00",
          "2021-07-14T00:00:00",
          "2021-07-13T00:00:00",
          "2021-07-12T00:00:00",
          "2021-07-11T00:00:00",
          "2021-07-10T00:00:00",
          "2021-07-09T00:00:00",
          "2021-07-08T00:00:00",
          "2021-07-07T00:00:00",
          "2021-07-06T00:00:00",
          "2021-07-05T00:00:00",
          "2021-07-04T00:00:00",
          "2021-07-03T00:00:00",
          "2021-07-02T00:00:00",
          "2021-07-01T00:00:00",
          "2021-06-30T00:00:00",
          "2021-06-29T00:00:00",
          "2021-06-28T00:00:00",
          "2021-06-27T00:00:00",
          "2021-06-26T00:00:00",
          "2021-06-25T00:00:00",
          "2021-06-24T00:00:00",
          "2021-06-23T00:00:00",
          "2021-06-22T00:00:00",
          "2021-06-21T00:00:00",
          "2021-06-20T00:00:00",
          "2021-06-19T00:00:00",
          "2021-06-18T00:00:00",
          "2021-06-17T00:00:00",
          "2021-06-16T00:00:00",
          "2021-06-15T00:00:00",
          "2021-06-14T00:00:00",
          "2021-06-13T00:00:00",
          "2021-06-12T00:00:00",
          "2021-06-11T00:00:00",
          "2021-06-10T00:00:00",
          "2021-06-09T00:00:00",
          "2021-06-08T00:00:00",
          "2021-06-07T00:00:00",
          "2021-06-06T00:00:00",
          "2021-06-05T00:00:00",
          "2021-06-04T00:00:00",
          "2021-06-03T00:00:00",
          "2021-06-02T00:00:00",
          "2021-06-01T00:00:00",
          "2021-05-31T00:00:00",
          "2021-05-30T00:00:00",
          "2021-05-29T00:00:00",
          "2021-05-28T00:00:00",
          "2021-05-27T00:00:00",
          "2021-05-26T00:00:00",
          "2021-05-25T00:00:00",
          "2021-05-24T00:00:00",
          "2021-05-23T00:00:00",
          "2021-05-22T00:00:00",
          "2021-05-21T00:00:00",
          "2021-05-20T00:00:00",
          "2021-05-19T00:00:00",
          "2021-05-18T00:00:00",
          "2021-05-17T00:00:00",
          "2021-05-16T00:00:00",
          "2021-05-15T00:00:00",
          "2021-05-14T00:00:00",
          "2021-05-13T00:00:00",
          "2021-05-12T00:00:00",
          "2021-05-11T00:00:00",
          "2021-05-10T00:00:00",
          "2021-05-09T00:00:00",
          "2021-05-08T00:00:00",
          "2021-05-07T00:00:00",
          "2021-05-06T00:00:00",
          "2021-05-05T00:00:00",
          "2021-05-04T00:00:00",
          "2021-05-03T00:00:00",
          "2021-05-02T00:00:00",
          "2021-05-01T00:00:00",
          "2021-04-30T00:00:00",
          "2021-04-29T00:00:00",
          "2021-04-28T00:00:00",
          "2021-04-27T00:00:00",
          "2021-04-26T00:00:00",
          "2021-04-25T00:00:00",
          "2021-04-24T00:00:00",
          "2021-04-23T00:00:00",
          "2021-04-22T00:00:00",
          "2021-04-21T00:00:00",
          "2021-04-20T00:00:00",
          "2021-04-19T00:00:00",
          "2021-04-18T00:00:00",
          "2021-04-17T00:00:00",
          "2021-04-16T00:00:00",
          "2021-04-15T00:00:00",
          "2021-04-14T00:00:00",
          "2021-04-13T00:00:00",
          "2021-04-12T00:00:00",
          "2021-04-11T00:00:00",
          "2021-04-10T00:00:00",
          "2021-04-09T00:00:00",
          "2021-04-08T00:00:00",
          "2021-04-07T00:00:00",
          "2021-04-06T00:00:00",
          "2021-04-05T00:00:00",
          "2021-04-04T00:00:00",
          "2021-04-03T00:00:00",
          "2021-04-02T00:00:00",
          "2021-04-01T00:00:00",
          "2021-03-31T00:00:00",
          "2021-03-30T00:00:00",
          "2021-03-29T00:00:00",
          "2021-03-28T00:00:00",
          "2021-03-27T00:00:00",
          "2021-03-26T00:00:00",
          "2021-03-25T00:00:00",
          "2021-03-24T00:00:00",
          "2021-03-23T00:00:00",
          "2021-03-22T00:00:00",
          "2021-03-21T00:00:00",
          "2021-03-20T00:00:00",
          "2021-03-19T00:00:00",
          "2021-03-18T00:00:00",
          "2021-03-17T00:00:00",
          "2021-03-16T00:00:00",
          "2021-03-15T00:00:00",
          "2021-03-14T00:00:00",
          "2021-03-13T00:00:00",
          "2021-03-12T00:00:00",
          "2021-03-11T00:00:00",
          "2021-03-10T00:00:00",
          "2021-03-09T00:00:00",
          "2021-03-08T00:00:00",
          "2021-03-07T00:00:00",
          "2021-03-06T00:00:00",
          "2021-03-05T00:00:00",
          "2021-03-04T00:00:00",
          "2021-03-03T00:00:00",
          "2021-03-02T00:00:00",
          "2021-03-01T00:00:00",
          "2021-02-28T00:00:00",
          "2021-02-27T00:00:00",
          "2021-02-26T00:00:00",
          "2021-02-25T00:00:00",
          "2021-02-24T00:00:00",
          "2021-02-23T00:00:00",
          "2021-02-22T00:00:00",
          "2021-02-21T00:00:00",
          "2021-02-20T00:00:00",
          "2021-02-19T00:00:00",
          "2021-02-18T00:00:00",
          "2021-02-17T00:00:00",
          "2021-02-16T00:00:00",
          "2021-02-15T00:00:00",
          "2021-02-14T00:00:00",
          "2021-02-13T00:00:00",
          "2021-02-12T00:00:00",
          "2021-02-11T00:00:00",
          "2021-02-10T00:00:00",
          "2021-02-09T00:00:00",
          "2021-02-08T00:00:00",
          "2021-02-07T00:00:00",
          "2021-02-06T00:00:00",
          "2021-02-05T00:00:00",
          "2021-02-04T00:00:00",
          "2021-02-03T00:00:00",
          "2021-02-02T00:00:00",
          "2021-02-01T00:00:00",
          "2021-01-31T00:00:00",
          "2021-01-30T00:00:00",
          "2021-01-29T00:00:00",
          "2021-01-28T00:00:00",
          "2021-01-27T00:00:00",
          "2021-01-26T00:00:00",
          "2021-01-25T00:00:00",
          "2021-01-24T00:00:00",
          "2021-01-23T00:00:00",
          "2021-01-22T00:00:00",
          "2021-01-21T00:00:00",
          "2021-01-20T00:00:00",
          "2021-01-19T00:00:00",
          "2021-01-18T00:00:00",
          "2021-01-17T00:00:00",
          "2021-01-16T00:00:00",
          "2021-01-15T00:00:00",
          "2021-01-14T00:00:00",
          "2021-01-13T00:00:00",
          "2021-01-12T00:00:00",
          "2021-01-11T00:00:00",
          "2021-01-10T00:00:00",
          "2021-01-09T00:00:00",
          "2021-01-08T00:00:00",
          "2021-01-07T00:00:00",
          "2021-01-06T00:00:00",
          "2021-01-05T00:00:00",
          "2021-01-04T00:00:00",
          "2021-01-03T00:00:00",
          "2021-01-02T00:00:00",
          "2021-01-01T00:00:00",
          "2020-12-31T00:00:00",
          "2020-12-30T00:00:00",
          "2020-12-29T00:00:00",
          "2020-12-28T00:00:00",
          "2020-12-27T00:00:00",
          "2020-12-26T00:00:00",
          "2020-12-25T00:00:00",
          "2020-12-24T00:00:00",
          "2020-12-23T00:00:00",
          "2020-12-22T00:00:00",
          "2020-12-21T00:00:00",
          "2020-12-20T00:00:00",
          "2020-12-19T00:00:00",
          "2020-12-18T00:00:00",
          "2020-12-17T00:00:00",
          "2020-12-16T00:00:00",
          "2020-12-15T00:00:00",
          "2020-12-14T00:00:00",
          "2020-12-13T00:00:00",
          "2020-12-12T00:00:00",
          "2020-12-11T00:00:00",
          "2020-12-10T00:00:00",
          "2020-12-09T00:00:00",
          "2020-12-08T00:00:00",
          "2020-12-07T00:00:00",
          "2020-12-06T00:00:00",
          "2020-12-05T00:00:00",
          "2020-12-04T00:00:00",
          "2020-12-03T00:00:00"
         ]
        }
       ],
       "layout": {
        "template": {
         "data": {
          "bar": [
           {
            "error_x": {
             "color": "#2a3f5f"
            },
            "error_y": {
             "color": "#2a3f5f"
            },
            "marker": {
             "line": {
              "color": "#E5ECF6",
              "width": 0.5
             }
            },
            "type": "bar"
           }
          ],
          "barpolar": [
           {
            "marker": {
             "line": {
              "color": "#E5ECF6",
              "width": 0.5
             }
            },
            "type": "barpolar"
           }
          ],
          "carpet": [
           {
            "aaxis": {
             "endlinecolor": "#2a3f5f",
             "gridcolor": "white",
             "linecolor": "white",
             "minorgridcolor": "white",
             "startlinecolor": "#2a3f5f"
            },
            "baxis": {
             "endlinecolor": "#2a3f5f",
             "gridcolor": "white",
             "linecolor": "white",
             "minorgridcolor": "white",
             "startlinecolor": "#2a3f5f"
            },
            "type": "carpet"
           }
          ],
          "choropleth": [
           {
            "colorbar": {
             "outlinewidth": 0,
             "ticks": ""
            },
            "type": "choropleth"
           }
          ],
          "contour": [
           {
            "colorbar": {
             "outlinewidth": 0,
             "ticks": ""
            },
            "colorscale": [
             [
              0,
              "#0d0887"
             ],
             [
              0.1111111111111111,
              "#46039f"
             ],
             [
              0.2222222222222222,
              "#7201a8"
             ],
             [
              0.3333333333333333,
              "#9c179e"
             ],
             [
              0.4444444444444444,
              "#bd3786"
             ],
             [
              0.5555555555555556,
              "#d8576b"
             ],
             [
              0.6666666666666666,
              "#ed7953"
             ],
             [
              0.7777777777777778,
              "#fb9f3a"
             ],
             [
              0.8888888888888888,
              "#fdca26"
             ],
             [
              1,
              "#f0f921"
             ]
            ],
            "type": "contour"
           }
          ],
          "contourcarpet": [
           {
            "colorbar": {
             "outlinewidth": 0,
             "ticks": ""
            },
            "type": "contourcarpet"
           }
          ],
          "heatmap": [
           {
            "colorbar": {
             "outlinewidth": 0,
             "ticks": ""
            },
            "colorscale": [
             [
              0,
              "#0d0887"
             ],
             [
              0.1111111111111111,
              "#46039f"
             ],
             [
              0.2222222222222222,
              "#7201a8"
             ],
             [
              0.3333333333333333,
              "#9c179e"
             ],
             [
              0.4444444444444444,
              "#bd3786"
             ],
             [
              0.5555555555555556,
              "#d8576b"
             ],
             [
              0.6666666666666666,
              "#ed7953"
             ],
             [
              0.7777777777777778,
              "#fb9f3a"
             ],
             [
              0.8888888888888888,
              "#fdca26"
             ],
             [
              1,
              "#f0f921"
             ]
            ],
            "type": "heatmap"
           }
          ],
          "heatmapgl": [
           {
            "colorbar": {
             "outlinewidth": 0,
             "ticks": ""
            },
            "colorscale": [
             [
              0,
              "#0d0887"
             ],
             [
              0.1111111111111111,
              "#46039f"
             ],
             [
              0.2222222222222222,
              "#7201a8"
             ],
             [
              0.3333333333333333,
              "#9c179e"
             ],
             [
              0.4444444444444444,
              "#bd3786"
             ],
             [
              0.5555555555555556,
              "#d8576b"
             ],
             [
              0.6666666666666666,
              "#ed7953"
             ],
             [
              0.7777777777777778,
              "#fb9f3a"
             ],
             [
              0.8888888888888888,
              "#fdca26"
             ],
             [
              1,
              "#f0f921"
             ]
            ],
            "type": "heatmapgl"
           }
          ],
          "histogram": [
           {
            "marker": {
             "colorbar": {
              "outlinewidth": 0,
              "ticks": ""
             }
            },
            "type": "histogram"
           }
          ],
          "histogram2d": [
           {
            "colorbar": {
             "outlinewidth": 0,
             "ticks": ""
            },
            "colorscale": [
             [
              0,
              "#0d0887"
             ],
             [
              0.1111111111111111,
              "#46039f"
             ],
             [
              0.2222222222222222,
              "#7201a8"
             ],
             [
              0.3333333333333333,
              "#9c179e"
             ],
             [
              0.4444444444444444,
              "#bd3786"
             ],
             [
              0.5555555555555556,
              "#d8576b"
             ],
             [
              0.6666666666666666,
              "#ed7953"
             ],
             [
              0.7777777777777778,
              "#fb9f3a"
             ],
             [
              0.8888888888888888,
              "#fdca26"
             ],
             [
              1,
              "#f0f921"
             ]
            ],
            "type": "histogram2d"
           }
          ],
          "histogram2dcontour": [
           {
            "colorbar": {
             "outlinewidth": 0,
             "ticks": ""
            },
            "colorscale": [
             [
              0,
              "#0d0887"
             ],
             [
              0.1111111111111111,
              "#46039f"
             ],
             [
              0.2222222222222222,
              "#7201a8"
             ],
             [
              0.3333333333333333,
              "#9c179e"
             ],
             [
              0.4444444444444444,
              "#bd3786"
             ],
             [
              0.5555555555555556,
              "#d8576b"
             ],
             [
              0.6666666666666666,
              "#ed7953"
             ],
             [
              0.7777777777777778,
              "#fb9f3a"
             ],
             [
              0.8888888888888888,
              "#fdca26"
             ],
             [
              1,
              "#f0f921"
             ]
            ],
            "type": "histogram2dcontour"
           }
          ],
          "mesh3d": [
           {
            "colorbar": {
             "outlinewidth": 0,
             "ticks": ""
            },
            "type": "mesh3d"
           }
          ],
          "parcoords": [
           {
            "line": {
             "colorbar": {
              "outlinewidth": 0,
              "ticks": ""
             }
            },
            "type": "parcoords"
           }
          ],
          "pie": [
           {
            "automargin": true,
            "type": "pie"
           }
          ],
          "scatter": [
           {
            "marker": {
             "colorbar": {
              "outlinewidth": 0,
              "ticks": ""
             }
            },
            "type": "scatter"
           }
          ],
          "scatter3d": [
           {
            "line": {
             "colorbar": {
              "outlinewidth": 0,
              "ticks": ""
             }
            },
            "marker": {
             "colorbar": {
              "outlinewidth": 0,
              "ticks": ""
             }
            },
            "type": "scatter3d"
           }
          ],
          "scattercarpet": [
           {
            "marker": {
             "colorbar": {
              "outlinewidth": 0,
              "ticks": ""
             }
            },
            "type": "scattercarpet"
           }
          ],
          "scattergeo": [
           {
            "marker": {
             "colorbar": {
              "outlinewidth": 0,
              "ticks": ""
             }
            },
            "type": "scattergeo"
           }
          ],
          "scattergl": [
           {
            "marker": {
             "colorbar": {
              "outlinewidth": 0,
              "ticks": ""
             }
            },
            "type": "scattergl"
           }
          ],
          "scattermapbox": [
           {
            "marker": {
             "colorbar": {
              "outlinewidth": 0,
              "ticks": ""
             }
            },
            "type": "scattermapbox"
           }
          ],
          "scatterpolar": [
           {
            "marker": {
             "colorbar": {
              "outlinewidth": 0,
              "ticks": ""
             }
            },
            "type": "scatterpolar"
           }
          ],
          "scatterpolargl": [
           {
            "marker": {
             "colorbar": {
              "outlinewidth": 0,
              "ticks": ""
             }
            },
            "type": "scatterpolargl"
           }
          ],
          "scatterternary": [
           {
            "marker": {
             "colorbar": {
              "outlinewidth": 0,
              "ticks": ""
             }
            },
            "type": "scatterternary"
           }
          ],
          "surface": [
           {
            "colorbar": {
             "outlinewidth": 0,
             "ticks": ""
            },
            "colorscale": [
             [
              0,
              "#0d0887"
             ],
             [
              0.1111111111111111,
              "#46039f"
             ],
             [
              0.2222222222222222,
              "#7201a8"
             ],
             [
              0.3333333333333333,
              "#9c179e"
             ],
             [
              0.4444444444444444,
              "#bd3786"
             ],
             [
              0.5555555555555556,
              "#d8576b"
             ],
             [
              0.6666666666666666,
              "#ed7953"
             ],
             [
              0.7777777777777778,
              "#fb9f3a"
             ],
             [
              0.8888888888888888,
              "#fdca26"
             ],
             [
              1,
              "#f0f921"
             ]
            ],
            "type": "surface"
           }
          ],
          "table": [
           {
            "cells": {
             "fill": {
              "color": "#EBF0F8"
             },
             "line": {
              "color": "white"
             }
            },
            "header": {
             "fill": {
              "color": "#C8D4E3"
             },
             "line": {
              "color": "white"
             }
            },
            "type": "table"
           }
          ]
         },
         "layout": {
          "annotationdefaults": {
           "arrowcolor": "#2a3f5f",
           "arrowhead": 0,
           "arrowwidth": 1
          },
          "autotypenumbers": "strict",
          "coloraxis": {
           "colorbar": {
            "outlinewidth": 0,
            "ticks": ""
           }
          },
          "colorscale": {
           "diverging": [
            [
             0,
             "#8e0152"
            ],
            [
             0.1,
             "#c51b7d"
            ],
            [
             0.2,
             "#de77ae"
            ],
            [
             0.3,
             "#f1b6da"
            ],
            [
             0.4,
             "#fde0ef"
            ],
            [
             0.5,
             "#f7f7f7"
            ],
            [
             0.6,
             "#e6f5d0"
            ],
            [
             0.7,
             "#b8e186"
            ],
            [
             0.8,
             "#7fbc41"
            ],
            [
             0.9,
             "#4d9221"
            ],
            [
             1,
             "#276419"
            ]
           ],
           "sequential": [
            [
             0,
             "#0d0887"
            ],
            [
             0.1111111111111111,
             "#46039f"
            ],
            [
             0.2222222222222222,
             "#7201a8"
            ],
            [
             0.3333333333333333,
             "#9c179e"
            ],
            [
             0.4444444444444444,
             "#bd3786"
            ],
            [
             0.5555555555555556,
             "#d8576b"
            ],
            [
             0.6666666666666666,
             "#ed7953"
            ],
            [
             0.7777777777777778,
             "#fb9f3a"
            ],
            [
             0.8888888888888888,
             "#fdca26"
            ],
            [
             1,
             "#f0f921"
            ]
           ],
           "sequentialminus": [
            [
             0,
             "#0d0887"
            ],
            [
             0.1111111111111111,
             "#46039f"
            ],
            [
             0.2222222222222222,
             "#7201a8"
            ],
            [
             0.3333333333333333,
             "#9c179e"
            ],
            [
             0.4444444444444444,
             "#bd3786"
            ],
            [
             0.5555555555555556,
             "#d8576b"
            ],
            [
             0.6666666666666666,
             "#ed7953"
            ],
            [
             0.7777777777777778,
             "#fb9f3a"
            ],
            [
             0.8888888888888888,
             "#fdca26"
            ],
            [
             1,
             "#f0f921"
            ]
           ]
          },
          "colorway": [
           "#636efa",
           "#EF553B",
           "#00cc96",
           "#ab63fa",
           "#FFA15A",
           "#19d3f3",
           "#FF6692",
           "#B6E880",
           "#FF97FF",
           "#FECB52"
          ],
          "font": {
           "color": "#2a3f5f"
          },
          "geo": {
           "bgcolor": "white",
           "lakecolor": "white",
           "landcolor": "#E5ECF6",
           "showlakes": true,
           "showland": true,
           "subunitcolor": "white"
          },
          "hoverlabel": {
           "align": "left"
          },
          "hovermode": "closest",
          "mapbox": {
           "style": "light"
          },
          "paper_bgcolor": "white",
          "plot_bgcolor": "#E5ECF6",
          "polar": {
           "angularaxis": {
            "gridcolor": "white",
            "linecolor": "white",
            "ticks": ""
           },
           "bgcolor": "#E5ECF6",
           "radialaxis": {
            "gridcolor": "white",
            "linecolor": "white",
            "ticks": ""
           }
          },
          "scene": {
           "xaxis": {
            "backgroundcolor": "#E5ECF6",
            "gridcolor": "white",
            "gridwidth": 2,
            "linecolor": "white",
            "showbackground": true,
            "ticks": "",
            "zerolinecolor": "white"
           },
           "yaxis": {
            "backgroundcolor": "#E5ECF6",
            "gridcolor": "white",
            "gridwidth": 2,
            "linecolor": "white",
            "showbackground": true,
            "ticks": "",
            "zerolinecolor": "white"
           },
           "zaxis": {
            "backgroundcolor": "#E5ECF6",
            "gridcolor": "white",
            "gridwidth": 2,
            "linecolor": "white",
            "showbackground": true,
            "ticks": "",
            "zerolinecolor": "white"
           }
          },
          "shapedefaults": {
           "line": {
            "color": "#2a3f5f"
           }
          },
          "ternary": {
           "aaxis": {
            "gridcolor": "white",
            "linecolor": "white",
            "ticks": ""
           },
           "baxis": {
            "gridcolor": "white",
            "linecolor": "white",
            "ticks": ""
           },
           "bgcolor": "#E5ECF6",
           "caxis": {
            "gridcolor": "white",
            "linecolor": "white",
            "ticks": ""
           }
          },
          "title": {
           "x": 0.05
          },
          "xaxis": {
           "automargin": true,
           "gridcolor": "white",
           "linecolor": "white",
           "ticks": "",
           "title": {
            "standoff": 15
           },
           "zerolinecolor": "white",
           "zerolinewidth": 2
          },
          "yaxis": {
           "automargin": true,
           "gridcolor": "white",
           "linecolor": "white",
           "ticks": "",
           "title": {
            "standoff": 15
           },
           "zerolinecolor": "white",
           "zerolinewidth": 2
          }
         }
        },
        "title": {
         "text": "LTC Price In USD",
         "x": 0.5
        },
        "xaxis": {
         "title": {
          "text": "Date"
         }
        },
        "yaxis": {
         "title": {
          "text": "LTC Price"
         }
        }
       }
      },
      "text/html": [
       "<div>                            <div id=\"ff02500c-3ab4-42ec-bda8-12a75ce04fcf\" class=\"plotly-graph-div\" style=\"height:525px; width:100%;\"></div>            <script type=\"text/javascript\">                require([\"plotly\"], function(Plotly) {                    window.PLOTLYENV=window.PLOTLYENV || {};                                    if (document.getElementById(\"ff02500c-3ab4-42ec-bda8-12a75ce04fcf\")) {                    Plotly.newPlot(                        \"ff02500c-3ab4-42ec-bda8-12a75ce04fcf\",                        [{\"close\": [143.19, 145.16, 150.74, 151.01, 152.25, 163.92, 161.5, 148.52, 157.23, 175.76, 181.38, 180.0, 185.33, 189.24, 183.09, 179.36, 182.96, 178.56, 174.16, 180.42, 179.7, 178.36, 219.47, 232.3, 212.12, 213.28, 183.39, 180.86, 171.57, 167.34, 174.48, 175.75, 176.32, 167.74, 177.87, 173.54, 187.08, 185.97, 179.83, 183.67, 175.57, 166.6, 168.54, 177.94, 184.76, 182.98, 183.42, 165.51, 170.79, 165.43, 166.42, 149.88, 156.05, 148.09, 143.59, 142.54, 138.48, 141.36, 140.28, 144.43, 145.62, 141.52, 140.47, 134.74, 131.11, 127.75, 126.12, 124.28, 120.74, 117.83, 107.3, 113.17, 119.13, 120.02, 120.68, 125.79, 131.02, 131.44, 133.37, 134.26, 134.01, 134.61, 132.1, 137.42, 138.89, 137.82, 144.94, 140.19, 136.91, 137.16, 144.36, 144.18, 137.69, 132.67, 126.81, 125.0, 134.53, 129.2, 119.83, 124.45, 154.87, 152.53, 156.41, 167.18, 166.61, 175.15, 180.02, 171.02, 161.85, 162.9, 168.38, 172.57, 160.76, 161.98, 176.38, 173.07, 178.63, 193.58, 187.27, 182.98, 188.05, 170.72, 164.12, 177.41, 194.41, 199.18, 184.09, 185.42, 142.72, 169.48, 180.23, 211.11, 186.65, 294.13, 281.6, 296.11, 300.18, 326.67, 318.41, 310.91, 378.16, 359.41, 388.3, 347.72, 345.25, 354.44, 356.43, 305.5, 294.91, 269.1, 277.0, 271.59, 255.51, 258.81, 259.96, 247.65, 224.18, 225.3, 241.67, 252.65, 257.78, 261.01, 261.56, 274.2, 301.1, 308.75, 286.18, 278.85, 267.77, 244.35, 252.44, 255.94, 221.07, 226.24, 219.33, 237.09, 221.44, 202.26, 195.34, 211.5, 202.67, 196.88, 195.73, 193.66, 184.27, 184.14, 183.7, 171.48, 175.95, 185.85, 185.7, 195.53, 200.16, 199.91, 199.65, 206.04, 201.64, 200.82, 214.11, 226.09, 220.84, 201.47, 200.23, 203.98, 191.9, 190.74, 182.85, 180.3, 180.59, 187.61, 179.25, 176.01, 165.72, 172.01, 170.3, 179.47, 181.7, 177.59, 208.23, 227.54, 227.17, 236.69, 226.65, 237.54, 210.17, 207.9, 213.93, 226.62, 197.2, 183.8, 181.76, 181.92, 167.63, 150.95, 155.77, 155.15, 145.27, 156.2, 142.05, 132.04, 129.58, 133.61, 134.91, 133.61, 122.63, 134.79, 137.13, 141.13, 137.76, 137.76, 129.75, 149.77, 151.9, 151.88, 142.8, 143.5, 143.63, 152.38, 147.51, 133.39, 139.43, 170.21, 177.87, 172.46, 169.75, 169.41, 159.03, 155.43, 161.52, 137.13, 126.53, 124.41, 130.11, 128.69, 129.69, 127.6, 129.56, 127.67, 111.2, 102.35, 114.31, 104.44, 114.65, 120.02, 109.46, 101.17, 93.02, 81.4, 82.4, 82.2, 76.7, 72.18, 74.71, 77.42, 76.7, 83.41, 83.64, 83.21, 79.58, 89.03], \"high\": [148.93, 154.97, 153.51, 156.13, 166.65, 165.0, 161.87, 162.32, 176.13, 181.72, 185.95, 190.53, 195.49, 191.86, 188.88, 237.88, 186.1, 186.06, 187.38, 188.85, 189.0, 222.04, 232.41, 232.64, 225.25, 218.0, 188.0, 182.78, 175.4, 176.59, 182.75, 177.15, 176.4, 180.36, 178.95, 188.68, 191.8, 189.81, 184.5, 184.05, 175.9, 174.58, 184.45, 189.12, 186.65, 185.11, 184.7, 179.79, 176.1, 168.42, 171.0, 157.72, 156.53, 150.96, 145.25, 144.5, 143.26, 145.91, 149.87, 146.68, 145.93, 143.0, 142.07, 135.19, 140.43, 128.12, 127.82, 125.06, 122.1, 119.22, 115.06, 120.71, 124.1, 122.95, 127.82, 133.07, 132.39, 134.62, 139.65, 136.44, 136.86, 135.8, 137.81, 142.98, 142.73, 145.0, 148.0, 141.41, 139.0, 144.43, 146.94, 149.26, 139.6, 132.7, 129.37, 138.45, 137.4, 133.76, 133.02, 155.45, 156.2, 160.88, 167.39, 173.4, 177.34, 181.26, 180.18, 171.73, 164.36, 173.76, 174.69, 173.33, 164.58, 182.25, 180.06, 185.49, 193.8, 197.67, 191.27, 193.28, 188.5, 181.2, 188.72, 198.92, 208.98, 204.48, 194.89, 185.57, 176.51, 184.82, 219.79, 232.99, 300.49, 318.43, 296.76, 324.19, 332.01, 339.62, 336.0, 394.46, 379.87, 413.91, 389.65, 357.0, 372.88, 365.2, 360.0, 327.91, 299.71, 277.64, 278.71, 273.87, 262.99, 267.0, 264.0, 248.36, 235.86, 241.79, 257.07, 289.8, 276.97, 276.47, 283.69, 305.33, 335.35, 319.94, 291.25, 283.2, 273.3, 258.69, 262.98, 256.63, 228.96, 228.0, 242.96, 244.54, 225.0, 204.74, 217.88, 213.56, 204.95, 199.0, 200.08, 197.54, 187.3, 186.24, 183.93, 178.24, 197.0, 189.51, 199.17, 201.95, 206.0, 204.95, 208.23, 206.88, 205.27, 222.44, 227.94, 230.0, 224.33, 203.45, 208.0, 205.2, 195.22, 192.14, 184.71, 183.53, 194.5, 196.71, 185.48, 176.82, 173.17, 180.48, 182.9, 205.2, 189.69, 208.94, 227.72, 233.95, 247.0, 241.99, 239.11, 237.59, 221.95, 220.0, 230.81, 229.52, 199.99, 193.65, 195.15, 184.71, 169.48, 157.49, 164.23, 156.99, 158.99, 156.86, 145.95, 136.62, 135.21, 136.34, 145.88, 136.29, 135.13, 139.79, 147.69, 142.63, 143.54, 142.0, 150.35, 156.3, 166.21, 155.0, 147.0, 152.68, 155.3, 156.87, 148.5, 146.88, 170.72, 186.34, 179.42, 181.55, 181.25, 169.9, 163.36, 174.5, 164.98, 142.21, 134.22, 130.35, 132.89, 130.67, 136.99, 139.3, 135.0, 128.54, 112.3, 117.32, 114.6, 118.87, 123.19, 124.4, 112.92, 110.0, 93.3, 85.0, 82.99, 84.34, 77.65, 75.09, 77.64, 78.24, 84.93, 86.89, 85.26, 84.33, 89.9, 91.35], \"low\": [142.1, 144.9, 142.07, 148.86, 141.82, 157.26, 145.31, 144.6, 153.49, 172.68, 177.96, 177.66, 181.53, 179.59, 176.21, 170.82, 175.2, 173.25, 170.88, 176.55, 169.31, 161.0, 215.21, 210.57, 208.5, 179.87, 179.41, 168.57, 165.67, 166.49, 173.18, 171.21, 165.12, 165.11, 169.21, 172.15, 183.55, 178.71, 176.72, 174.12, 162.66, 162.93, 168.0, 176.65, 175.35, 174.82, 163.95, 160.83, 164.3, 158.86, 145.36, 147.09, 147.2, 141.95, 136.25, 135.54, 135.69, 138.81, 138.14, 141.95, 135.92, 136.63, 132.43, 127.43, 127.03, 123.62, 123.37, 117.06, 115.63, 105.08, 103.88, 111.84, 116.37, 117.73, 120.44, 121.95, 123.86, 129.56, 131.65, 132.13, 130.36, 126.08, 127.9, 137.01, 135.7, 134.17, 136.89, 134.55, 130.6, 134.15, 136.09, 137.25, 129.92, 124.61, 118.71, 124.34, 123.77, 115.55, 105.0, 124.02, 143.81, 152.36, 151.11, 162.88, 164.39, 172.18, 166.33, 156.54, 154.23, 160.58, 162.21, 152.46, 145.0, 160.25, 171.82, 167.67, 169.18, 182.03, 178.37, 175.98, 163.7, 155.28, 157.7, 165.5, 180.61, 179.39, 167.41, 139.86, 117.58, 161.88, 156.94, 166.95, 145.26, 278.49, 261.37, 279.38, 296.52, 308.46, 291.0, 301.0, 345.33, 336.21, 334.0, 334.97, 333.55, 320.0, 300.98, 271.03, 268.64, 265.0, 266.17, 252.74, 248.75, 248.51, 243.81, 221.25, 211.07, 220.84, 207.1, 239.13, 251.17, 233.85, 249.06, 241.09, 297.41, 266.21, 266.01, 255.0, 244.33, 240.14, 244.48, 219.02, 218.84, 217.0, 211.0, 213.0, 198.11, 191.9, 195.05, 200.79, 194.14, 187.15, 190.18, 182.28, 180.0, 177.75, 171.47, 167.78, 172.25, 180.71, 185.0, 192.37, 198.73, 195.8, 198.87, 194.25, 191.18, 197.65, 214.0, 212.7, 198.67, 191.08, 191.23, 189.01, 180.0, 182.33, 174.73, 168.58, 177.0, 177.15, 170.7, 163.54, 153.07, 167.23, 162.23, 175.21, 168.89, 158.7, 178.0, 220.25, 216.08, 220.1, 220.7, 203.52, 200.18, 185.72, 208.57, 192.0, 176.89, 175.79, 170.14, 164.23, 147.98, 145.33, 150.0, 143.63, 141.16, 142.12, 131.84, 126.02, 125.7, 128.11, 131.6, 120.91, 118.0, 128.41, 136.62, 133.86, 135.0, 122.25, 125.4, 138.53, 150.17, 138.27, 136.29, 139.26, 130.29, 143.4, 125.7, 128.0, 111.04, 160.62, 163.58, 150.2, 162.0, 155.37, 146.62, 140.0, 135.5, 123.8, 123.19, 122.0, 122.6, 120.0, 126.21, 121.55, 124.84, 108.24, 98.68, 95.28, 98.31, 100.65, 109.85, 105.5, 99.28, 90.44, 78.43, 80.38, 79.15, 75.63, 72.02, 69.94, 73.1, 72.15, 75.5, 81.75, 80.36, 78.7, 78.01, 85.54], \"open\": [145.07, 150.67, 151.01, 152.27, 163.89, 161.45, 148.59, 157.16, 175.77, 181.34, 180.0, 185.33, 189.26, 183.13, 179.4, 183.01, 178.59, 174.12, 180.45, 179.8, 178.54, 219.47, 232.3, 212.17, 213.29, 183.46, 180.86, 171.6, 167.39, 174.48, 175.78, 176.37, 167.71, 177.78, 173.4, 186.97, 185.97, 179.72, 183.7, 175.57, 166.58, 168.55, 177.93, 184.76, 182.92, 183.43, 165.53, 170.72, 165.45, 166.31, 149.81, 156.06, 148.06, 143.6, 142.54, 138.47, 141.35, 140.31, 144.46, 145.61, 141.57, 140.48, 134.75, 131.09, 127.74, 126.09, 124.3, 120.74, 117.77, 107.3, 113.2, 119.2, 120.04, 120.71, 125.92, 131.02, 131.43, 133.37, 134.29, 134.03, 134.61, 132.12, 137.47, 138.88, 137.82, 144.99, 140.22, 136.9, 137.04, 144.42, 144.19, 137.71, 132.64, 126.76, 124.97, 134.54, 129.22, 119.78, 124.4, 154.88, 152.58, 156.44, 167.18, 166.58, 175.2, 179.98, 170.92, 161.86, 162.88, 168.46, 172.69, 160.73, 161.98, 176.38, 173.01, 178.62, 193.55, 187.19, 183.0, 188.05, 170.63, 164.15, 177.48, 194.42, 199.26, 183.95, 185.56, 142.73, 169.47, 180.33, 211.15, 186.65, 294.13, 281.5, 296.22, 300.11, 326.52, 318.3, 310.9, 378.16, 359.35, 388.13, 347.75, 345.27, 354.52, 356.5, 305.43, 294.91, 269.1, 277.02, 271.6, 255.5, 258.79, 259.99, 247.6, 224.25, 225.28, 241.74, 252.74, 257.84, 260.87, 261.7, 274.13, 301.05, 308.86, 286.18, 278.75, 267.77, 244.4, 252.31, 256.25, 221.12, 226.17, 219.2, 237.23, 221.42, 202.26, 195.26, 211.4, 202.74, 196.9, 195.74, 193.68, 184.24, 184.11, 183.71, 171.52, 175.95, 185.85, 185.73, 195.62, 200.16, 199.88, 199.74, 206.1, 201.67, 200.65, 214.02, 226.1, 220.83, 201.47, 200.32, 204.02, 191.91, 190.83, 182.88, 180.36, 180.59, 187.62, 179.27, 176.08, 165.58, 171.97, 170.27, 179.4, 181.59, 177.5, 208.21, 227.57, 227.04, 236.68, 226.69, 237.52, 210.17, 208.1, 213.92, 226.47, 197.2, 183.71, 181.73, 181.79, 167.6, 151.03, 155.98, 155.18, 145.25, 156.31, 142.12, 131.95, 129.61, 133.53, 134.88, 133.73, 122.7, 134.88, 137.06, 141.17, 137.78, 137.75, 129.65, 149.82, 151.89, 151.81, 142.76, 143.58, 143.75, 152.38, 147.55, 133.36, 139.35, 170.22, 177.9, 172.46, 169.75, 169.45, 159.01, 155.48, 161.44, 137.1, 126.53, 124.42, 130.09, 128.7, 129.67, 127.67, 129.56, 127.8, 111.17, 102.46, 114.28, 104.49, 114.65, 120.04, 109.45, 101.06, 92.94, 81.4, 82.4, 82.2, 76.67, 72.19, 74.71, 77.42, 76.7, 83.44, 83.58, 83.18, 79.54, 89.04, 88.96], \"type\": \"candlestick\", \"x\": [\"2021-09-28T00:00:00\", \"2021-09-27T00:00:00\", \"2021-09-26T00:00:00\", \"2021-09-25T00:00:00\", \"2021-09-24T00:00:00\", \"2021-09-23T00:00:00\", \"2021-09-22T00:00:00\", \"2021-09-21T00:00:00\", \"2021-09-20T00:00:00\", \"2021-09-19T00:00:00\", \"2021-09-18T00:00:00\", \"2021-09-17T00:00:00\", \"2021-09-16T00:00:00\", \"2021-09-15T00:00:00\", \"2021-09-14T00:00:00\", \"2021-09-13T00:00:00\", \"2021-09-12T00:00:00\", \"2021-09-11T00:00:00\", \"2021-09-10T00:00:00\", \"2021-09-09T00:00:00\", \"2021-09-08T00:00:00\", \"2021-09-07T00:00:00\", \"2021-09-06T00:00:00\", \"2021-09-05T00:00:00\", \"2021-09-04T00:00:00\", \"2021-09-03T00:00:00\", \"2021-09-02T00:00:00\", \"2021-09-01T00:00:00\", \"2021-08-31T00:00:00\", \"2021-08-30T00:00:00\", \"2021-08-29T00:00:00\", \"2021-08-28T00:00:00\", \"2021-08-27T00:00:00\", \"2021-08-26T00:00:00\", \"2021-08-25T00:00:00\", \"2021-08-24T00:00:00\", \"2021-08-23T00:00:00\", \"2021-08-22T00:00:00\", \"2021-08-21T00:00:00\", \"2021-08-20T00:00:00\", \"2021-08-19T00:00:00\", \"2021-08-18T00:00:00\", \"2021-08-17T00:00:00\", \"2021-08-16T00:00:00\", \"2021-08-15T00:00:00\", \"2021-08-14T00:00:00\", \"2021-08-13T00:00:00\", \"2021-08-12T00:00:00\", \"2021-08-11T00:00:00\", \"2021-08-10T00:00:00\", \"2021-08-09T00:00:00\", \"2021-08-08T00:00:00\", \"2021-08-07T00:00:00\", \"2021-08-06T00:00:00\", \"2021-08-05T00:00:00\", \"2021-08-04T00:00:00\", \"2021-08-03T00:00:00\", \"2021-08-02T00:00:00\", \"2021-08-01T00:00:00\", \"2021-07-31T00:00:00\", \"2021-07-30T00:00:00\", \"2021-07-29T00:00:00\", \"2021-07-28T00:00:00\", \"2021-07-27T00:00:00\", \"2021-07-26T00:00:00\", \"2021-07-25T00:00:00\", \"2021-07-24T00:00:00\", \"2021-07-23T00:00:00\", \"2021-07-22T00:00:00\", \"2021-07-21T00:00:00\", \"2021-07-20T00:00:00\", \"2021-07-19T00:00:00\", \"2021-07-18T00:00:00\", \"2021-07-17T00:00:00\", \"2021-07-16T00:00:00\", \"2021-07-15T00:00:00\", \"2021-07-14T00:00:00\", \"2021-07-13T00:00:00\", \"2021-07-12T00:00:00\", \"2021-07-11T00:00:00\", \"2021-07-10T00:00:00\", \"2021-07-09T00:00:00\", \"2021-07-08T00:00:00\", \"2021-07-07T00:00:00\", \"2021-07-06T00:00:00\", \"2021-07-05T00:00:00\", \"2021-07-04T00:00:00\", \"2021-07-03T00:00:00\", \"2021-07-02T00:00:00\", \"2021-07-01T00:00:00\", \"2021-06-30T00:00:00\", \"2021-06-29T00:00:00\", \"2021-06-28T00:00:00\", \"2021-06-27T00:00:00\", \"2021-06-26T00:00:00\", \"2021-06-25T00:00:00\", \"2021-06-24T00:00:00\", \"2021-06-23T00:00:00\", \"2021-06-22T00:00:00\", \"2021-06-21T00:00:00\", \"2021-06-20T00:00:00\", \"2021-06-19T00:00:00\", \"2021-06-18T00:00:00\", \"2021-06-17T00:00:00\", \"2021-06-16T00:00:00\", \"2021-06-15T00:00:00\", \"2021-06-14T00:00:00\", \"2021-06-13T00:00:00\", \"2021-06-12T00:00:00\", \"2021-06-11T00:00:00\", \"2021-06-10T00:00:00\", \"2021-06-09T00:00:00\", \"2021-06-08T00:00:00\", \"2021-06-07T00:00:00\", \"2021-06-06T00:00:00\", \"2021-06-05T00:00:00\", \"2021-06-04T00:00:00\", \"2021-06-03T00:00:00\", \"2021-06-02T00:00:00\", \"2021-06-01T00:00:00\", \"2021-05-31T00:00:00\", \"2021-05-30T00:00:00\", \"2021-05-29T00:00:00\", \"2021-05-28T00:00:00\", \"2021-05-27T00:00:00\", \"2021-05-26T00:00:00\", \"2021-05-25T00:00:00\", \"2021-05-24T00:00:00\", \"2021-05-23T00:00:00\", \"2021-05-22T00:00:00\", \"2021-05-21T00:00:00\", \"2021-05-20T00:00:00\", \"2021-05-19T00:00:00\", \"2021-05-18T00:00:00\", \"2021-05-17T00:00:00\", \"2021-05-16T00:00:00\", \"2021-05-15T00:00:00\", \"2021-05-14T00:00:00\", \"2021-05-13T00:00:00\", \"2021-05-12T00:00:00\", \"2021-05-11T00:00:00\", \"2021-05-10T00:00:00\", \"2021-05-09T00:00:00\", \"2021-05-08T00:00:00\", \"2021-05-07T00:00:00\", \"2021-05-06T00:00:00\", \"2021-05-05T00:00:00\", \"2021-05-04T00:00:00\", \"2021-05-03T00:00:00\", \"2021-05-02T00:00:00\", \"2021-05-01T00:00:00\", \"2021-04-30T00:00:00\", \"2021-04-29T00:00:00\", \"2021-04-28T00:00:00\", \"2021-04-27T00:00:00\", \"2021-04-26T00:00:00\", \"2021-04-25T00:00:00\", \"2021-04-24T00:00:00\", \"2021-04-23T00:00:00\", \"2021-04-22T00:00:00\", \"2021-04-21T00:00:00\", \"2021-04-20T00:00:00\", \"2021-04-19T00:00:00\", \"2021-04-18T00:00:00\", \"2021-04-17T00:00:00\", \"2021-04-16T00:00:00\", \"2021-04-15T00:00:00\", \"2021-04-14T00:00:00\", \"2021-04-13T00:00:00\", \"2021-04-12T00:00:00\", \"2021-04-11T00:00:00\", \"2021-04-10T00:00:00\", \"2021-04-09T00:00:00\", \"2021-04-08T00:00:00\", \"2021-04-07T00:00:00\", \"2021-04-06T00:00:00\", \"2021-04-05T00:00:00\", \"2021-04-04T00:00:00\", \"2021-04-03T00:00:00\", \"2021-04-02T00:00:00\", \"2021-04-01T00:00:00\", \"2021-03-31T00:00:00\", \"2021-03-30T00:00:00\", \"2021-03-29T00:00:00\", \"2021-03-28T00:00:00\", \"2021-03-27T00:00:00\", \"2021-03-26T00:00:00\", \"2021-03-25T00:00:00\", \"2021-03-24T00:00:00\", \"2021-03-23T00:00:00\", \"2021-03-22T00:00:00\", \"2021-03-21T00:00:00\", \"2021-03-20T00:00:00\", \"2021-03-19T00:00:00\", \"2021-03-18T00:00:00\", \"2021-03-17T00:00:00\", \"2021-03-16T00:00:00\", \"2021-03-15T00:00:00\", \"2021-03-14T00:00:00\", \"2021-03-13T00:00:00\", \"2021-03-12T00:00:00\", \"2021-03-11T00:00:00\", \"2021-03-10T00:00:00\", \"2021-03-09T00:00:00\", \"2021-03-08T00:00:00\", \"2021-03-07T00:00:00\", \"2021-03-06T00:00:00\", \"2021-03-05T00:00:00\", \"2021-03-04T00:00:00\", \"2021-03-03T00:00:00\", \"2021-03-02T00:00:00\", \"2021-03-01T00:00:00\", \"2021-02-28T00:00:00\", \"2021-02-27T00:00:00\", \"2021-02-26T00:00:00\", \"2021-02-25T00:00:00\", \"2021-02-24T00:00:00\", \"2021-02-23T00:00:00\", \"2021-02-22T00:00:00\", \"2021-02-21T00:00:00\", \"2021-02-20T00:00:00\", \"2021-02-19T00:00:00\", \"2021-02-18T00:00:00\", \"2021-02-17T00:00:00\", \"2021-02-16T00:00:00\", \"2021-02-15T00:00:00\", \"2021-02-14T00:00:00\", \"2021-02-13T00:00:00\", \"2021-02-12T00:00:00\", \"2021-02-11T00:00:00\", \"2021-02-10T00:00:00\", \"2021-02-09T00:00:00\", \"2021-02-08T00:00:00\", \"2021-02-07T00:00:00\", \"2021-02-06T00:00:00\", \"2021-02-05T00:00:00\", \"2021-02-04T00:00:00\", \"2021-02-03T00:00:00\", \"2021-02-02T00:00:00\", \"2021-02-01T00:00:00\", \"2021-01-31T00:00:00\", \"2021-01-30T00:00:00\", \"2021-01-29T00:00:00\", \"2021-01-28T00:00:00\", \"2021-01-27T00:00:00\", \"2021-01-26T00:00:00\", \"2021-01-25T00:00:00\", \"2021-01-24T00:00:00\", \"2021-01-23T00:00:00\", \"2021-01-22T00:00:00\", \"2021-01-21T00:00:00\", \"2021-01-20T00:00:00\", \"2021-01-19T00:00:00\", \"2021-01-18T00:00:00\", \"2021-01-17T00:00:00\", \"2021-01-16T00:00:00\", \"2021-01-15T00:00:00\", \"2021-01-14T00:00:00\", \"2021-01-13T00:00:00\", \"2021-01-12T00:00:00\", \"2021-01-11T00:00:00\", \"2021-01-10T00:00:00\", \"2021-01-09T00:00:00\", \"2021-01-08T00:00:00\", \"2021-01-07T00:00:00\", \"2021-01-06T00:00:00\", \"2021-01-05T00:00:00\", \"2021-01-04T00:00:00\", \"2021-01-03T00:00:00\", \"2021-01-02T00:00:00\", \"2021-01-01T00:00:00\", \"2020-12-31T00:00:00\", \"2020-12-30T00:00:00\", \"2020-12-29T00:00:00\", \"2020-12-28T00:00:00\", \"2020-12-27T00:00:00\", \"2020-12-26T00:00:00\", \"2020-12-25T00:00:00\", \"2020-12-24T00:00:00\", \"2020-12-23T00:00:00\", \"2020-12-22T00:00:00\", \"2020-12-21T00:00:00\", \"2020-12-20T00:00:00\", \"2020-12-19T00:00:00\", \"2020-12-18T00:00:00\", \"2020-12-17T00:00:00\", \"2020-12-16T00:00:00\", \"2020-12-15T00:00:00\", \"2020-12-14T00:00:00\", \"2020-12-13T00:00:00\", \"2020-12-12T00:00:00\", \"2020-12-11T00:00:00\", \"2020-12-10T00:00:00\", \"2020-12-09T00:00:00\", \"2020-12-08T00:00:00\", \"2020-12-07T00:00:00\", \"2020-12-06T00:00:00\", \"2020-12-05T00:00:00\", \"2020-12-04T00:00:00\", \"2020-12-03T00:00:00\"]}],                        {\"template\": {\"data\": {\"bar\": [{\"error_x\": {\"color\": \"#2a3f5f\"}, \"error_y\": {\"color\": \"#2a3f5f\"}, \"marker\": {\"line\": {\"color\": \"#E5ECF6\", \"width\": 0.5}}, \"type\": \"bar\"}], \"barpolar\": [{\"marker\": {\"line\": {\"color\": \"#E5ECF6\", \"width\": 0.5}}, \"type\": \"barpolar\"}], \"carpet\": [{\"aaxis\": {\"endlinecolor\": \"#2a3f5f\", \"gridcolor\": \"white\", \"linecolor\": \"white\", \"minorgridcolor\": \"white\", \"startlinecolor\": \"#2a3f5f\"}, \"baxis\": {\"endlinecolor\": \"#2a3f5f\", \"gridcolor\": \"white\", \"linecolor\": \"white\", \"minorgridcolor\": \"white\", \"startlinecolor\": \"#2a3f5f\"}, \"type\": \"carpet\"}], \"choropleth\": [{\"colorbar\": {\"outlinewidth\": 0, \"ticks\": \"\"}, \"type\": \"choropleth\"}], \"contour\": [{\"colorbar\": {\"outlinewidth\": 0, \"ticks\": \"\"}, \"colorscale\": [[0.0, \"#0d0887\"], [0.1111111111111111, \"#46039f\"], [0.2222222222222222, \"#7201a8\"], [0.3333333333333333, \"#9c179e\"], [0.4444444444444444, \"#bd3786\"], [0.5555555555555556, \"#d8576b\"], [0.6666666666666666, \"#ed7953\"], [0.7777777777777778, \"#fb9f3a\"], [0.8888888888888888, \"#fdca26\"], [1.0, \"#f0f921\"]], \"type\": \"contour\"}], \"contourcarpet\": [{\"colorbar\": {\"outlinewidth\": 0, \"ticks\": \"\"}, \"type\": \"contourcarpet\"}], \"heatmap\": [{\"colorbar\": {\"outlinewidth\": 0, \"ticks\": \"\"}, \"colorscale\": [[0.0, \"#0d0887\"], [0.1111111111111111, \"#46039f\"], [0.2222222222222222, \"#7201a8\"], [0.3333333333333333, \"#9c179e\"], [0.4444444444444444, \"#bd3786\"], [0.5555555555555556, \"#d8576b\"], [0.6666666666666666, \"#ed7953\"], [0.7777777777777778, \"#fb9f3a\"], [0.8888888888888888, \"#fdca26\"], [1.0, \"#f0f921\"]], \"type\": \"heatmap\"}], \"heatmapgl\": [{\"colorbar\": {\"outlinewidth\": 0, \"ticks\": \"\"}, \"colorscale\": [[0.0, \"#0d0887\"], [0.1111111111111111, \"#46039f\"], [0.2222222222222222, \"#7201a8\"], [0.3333333333333333, \"#9c179e\"], [0.4444444444444444, \"#bd3786\"], [0.5555555555555556, \"#d8576b\"], [0.6666666666666666, \"#ed7953\"], [0.7777777777777778, \"#fb9f3a\"], [0.8888888888888888, \"#fdca26\"], [1.0, \"#f0f921\"]], \"type\": \"heatmapgl\"}], \"histogram\": [{\"marker\": {\"colorbar\": {\"outlinewidth\": 0, \"ticks\": \"\"}}, \"type\": \"histogram\"}], \"histogram2d\": [{\"colorbar\": {\"outlinewidth\": 0, \"ticks\": \"\"}, \"colorscale\": [[0.0, \"#0d0887\"], [0.1111111111111111, \"#46039f\"], [0.2222222222222222, \"#7201a8\"], [0.3333333333333333, \"#9c179e\"], [0.4444444444444444, \"#bd3786\"], [0.5555555555555556, \"#d8576b\"], [0.6666666666666666, \"#ed7953\"], [0.7777777777777778, \"#fb9f3a\"], [0.8888888888888888, \"#fdca26\"], [1.0, \"#f0f921\"]], \"type\": \"histogram2d\"}], \"histogram2dcontour\": [{\"colorbar\": {\"outlinewidth\": 0, \"ticks\": \"\"}, \"colorscale\": [[0.0, \"#0d0887\"], [0.1111111111111111, \"#46039f\"], [0.2222222222222222, \"#7201a8\"], [0.3333333333333333, \"#9c179e\"], [0.4444444444444444, \"#bd3786\"], [0.5555555555555556, \"#d8576b\"], [0.6666666666666666, \"#ed7953\"], [0.7777777777777778, \"#fb9f3a\"], [0.8888888888888888, \"#fdca26\"], [1.0, \"#f0f921\"]], \"type\": \"histogram2dcontour\"}], \"mesh3d\": [{\"colorbar\": {\"outlinewidth\": 0, \"ticks\": \"\"}, \"type\": \"mesh3d\"}], \"parcoords\": [{\"line\": {\"colorbar\": {\"outlinewidth\": 0, \"ticks\": \"\"}}, \"type\": \"parcoords\"}], \"pie\": [{\"automargin\": true, \"type\": \"pie\"}], \"scatter\": [{\"marker\": {\"colorbar\": {\"outlinewidth\": 0, \"ticks\": \"\"}}, \"type\": \"scatter\"}], \"scatter3d\": [{\"line\": {\"colorbar\": {\"outlinewidth\": 0, \"ticks\": \"\"}}, \"marker\": {\"colorbar\": {\"outlinewidth\": 0, \"ticks\": \"\"}}, \"type\": \"scatter3d\"}], \"scattercarpet\": [{\"marker\": {\"colorbar\": {\"outlinewidth\": 0, \"ticks\": \"\"}}, \"type\": \"scattercarpet\"}], \"scattergeo\": [{\"marker\": {\"colorbar\": {\"outlinewidth\": 0, \"ticks\": \"\"}}, \"type\": \"scattergeo\"}], \"scattergl\": [{\"marker\": {\"colorbar\": {\"outlinewidth\": 0, \"ticks\": \"\"}}, \"type\": \"scattergl\"}], \"scattermapbox\": [{\"marker\": {\"colorbar\": {\"outlinewidth\": 0, \"ticks\": \"\"}}, \"type\": \"scattermapbox\"}], \"scatterpolar\": [{\"marker\": {\"colorbar\": {\"outlinewidth\": 0, \"ticks\": \"\"}}, \"type\": \"scatterpolar\"}], \"scatterpolargl\": [{\"marker\": {\"colorbar\": {\"outlinewidth\": 0, \"ticks\": \"\"}}, \"type\": \"scatterpolargl\"}], \"scatterternary\": [{\"marker\": {\"colorbar\": {\"outlinewidth\": 0, \"ticks\": \"\"}}, \"type\": \"scatterternary\"}], \"surface\": [{\"colorbar\": {\"outlinewidth\": 0, \"ticks\": \"\"}, \"colorscale\": [[0.0, \"#0d0887\"], [0.1111111111111111, \"#46039f\"], [0.2222222222222222, \"#7201a8\"], [0.3333333333333333, \"#9c179e\"], [0.4444444444444444, \"#bd3786\"], [0.5555555555555556, \"#d8576b\"], [0.6666666666666666, \"#ed7953\"], [0.7777777777777778, \"#fb9f3a\"], [0.8888888888888888, \"#fdca26\"], [1.0, \"#f0f921\"]], \"type\": \"surface\"}], \"table\": [{\"cells\": {\"fill\": {\"color\": \"#EBF0F8\"}, \"line\": {\"color\": \"white\"}}, \"header\": {\"fill\": {\"color\": \"#C8D4E3\"}, \"line\": {\"color\": \"white\"}}, \"type\": \"table\"}]}, \"layout\": {\"annotationdefaults\": {\"arrowcolor\": \"#2a3f5f\", \"arrowhead\": 0, \"arrowwidth\": 1}, \"autotypenumbers\": \"strict\", \"coloraxis\": {\"colorbar\": {\"outlinewidth\": 0, \"ticks\": \"\"}}, \"colorscale\": {\"diverging\": [[0, \"#8e0152\"], [0.1, \"#c51b7d\"], [0.2, \"#de77ae\"], [0.3, \"#f1b6da\"], [0.4, \"#fde0ef\"], [0.5, \"#f7f7f7\"], [0.6, \"#e6f5d0\"], [0.7, \"#b8e186\"], [0.8, \"#7fbc41\"], [0.9, \"#4d9221\"], [1, \"#276419\"]], \"sequential\": [[0.0, \"#0d0887\"], [0.1111111111111111, \"#46039f\"], [0.2222222222222222, \"#7201a8\"], [0.3333333333333333, \"#9c179e\"], [0.4444444444444444, \"#bd3786\"], [0.5555555555555556, \"#d8576b\"], [0.6666666666666666, \"#ed7953\"], [0.7777777777777778, \"#fb9f3a\"], [0.8888888888888888, \"#fdca26\"], [1.0, \"#f0f921\"]], \"sequentialminus\": [[0.0, \"#0d0887\"], [0.1111111111111111, \"#46039f\"], [0.2222222222222222, \"#7201a8\"], [0.3333333333333333, \"#9c179e\"], [0.4444444444444444, \"#bd3786\"], [0.5555555555555556, \"#d8576b\"], [0.6666666666666666, \"#ed7953\"], [0.7777777777777778, \"#fb9f3a\"], [0.8888888888888888, \"#fdca26\"], [1.0, \"#f0f921\"]]}, \"colorway\": [\"#636efa\", \"#EF553B\", \"#00cc96\", \"#ab63fa\", \"#FFA15A\", \"#19d3f3\", \"#FF6692\", \"#B6E880\", \"#FF97FF\", \"#FECB52\"], \"font\": {\"color\": \"#2a3f5f\"}, \"geo\": {\"bgcolor\": \"white\", \"lakecolor\": \"white\", \"landcolor\": \"#E5ECF6\", \"showlakes\": true, \"showland\": true, \"subunitcolor\": \"white\"}, \"hoverlabel\": {\"align\": \"left\"}, \"hovermode\": \"closest\", \"mapbox\": {\"style\": \"light\"}, \"paper_bgcolor\": \"white\", \"plot_bgcolor\": \"#E5ECF6\", \"polar\": {\"angularaxis\": {\"gridcolor\": \"white\", \"linecolor\": \"white\", \"ticks\": \"\"}, \"bgcolor\": \"#E5ECF6\", \"radialaxis\": {\"gridcolor\": \"white\", \"linecolor\": \"white\", \"ticks\": \"\"}}, \"scene\": {\"xaxis\": {\"backgroundcolor\": \"#E5ECF6\", \"gridcolor\": \"white\", \"gridwidth\": 2, \"linecolor\": \"white\", \"showbackground\": true, \"ticks\": \"\", \"zerolinecolor\": \"white\"}, \"yaxis\": {\"backgroundcolor\": \"#E5ECF6\", \"gridcolor\": \"white\", \"gridwidth\": 2, \"linecolor\": \"white\", \"showbackground\": true, \"ticks\": \"\", \"zerolinecolor\": \"white\"}, \"zaxis\": {\"backgroundcolor\": \"#E5ECF6\", \"gridcolor\": \"white\", \"gridwidth\": 2, \"linecolor\": \"white\", \"showbackground\": true, \"ticks\": \"\", \"zerolinecolor\": \"white\"}}, \"shapedefaults\": {\"line\": {\"color\": \"#2a3f5f\"}}, \"ternary\": {\"aaxis\": {\"gridcolor\": \"white\", \"linecolor\": \"white\", \"ticks\": \"\"}, \"baxis\": {\"gridcolor\": \"white\", \"linecolor\": \"white\", \"ticks\": \"\"}, \"bgcolor\": \"#E5ECF6\", \"caxis\": {\"gridcolor\": \"white\", \"linecolor\": \"white\", \"ticks\": \"\"}}, \"title\": {\"x\": 0.05}, \"xaxis\": {\"automargin\": true, \"gridcolor\": \"white\", \"linecolor\": \"white\", \"ticks\": \"\", \"title\": {\"standoff\": 15}, \"zerolinecolor\": \"white\", \"zerolinewidth\": 2}, \"yaxis\": {\"automargin\": true, \"gridcolor\": \"white\", \"linecolor\": \"white\", \"ticks\": \"\", \"title\": {\"standoff\": 15}, \"zerolinecolor\": \"white\", \"zerolinewidth\": 2}}}, \"title\": {\"text\": \"LTC Price In USD\", \"x\": 0.5}, \"xaxis\": {\"title\": {\"text\": \"Date\"}}, \"yaxis\": {\"title\": {\"text\": \"LTC Price\"}}},                        {\"responsive\": true}                    ).then(function(){\n",
       "                            \n",
       "var gd = document.getElementById('ff02500c-3ab4-42ec-bda8-12a75ce04fcf');\n",
       "var x = new MutationObserver(function (mutations, observer) {{\n",
       "        var display = window.getComputedStyle(gd).display;\n",
       "        if (!display || display === 'none') {{\n",
       "            console.log([gd, 'removed!']);\n",
       "            Plotly.purge(gd);\n",
       "            observer.disconnect();\n",
       "        }}\n",
       "}});\n",
       "\n",
       "// Listen for the removal of the full notebook cells\n",
       "var notebookContainer = gd.closest('#notebook-container');\n",
       "if (notebookContainer) {{\n",
       "    x.observe(notebookContainer, {childList: true});\n",
       "}}\n",
       "\n",
       "// Listen for the clearing of the current output cell\n",
       "var outputEl = gd.closest('.output');\n",
       "if (outputEl) {{\n",
       "    x.observe(outputEl, {childList: true});\n",
       "}}\n",
       "\n",
       "                        })                };                });            </script>        </div>"
      ]
     },
     "metadata": {},
     "output_type": "display_data"
    }
   ],
   "source": [
    "# Function call #2 (Litecoin priced in USD)\n",
    "\n",
    "plot_coinbase_candlestick_chart(base_cur = \"LTC\", quote_cur = \"USD\")"
   ]
  },
  {
   "cell_type": "code",
   "execution_count": 35,
   "metadata": {},
   "outputs": [
    {
     "data": {
      "application/vnd.plotly.v1+json": {
       "config": {
        "plotlyServerURL": "https://plot.ly"
       },
       "data": [
        {
         "close": [
          23.8582,
          22.3949,
          24.0475,
          19.467,
          19.6567,
          21.4994,
          21.6329,
          19.0497,
          20.9039,
          23.8949,
          24.5432,
          24.3316,
          26.2444,
          27.4731,
          25.6737,
          22.6597,
          23.7246,
          22.7396,
          22.3286,
          23.2851,
          23.1468,
          24.3113,
          28.8434,
          29.3759,
          28.5789,
          28.6593,
          29.9413,
          31.3669,
          29.3959,
          26.8283,
          26.7985,
          26.8274,
          27.4246,
          25.5302,
          27.0715,
          26.6335,
          28.8082,
          28.4232,
          28.2509,
          28.8726,
          27.9786,
          26.3063,
          26.3942,
          29.0762,
          30.2795,
          30.1454,
          30.5039,
          28.1246,
          28.989,
          28.7687,
          28.3578,
          26.72,
          28.3322,
          26.1794,
          25.4543,
          23.5377,
          21.3267,
          22.363,
          21.9968,
          21.7652,
          20.9374,
          19.5899,
          19.0547,
          18.8979,
          18.5299,
          18.2936,
          18.2573,
          18.5978,
          17.5854,
          16.7296,
          14.5585,
          15.7385,
          16.3096,
          16.1085,
          16.3449,
          17.0505,
          17.8921,
          18.4867,
          19.5288,
          20.6975,
          20.269,
          20.9815,
          20.3516,
          22.2768,
          22.3731,
          20.0773,
          20.7665,
          19.4682,
          18.2388,
          17.7939,
          19.2801,
          18.6452,
          17.7312,
          17.1043,
          16.1248,
          15.8273,
          18.1004,
          17.8106,
          16.4223,
          15.7983,
          20.6957,
          19.77,
          20.3982,
          22.1783,
          21.8091,
          23.4157,
          24.1616,
          23.2702,
          21.2774,
          21.8289,
          23.5774,
          25.1168,
          23.424,
          24.2865,
          25.8726,
          25.641,
          26.4231,
          28.681,
          27.6067,
          27.404,
          28.2615,
          25.7134,
          23.1772,
          25.867,
          28.5568,
          29.44,
          25.145,
          24.707,
          16.7319,
          20.3746,
          21.9855,
          26.4352,
          23.352,
          35.0301,
          33.2527,
          36.6235,
          36.537,
          40.4393,
          37.3176,
          37.0508,
          38.587,
          36.4121,
          39.4614,
          40.5791,
          39.7486,
          40.2343,
          42.4676,
          43.1305,
          42.3508,
          42.6666,
          40.3521,
          40.6781,
          41.0919,
          42.8911,
          39.6709,
          38.1899,
          34.3872,
          30.1914,
          33.0023,
          33.9642,
          33.404,
          31.9838,
          31.381,
          31.7109,
          34.7684,
          36.2071,
          37.768,
          36.037,
          35.4266,
          36.7001,
          29.9059,
          29.7501,
          29.5322,
          30.206,
          28.5546,
          31.2496,
          30.865,
          30.9282,
          29.376,
          30.2174,
          28.666,
          28.0773,
          28.543,
          29.0171,
          27.8627,
          28.1708,
          28.9103,
          26.5198,
          27.2393,
          31.0053,
          32.8501,
          32.9426,
          32.0266,
          33.254,
          29.9991,
          31.3152,
          30.0538,
          29.8061,
          30.6529,
          32.4643,
          30.8939,
          31.0093,
          30.8942,
          32.8789,
          33.2371,
          34.2736,
          28.5293,
          28.3046,
          28.2354,
          25.35,
          25.5477,
          25.7131,
          22.264,
          23.5813,
          23.1103,
          23.5127,
          25.2638,
          24.8301,
          27.7025,
          28.8088,
          28.7552,
          20.0653,
          21.1637,
          21.5497,
          20.4684,
          20.0943,
          20.8615,
          21.8343,
          22.7095,
          21.4856,
          20.6903,
          19.5453,
          19.3274,
          18.687,
          19.2755,
          21.1938,
          20.14,
          19.7515,
          18.9755,
          20.4901,
          17.733,
          19.5737,
          15.6391,
          14.1284,
          14.7553,
          13.9344,
          11.3122,
          12.0407,
          9.3398,
          8.7075,
          7.5714,
          8.9794,
          8.5947,
          9.194,
          8.6782,
          8.3963,
          7.365,
          6.9473,
          6.3398,
          5.5909,
          5.2521,
          5.9887,
          6.2453,
          5.8751,
          6.2745,
          6.437,
          6.2715,
          5.4248,
          5.5241,
          4.856,
          4.7478,
          5.162,
          4.1497,
          3.6786,
          3.7294,
          3.593,
          3.4166,
          3.4976,
          3.5215,
          3.3137,
          3.7344,
          3.5113,
          3.7539,
          3.9606,
          3.7655,
          3.6968,
          3.5403,
          3.3296,
          3.4871,
          3.3361,
          3.1231,
          2.9631,
          3.2399,
          3.3577,
          3.2977,
          3.7544,
          3.6534,
          3.6828,
          3.5232,
          3.885
         ],
         "high": [
          24.9842,
          26.0267,
          24.8156,
          20.11,
          21.6419,
          21.8441,
          21.6594,
          21.6363,
          23.9857,
          24.6471,
          25.2015,
          26.3955,
          27.6164,
          27.4783,
          25.9168,
          24.0415,
          24.2587,
          23.8947,
          24.2459,
          24.7243,
          24.9884,
          29.3309,
          30.3251,
          29.5096,
          29.4779,
          31.2077,
          31.4269,
          31.4172,
          29.7353,
          28.2294,
          27.683,
          27.6149,
          27.4927,
          27.6678,
          27.4506,
          29.2409,
          29.658,
          29.2004,
          29.7361,
          29.3335,
          27.98,
          27.3797,
          30.8149,
          31.2618,
          30.479,
          30.6611,
          30.6227,
          29.9114,
          30.4202,
          30.2308,
          28.7948,
          28.722,
          29.0255,
          26.9574,
          25.5733,
          23.7317,
          22.7412,
          23.0983,
          23.2205,
          21.9678,
          21.0525,
          19.8022,
          19.4577,
          19.2524,
          20.3128,
          18.452,
          18.9452,
          18.696,
          17.6202,
          16.877,
          15.9692,
          16.7789,
          17.1722,
          16.7315,
          17.5908,
          18.3855,
          18.5374,
          19.726,
          21.4038,
          20.9281,
          21.5087,
          21.5981,
          22.3332,
          23.4498,
          23.1817,
          20.8876,
          21.4876,
          19.5421,
          18.2639,
          19.2857,
          19.3044,
          19.2094,
          18.1362,
          17.1043,
          16.4595,
          18.3264,
          18.5578,
          18.4992,
          17.1283,
          20.8625,
          21.0092,
          20.9804,
          22.2584,
          22.9356,
          23.5418,
          24.6802,
          24.199,
          23.6111,
          21.9657,
          23.8608,
          25.2706,
          25.2358,
          24.6401,
          27.3445,
          26.4747,
          27.6848,
          28.6881,
          29.3864,
          28.79,
          29.8128,
          28.453,
          26.5893,
          27.5314,
          29.4249,
          30,
          29.4512,
          26.7533,
          25.2228,
          21.3068,
          22.4266,
          28.0873,
          28.5736,
          35.5409,
          36.654,
          36.619,
          39.4295,
          42.4117,
          40.9364,
          40.3566,
          44.0495,
          38.5938,
          41.2294,
          40.7575,
          41.2996,
          41.25,
          42.5889,
          44.9265,
          44.64,
          45.0239,
          43.3037,
          41.3224,
          41.4001,
          43.9473,
          42.98,
          40.6564,
          38.5276,
          34.8626,
          33.0148,
          34.8861,
          38.4482,
          36.5263,
          32.28,
          32.716,
          35.1327,
          37.5586,
          38.2361,
          39.5364,
          36.84,
          37.1236,
          38.0911,
          30.63,
          30.801,
          30.5807,
          30.6462,
          31.4096,
          32.3949,
          31.2313,
          31.5001,
          32.4264,
          30.301,
          30.2719,
          29.0202,
          29.2893,
          29.49,
          28.9,
          29.4936,
          29.0374,
          28.0258,
          31.8885,
          36.833,
          35.8438,
          33.3339,
          35.1589,
          34.1972,
          31.6096,
          31.6836,
          30.063,
          31.5086,
          33.746,
          33.28,
          31.9314,
          31.8372,
          33.49,
          34.7733,
          34.9312,
          34.9255,
          29,
          28.7839,
          29.7779,
          27.609,
          27.4579,
          25.7575,
          24.166,
          24.8262,
          25.2281,
          26.9439,
          27.3738,
          27.7581,
          29.1463,
          32.119,
          33,
          21.5363,
          22.2696,
          21.8479,
          21.3,
          21.5439,
          22.65,
          23.5784,
          23.86,
          22,
          22.45,
          19.9184,
          20.2192,
          19.6877,
          21.6864,
          22.4408,
          21.6,
          20.5,
          20.5907,
          20.75,
          20.545,
          19.6838,
          15.79,
          15.437,
          15.5537,
          14.2887,
          12.9637,
          12.3195,
          9.5384,
          9.021,
          9.0412,
          9.049,
          9.67,
          9.8631,
          9.1737,
          9.3595,
          7.4667,
          7.1265,
          6.3799,
          5.8141,
          5.9988,
          6.5929,
          6.371,
          6.3735,
          6.8341,
          6.616,
          6.5824,
          6.2375,
          5.65,
          5.1873,
          5.2813,
          5.3139,
          4.3826,
          3.8338,
          3.941,
          3.7948,
          3.5979,
          3.6461,
          3.5254,
          3.7745,
          3.7733,
          3.9242,
          4.0253,
          4.2493,
          3.8557,
          4,
          3.5436,
          3.518,
          3.55,
          3.3639,
          3.1861,
          3.2489,
          3.3715,
          3.3986,
          3.7622,
          3.878,
          3.7949,
          3.698,
          3.9209,
          4.0263
         ],
         "low": [
          22.15,
          22.2738,
          17.5258,
          18.96,
          18.1865,
          20.8945,
          18.8444,
          18.3416,
          20.46,
          23.5001,
          23.942,
          23.99,
          25.3846,
          24.7096,
          22.4866,
          21.3987,
          22.16,
          22.2549,
          21.4068,
          22.7335,
          21.3671,
          20.825,
          28.4045,
          28.3537,
          28.2162,
          28.3149,
          29.519,
          28.7159,
          26.1758,
          25.5822,
          26.1954,
          26.65,
          25.0315,
          25.024,
          25.6997,
          26.516,
          28.39,
          27.1997,
          28.2078,
          27.5161,
          25.3002,
          25.45,
          25.8759,
          29.0114,
          28.2969,
          28.7353,
          27.8506,
          26.866,
          28.7268,
          28.19,
          25.3967,
          25.9779,
          25.8211,
          24.5488,
          22.08,
          20.7677,
          20.6807,
          21.41,
          21.5713,
          20.7061,
          19.3813,
          18.6215,
          18.5355,
          17.7239,
          18.1898,
          17.2577,
          18.0387,
          16.9463,
          16.0793,
          14.02,
          14.4033,
          15.4052,
          16.0362,
          15.9491,
          15.9297,
          16.8041,
          16.7569,
          18.1336,
          19.1915,
          19.9954,
          19.94,
          19.7712,
          19.97,
          21.68,
          20.0595,
          19.1348,
          18.9501,
          17.7982,
          16.9368,
          17.5579,
          17.1606,
          17.6553,
          16.8687,
          15.6322,
          15.1177,
          15.6927,
          16.6137,
          15.7954,
          13.9048,
          15.752,
          18.6387,
          19.77,
          19.5645,
          21.42,
          21.6433,
          23.1385,
          22.5138,
          20.464,
          20.2591,
          21.308,
          23.0837,
          22.2187,
          20.7086,
          23.9602,
          25.3724,
          25.1635,
          25.0136,
          26.9,
          26.3351,
          25.9626,
          23.4793,
          21.7127,
          21.829,
          24.9181,
          26.1591,
          24.5726,
          21.5607,
          16.4625,
          13.0117,
          18.4106,
          18.86,
          20.1,
          16.5,
          33.0008,
          31.7502,
          34.5,
          36.5363,
          37.1029,
          34.1,
          35.8701,
          35.4748,
          33.56,
          38.11,
          39.2217,
          38.0689,
          39.9014,
          41.5141,
          39.7,
          41.2121,
          39.3181,
          39.2435,
          39.1121,
          39.5366,
          37.8193,
          37.3577,
          34.1447,
          30.0317,
          30,
          29.5368,
          32.6901,
          30.56,
          28.2898,
          29.485,
          27.25,
          34.6801,
          34.3037,
          35.5787,
          33.2502,
          34.1301,
          29.5292,
          29.2069,
          29.1796,
          29.3125,
          28.3265,
          27.8058,
          30.1133,
          29.6935,
          28.9775,
          29.3504,
          28.6,
          28.0773,
          26.6698,
          28.1641,
          27.5,
          27.3513,
          27.812,
          26.4772,
          25.5846,
          25.6144,
          30.2497,
          31.8,
          31.5119,
          31.8666,
          29.4564,
          29.733,
          29.4615,
          27.8689,
          29.5565,
          30.65,
          30.1602,
          29.2077,
          29.4914,
          30.2632,
          32.3535,
          32.074,
          28.5124,
          27.18,
          25.8101,
          24.75,
          25.2781,
          24.5317,
          22.1021,
          20.5,
          22.3372,
          21.0077,
          23.1001,
          23.1056,
          18.2,
          21.84,
          27.8162,
          19.5241,
          19.36,
          20.581,
          19.1605,
          19.3813,
          17.1539,
          20.7036,
          21.1909,
          21.2252,
          20.1573,
          19.5311,
          18.8874,
          18.1452,
          17.1,
          19.201,
          19.4445,
          19.22,
          18.7109,
          18.051,
          16.6902,
          17.4278,
          15.1001,
          14.1112,
          13.55,
          12.9957,
          11.1638,
          10.879,
          9.1786,
          8.5,
          7.0142,
          7.3143,
          7.6331,
          8.4455,
          8.3012,
          8.07,
          7.188,
          6.3706,
          6.1799,
          5.2616,
          4.9601,
          4.3542,
          5.5028,
          5.67,
          5.4802,
          6.02,
          6.0201,
          5.2001,
          4.881,
          4.6801,
          4.4937,
          4.6207,
          3.94,
          3.6295,
          3.494,
          3.5664,
          3.3516,
          3.3548,
          3.373,
          3.1615,
          3.02,
          3.2838,
          3.4049,
          3.7091,
          3.708,
          3.5466,
          3.4387,
          3.2432,
          3.3084,
          3.2366,
          3.0726,
          2.9581,
          2.9111,
          3.19,
          3.1171,
          3.276,
          3.564,
          3.51,
          3.45,
          3.5,
          3.8023
         ],
         "open": [
          22.3898,
          24.0332,
          19.4869,
          19.6591,
          21.4995,
          21.618,
          19.0614,
          20.9065,
          23.8978,
          24.544,
          24.3362,
          26.2485,
          27.4716,
          25.67,
          22.671,
          23.7234,
          22.7234,
          22.2994,
          23.3262,
          23.1599,
          24.3397,
          28.8434,
          29.3774,
          28.5806,
          28.6634,
          29.9318,
          31.3669,
          29.3718,
          26.8357,
          26.804,
          26.8483,
          27.437,
          25.528,
          27.0623,
          26.5945,
          28.8023,
          28.4234,
          28.2491,
          28.8938,
          27.9794,
          26.3063,
          26.4061,
          29.0595,
          30.2979,
          30.1441,
          30.5247,
          28.1231,
          28.9625,
          28.7701,
          28.3579,
          26.7239,
          28.3281,
          26.1966,
          25.4413,
          23.5213,
          21.3308,
          22.369,
          21.9729,
          21.7811,
          20.9384,
          19.5888,
          19.0693,
          18.8998,
          18.5097,
          18.2806,
          18.2681,
          18.6056,
          17.5854,
          16.735,
          14.5593,
          15.7404,
          16.3089,
          16.1116,
          16.3606,
          17.0647,
          17.8921,
          18.494,
          19.5331,
          20.6987,
          20.2555,
          20.9805,
          20.3467,
          22.2695,
          22.3552,
          20.0701,
          20.7582,
          19.473,
          18.2455,
          17.7857,
          19.2857,
          18.6296,
          17.7339,
          17.1043,
          16.1278,
          15.8305,
          18.0962,
          17.8174,
          16.4035,
          15.7928,
          20.7063,
          19.7718,
          20.399,
          22.1731,
          21.8008,
          23.4158,
          24.1629,
          23.2623,
          21.3132,
          21.8225,
          23.5818,
          25.1167,
          23.424,
          24.249,
          25.8726,
          25.641,
          26.4237,
          28.6788,
          27.6078,
          27.4154,
          28.2458,
          25.6849,
          23.1964,
          25.8827,
          28.5568,
          29.44,
          25.1494,
          24.7155,
          16.7428,
          20.3776,
          21.9637,
          26.3884,
          23.3723,
          35.0105,
          33.2895,
          36.619,
          36.6282,
          40.4548,
          37.3215,
          37.0512,
          38.5645,
          36.3988,
          39.4828,
          40.5688,
          39.7607,
          40.2489,
          42.4781,
          43.1254,
          42.3267,
          42.6529,
          40.3521,
          40.672,
          41.0863,
          42.9034,
          39.6662,
          38.2107,
          34.3832,
          30.2319,
          33.0023,
          33.9501,
          33.447,
          31.9772,
          31.3793,
          31.7037,
          34.7702,
          36.2034,
          37.7736,
          36.0673,
          35.4299,
          36.7001,
          29.9128,
          29.7749,
          29.5307,
          30.2058,
          28.5724,
          31.2496,
          30.8684,
          30.9399,
          29.3977,
          30.1972,
          28.666,
          28.0773,
          28.549,
          29.0171,
          27.8714,
          28.1849,
          28.913,
          26.5,
          27.2392,
          31.0057,
          32.8519,
          32.9426,
          32.0512,
          33.2521,
          30.0022,
          31.3337,
          30.0501,
          29.8188,
          30.6733,
          32.4626,
          30.9032,
          31.0262,
          30.9153,
          32.8779,
          33.2476,
          34.277,
          28.5421,
          28.3046,
          28.234,
          25.3644,
          25.5585,
          25.7272,
          22.2639,
          23.5722,
          23.117,
          23.4899,
          25.2638,
          24.8424,
          27.675,
          28.823,
          28.747,
          20.0648,
          21.1829,
          21.55,
          20.4855,
          20.1148,
          20.8615,
          21.8279,
          22.713,
          21.4943,
          20.6894,
          19.5311,
          19.3327,
          18.7112,
          19.2831,
          21.1958,
          20.14,
          19.7343,
          18.9772,
          20.4901,
          17.7496,
          19.6037,
          15.6379,
          14.1564,
          14.7614,
          13.9339,
          11.3138,
          12.0423,
          9.3527,
          8.704,
          7.5848,
          8.9777,
          8.5899,
          9.1953,
          8.6852,
          8.3886,
          7.3748,
          6.9418,
          6.3402,
          5.5956,
          5.2497,
          5.9988,
          6.2453,
          5.8754,
          6.2818,
          6.4419,
          6.2725,
          5.4252,
          5.53,
          4.8535,
          4.743,
          5.157,
          4.1524,
          3.6745,
          3.7334,
          3.5947,
          3.4172,
          3.5006,
          3.526,
          3.3095,
          3.7328,
          3.5128,
          3.75,
          3.96,
          3.7736,
          3.6975,
          3.5352,
          3.3288,
          3.4869,
          3.3312,
          3.123,
          2.9628,
          3.2441,
          3.3617,
          3.2915,
          3.7576,
          3.6534,
          3.6837,
          3.52,
          3.8808,
          3.947
         ],
         "type": "candlestick",
         "x": [
          "2021-09-28T00:00:00",
          "2021-09-27T00:00:00",
          "2021-09-26T00:00:00",
          "2021-09-25T00:00:00",
          "2021-09-24T00:00:00",
          "2021-09-23T00:00:00",
          "2021-09-22T00:00:00",
          "2021-09-21T00:00:00",
          "2021-09-20T00:00:00",
          "2021-09-19T00:00:00",
          "2021-09-18T00:00:00",
          "2021-09-17T00:00:00",
          "2021-09-16T00:00:00",
          "2021-09-15T00:00:00",
          "2021-09-14T00:00:00",
          "2021-09-13T00:00:00",
          "2021-09-12T00:00:00",
          "2021-09-11T00:00:00",
          "2021-09-10T00:00:00",
          "2021-09-09T00:00:00",
          "2021-09-08T00:00:00",
          "2021-09-07T00:00:00",
          "2021-09-06T00:00:00",
          "2021-09-05T00:00:00",
          "2021-09-04T00:00:00",
          "2021-09-03T00:00:00",
          "2021-09-02T00:00:00",
          "2021-09-01T00:00:00",
          "2021-08-31T00:00:00",
          "2021-08-30T00:00:00",
          "2021-08-29T00:00:00",
          "2021-08-28T00:00:00",
          "2021-08-27T00:00:00",
          "2021-08-26T00:00:00",
          "2021-08-25T00:00:00",
          "2021-08-24T00:00:00",
          "2021-08-23T00:00:00",
          "2021-08-22T00:00:00",
          "2021-08-21T00:00:00",
          "2021-08-20T00:00:00",
          "2021-08-19T00:00:00",
          "2021-08-18T00:00:00",
          "2021-08-17T00:00:00",
          "2021-08-16T00:00:00",
          "2021-08-15T00:00:00",
          "2021-08-14T00:00:00",
          "2021-08-13T00:00:00",
          "2021-08-12T00:00:00",
          "2021-08-11T00:00:00",
          "2021-08-10T00:00:00",
          "2021-08-09T00:00:00",
          "2021-08-08T00:00:00",
          "2021-08-07T00:00:00",
          "2021-08-06T00:00:00",
          "2021-08-05T00:00:00",
          "2021-08-04T00:00:00",
          "2021-08-03T00:00:00",
          "2021-08-02T00:00:00",
          "2021-08-01T00:00:00",
          "2021-07-31T00:00:00",
          "2021-07-30T00:00:00",
          "2021-07-29T00:00:00",
          "2021-07-28T00:00:00",
          "2021-07-27T00:00:00",
          "2021-07-26T00:00:00",
          "2021-07-25T00:00:00",
          "2021-07-24T00:00:00",
          "2021-07-23T00:00:00",
          "2021-07-22T00:00:00",
          "2021-07-21T00:00:00",
          "2021-07-20T00:00:00",
          "2021-07-19T00:00:00",
          "2021-07-18T00:00:00",
          "2021-07-17T00:00:00",
          "2021-07-16T00:00:00",
          "2021-07-15T00:00:00",
          "2021-07-14T00:00:00",
          "2021-07-13T00:00:00",
          "2021-07-12T00:00:00",
          "2021-07-11T00:00:00",
          "2021-07-10T00:00:00",
          "2021-07-09T00:00:00",
          "2021-07-08T00:00:00",
          "2021-07-07T00:00:00",
          "2021-07-06T00:00:00",
          "2021-07-05T00:00:00",
          "2021-07-04T00:00:00",
          "2021-07-03T00:00:00",
          "2021-07-02T00:00:00",
          "2021-07-01T00:00:00",
          "2021-06-30T00:00:00",
          "2021-06-29T00:00:00",
          "2021-06-28T00:00:00",
          "2021-06-27T00:00:00",
          "2021-06-26T00:00:00",
          "2021-06-25T00:00:00",
          "2021-06-24T00:00:00",
          "2021-06-23T00:00:00",
          "2021-06-22T00:00:00",
          "2021-06-21T00:00:00",
          "2021-06-20T00:00:00",
          "2021-06-19T00:00:00",
          "2021-06-18T00:00:00",
          "2021-06-17T00:00:00",
          "2021-06-16T00:00:00",
          "2021-06-15T00:00:00",
          "2021-06-14T00:00:00",
          "2021-06-13T00:00:00",
          "2021-06-12T00:00:00",
          "2021-06-11T00:00:00",
          "2021-06-10T00:00:00",
          "2021-06-09T00:00:00",
          "2021-06-08T00:00:00",
          "2021-06-07T00:00:00",
          "2021-06-06T00:00:00",
          "2021-06-05T00:00:00",
          "2021-06-04T00:00:00",
          "2021-06-03T00:00:00",
          "2021-06-02T00:00:00",
          "2021-06-01T00:00:00",
          "2021-05-31T00:00:00",
          "2021-05-30T00:00:00",
          "2021-05-29T00:00:00",
          "2021-05-28T00:00:00",
          "2021-05-27T00:00:00",
          "2021-05-26T00:00:00",
          "2021-05-25T00:00:00",
          "2021-05-24T00:00:00",
          "2021-05-23T00:00:00",
          "2021-05-22T00:00:00",
          "2021-05-21T00:00:00",
          "2021-05-20T00:00:00",
          "2021-05-19T00:00:00",
          "2021-05-18T00:00:00",
          "2021-05-17T00:00:00",
          "2021-05-16T00:00:00",
          "2021-05-15T00:00:00",
          "2021-05-14T00:00:00",
          "2021-05-13T00:00:00",
          "2021-05-12T00:00:00",
          "2021-05-11T00:00:00",
          "2021-05-10T00:00:00",
          "2021-05-09T00:00:00",
          "2021-05-08T00:00:00",
          "2021-05-07T00:00:00",
          "2021-05-06T00:00:00",
          "2021-05-05T00:00:00",
          "2021-05-04T00:00:00",
          "2021-05-03T00:00:00",
          "2021-05-02T00:00:00",
          "2021-05-01T00:00:00",
          "2021-04-30T00:00:00",
          "2021-04-29T00:00:00",
          "2021-04-28T00:00:00",
          "2021-04-27T00:00:00",
          "2021-04-26T00:00:00",
          "2021-04-25T00:00:00",
          "2021-04-24T00:00:00",
          "2021-04-23T00:00:00",
          "2021-04-22T00:00:00",
          "2021-04-21T00:00:00",
          "2021-04-20T00:00:00",
          "2021-04-19T00:00:00",
          "2021-04-18T00:00:00",
          "2021-04-17T00:00:00",
          "2021-04-16T00:00:00",
          "2021-04-15T00:00:00",
          "2021-04-14T00:00:00",
          "2021-04-13T00:00:00",
          "2021-04-12T00:00:00",
          "2021-04-11T00:00:00",
          "2021-04-10T00:00:00",
          "2021-04-09T00:00:00",
          "2021-04-08T00:00:00",
          "2021-04-07T00:00:00",
          "2021-04-06T00:00:00",
          "2021-04-05T00:00:00",
          "2021-04-04T00:00:00",
          "2021-04-03T00:00:00",
          "2021-04-02T00:00:00",
          "2021-04-01T00:00:00",
          "2021-03-31T00:00:00",
          "2021-03-30T00:00:00",
          "2021-03-29T00:00:00",
          "2021-03-28T00:00:00",
          "2021-03-27T00:00:00",
          "2021-03-26T00:00:00",
          "2021-03-25T00:00:00",
          "2021-03-24T00:00:00",
          "2021-03-23T00:00:00",
          "2021-03-22T00:00:00",
          "2021-03-21T00:00:00",
          "2021-03-20T00:00:00",
          "2021-03-19T00:00:00",
          "2021-03-18T00:00:00",
          "2021-03-17T00:00:00",
          "2021-03-16T00:00:00",
          "2021-03-15T00:00:00",
          "2021-03-14T00:00:00",
          "2021-03-13T00:00:00",
          "2021-03-12T00:00:00",
          "2021-03-11T00:00:00",
          "2021-03-10T00:00:00",
          "2021-03-09T00:00:00",
          "2021-03-08T00:00:00",
          "2021-03-07T00:00:00",
          "2021-03-06T00:00:00",
          "2021-03-05T00:00:00",
          "2021-03-04T00:00:00",
          "2021-03-03T00:00:00",
          "2021-03-02T00:00:00",
          "2021-03-01T00:00:00",
          "2021-02-28T00:00:00",
          "2021-02-27T00:00:00",
          "2021-02-26T00:00:00",
          "2021-02-25T00:00:00",
          "2021-02-24T00:00:00",
          "2021-02-23T00:00:00",
          "2021-02-22T00:00:00",
          "2021-02-21T00:00:00",
          "2021-02-20T00:00:00",
          "2021-02-19T00:00:00",
          "2021-02-18T00:00:00",
          "2021-02-17T00:00:00",
          "2021-02-16T00:00:00",
          "2021-02-15T00:00:00",
          "2021-02-14T00:00:00",
          "2021-02-13T00:00:00",
          "2021-02-12T00:00:00",
          "2021-02-11T00:00:00",
          "2021-02-10T00:00:00",
          "2021-02-09T00:00:00",
          "2021-02-08T00:00:00",
          "2021-02-07T00:00:00",
          "2021-02-06T00:00:00",
          "2021-02-05T00:00:00",
          "2021-02-04T00:00:00",
          "2021-02-03T00:00:00",
          "2021-02-02T00:00:00",
          "2021-02-01T00:00:00",
          "2021-01-31T00:00:00",
          "2021-01-30T00:00:00",
          "2021-01-29T00:00:00",
          "2021-01-28T00:00:00",
          "2021-01-27T00:00:00",
          "2021-01-26T00:00:00",
          "2021-01-25T00:00:00",
          "2021-01-24T00:00:00",
          "2021-01-23T00:00:00",
          "2021-01-22T00:00:00",
          "2021-01-21T00:00:00",
          "2021-01-20T00:00:00",
          "2021-01-19T00:00:00",
          "2021-01-18T00:00:00",
          "2021-01-17T00:00:00",
          "2021-01-16T00:00:00",
          "2021-01-15T00:00:00",
          "2021-01-14T00:00:00",
          "2021-01-13T00:00:00",
          "2021-01-12T00:00:00",
          "2021-01-11T00:00:00",
          "2021-01-10T00:00:00",
          "2021-01-09T00:00:00",
          "2021-01-08T00:00:00",
          "2021-01-07T00:00:00",
          "2021-01-06T00:00:00",
          "2021-01-05T00:00:00",
          "2021-01-04T00:00:00",
          "2021-01-03T00:00:00",
          "2021-01-02T00:00:00",
          "2021-01-01T00:00:00",
          "2020-12-31T00:00:00",
          "2020-12-30T00:00:00",
          "2020-12-29T00:00:00",
          "2020-12-28T00:00:00",
          "2020-12-27T00:00:00",
          "2020-12-26T00:00:00",
          "2020-12-25T00:00:00",
          "2020-12-24T00:00:00",
          "2020-12-23T00:00:00",
          "2020-12-22T00:00:00",
          "2020-12-21T00:00:00",
          "2020-12-20T00:00:00",
          "2020-12-19T00:00:00",
          "2020-12-18T00:00:00",
          "2020-12-17T00:00:00",
          "2020-12-16T00:00:00",
          "2020-12-15T00:00:00",
          "2020-12-14T00:00:00",
          "2020-12-13T00:00:00",
          "2020-12-12T00:00:00",
          "2020-12-11T00:00:00",
          "2020-12-10T00:00:00",
          "2020-12-09T00:00:00",
          "2020-12-08T00:00:00",
          "2020-12-07T00:00:00",
          "2020-12-06T00:00:00",
          "2020-12-05T00:00:00",
          "2020-12-04T00:00:00",
          "2020-12-03T00:00:00"
         ]
        }
       ],
       "layout": {
        "template": {
         "data": {
          "bar": [
           {
            "error_x": {
             "color": "#2a3f5f"
            },
            "error_y": {
             "color": "#2a3f5f"
            },
            "marker": {
             "line": {
              "color": "#E5ECF6",
              "width": 0.5
             }
            },
            "type": "bar"
           }
          ],
          "barpolar": [
           {
            "marker": {
             "line": {
              "color": "#E5ECF6",
              "width": 0.5
             }
            },
            "type": "barpolar"
           }
          ],
          "carpet": [
           {
            "aaxis": {
             "endlinecolor": "#2a3f5f",
             "gridcolor": "white",
             "linecolor": "white",
             "minorgridcolor": "white",
             "startlinecolor": "#2a3f5f"
            },
            "baxis": {
             "endlinecolor": "#2a3f5f",
             "gridcolor": "white",
             "linecolor": "white",
             "minorgridcolor": "white",
             "startlinecolor": "#2a3f5f"
            },
            "type": "carpet"
           }
          ],
          "choropleth": [
           {
            "colorbar": {
             "outlinewidth": 0,
             "ticks": ""
            },
            "type": "choropleth"
           }
          ],
          "contour": [
           {
            "colorbar": {
             "outlinewidth": 0,
             "ticks": ""
            },
            "colorscale": [
             [
              0,
              "#0d0887"
             ],
             [
              0.1111111111111111,
              "#46039f"
             ],
             [
              0.2222222222222222,
              "#7201a8"
             ],
             [
              0.3333333333333333,
              "#9c179e"
             ],
             [
              0.4444444444444444,
              "#bd3786"
             ],
             [
              0.5555555555555556,
              "#d8576b"
             ],
             [
              0.6666666666666666,
              "#ed7953"
             ],
             [
              0.7777777777777778,
              "#fb9f3a"
             ],
             [
              0.8888888888888888,
              "#fdca26"
             ],
             [
              1,
              "#f0f921"
             ]
            ],
            "type": "contour"
           }
          ],
          "contourcarpet": [
           {
            "colorbar": {
             "outlinewidth": 0,
             "ticks": ""
            },
            "type": "contourcarpet"
           }
          ],
          "heatmap": [
           {
            "colorbar": {
             "outlinewidth": 0,
             "ticks": ""
            },
            "colorscale": [
             [
              0,
              "#0d0887"
             ],
             [
              0.1111111111111111,
              "#46039f"
             ],
             [
              0.2222222222222222,
              "#7201a8"
             ],
             [
              0.3333333333333333,
              "#9c179e"
             ],
             [
              0.4444444444444444,
              "#bd3786"
             ],
             [
              0.5555555555555556,
              "#d8576b"
             ],
             [
              0.6666666666666666,
              "#ed7953"
             ],
             [
              0.7777777777777778,
              "#fb9f3a"
             ],
             [
              0.8888888888888888,
              "#fdca26"
             ],
             [
              1,
              "#f0f921"
             ]
            ],
            "type": "heatmap"
           }
          ],
          "heatmapgl": [
           {
            "colorbar": {
             "outlinewidth": 0,
             "ticks": ""
            },
            "colorscale": [
             [
              0,
              "#0d0887"
             ],
             [
              0.1111111111111111,
              "#46039f"
             ],
             [
              0.2222222222222222,
              "#7201a8"
             ],
             [
              0.3333333333333333,
              "#9c179e"
             ],
             [
              0.4444444444444444,
              "#bd3786"
             ],
             [
              0.5555555555555556,
              "#d8576b"
             ],
             [
              0.6666666666666666,
              "#ed7953"
             ],
             [
              0.7777777777777778,
              "#fb9f3a"
             ],
             [
              0.8888888888888888,
              "#fdca26"
             ],
             [
              1,
              "#f0f921"
             ]
            ],
            "type": "heatmapgl"
           }
          ],
          "histogram": [
           {
            "marker": {
             "colorbar": {
              "outlinewidth": 0,
              "ticks": ""
             }
            },
            "type": "histogram"
           }
          ],
          "histogram2d": [
           {
            "colorbar": {
             "outlinewidth": 0,
             "ticks": ""
            },
            "colorscale": [
             [
              0,
              "#0d0887"
             ],
             [
              0.1111111111111111,
              "#46039f"
             ],
             [
              0.2222222222222222,
              "#7201a8"
             ],
             [
              0.3333333333333333,
              "#9c179e"
             ],
             [
              0.4444444444444444,
              "#bd3786"
             ],
             [
              0.5555555555555556,
              "#d8576b"
             ],
             [
              0.6666666666666666,
              "#ed7953"
             ],
             [
              0.7777777777777778,
              "#fb9f3a"
             ],
             [
              0.8888888888888888,
              "#fdca26"
             ],
             [
              1,
              "#f0f921"
             ]
            ],
            "type": "histogram2d"
           }
          ],
          "histogram2dcontour": [
           {
            "colorbar": {
             "outlinewidth": 0,
             "ticks": ""
            },
            "colorscale": [
             [
              0,
              "#0d0887"
             ],
             [
              0.1111111111111111,
              "#46039f"
             ],
             [
              0.2222222222222222,
              "#7201a8"
             ],
             [
              0.3333333333333333,
              "#9c179e"
             ],
             [
              0.4444444444444444,
              "#bd3786"
             ],
             [
              0.5555555555555556,
              "#d8576b"
             ],
             [
              0.6666666666666666,
              "#ed7953"
             ],
             [
              0.7777777777777778,
              "#fb9f3a"
             ],
             [
              0.8888888888888888,
              "#fdca26"
             ],
             [
              1,
              "#f0f921"
             ]
            ],
            "type": "histogram2dcontour"
           }
          ],
          "mesh3d": [
           {
            "colorbar": {
             "outlinewidth": 0,
             "ticks": ""
            },
            "type": "mesh3d"
           }
          ],
          "parcoords": [
           {
            "line": {
             "colorbar": {
              "outlinewidth": 0,
              "ticks": ""
             }
            },
            "type": "parcoords"
           }
          ],
          "pie": [
           {
            "automargin": true,
            "type": "pie"
           }
          ],
          "scatter": [
           {
            "marker": {
             "colorbar": {
              "outlinewidth": 0,
              "ticks": ""
             }
            },
            "type": "scatter"
           }
          ],
          "scatter3d": [
           {
            "line": {
             "colorbar": {
              "outlinewidth": 0,
              "ticks": ""
             }
            },
            "marker": {
             "colorbar": {
              "outlinewidth": 0,
              "ticks": ""
             }
            },
            "type": "scatter3d"
           }
          ],
          "scattercarpet": [
           {
            "marker": {
             "colorbar": {
              "outlinewidth": 0,
              "ticks": ""
             }
            },
            "type": "scattercarpet"
           }
          ],
          "scattergeo": [
           {
            "marker": {
             "colorbar": {
              "outlinewidth": 0,
              "ticks": ""
             }
            },
            "type": "scattergeo"
           }
          ],
          "scattergl": [
           {
            "marker": {
             "colorbar": {
              "outlinewidth": 0,
              "ticks": ""
             }
            },
            "type": "scattergl"
           }
          ],
          "scattermapbox": [
           {
            "marker": {
             "colorbar": {
              "outlinewidth": 0,
              "ticks": ""
             }
            },
            "type": "scattermapbox"
           }
          ],
          "scatterpolar": [
           {
            "marker": {
             "colorbar": {
              "outlinewidth": 0,
              "ticks": ""
             }
            },
            "type": "scatterpolar"
           }
          ],
          "scatterpolargl": [
           {
            "marker": {
             "colorbar": {
              "outlinewidth": 0,
              "ticks": ""
             }
            },
            "type": "scatterpolargl"
           }
          ],
          "scatterternary": [
           {
            "marker": {
             "colorbar": {
              "outlinewidth": 0,
              "ticks": ""
             }
            },
            "type": "scatterternary"
           }
          ],
          "surface": [
           {
            "colorbar": {
             "outlinewidth": 0,
             "ticks": ""
            },
            "colorscale": [
             [
              0,
              "#0d0887"
             ],
             [
              0.1111111111111111,
              "#46039f"
             ],
             [
              0.2222222222222222,
              "#7201a8"
             ],
             [
              0.3333333333333333,
              "#9c179e"
             ],
             [
              0.4444444444444444,
              "#bd3786"
             ],
             [
              0.5555555555555556,
              "#d8576b"
             ],
             [
              0.6666666666666666,
              "#ed7953"
             ],
             [
              0.7777777777777778,
              "#fb9f3a"
             ],
             [
              0.8888888888888888,
              "#fdca26"
             ],
             [
              1,
              "#f0f921"
             ]
            ],
            "type": "surface"
           }
          ],
          "table": [
           {
            "cells": {
             "fill": {
              "color": "#EBF0F8"
             },
             "line": {
              "color": "white"
             }
            },
            "header": {
             "fill": {
              "color": "#C8D4E3"
             },
             "line": {
              "color": "white"
             }
            },
            "type": "table"
           }
          ]
         },
         "layout": {
          "annotationdefaults": {
           "arrowcolor": "#2a3f5f",
           "arrowhead": 0,
           "arrowwidth": 1
          },
          "autotypenumbers": "strict",
          "coloraxis": {
           "colorbar": {
            "outlinewidth": 0,
            "ticks": ""
           }
          },
          "colorscale": {
           "diverging": [
            [
             0,
             "#8e0152"
            ],
            [
             0.1,
             "#c51b7d"
            ],
            [
             0.2,
             "#de77ae"
            ],
            [
             0.3,
             "#f1b6da"
            ],
            [
             0.4,
             "#fde0ef"
            ],
            [
             0.5,
             "#f7f7f7"
            ],
            [
             0.6,
             "#e6f5d0"
            ],
            [
             0.7,
             "#b8e186"
            ],
            [
             0.8,
             "#7fbc41"
            ],
            [
             0.9,
             "#4d9221"
            ],
            [
             1,
             "#276419"
            ]
           ],
           "sequential": [
            [
             0,
             "#0d0887"
            ],
            [
             0.1111111111111111,
             "#46039f"
            ],
            [
             0.2222222222222222,
             "#7201a8"
            ],
            [
             0.3333333333333333,
             "#9c179e"
            ],
            [
             0.4444444444444444,
             "#bd3786"
            ],
            [
             0.5555555555555556,
             "#d8576b"
            ],
            [
             0.6666666666666666,
             "#ed7953"
            ],
            [
             0.7777777777777778,
             "#fb9f3a"
            ],
            [
             0.8888888888888888,
             "#fdca26"
            ],
            [
             1,
             "#f0f921"
            ]
           ],
           "sequentialminus": [
            [
             0,
             "#0d0887"
            ],
            [
             0.1111111111111111,
             "#46039f"
            ],
            [
             0.2222222222222222,
             "#7201a8"
            ],
            [
             0.3333333333333333,
             "#9c179e"
            ],
            [
             0.4444444444444444,
             "#bd3786"
            ],
            [
             0.5555555555555556,
             "#d8576b"
            ],
            [
             0.6666666666666666,
             "#ed7953"
            ],
            [
             0.7777777777777778,
             "#fb9f3a"
            ],
            [
             0.8888888888888888,
             "#fdca26"
            ],
            [
             1,
             "#f0f921"
            ]
           ]
          },
          "colorway": [
           "#636efa",
           "#EF553B",
           "#00cc96",
           "#ab63fa",
           "#FFA15A",
           "#19d3f3",
           "#FF6692",
           "#B6E880",
           "#FF97FF",
           "#FECB52"
          ],
          "font": {
           "color": "#2a3f5f"
          },
          "geo": {
           "bgcolor": "white",
           "lakecolor": "white",
           "landcolor": "#E5ECF6",
           "showlakes": true,
           "showland": true,
           "subunitcolor": "white"
          },
          "hoverlabel": {
           "align": "left"
          },
          "hovermode": "closest",
          "mapbox": {
           "style": "light"
          },
          "paper_bgcolor": "white",
          "plot_bgcolor": "#E5ECF6",
          "polar": {
           "angularaxis": {
            "gridcolor": "white",
            "linecolor": "white",
            "ticks": ""
           },
           "bgcolor": "#E5ECF6",
           "radialaxis": {
            "gridcolor": "white",
            "linecolor": "white",
            "ticks": ""
           }
          },
          "scene": {
           "xaxis": {
            "backgroundcolor": "#E5ECF6",
            "gridcolor": "white",
            "gridwidth": 2,
            "linecolor": "white",
            "showbackground": true,
            "ticks": "",
            "zerolinecolor": "white"
           },
           "yaxis": {
            "backgroundcolor": "#E5ECF6",
            "gridcolor": "white",
            "gridwidth": 2,
            "linecolor": "white",
            "showbackground": true,
            "ticks": "",
            "zerolinecolor": "white"
           },
           "zaxis": {
            "backgroundcolor": "#E5ECF6",
            "gridcolor": "white",
            "gridwidth": 2,
            "linecolor": "white",
            "showbackground": true,
            "ticks": "",
            "zerolinecolor": "white"
           }
          },
          "shapedefaults": {
           "line": {
            "color": "#2a3f5f"
           }
          },
          "ternary": {
           "aaxis": {
            "gridcolor": "white",
            "linecolor": "white",
            "ticks": ""
           },
           "baxis": {
            "gridcolor": "white",
            "linecolor": "white",
            "ticks": ""
           },
           "bgcolor": "#E5ECF6",
           "caxis": {
            "gridcolor": "white",
            "linecolor": "white",
            "ticks": ""
           }
          },
          "title": {
           "x": 0.05
          },
          "xaxis": {
           "automargin": true,
           "gridcolor": "white",
           "linecolor": "white",
           "ticks": "",
           "title": {
            "standoff": 15
           },
           "zerolinecolor": "white",
           "zerolinewidth": 2
          },
          "yaxis": {
           "automargin": true,
           "gridcolor": "white",
           "linecolor": "white",
           "ticks": "",
           "title": {
            "standoff": 15
           },
           "zerolinecolor": "white",
           "zerolinewidth": 2
          }
         }
        },
        "title": {
         "text": "UNI Price In USD",
         "x": 0.5
        },
        "xaxis": {
         "title": {
          "text": "Date"
         }
        },
        "yaxis": {
         "title": {
          "text": "UNI Price"
         }
        }
       }
      },
      "text/html": [
       "<div>                            <div id=\"e4ee6699-bf7a-4233-8b09-566d9d4c6709\" class=\"plotly-graph-div\" style=\"height:525px; width:100%;\"></div>            <script type=\"text/javascript\">                require([\"plotly\"], function(Plotly) {                    window.PLOTLYENV=window.PLOTLYENV || {};                                    if (document.getElementById(\"e4ee6699-bf7a-4233-8b09-566d9d4c6709\")) {                    Plotly.newPlot(                        \"e4ee6699-bf7a-4233-8b09-566d9d4c6709\",                        [{\"close\": [23.8582, 22.3949, 24.0475, 19.467, 19.6567, 21.4994, 21.6329, 19.0497, 20.9039, 23.8949, 24.5432, 24.3316, 26.2444, 27.4731, 25.6737, 22.6597, 23.7246, 22.7396, 22.3286, 23.2851, 23.1468, 24.3113, 28.8434, 29.3759, 28.5789, 28.6593, 29.9413, 31.3669, 29.3959, 26.8283, 26.7985, 26.8274, 27.4246, 25.5302, 27.0715, 26.6335, 28.8082, 28.4232, 28.2509, 28.8726, 27.9786, 26.3063, 26.3942, 29.0762, 30.2795, 30.1454, 30.5039, 28.1246, 28.989, 28.7687, 28.3578, 26.72, 28.3322, 26.1794, 25.4543, 23.5377, 21.3267, 22.363, 21.9968, 21.7652, 20.9374, 19.5899, 19.0547, 18.8979, 18.5299, 18.2936, 18.2573, 18.5978, 17.5854, 16.7296, 14.5585, 15.7385, 16.3096, 16.1085, 16.3449, 17.0505, 17.8921, 18.4867, 19.5288, 20.6975, 20.269, 20.9815, 20.3516, 22.2768, 22.3731, 20.0773, 20.7665, 19.4682, 18.2388, 17.7939, 19.2801, 18.6452, 17.7312, 17.1043, 16.1248, 15.8273, 18.1004, 17.8106, 16.4223, 15.7983, 20.6957, 19.77, 20.3982, 22.1783, 21.8091, 23.4157, 24.1616, 23.2702, 21.2774, 21.8289, 23.5774, 25.1168, 23.424, 24.2865, 25.8726, 25.641, 26.4231, 28.681, 27.6067, 27.404, 28.2615, 25.7134, 23.1772, 25.867, 28.5568, 29.44, 25.145, 24.707, 16.7319, 20.3746, 21.9855, 26.4352, 23.352, 35.0301, 33.2527, 36.6235, 36.537, 40.4393, 37.3176, 37.0508, 38.587, 36.4121, 39.4614, 40.5791, 39.7486, 40.2343, 42.4676, 43.1305, 42.3508, 42.6666, 40.3521, 40.6781, 41.0919, 42.8911, 39.6709, 38.1899, 34.3872, 30.1914, 33.0023, 33.9642, 33.404, 31.9838, 31.381, 31.7109, 34.7684, 36.2071, 37.768, 36.037, 35.4266, 36.7001, 29.9059, 29.7501, 29.5322, 30.206, 28.5546, 31.2496, 30.865, 30.9282, 29.376, 30.2174, 28.666, 28.0773, 28.543, 29.0171, 27.8627, 28.1708, 28.9103, 26.5198, 27.2393, 31.0053, 32.8501, 32.9426, 32.0266, 33.254, 29.9991, 31.3152, 30.0538, 29.8061, 30.6529, 32.4643, 30.8939, 31.0093, 30.8942, 32.8789, 33.2371, 34.2736, 28.5293, 28.3046, 28.2354, 25.35, 25.5477, 25.7131, 22.264, 23.5813, 23.1103, 23.5127, 25.2638, 24.8301, 27.7025, 28.8088, 28.7552, 20.0653, 21.1637, 21.5497, 20.4684, 20.0943, 20.8615, 21.8343, 22.7095, 21.4856, 20.6903, 19.5453, 19.3274, 18.687, 19.2755, 21.1938, 20.14, 19.7515, 18.9755, 20.4901, 17.733, 19.5737, 15.6391, 14.1284, 14.7553, 13.9344, 11.3122, 12.0407, 9.3398, 8.7075, 7.5714, 8.9794, 8.5947, 9.194, 8.6782, 8.3963, 7.365, 6.9473, 6.3398, 5.5909, 5.2521, 5.9887, 6.2453, 5.8751, 6.2745, 6.437, 6.2715, 5.4248, 5.5241, 4.856, 4.7478, 5.162, 4.1497, 3.6786, 3.7294, 3.593, 3.4166, 3.4976, 3.5215, 3.3137, 3.7344, 3.5113, 3.7539, 3.9606, 3.7655, 3.6968, 3.5403, 3.3296, 3.4871, 3.3361, 3.1231, 2.9631, 3.2399, 3.3577, 3.2977, 3.7544, 3.6534, 3.6828, 3.5232, 3.885], \"high\": [24.9842, 26.0267, 24.8156, 20.11, 21.6419, 21.8441, 21.6594, 21.6363, 23.9857, 24.6471, 25.2015, 26.3955, 27.6164, 27.4783, 25.9168, 24.0415, 24.2587, 23.8947, 24.2459, 24.7243, 24.9884, 29.3309, 30.3251, 29.5096, 29.4779, 31.2077, 31.4269, 31.4172, 29.7353, 28.2294, 27.683, 27.6149, 27.4927, 27.6678, 27.4506, 29.2409, 29.658, 29.2004, 29.7361, 29.3335, 27.98, 27.3797, 30.8149, 31.2618, 30.479, 30.6611, 30.6227, 29.9114, 30.4202, 30.2308, 28.7948, 28.722, 29.0255, 26.9574, 25.5733, 23.7317, 22.7412, 23.0983, 23.2205, 21.9678, 21.0525, 19.8022, 19.4577, 19.2524, 20.3128, 18.452, 18.9452, 18.696, 17.6202, 16.877, 15.9692, 16.7789, 17.1722, 16.7315, 17.5908, 18.3855, 18.5374, 19.726, 21.4038, 20.9281, 21.5087, 21.5981, 22.3332, 23.4498, 23.1817, 20.8876, 21.4876, 19.5421, 18.2639, 19.2857, 19.3044, 19.2094, 18.1362, 17.1043, 16.4595, 18.3264, 18.5578, 18.4992, 17.1283, 20.8625, 21.0092, 20.9804, 22.2584, 22.9356, 23.5418, 24.6802, 24.199, 23.6111, 21.9657, 23.8608, 25.2706, 25.2358, 24.6401, 27.3445, 26.4747, 27.6848, 28.6881, 29.3864, 28.79, 29.8128, 28.453, 26.5893, 27.5314, 29.4249, 30.0, 29.4512, 26.7533, 25.2228, 21.3068, 22.4266, 28.0873, 28.5736, 35.5409, 36.654, 36.619, 39.4295, 42.4117, 40.9364, 40.3566, 44.0495, 38.5938, 41.2294, 40.7575, 41.2996, 41.25, 42.5889, 44.9265, 44.64, 45.0239, 43.3037, 41.3224, 41.4001, 43.9473, 42.98, 40.6564, 38.5276, 34.8626, 33.0148, 34.8861, 38.4482, 36.5263, 32.28, 32.716, 35.1327, 37.5586, 38.2361, 39.5364, 36.84, 37.1236, 38.0911, 30.63, 30.801, 30.5807, 30.6462, 31.4096, 32.3949, 31.2313, 31.5001, 32.4264, 30.301, 30.2719, 29.0202, 29.2893, 29.49, 28.9, 29.4936, 29.0374, 28.0258, 31.8885, 36.833, 35.8438, 33.3339, 35.1589, 34.1972, 31.6096, 31.6836, 30.063, 31.5086, 33.746, 33.28, 31.9314, 31.8372, 33.49, 34.7733, 34.9312, 34.9255, 29.0, 28.7839, 29.7779, 27.609, 27.4579, 25.7575, 24.166, 24.8262, 25.2281, 26.9439, 27.3738, 27.7581, 29.1463, 32.119, 33.0, 21.5363, 22.2696, 21.8479, 21.3, 21.5439, 22.65, 23.5784, 23.86, 22.0, 22.45, 19.9184, 20.2192, 19.6877, 21.6864, 22.4408, 21.6, 20.5, 20.5907, 20.75, 20.545, 19.6838, 15.79, 15.437, 15.5537, 14.2887, 12.9637, 12.3195, 9.5384, 9.021, 9.0412, 9.049, 9.67, 9.8631, 9.1737, 9.3595, 7.4667, 7.1265, 6.3799, 5.8141, 5.9988, 6.5929, 6.371, 6.3735, 6.8341, 6.616, 6.5824, 6.2375, 5.65, 5.1873, 5.2813, 5.3139, 4.3826, 3.8338, 3.941, 3.7948, 3.5979, 3.6461, 3.5254, 3.7745, 3.7733, 3.9242, 4.0253, 4.2493, 3.8557, 4.0, 3.5436, 3.518, 3.55, 3.3639, 3.1861, 3.2489, 3.3715, 3.3986, 3.7622, 3.878, 3.7949, 3.698, 3.9209, 4.0263], \"low\": [22.15, 22.2738, 17.5258, 18.96, 18.1865, 20.8945, 18.8444, 18.3416, 20.46, 23.5001, 23.942, 23.99, 25.3846, 24.7096, 22.4866, 21.3987, 22.16, 22.2549, 21.4068, 22.7335, 21.3671, 20.825, 28.4045, 28.3537, 28.2162, 28.3149, 29.519, 28.7159, 26.1758, 25.5822, 26.1954, 26.65, 25.0315, 25.024, 25.6997, 26.516, 28.39, 27.1997, 28.2078, 27.5161, 25.3002, 25.45, 25.8759, 29.0114, 28.2969, 28.7353, 27.8506, 26.866, 28.7268, 28.19, 25.3967, 25.9779, 25.8211, 24.5488, 22.08, 20.7677, 20.6807, 21.41, 21.5713, 20.7061, 19.3813, 18.6215, 18.5355, 17.7239, 18.1898, 17.2577, 18.0387, 16.9463, 16.0793, 14.02, 14.4033, 15.4052, 16.0362, 15.9491, 15.9297, 16.8041, 16.7569, 18.1336, 19.1915, 19.9954, 19.94, 19.7712, 19.97, 21.68, 20.0595, 19.1348, 18.9501, 17.7982, 16.9368, 17.5579, 17.1606, 17.6553, 16.8687, 15.6322, 15.1177, 15.6927, 16.6137, 15.7954, 13.9048, 15.752, 18.6387, 19.77, 19.5645, 21.42, 21.6433, 23.1385, 22.5138, 20.464, 20.2591, 21.308, 23.0837, 22.2187, 20.7086, 23.9602, 25.3724, 25.1635, 25.0136, 26.9, 26.3351, 25.9626, 23.4793, 21.7127, 21.829, 24.9181, 26.1591, 24.5726, 21.5607, 16.4625, 13.0117, 18.4106, 18.86, 20.1, 16.5, 33.0008, 31.7502, 34.5, 36.5363, 37.1029, 34.1, 35.8701, 35.4748, 33.56, 38.11, 39.2217, 38.0689, 39.9014, 41.5141, 39.7, 41.2121, 39.3181, 39.2435, 39.1121, 39.5366, 37.8193, 37.3577, 34.1447, 30.0317, 30.0, 29.5368, 32.6901, 30.56, 28.2898, 29.485, 27.25, 34.6801, 34.3037, 35.5787, 33.2502, 34.1301, 29.5292, 29.2069, 29.1796, 29.3125, 28.3265, 27.8058, 30.1133, 29.6935, 28.9775, 29.3504, 28.6, 28.0773, 26.6698, 28.1641, 27.5, 27.3513, 27.812, 26.4772, 25.5846, 25.6144, 30.2497, 31.8, 31.5119, 31.8666, 29.4564, 29.733, 29.4615, 27.8689, 29.5565, 30.65, 30.1602, 29.2077, 29.4914, 30.2632, 32.3535, 32.074, 28.5124, 27.18, 25.8101, 24.75, 25.2781, 24.5317, 22.1021, 20.5, 22.3372, 21.0077, 23.1001, 23.1056, 18.2, 21.84, 27.8162, 19.5241, 19.36, 20.581, 19.1605, 19.3813, 17.1539, 20.7036, 21.1909, 21.2252, 20.1573, 19.5311, 18.8874, 18.1452, 17.1, 19.201, 19.4445, 19.22, 18.7109, 18.051, 16.6902, 17.4278, 15.1001, 14.1112, 13.55, 12.9957, 11.1638, 10.879, 9.1786, 8.5, 7.0142, 7.3143, 7.6331, 8.4455, 8.3012, 8.07, 7.188, 6.3706, 6.1799, 5.2616, 4.9601, 4.3542, 5.5028, 5.67, 5.4802, 6.02, 6.0201, 5.2001, 4.881, 4.6801, 4.4937, 4.6207, 3.94, 3.6295, 3.494, 3.5664, 3.3516, 3.3548, 3.373, 3.1615, 3.02, 3.2838, 3.4049, 3.7091, 3.708, 3.5466, 3.4387, 3.2432, 3.3084, 3.2366, 3.0726, 2.9581, 2.9111, 3.19, 3.1171, 3.276, 3.564, 3.51, 3.45, 3.5, 3.8023], \"open\": [22.3898, 24.0332, 19.4869, 19.6591, 21.4995, 21.618, 19.0614, 20.9065, 23.8978, 24.544, 24.3362, 26.2485, 27.4716, 25.67, 22.671, 23.7234, 22.7234, 22.2994, 23.3262, 23.1599, 24.3397, 28.8434, 29.3774, 28.5806, 28.6634, 29.9318, 31.3669, 29.3718, 26.8357, 26.804, 26.8483, 27.437, 25.528, 27.0623, 26.5945, 28.8023, 28.4234, 28.2491, 28.8938, 27.9794, 26.3063, 26.4061, 29.0595, 30.2979, 30.1441, 30.5247, 28.1231, 28.9625, 28.7701, 28.3579, 26.7239, 28.3281, 26.1966, 25.4413, 23.5213, 21.3308, 22.369, 21.9729, 21.7811, 20.9384, 19.5888, 19.0693, 18.8998, 18.5097, 18.2806, 18.2681, 18.6056, 17.5854, 16.735, 14.5593, 15.7404, 16.3089, 16.1116, 16.3606, 17.0647, 17.8921, 18.494, 19.5331, 20.6987, 20.2555, 20.9805, 20.3467, 22.2695, 22.3552, 20.0701, 20.7582, 19.473, 18.2455, 17.7857, 19.2857, 18.6296, 17.7339, 17.1043, 16.1278, 15.8305, 18.0962, 17.8174, 16.4035, 15.7928, 20.7063, 19.7718, 20.399, 22.1731, 21.8008, 23.4158, 24.1629, 23.2623, 21.3132, 21.8225, 23.5818, 25.1167, 23.424, 24.249, 25.8726, 25.641, 26.4237, 28.6788, 27.6078, 27.4154, 28.2458, 25.6849, 23.1964, 25.8827, 28.5568, 29.44, 25.1494, 24.7155, 16.7428, 20.3776, 21.9637, 26.3884, 23.3723, 35.0105, 33.2895, 36.619, 36.6282, 40.4548, 37.3215, 37.0512, 38.5645, 36.3988, 39.4828, 40.5688, 39.7607, 40.2489, 42.4781, 43.1254, 42.3267, 42.6529, 40.3521, 40.672, 41.0863, 42.9034, 39.6662, 38.2107, 34.3832, 30.2319, 33.0023, 33.9501, 33.447, 31.9772, 31.3793, 31.7037, 34.7702, 36.2034, 37.7736, 36.0673, 35.4299, 36.7001, 29.9128, 29.7749, 29.5307, 30.2058, 28.5724, 31.2496, 30.8684, 30.9399, 29.3977, 30.1972, 28.666, 28.0773, 28.549, 29.0171, 27.8714, 28.1849, 28.913, 26.5, 27.2392, 31.0057, 32.8519, 32.9426, 32.0512, 33.2521, 30.0022, 31.3337, 30.0501, 29.8188, 30.6733, 32.4626, 30.9032, 31.0262, 30.9153, 32.8779, 33.2476, 34.277, 28.5421, 28.3046, 28.234, 25.3644, 25.5585, 25.7272, 22.2639, 23.5722, 23.117, 23.4899, 25.2638, 24.8424, 27.675, 28.823, 28.747, 20.0648, 21.1829, 21.55, 20.4855, 20.1148, 20.8615, 21.8279, 22.713, 21.4943, 20.6894, 19.5311, 19.3327, 18.7112, 19.2831, 21.1958, 20.14, 19.7343, 18.9772, 20.4901, 17.7496, 19.6037, 15.6379, 14.1564, 14.7614, 13.9339, 11.3138, 12.0423, 9.3527, 8.704, 7.5848, 8.9777, 8.5899, 9.1953, 8.6852, 8.3886, 7.3748, 6.9418, 6.3402, 5.5956, 5.2497, 5.9988, 6.2453, 5.8754, 6.2818, 6.4419, 6.2725, 5.4252, 5.53, 4.8535, 4.743, 5.157, 4.1524, 3.6745, 3.7334, 3.5947, 3.4172, 3.5006, 3.526, 3.3095, 3.7328, 3.5128, 3.75, 3.96, 3.7736, 3.6975, 3.5352, 3.3288, 3.4869, 3.3312, 3.123, 2.9628, 3.2441, 3.3617, 3.2915, 3.7576, 3.6534, 3.6837, 3.52, 3.8808, 3.947], \"type\": \"candlestick\", \"x\": [\"2021-09-28T00:00:00\", \"2021-09-27T00:00:00\", \"2021-09-26T00:00:00\", \"2021-09-25T00:00:00\", \"2021-09-24T00:00:00\", \"2021-09-23T00:00:00\", \"2021-09-22T00:00:00\", \"2021-09-21T00:00:00\", \"2021-09-20T00:00:00\", \"2021-09-19T00:00:00\", \"2021-09-18T00:00:00\", \"2021-09-17T00:00:00\", \"2021-09-16T00:00:00\", \"2021-09-15T00:00:00\", \"2021-09-14T00:00:00\", \"2021-09-13T00:00:00\", \"2021-09-12T00:00:00\", \"2021-09-11T00:00:00\", \"2021-09-10T00:00:00\", \"2021-09-09T00:00:00\", \"2021-09-08T00:00:00\", \"2021-09-07T00:00:00\", \"2021-09-06T00:00:00\", \"2021-09-05T00:00:00\", \"2021-09-04T00:00:00\", \"2021-09-03T00:00:00\", \"2021-09-02T00:00:00\", \"2021-09-01T00:00:00\", \"2021-08-31T00:00:00\", \"2021-08-30T00:00:00\", \"2021-08-29T00:00:00\", \"2021-08-28T00:00:00\", \"2021-08-27T00:00:00\", \"2021-08-26T00:00:00\", \"2021-08-25T00:00:00\", \"2021-08-24T00:00:00\", \"2021-08-23T00:00:00\", \"2021-08-22T00:00:00\", \"2021-08-21T00:00:00\", \"2021-08-20T00:00:00\", \"2021-08-19T00:00:00\", \"2021-08-18T00:00:00\", \"2021-08-17T00:00:00\", \"2021-08-16T00:00:00\", \"2021-08-15T00:00:00\", \"2021-08-14T00:00:00\", \"2021-08-13T00:00:00\", \"2021-08-12T00:00:00\", \"2021-08-11T00:00:00\", \"2021-08-10T00:00:00\", \"2021-08-09T00:00:00\", \"2021-08-08T00:00:00\", \"2021-08-07T00:00:00\", \"2021-08-06T00:00:00\", \"2021-08-05T00:00:00\", \"2021-08-04T00:00:00\", \"2021-08-03T00:00:00\", \"2021-08-02T00:00:00\", \"2021-08-01T00:00:00\", \"2021-07-31T00:00:00\", \"2021-07-30T00:00:00\", \"2021-07-29T00:00:00\", \"2021-07-28T00:00:00\", \"2021-07-27T00:00:00\", \"2021-07-26T00:00:00\", \"2021-07-25T00:00:00\", \"2021-07-24T00:00:00\", \"2021-07-23T00:00:00\", \"2021-07-22T00:00:00\", \"2021-07-21T00:00:00\", \"2021-07-20T00:00:00\", \"2021-07-19T00:00:00\", \"2021-07-18T00:00:00\", \"2021-07-17T00:00:00\", \"2021-07-16T00:00:00\", \"2021-07-15T00:00:00\", \"2021-07-14T00:00:00\", \"2021-07-13T00:00:00\", \"2021-07-12T00:00:00\", \"2021-07-11T00:00:00\", \"2021-07-10T00:00:00\", \"2021-07-09T00:00:00\", \"2021-07-08T00:00:00\", \"2021-07-07T00:00:00\", \"2021-07-06T00:00:00\", \"2021-07-05T00:00:00\", \"2021-07-04T00:00:00\", \"2021-07-03T00:00:00\", \"2021-07-02T00:00:00\", \"2021-07-01T00:00:00\", \"2021-06-30T00:00:00\", \"2021-06-29T00:00:00\", \"2021-06-28T00:00:00\", \"2021-06-27T00:00:00\", \"2021-06-26T00:00:00\", \"2021-06-25T00:00:00\", \"2021-06-24T00:00:00\", \"2021-06-23T00:00:00\", \"2021-06-22T00:00:00\", \"2021-06-21T00:00:00\", \"2021-06-20T00:00:00\", \"2021-06-19T00:00:00\", \"2021-06-18T00:00:00\", \"2021-06-17T00:00:00\", \"2021-06-16T00:00:00\", \"2021-06-15T00:00:00\", \"2021-06-14T00:00:00\", \"2021-06-13T00:00:00\", \"2021-06-12T00:00:00\", \"2021-06-11T00:00:00\", \"2021-06-10T00:00:00\", \"2021-06-09T00:00:00\", \"2021-06-08T00:00:00\", \"2021-06-07T00:00:00\", \"2021-06-06T00:00:00\", \"2021-06-05T00:00:00\", \"2021-06-04T00:00:00\", \"2021-06-03T00:00:00\", \"2021-06-02T00:00:00\", \"2021-06-01T00:00:00\", \"2021-05-31T00:00:00\", \"2021-05-30T00:00:00\", \"2021-05-29T00:00:00\", \"2021-05-28T00:00:00\", \"2021-05-27T00:00:00\", \"2021-05-26T00:00:00\", \"2021-05-25T00:00:00\", \"2021-05-24T00:00:00\", \"2021-05-23T00:00:00\", \"2021-05-22T00:00:00\", \"2021-05-21T00:00:00\", \"2021-05-20T00:00:00\", \"2021-05-19T00:00:00\", \"2021-05-18T00:00:00\", \"2021-05-17T00:00:00\", \"2021-05-16T00:00:00\", \"2021-05-15T00:00:00\", \"2021-05-14T00:00:00\", \"2021-05-13T00:00:00\", \"2021-05-12T00:00:00\", \"2021-05-11T00:00:00\", \"2021-05-10T00:00:00\", \"2021-05-09T00:00:00\", \"2021-05-08T00:00:00\", \"2021-05-07T00:00:00\", \"2021-05-06T00:00:00\", \"2021-05-05T00:00:00\", \"2021-05-04T00:00:00\", \"2021-05-03T00:00:00\", \"2021-05-02T00:00:00\", \"2021-05-01T00:00:00\", \"2021-04-30T00:00:00\", \"2021-04-29T00:00:00\", \"2021-04-28T00:00:00\", \"2021-04-27T00:00:00\", \"2021-04-26T00:00:00\", \"2021-04-25T00:00:00\", \"2021-04-24T00:00:00\", \"2021-04-23T00:00:00\", \"2021-04-22T00:00:00\", \"2021-04-21T00:00:00\", \"2021-04-20T00:00:00\", \"2021-04-19T00:00:00\", \"2021-04-18T00:00:00\", \"2021-04-17T00:00:00\", \"2021-04-16T00:00:00\", \"2021-04-15T00:00:00\", \"2021-04-14T00:00:00\", \"2021-04-13T00:00:00\", \"2021-04-12T00:00:00\", \"2021-04-11T00:00:00\", \"2021-04-10T00:00:00\", \"2021-04-09T00:00:00\", \"2021-04-08T00:00:00\", \"2021-04-07T00:00:00\", \"2021-04-06T00:00:00\", \"2021-04-05T00:00:00\", \"2021-04-04T00:00:00\", \"2021-04-03T00:00:00\", \"2021-04-02T00:00:00\", \"2021-04-01T00:00:00\", \"2021-03-31T00:00:00\", \"2021-03-30T00:00:00\", \"2021-03-29T00:00:00\", \"2021-03-28T00:00:00\", \"2021-03-27T00:00:00\", \"2021-03-26T00:00:00\", \"2021-03-25T00:00:00\", \"2021-03-24T00:00:00\", \"2021-03-23T00:00:00\", \"2021-03-22T00:00:00\", \"2021-03-21T00:00:00\", \"2021-03-20T00:00:00\", \"2021-03-19T00:00:00\", \"2021-03-18T00:00:00\", \"2021-03-17T00:00:00\", \"2021-03-16T00:00:00\", \"2021-03-15T00:00:00\", \"2021-03-14T00:00:00\", \"2021-03-13T00:00:00\", \"2021-03-12T00:00:00\", \"2021-03-11T00:00:00\", \"2021-03-10T00:00:00\", \"2021-03-09T00:00:00\", \"2021-03-08T00:00:00\", \"2021-03-07T00:00:00\", \"2021-03-06T00:00:00\", \"2021-03-05T00:00:00\", \"2021-03-04T00:00:00\", \"2021-03-03T00:00:00\", \"2021-03-02T00:00:00\", \"2021-03-01T00:00:00\", \"2021-02-28T00:00:00\", \"2021-02-27T00:00:00\", \"2021-02-26T00:00:00\", \"2021-02-25T00:00:00\", \"2021-02-24T00:00:00\", \"2021-02-23T00:00:00\", \"2021-02-22T00:00:00\", \"2021-02-21T00:00:00\", \"2021-02-20T00:00:00\", \"2021-02-19T00:00:00\", \"2021-02-18T00:00:00\", \"2021-02-17T00:00:00\", \"2021-02-16T00:00:00\", \"2021-02-15T00:00:00\", \"2021-02-14T00:00:00\", \"2021-02-13T00:00:00\", \"2021-02-12T00:00:00\", \"2021-02-11T00:00:00\", \"2021-02-10T00:00:00\", \"2021-02-09T00:00:00\", \"2021-02-08T00:00:00\", \"2021-02-07T00:00:00\", \"2021-02-06T00:00:00\", \"2021-02-05T00:00:00\", \"2021-02-04T00:00:00\", \"2021-02-03T00:00:00\", \"2021-02-02T00:00:00\", \"2021-02-01T00:00:00\", \"2021-01-31T00:00:00\", \"2021-01-30T00:00:00\", \"2021-01-29T00:00:00\", \"2021-01-28T00:00:00\", \"2021-01-27T00:00:00\", \"2021-01-26T00:00:00\", \"2021-01-25T00:00:00\", \"2021-01-24T00:00:00\", \"2021-01-23T00:00:00\", \"2021-01-22T00:00:00\", \"2021-01-21T00:00:00\", \"2021-01-20T00:00:00\", \"2021-01-19T00:00:00\", \"2021-01-18T00:00:00\", \"2021-01-17T00:00:00\", \"2021-01-16T00:00:00\", \"2021-01-15T00:00:00\", \"2021-01-14T00:00:00\", \"2021-01-13T00:00:00\", \"2021-01-12T00:00:00\", \"2021-01-11T00:00:00\", \"2021-01-10T00:00:00\", \"2021-01-09T00:00:00\", \"2021-01-08T00:00:00\", \"2021-01-07T00:00:00\", \"2021-01-06T00:00:00\", \"2021-01-05T00:00:00\", \"2021-01-04T00:00:00\", \"2021-01-03T00:00:00\", \"2021-01-02T00:00:00\", \"2021-01-01T00:00:00\", \"2020-12-31T00:00:00\", \"2020-12-30T00:00:00\", \"2020-12-29T00:00:00\", \"2020-12-28T00:00:00\", \"2020-12-27T00:00:00\", \"2020-12-26T00:00:00\", \"2020-12-25T00:00:00\", \"2020-12-24T00:00:00\", \"2020-12-23T00:00:00\", \"2020-12-22T00:00:00\", \"2020-12-21T00:00:00\", \"2020-12-20T00:00:00\", \"2020-12-19T00:00:00\", \"2020-12-18T00:00:00\", \"2020-12-17T00:00:00\", \"2020-12-16T00:00:00\", \"2020-12-15T00:00:00\", \"2020-12-14T00:00:00\", \"2020-12-13T00:00:00\", \"2020-12-12T00:00:00\", \"2020-12-11T00:00:00\", \"2020-12-10T00:00:00\", \"2020-12-09T00:00:00\", \"2020-12-08T00:00:00\", \"2020-12-07T00:00:00\", \"2020-12-06T00:00:00\", \"2020-12-05T00:00:00\", \"2020-12-04T00:00:00\", \"2020-12-03T00:00:00\"]}],                        {\"template\": {\"data\": {\"bar\": [{\"error_x\": {\"color\": \"#2a3f5f\"}, \"error_y\": {\"color\": \"#2a3f5f\"}, \"marker\": {\"line\": {\"color\": \"#E5ECF6\", \"width\": 0.5}}, \"type\": \"bar\"}], \"barpolar\": [{\"marker\": {\"line\": {\"color\": \"#E5ECF6\", \"width\": 0.5}}, \"type\": \"barpolar\"}], \"carpet\": [{\"aaxis\": {\"endlinecolor\": \"#2a3f5f\", \"gridcolor\": \"white\", \"linecolor\": \"white\", \"minorgridcolor\": \"white\", \"startlinecolor\": \"#2a3f5f\"}, \"baxis\": {\"endlinecolor\": \"#2a3f5f\", \"gridcolor\": \"white\", \"linecolor\": \"white\", \"minorgridcolor\": \"white\", \"startlinecolor\": \"#2a3f5f\"}, \"type\": \"carpet\"}], \"choropleth\": [{\"colorbar\": {\"outlinewidth\": 0, \"ticks\": \"\"}, \"type\": \"choropleth\"}], \"contour\": [{\"colorbar\": {\"outlinewidth\": 0, \"ticks\": \"\"}, \"colorscale\": [[0.0, \"#0d0887\"], [0.1111111111111111, \"#46039f\"], [0.2222222222222222, \"#7201a8\"], [0.3333333333333333, \"#9c179e\"], [0.4444444444444444, \"#bd3786\"], [0.5555555555555556, \"#d8576b\"], [0.6666666666666666, \"#ed7953\"], [0.7777777777777778, \"#fb9f3a\"], [0.8888888888888888, \"#fdca26\"], [1.0, \"#f0f921\"]], \"type\": \"contour\"}], \"contourcarpet\": [{\"colorbar\": {\"outlinewidth\": 0, \"ticks\": \"\"}, \"type\": \"contourcarpet\"}], \"heatmap\": [{\"colorbar\": {\"outlinewidth\": 0, \"ticks\": \"\"}, \"colorscale\": [[0.0, \"#0d0887\"], [0.1111111111111111, \"#46039f\"], [0.2222222222222222, \"#7201a8\"], [0.3333333333333333, \"#9c179e\"], [0.4444444444444444, \"#bd3786\"], [0.5555555555555556, \"#d8576b\"], [0.6666666666666666, \"#ed7953\"], [0.7777777777777778, \"#fb9f3a\"], [0.8888888888888888, \"#fdca26\"], [1.0, \"#f0f921\"]], \"type\": \"heatmap\"}], \"heatmapgl\": [{\"colorbar\": {\"outlinewidth\": 0, \"ticks\": \"\"}, \"colorscale\": [[0.0, \"#0d0887\"], [0.1111111111111111, \"#46039f\"], [0.2222222222222222, \"#7201a8\"], [0.3333333333333333, \"#9c179e\"], [0.4444444444444444, \"#bd3786\"], [0.5555555555555556, \"#d8576b\"], [0.6666666666666666, \"#ed7953\"], [0.7777777777777778, \"#fb9f3a\"], [0.8888888888888888, \"#fdca26\"], [1.0, \"#f0f921\"]], \"type\": \"heatmapgl\"}], \"histogram\": [{\"marker\": {\"colorbar\": {\"outlinewidth\": 0, \"ticks\": \"\"}}, \"type\": \"histogram\"}], \"histogram2d\": [{\"colorbar\": {\"outlinewidth\": 0, \"ticks\": \"\"}, \"colorscale\": [[0.0, \"#0d0887\"], [0.1111111111111111, \"#46039f\"], [0.2222222222222222, \"#7201a8\"], [0.3333333333333333, \"#9c179e\"], [0.4444444444444444, \"#bd3786\"], [0.5555555555555556, \"#d8576b\"], [0.6666666666666666, \"#ed7953\"], [0.7777777777777778, \"#fb9f3a\"], [0.8888888888888888, \"#fdca26\"], [1.0, \"#f0f921\"]], \"type\": \"histogram2d\"}], \"histogram2dcontour\": [{\"colorbar\": {\"outlinewidth\": 0, \"ticks\": \"\"}, \"colorscale\": [[0.0, \"#0d0887\"], [0.1111111111111111, \"#46039f\"], [0.2222222222222222, \"#7201a8\"], [0.3333333333333333, \"#9c179e\"], [0.4444444444444444, \"#bd3786\"], [0.5555555555555556, \"#d8576b\"], [0.6666666666666666, \"#ed7953\"], [0.7777777777777778, \"#fb9f3a\"], [0.8888888888888888, \"#fdca26\"], [1.0, \"#f0f921\"]], \"type\": \"histogram2dcontour\"}], \"mesh3d\": [{\"colorbar\": {\"outlinewidth\": 0, \"ticks\": \"\"}, \"type\": \"mesh3d\"}], \"parcoords\": [{\"line\": {\"colorbar\": {\"outlinewidth\": 0, \"ticks\": \"\"}}, \"type\": \"parcoords\"}], \"pie\": [{\"automargin\": true, \"type\": \"pie\"}], \"scatter\": [{\"marker\": {\"colorbar\": {\"outlinewidth\": 0, \"ticks\": \"\"}}, \"type\": \"scatter\"}], \"scatter3d\": [{\"line\": {\"colorbar\": {\"outlinewidth\": 0, \"ticks\": \"\"}}, \"marker\": {\"colorbar\": {\"outlinewidth\": 0, \"ticks\": \"\"}}, \"type\": \"scatter3d\"}], \"scattercarpet\": [{\"marker\": {\"colorbar\": {\"outlinewidth\": 0, \"ticks\": \"\"}}, \"type\": \"scattercarpet\"}], \"scattergeo\": [{\"marker\": {\"colorbar\": {\"outlinewidth\": 0, \"ticks\": \"\"}}, \"type\": \"scattergeo\"}], \"scattergl\": [{\"marker\": {\"colorbar\": {\"outlinewidth\": 0, \"ticks\": \"\"}}, \"type\": \"scattergl\"}], \"scattermapbox\": [{\"marker\": {\"colorbar\": {\"outlinewidth\": 0, \"ticks\": \"\"}}, \"type\": \"scattermapbox\"}], \"scatterpolar\": [{\"marker\": {\"colorbar\": {\"outlinewidth\": 0, \"ticks\": \"\"}}, \"type\": \"scatterpolar\"}], \"scatterpolargl\": [{\"marker\": {\"colorbar\": {\"outlinewidth\": 0, \"ticks\": \"\"}}, \"type\": \"scatterpolargl\"}], \"scatterternary\": [{\"marker\": {\"colorbar\": {\"outlinewidth\": 0, \"ticks\": \"\"}}, \"type\": \"scatterternary\"}], \"surface\": [{\"colorbar\": {\"outlinewidth\": 0, \"ticks\": \"\"}, \"colorscale\": [[0.0, \"#0d0887\"], [0.1111111111111111, \"#46039f\"], [0.2222222222222222, \"#7201a8\"], [0.3333333333333333, \"#9c179e\"], [0.4444444444444444, \"#bd3786\"], [0.5555555555555556, \"#d8576b\"], [0.6666666666666666, \"#ed7953\"], [0.7777777777777778, \"#fb9f3a\"], [0.8888888888888888, \"#fdca26\"], [1.0, \"#f0f921\"]], \"type\": \"surface\"}], \"table\": [{\"cells\": {\"fill\": {\"color\": \"#EBF0F8\"}, \"line\": {\"color\": \"white\"}}, \"header\": {\"fill\": {\"color\": \"#C8D4E3\"}, \"line\": {\"color\": \"white\"}}, \"type\": \"table\"}]}, \"layout\": {\"annotationdefaults\": {\"arrowcolor\": \"#2a3f5f\", \"arrowhead\": 0, \"arrowwidth\": 1}, \"autotypenumbers\": \"strict\", \"coloraxis\": {\"colorbar\": {\"outlinewidth\": 0, \"ticks\": \"\"}}, \"colorscale\": {\"diverging\": [[0, \"#8e0152\"], [0.1, \"#c51b7d\"], [0.2, \"#de77ae\"], [0.3, \"#f1b6da\"], [0.4, \"#fde0ef\"], [0.5, \"#f7f7f7\"], [0.6, \"#e6f5d0\"], [0.7, \"#b8e186\"], [0.8, \"#7fbc41\"], [0.9, \"#4d9221\"], [1, \"#276419\"]], \"sequential\": [[0.0, \"#0d0887\"], [0.1111111111111111, \"#46039f\"], [0.2222222222222222, \"#7201a8\"], [0.3333333333333333, \"#9c179e\"], [0.4444444444444444, \"#bd3786\"], [0.5555555555555556, \"#d8576b\"], [0.6666666666666666, \"#ed7953\"], [0.7777777777777778, \"#fb9f3a\"], [0.8888888888888888, \"#fdca26\"], [1.0, \"#f0f921\"]], \"sequentialminus\": [[0.0, \"#0d0887\"], [0.1111111111111111, \"#46039f\"], [0.2222222222222222, \"#7201a8\"], [0.3333333333333333, \"#9c179e\"], [0.4444444444444444, \"#bd3786\"], [0.5555555555555556, \"#d8576b\"], [0.6666666666666666, \"#ed7953\"], [0.7777777777777778, \"#fb9f3a\"], [0.8888888888888888, \"#fdca26\"], [1.0, \"#f0f921\"]]}, \"colorway\": [\"#636efa\", \"#EF553B\", \"#00cc96\", \"#ab63fa\", \"#FFA15A\", \"#19d3f3\", \"#FF6692\", \"#B6E880\", \"#FF97FF\", \"#FECB52\"], \"font\": {\"color\": \"#2a3f5f\"}, \"geo\": {\"bgcolor\": \"white\", \"lakecolor\": \"white\", \"landcolor\": \"#E5ECF6\", \"showlakes\": true, \"showland\": true, \"subunitcolor\": \"white\"}, \"hoverlabel\": {\"align\": \"left\"}, \"hovermode\": \"closest\", \"mapbox\": {\"style\": \"light\"}, \"paper_bgcolor\": \"white\", \"plot_bgcolor\": \"#E5ECF6\", \"polar\": {\"angularaxis\": {\"gridcolor\": \"white\", \"linecolor\": \"white\", \"ticks\": \"\"}, \"bgcolor\": \"#E5ECF6\", \"radialaxis\": {\"gridcolor\": \"white\", \"linecolor\": \"white\", \"ticks\": \"\"}}, \"scene\": {\"xaxis\": {\"backgroundcolor\": \"#E5ECF6\", \"gridcolor\": \"white\", \"gridwidth\": 2, \"linecolor\": \"white\", \"showbackground\": true, \"ticks\": \"\", \"zerolinecolor\": \"white\"}, \"yaxis\": {\"backgroundcolor\": \"#E5ECF6\", \"gridcolor\": \"white\", \"gridwidth\": 2, \"linecolor\": \"white\", \"showbackground\": true, \"ticks\": \"\", \"zerolinecolor\": \"white\"}, \"zaxis\": {\"backgroundcolor\": \"#E5ECF6\", \"gridcolor\": \"white\", \"gridwidth\": 2, \"linecolor\": \"white\", \"showbackground\": true, \"ticks\": \"\", \"zerolinecolor\": \"white\"}}, \"shapedefaults\": {\"line\": {\"color\": \"#2a3f5f\"}}, \"ternary\": {\"aaxis\": {\"gridcolor\": \"white\", \"linecolor\": \"white\", \"ticks\": \"\"}, \"baxis\": {\"gridcolor\": \"white\", \"linecolor\": \"white\", \"ticks\": \"\"}, \"bgcolor\": \"#E5ECF6\", \"caxis\": {\"gridcolor\": \"white\", \"linecolor\": \"white\", \"ticks\": \"\"}}, \"title\": {\"x\": 0.05}, \"xaxis\": {\"automargin\": true, \"gridcolor\": \"white\", \"linecolor\": \"white\", \"ticks\": \"\", \"title\": {\"standoff\": 15}, \"zerolinecolor\": \"white\", \"zerolinewidth\": 2}, \"yaxis\": {\"automargin\": true, \"gridcolor\": \"white\", \"linecolor\": \"white\", \"ticks\": \"\", \"title\": {\"standoff\": 15}, \"zerolinecolor\": \"white\", \"zerolinewidth\": 2}}}, \"title\": {\"text\": \"UNI Price In USD\", \"x\": 0.5}, \"xaxis\": {\"title\": {\"text\": \"Date\"}}, \"yaxis\": {\"title\": {\"text\": \"UNI Price\"}}},                        {\"responsive\": true}                    ).then(function(){\n",
       "                            \n",
       "var gd = document.getElementById('e4ee6699-bf7a-4233-8b09-566d9d4c6709');\n",
       "var x = new MutationObserver(function (mutations, observer) {{\n",
       "        var display = window.getComputedStyle(gd).display;\n",
       "        if (!display || display === 'none') {{\n",
       "            console.log([gd, 'removed!']);\n",
       "            Plotly.purge(gd);\n",
       "            observer.disconnect();\n",
       "        }}\n",
       "}});\n",
       "\n",
       "// Listen for the removal of the full notebook cells\n",
       "var notebookContainer = gd.closest('#notebook-container');\n",
       "if (notebookContainer) {{\n",
       "    x.observe(notebookContainer, {childList: true});\n",
       "}}\n",
       "\n",
       "// Listen for the clearing of the current output cell\n",
       "var outputEl = gd.closest('.output');\n",
       "if (outputEl) {{\n",
       "    x.observe(outputEl, {childList: true});\n",
       "}}\n",
       "\n",
       "                        })                };                });            </script>        </div>"
      ]
     },
     "metadata": {},
     "output_type": "display_data"
    }
   ],
   "source": [
    "# Function call #3 (Uniswap priced in USD)\n",
    "\n",
    "plot_coinbase_candlestick_chart(base_cur = \"UNI\", quote_cur = \"USD\")"
   ]
  },
  {
   "cell_type": "code",
   "execution_count": null,
   "metadata": {},
   "outputs": [],
   "source": []
  }
 ],
 "metadata": {
  "kernelspec": {
   "display_name": "Python 3",
   "language": "python",
   "name": "python3"
  },
  "language_info": {
   "codemirror_mode": {
    "name": "ipython",
    "version": 3
   },
   "file_extension": ".py",
   "mimetype": "text/x-python",
   "name": "python",
   "nbconvert_exporter": "python",
   "pygments_lexer": "ipython3",
   "version": "3.8.3"
  }
 },
 "nbformat": 4,
 "nbformat_minor": 4
}
