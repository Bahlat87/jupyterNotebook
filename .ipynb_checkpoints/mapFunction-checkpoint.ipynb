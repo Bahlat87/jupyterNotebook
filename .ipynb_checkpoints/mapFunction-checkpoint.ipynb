{
 "cells": [
  {
   "cell_type": "markdown",
   "metadata": {},
   "source": [
    "# The map() function in Python\n",
    "\n"
   ]
  },
  {
   "cell_type": "markdown",
   "metadata": {},
   "source": [
    "Hello there. In this page I provide a short overview of Python's `map()` function."
   ]
  },
  {
   "cell_type": "markdown",
   "metadata": {},
   "source": [
    "Python's `map()` function allows for applying a function to multiple values such as values in a list. The format for the `map()` function follows as:\n",
    "\n",
    "`map( <function_name> , <list> )`\n",
    "\n",
    "I provide a few examples."
   ]
  },
  {
   "cell_type": "markdown",
   "metadata": {},
   "source": [
    "In the first example I triple each number in a given list of numeric values."
   ]
  },
  {
   "cell_type": "code",
   "execution_count": 6,
   "metadata": {},
   "outputs": [
    {
     "name": "stdout",
     "output_type": "stream",
     "text": [
      "[2, 0, 7, 5, 3, -2, 1, 10]\n",
      "[6, 0, 21, 15, 9, -6, 3, 30]\n"
     ]
    }
   ],
   "source": [
    "# Example One: Triple Each Number In A List\n",
    "\n",
    "def triple_num(x):\n",
    "    return 3 * x\n",
    "\n",
    "test_values = [2, 0, 7, 5, 3, -2, 1, 10]\n",
    "\n",
    "print(test_values)\n",
    "print(list(map(triple_num, test_values)))"
   ]
  },
  {
   "cell_type": "markdown",
   "metadata": {},
   "source": [
    "With the second example, I simply add one to each number."
   ]
  },
  {
   "cell_type": "code",
   "execution_count": 8,
   "metadata": {},
   "outputs": [
    {
     "name": "stdout",
     "output_type": "stream",
     "text": [
      "[2, 0, 7, 5, 3, -2, 1, 10]\n",
      "[3, 1, 8, 6, 4, -1, 2, 11]\n"
     ]
    }
   ],
   "source": [
    "# Example Two: Add One\n",
    "\n",
    "def add_one(x):\n",
    "    return x + 1\n",
    "\n",
    "test_values = [2, 0, 7, 5, 3, -2, 1, 10]\n",
    "\n",
    "print(test_values)\n",
    "print(list(map(add_one, test_values)))"
   ]
  },
  {
   "cell_type": "markdown",
   "metadata": {},
   "source": [
    "In this third example, I add an exclamation mark to each item in this food list."
   ]
  },
  {
   "cell_type": "code",
   "execution_count": 1,
   "metadata": {},
   "outputs": [
    {
     "name": "stdout",
     "output_type": "stream",
     "text": [
      "['tomato', 'broccoli', 'peppers', 'onions', 'mangoes', 'peaches']\n",
      "['tomato!', 'broccoli!', 'peppers!', 'onions!', 'mangoes!', 'peaches!']\n"
     ]
    }
   ],
   "source": [
    "def add_exclamation(x):\n",
    "    return x + '!'\n",
    "\n",
    "food_list = ['tomato', 'broccoli', 'peppers', 'onions', 'mangoes', 'peaches']\n",
    "\n",
    "print(food_list)\n",
    "print(list(map(add_exclamation, food_list)))"
   ]
  },
  {
   "cell_type": "markdown",
   "metadata": {},
   "source": [
    "The fourth and last example features capitalization of letters plus an exclamation mark (shouting!) with the use of the `map()` function."
   ]
  },
  {
   "cell_type": "code",
   "execution_count": 5,
   "metadata": {},
   "outputs": [
    {
     "name": "stdout",
     "output_type": "stream",
     "text": [
      "['tomato', 'broccoli', 'peppers', 'onions', 'mangoes', 'peaches']\n",
      "['TOMATO!', 'BROCCOLI!', 'PEPPERS!', 'ONIONS!', 'MANGOES!', 'PEACHES!']\n"
     ]
    }
   ],
   "source": [
    "def shouting(x):\n",
    "    return x.upper() + '!'\n",
    "\n",
    "food_list = ['tomato', 'broccoli', 'peppers', 'onions', 'mangoes', 'peaches']\n",
    "\n",
    "print(food_list)\n",
    "print(list(map(shouting, food_list)))"
   ]
  },
  {
   "cell_type": "code",
   "execution_count": null,
   "metadata": {},
   "outputs": [],
   "source": []
  }
 ],
 "metadata": {
  "kernelspec": {
   "display_name": "Python 3",
   "language": "python",
   "name": "python3"
  },
  "language_info": {
   "codemirror_mode": {
    "name": "ipython",
    "version": 3
   },
   "file_extension": ".py",
   "mimetype": "text/x-python",
   "name": "python",
   "nbconvert_exporter": "python",
   "pygments_lexer": "ipython3",
   "version": "3.7.3"
  }
 },
 "nbformat": 4,
 "nbformat_minor": 2
}
