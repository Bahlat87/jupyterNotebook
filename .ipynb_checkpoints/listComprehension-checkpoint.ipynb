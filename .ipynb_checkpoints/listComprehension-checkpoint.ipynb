{
 "cells": [
  {
   "cell_type": "markdown",
   "metadata": {},
   "source": [
    "# List Comprehension In Python\n"
   ]
  },
  {
   "cell_type": "markdown",
   "metadata": {},
   "source": [
    "Hi there. This page is on list comprehension in Python. List comprehension is a way of creating lists without the use of for loops."
   ]
  },
  {
   "cell_type": "markdown",
   "metadata": {},
   "source": [
    "If I wanted to create a list of numbers from 1 to 10 in Python, I could use a for loop and append the numbers 1 to 10 into a list. But this takes too long. It is easier to use list comprehension to do this. Refer to the code below.\n"
   ]
  },
  {
   "cell_type": "code",
   "execution_count": 3,
   "metadata": {},
   "outputs": [
    {
     "name": "stdout",
     "output_type": "stream",
     "text": [
      "[1, 2, 3, 4, 5, 6, 7, 8, 9, 10]\n"
     ]
    }
   ],
   "source": [
    "one_to_ten = [i for i in range(1, 11, 1)]\n",
    "\n",
    "print(one_to_ten)"
   ]
  },
  {
   "cell_type": "markdown",
   "metadata": {
    "collapsed": true
   },
   "source": [
    "An alternate version of creating a list of numbers from to ten is using the normal range() and adding one to the index."
   ]
  },
  {
   "cell_type": "code",
   "execution_count": 6,
   "metadata": {},
   "outputs": [
    {
     "name": "stdout",
     "output_type": "stream",
     "text": [
      "[1, 2, 3, 4, 5, 6, 7, 8, 9, 10]\n"
     ]
    }
   ],
   "source": [
    "one_to_ten_alt = [i + 1 for i in range(10)]\n",
    "print(one_to_ten_alt)"
   ]
  },
  {
   "cell_type": "markdown",
   "metadata": {
    "collapsed": true
   },
   "source": [
    "### List Comprehension On A String"
   ]
  },
  {
   "cell_type": "markdown",
   "metadata": {
    "collapsed": true
   },
   "source": [
    "List comprehension can be used to extract characters on a single string."
   ]
  },
  {
   "cell_type": "code",
   "execution_count": 7,
   "metadata": {},
   "outputs": [
    {
     "name": "stdout",
     "output_type": "stream",
     "text": [
      "['P', 'i', 'k', 'a', 'c', 'h', 'u']\n"
     ]
    }
   ],
   "source": [
    "pikachu = \"Pikachu\"\n",
    "\n",
    "pikachu_letters = [char for char in pikachu]\n",
    "\n",
    "print(pikachu_letters)"
   ]
  },
  {
   "cell_type": "markdown",
   "metadata": {},
   "source": [
    "Here is another example."
   ]
  },
  {
   "cell_type": "code",
   "execution_count": 8,
   "metadata": {},
   "outputs": [
    {
     "name": "stdout",
     "output_type": "stream",
     "text": [
      "['m', 'a', 't', 'h', 'e', 'm', 'a', 't', 'i', 'c', 's']\n"
     ]
    }
   ],
   "source": [
    "sample_string = \"mathematics\"\n",
    "\n",
    "sample_letters = [letter for letter in sample_string]\n",
    "\n",
    "print(sample_letters)"
   ]
  },
  {
   "cell_type": "markdown",
   "metadata": {},
   "source": [
    "String functions can be applied on the index variable. If I wanted the letters from pikachu in capital letters I can use upper(). For lowercase letters use lower()."
   ]
  },
  {
   "cell_type": "code",
   "execution_count": 10,
   "metadata": {},
   "outputs": [
    {
     "name": "stdout",
     "output_type": "stream",
     "text": [
      "['P', 'I', 'K', 'A', 'C', 'H', 'U']\n"
     ]
    }
   ],
   "source": [
    "pikachu = \"Pikachu\"\n",
    "\n",
    "pikachu_cap_letters = [char.upper() for char in pikachu]\n",
    "\n",
    "print(pikachu_cap_letters)"
   ]
  },
  {
   "cell_type": "code",
   "execution_count": 11,
   "metadata": {},
   "outputs": [
    {
     "name": "stdout",
     "output_type": "stream",
     "text": [
      "['g', 'o', ' ', 'a', 'w', 'a', 'y']\n"
     ]
    }
   ],
   "source": [
    "lower_letters = [x.lower() for x in \"GO AWAY\"]\n",
    "\n",
    "print(lower_letters)"
   ]
  },
  {
   "cell_type": "markdown",
   "metadata": {},
   "source": [
    "### Including If Conditions In List Comprehension"
   ]
  },
  {
   "cell_type": "markdown",
   "metadata": {},
   "source": [
    "The examples thus far did not include any conditions. Including an if statement in the list comprehension allows for additional control of certain characters and values in the for part of the list."
   ]
  },
  {
   "cell_type": "markdown",
   "metadata": {},
   "source": [
    "These next examples will be heavily focused on numbers."
   ]
  },
  {
   "cell_type": "code",
   "execution_count": 22,
   "metadata": {},
   "outputs": [
    {
     "name": "stdout",
     "output_type": "stream",
     "text": [
      "[28, 30, 11]\n",
      "Length Of List: 3\n"
     ]
    }
   ],
   "source": [
    "sample_numbers = [4, -2, 9, 10, 28, 30, 5, 9, 0, 11]\n",
    "\n",
    "over_10 = [num for num in sample_numbers if num > 10]\n",
    "\n",
    "print(over_10)\n",
    "print(\"Length Of List: {}\".format((str(len(over_10)))))"
   ]
  },
  {
   "cell_type": "markdown",
   "metadata": {},
   "source": [
    "I can extract even numbers (larger than 0) from the sample numbers. The % sign is for finding the modulo. "
   ]
  },
  {
   "cell_type": "code",
   "execution_count": 30,
   "metadata": {},
   "outputs": [
    {
     "name": "stdout",
     "output_type": "stream",
     "text": [
      "[4, 10, 28, 30]\n",
      "Length Of List: 4\n"
     ]
    }
   ],
   "source": [
    "even_num = [num for num in sample_numbers if (num % 2 == 0) and (num > 0)]\n",
    "\n",
    "print(even_num)\n",
    "print(\"Length Of List: {}\".format((str(len(even_num)))))\n"
   ]
  },
  {
   "cell_type": "markdown",
   "metadata": {},
   "source": [
    "This final example features random number generation from a uniform random variable from -1 to 1. List comprehension is used to obtain a subset where the randomly generated numbers are greater than 0."
   ]
  },
  {
   "cell_type": "code",
   "execution_count": 35,
   "metadata": {},
   "outputs": [
    {
     "name": "stdout",
     "output_type": "stream",
     "text": [
      "[-0.12497176 -0.52754051  0.51200914 -0.18252704 -0.20997032  0.69520343\n",
      "  0.52815699  0.98940792  0.50802899 -0.47824894 -0.85253566  0.97441918\n",
      " -0.22134569 -0.41945919 -0.137236    0.80158944  0.42721549  0.99477487\n",
      "  0.54247986  0.54221518  0.67179671  0.99909587  0.27257191 -0.18707957\n",
      "  0.25164118  0.38692985 -0.94933056 -0.32172124 -0.33349099 -0.745678\n",
      "  0.39537757  0.9811116   0.16365152  0.49243833  0.22757143  0.22031292\n",
      "  0.48999172 -0.65823286 -0.05085378  0.51539578  0.58079534  0.42183669\n",
      " -0.25446919 -0.22452175 -0.64123815  0.75632015  0.96993631 -0.05686616\n",
      " -0.25769521  0.34211959]\n"
     ]
    }
   ],
   "source": [
    "import numpy as np\n",
    "\n",
    "random_numbers = np.random.uniform(-1, 1, 50)\n",
    "\n",
    "print(random_numbers)"
   ]
  },
  {
   "cell_type": "code",
   "execution_count": 43,
   "metadata": {},
   "outputs": [
    {
     "name": "stdout",
     "output_type": "stream",
     "text": [
      "Length Of List: 29\n",
      "Percentage Of Numbers Over Zero: 58.0%\n"
     ]
    }
   ],
   "source": [
    "over_zero = [num for num in random_numbers if num > 0]\n",
    "\n",
    "print(\"Length Of List: {}\".format((str(len(over_zero)))))\n",
    "print(\"Percentage Of Numbers Over Zero: {}%\".format((str(100 * len(over_zero)/len(random_numbers)))))"
   ]
  }
 ],
 "metadata": {
  "kernelspec": {
   "display_name": "Python 3",
   "language": "python",
   "name": "python3"
  },
  "language_info": {
   "codemirror_mode": {
    "name": "ipython",
    "version": 3
   },
   "file_extension": ".py",
   "mimetype": "text/x-python",
   "name": "python",
   "nbconvert_exporter": "python",
   "pygments_lexer": "ipython3",
   "version": "3.6.6"
  }
 },
 "nbformat": 4,
 "nbformat_minor": 2
}
