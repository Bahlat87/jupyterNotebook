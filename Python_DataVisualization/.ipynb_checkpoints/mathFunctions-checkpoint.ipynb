{
 "cells": [
  {
   "cell_type": "markdown",
   "metadata": {},
   "source": [
    "# Plotting Math Functions In Python \n",
    "\n"
   ]
  },
  {
   "cell_type": "markdown",
   "metadata": {},
   "source": [
    "Hello there. In this page I show how to use Python in order to plot various mathematical functions. Python's pandas, Numpy and matplotlib libraries are featured here."
   ]
  },
  {
   "cell_type": "code",
   "execution_count": 1,
   "metadata": {
    "collapsed": true
   },
   "outputs": [],
   "source": [
    "# References: \n",
    "# https://www.tutorialspoint.com/seaborn/seaborn_quick_guide.htm\n",
    "\n",
    "# Import Python packages:\n",
    "\n",
    "import pandas as pd\n",
    "from matplotlib import pyplot as plt\n",
    "import numpy as np"
   ]
  },
  {
   "cell_type": "code",
   "execution_count": null,
   "metadata": {
    "collapsed": true
   },
   "outputs": [],
   "source": []
  },
  {
   "cell_type": "code",
   "execution_count": 7,
   "metadata": {},
   "outputs": [],
   "source": [
    "### 1) Cubic Function Example:\n",
    "\n",
    "\n",
    "xvalues = np.linspace(-20, 20, num = 100)\n",
    "cubic_y = [x ** 3 for x in xvalues]\n",
    "\n"
   ]
  },
  {
   "cell_type": "code",
   "execution_count": 8,
   "metadata": {
    "collapsed": true
   },
   "outputs": [],
   "source": [
    "# Combine x-values and cubic_y into pandas dataframe:\n",
    "cubic_df = pd.DataFrame({\"x\": xvalues, \"y\": cubic_y})"
   ]
  },
  {
   "cell_type": "code",
   "execution_count": 9,
   "metadata": {},
   "outputs": [
    {
     "name": "stderr",
     "output_type": "stream",
     "text": [
      "C:\\Users\\dk\\Anaconda3\\lib\\site-packages\\matplotlib\\pyplot.py:3317: RuntimeWarning: Second argument is ambiguous: could be a color spec but is in data. Using as data.\n",
      "Either rename the entry in data or use three arguments to plot.\n",
      "  ret = ax.plot(*args, **kwargs)\n"
     ]
    },
    {
     "data": {
      "image/png": "[encoded data removed]",
      "text/plain": [
       "<matplotlib.figure.Figure at 0x1f1df7be6a0>"
      ]
     },
     "metadata": {},
     "output_type": "display_data"
    }
   ],
   "source": [
    "plt.plot('x', 'y', data= cubic_df)\n",
    "\n",
    "plt.xlabel(\"\\n x\", fontsize = 20)\n",
    "plt.ylabel(\"y \\n\", fontsize = 20)\n",
    "plt.title(\"A Basic Cubic Function Graph\", fontsize = 25) \n",
    "\n",
    "#  Math Annotation Text\n",
    "plt.text(0, 7000, r'$y = x^3$', fontsize=20)\n",
    "\n",
    "plt.show()"
   ]
  },
  {
   "cell_type": "code",
   "execution_count": null,
   "metadata": {
    "collapsed": true
   },
   "outputs": [],
   "source": [
    "### 2) Cubic Function Example:\n",
    "\n",
    "\n",
    "xvalues = np.linspace(-20, 20, num = 100)\n",
    "cubic_y = [x ** 3 for x in xvalues]\n",
    "\n"
   ]
  }
 ],
 "metadata": {
  "kernelspec": {
   "display_name": "Python 3",
   "language": "python",
   "name": "python3"
  },
  "language_info": {
   "codemirror_mode": {
    "name": "ipython",
    "version": 3
   },
   "file_extension": ".py",
   "mimetype": "text/x-python",
   "name": "python",
   "nbconvert_exporter": "python",
   "pygments_lexer": "ipython3",
   "version": "3.6.6"
  }
 },
 "nbformat": 4,
 "nbformat_minor": 2
}
