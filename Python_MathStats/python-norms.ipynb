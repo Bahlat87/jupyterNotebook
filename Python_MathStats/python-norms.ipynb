{
 "cells": [
  {
   "cell_type": "markdown",
   "metadata": {},
   "source": [
    "**<u>Computing Norms & Dot Products In Python</u>**\n",
    "\n",
    "&nbsp;\n",
    "\n",
    "<center><img src=\"https://betterexplained.com/wp-content/uploads/dotproduct/dot_product_components.png\" /></center>\n",
    "\n",
    "Image Source: https://betterexplained.com/articles/vector-calculus-understanding-the-dot-product/\n",
    "\n",
    "&nbsp;\n",
    "\n",
    "Hello there. This post is a follow up post to my previous post on norms and dot products. Examples of computing norms and dot products in  Python will be shown."
   ]
  },
  {
   "cell_type": "markdown",
   "metadata": {},
   "source": [
    "**<u>The Demand For Computing</u>**\n",
    "\n",
    "When you start learning mathematics, you learn the theory first for understanding and practice simple examples with pen and paper. With technology being more and more powerful and accessible, computational mathematics has become more popular. Why compute norms of vectors in the hundredth dimension $\\mathbb{R}^{100}$ by hand when it is easier and faster to do so with software."
   ]
  },
  {
   "cell_type": "markdown",
   "metadata": {},
   "source": [
    "**<u>Norms and Dot Products in Python</u>**\n",
    "\n",
    "\n",
    "To import the Numpy package in Python to enable linear algebra functions we type in:"
   ]
  },
  {
   "cell_type": "code",
   "execution_count": 3,
   "metadata": {
    "collapsed": true
   },
   "outputs": [],
   "source": [
    "import numpy as np"
   ]
  },
  {
   "cell_type": "markdown",
   "metadata": {},
   "source": [
    "<u>Norms</u>\n",
    "\n",
    "Given the vector $\\textbf{x} = (-3, 4)$, the norm of $\\textbf{x}$ is $||\\textbf{x}|| = 5$. It can be computed as follows.\n",
    "\n",
    "In Python:"
   ]
  },
  {
   "cell_type": "code",
   "execution_count": 4,
   "metadata": {},
   "outputs": [
    {
     "name": "stdout",
     "output_type": "stream",
     "text": [
      "5.0\n"
     ]
    }
   ],
   "source": [
    "## Norms:\n",
    "\n",
    "x = np.array([-3, 4])\n",
    "\n",
    "print(np.linalg.norm(x))\n"
   ]
  },
  {
   "cell_type": "markdown",
   "metadata": {},
   "source": [
    "If the vector $\\textbf{y}$ in $\\mathbb{R}^{4}$ is $\\textbf{y} = (5, 1, 10, -2)$, the norm would be $||\\textbf{y}|| \\approx 11.401$.\n",
    "\n",
    "In Python:"
   ]
  },
  {
   "cell_type": "code",
   "execution_count": 5,
   "metadata": {},
   "outputs": [
    {
     "name": "stdout",
     "output_type": "stream",
     "text": [
      "11.401754251\n"
     ]
    }
   ],
   "source": [
    "y = np.array([5, 1, 10, -2])\n",
    "\n",
    "print(np.linalg.norm(y))"
   ]
  },
  {
   "cell_type": "markdown",
   "metadata": {},
   "source": [
    "With the Python code, we express the vector as an array in the Numpy package and use the norm function to compute norms of vectors.\n",
    "\n"
   ]
  },
  {
   "cell_type": "markdown",
   "metadata": {},
   "source": [
    "**<u>Distance Between Two Vectors</u>**\n",
    "\n",
    "Recall that in $\\mathbb{R}^{n}$, the distance between vectors $\\textbf{a} = (a_1, a_2, a_3, \\dots, a_n)$ and $\\textbf{b} = (b_1, b_2, b_3, \\dots, b_n)$ is\n",
    "\n",
    "&nbsp;\n",
    "\n",
    "$$ d(\\textbf{a}, \\textbf{b}) = ||\\textbf{a} - \\textbf{b}|| = \\sqrt{ (a_1 - b_1)^2 + (a_2 - b_2)^2 + (a_3 - b_3)^2 + \\dots + (a_n - b_n)^2}$$\n",
    "\n",
    "&nbsp;\n",
    "\n",
    "To compute distance between vectors we do subtraction element-wise, square the results, sum the differences of squares and take the square root of the sum.\n",
    "\n",
    "If we were to calculate the distance between the vectors $\\textbf{v} = (10, 5, -2, -1)$ and $\\textbf{w} = (-1, 0, 2, 1)$ in $\\mathbb{R}^{4}$, we would use the distance formula. The answer is around 12.884. The code is as follows.\n",
    "\n",
    "In Python:"
   ]
  },
  {
   "cell_type": "code",
   "execution_count": 6,
   "metadata": {},
   "outputs": [
    {
     "name": "stdout",
     "output_type": "stream",
     "text": [
      "12.8840987267\n"
     ]
    }
   ],
   "source": [
    "v = np.array([10, 5, -2, -1])\n",
    "w = np.array([-1, 0, 2, 1])\n",
    "\n",
    "print(np.linalg.norm(v - w))"
   ]
  },
  {
   "cell_type": "markdown",
   "metadata": {},
   "source": [
    "The coding method is similar as before. The second way in R is strange but it works. (See one of the Reference links)"
   ]
  },
  {
   "cell_type": "markdown",
   "metadata": {
    "collapsed": true
   },
   "source": [
    "**<u>Dot Products</u>**\n",
    "\n",
    "These examples for the dot products are the same examples in my previous post.\n",
    "\n",
    "<u>Example One</u>\n",
    "\n",
    "The dot product of vectors $\\textbf{a} = (1, -2)$ and $\\textbf{b} = (-10, -3)$ is -4.\n",
    "\n",
    "In Python:"
   ]
  },
  {
   "cell_type": "code",
   "execution_count": 7,
   "metadata": {},
   "outputs": [
    {
     "name": "stdout",
     "output_type": "stream",
     "text": [
      "-4\n"
     ]
    }
   ],
   "source": [
    "a = np.array([1, -2])\n",
    "b = np.array([-10, -3])\n",
    "\n",
    "print(np.dot(a, b))"
   ]
  },
  {
   "cell_type": "markdown",
   "metadata": {},
   "source": [
    "<u>Example Two</u>\n",
    "\n",
    "Given vectors $\\textbf{c} = (1, -2, 5, 3)$ and $\\textbf{d} = (4, -3, -7, 2)$, the dot product of these vectors in $\\mathbb{R}^{4}$ is -19.\n",
    "\n",
    "In Python:"
   ]
  },
  {
   "cell_type": "code",
   "execution_count": 8,
   "metadata": {},
   "outputs": [
    {
     "name": "stdout",
     "output_type": "stream",
     "text": [
      "-19\n"
     ]
    }
   ],
   "source": [
    "# Example Two:\n",
    "\n",
    "c = np.array([1, -2, 5, 3])\n",
    "d = np.array([4, -3, -7, 2])\n",
    "\n",
    "print(np.dot(c, d))"
   ]
  },
  {
   "cell_type": "markdown",
   "metadata": {},
   "source": [
    "<u>Example Three</u>\n",
    "\n",
    "Suppose we are given the vectors $\\textbf{e} = (3, -5)$, $\\textbf{f} = (-1, 4)$ and $\\textbf{g} = (3, 2)$. Evaluating $(\\textbf{e} + \\textbf{g}) \\cdot \\textbf{f}$ gives us -18.\n",
    "\n",
    "In Python:"
   ]
  },
  {
   "cell_type": "code",
   "execution_count": 9,
   "metadata": {},
   "outputs": [
    {
     "name": "stdout",
     "output_type": "stream",
     "text": [
      "-18\n"
     ]
    }
   ],
   "source": [
    "# Example Three: (e + g) * f\n",
    "\n",
    "e = np.array([3, -5])\n",
    "f = np.array([-1, 4])\n",
    "g = np.array([3, 2])\n",
    "\n",
    "print(np.dot(e + g, f))"
   ]
  },
  {
   "cell_type": "markdown",
   "metadata": {},
   "source": [
    "**<u>Notes</u>**\n",
    "\n",
    "We refer to the norm as the Euclidean norm. There are other norms and other distance measures available but those are not discussed here.\n",
    "\n",
    "The decision between using R, Python or another language such as C++ is up to the user. "
   ]
  },
  {
   "cell_type": "markdown",
   "metadata": {},
   "source": [
    "**<u>References</u>**\n",
    "\n",
    "These particular web links were useful.\n",
    "\n",
    "http://stackoverflow.com/questions/5559384/euclidean-distance-of-two-vectors\n",
    "\n",
    "http://stackoverflow.com/questions/10933945/how-to-calculate-the-euclidean-norm-of-a-vector-in-r\n",
    "\n",
    "The featured image is from http://www.npl.co.uk/upload/img/maths-header.jpg."
   ]
  }
 ],
 "metadata": {
  "kernelspec": {
   "display_name": "Python 3",
   "language": "python",
   "name": "python3"
  },
  "language_info": {
   "codemirror_mode": {
    "name": "ipython",
    "version": 3
   },
   "file_extension": ".py",
   "mimetype": "text/x-python",
   "name": "python",
   "nbconvert_exporter": "python",
   "pygments_lexer": "ipython3",
   "version": "3.6.1"
  }
 },
 "nbformat": 4,
 "nbformat_minor": 2
}
