{
 "cells": [
  {
   "cell_type": "markdown",
   "metadata": {},
   "source": [
    "**<u>Linear Algebra With Python & Numpy</u>**\n",
    "\n",
    "Hi there. Here is a page where I try out some linear algebra functions in Python with the Numpy package.\n",
    "\n",
    "**<u>Sections</u>**\n",
    "\n",
    "* Python's Numpy Package\n",
    "* Part One - Vectors\n",
    "* Part Two - Matrices"
   ]
  },
  {
   "cell_type": "markdown",
   "metadata": {},
   "source": [
    "<u>**Python's Numpy Package**</u>\n",
    "\n",
    "The Numpy package in Python stands for numerical Python. This package contains a lot of functions for mathematics, statistics and for linear algebra."
   ]
  },
  {
   "cell_type": "code",
   "execution_count": 2,
   "metadata": {
    "collapsed": true
   },
   "outputs": [],
   "source": [
    "# Numpy Work With Linear Algebra\n",
    "# References: Python For Data Analysis\n",
    "# https://docs.scipy.org/doc/numpy-dev/user/quickstart.html\n",
    "# https://docs.scipy.org/doc/numpy/reference/routines.linalg.html\n",
    "\n",
    "import numpy as np"
   ]
  },
  {
   "cell_type": "markdown",
   "metadata": {},
   "source": [
    "**<u>Part One - Vectors</u>**\n",
    "\n",
    "This first section deals with vectors while the next section deals with matrices.\n",
    "\n",
    "We start with creating two vectors and performing vector addition and subtraction. The two vectors are $\\textbf{a} = (1, -1, 2)$ and $\\textbf{b} = (2, -1, 3)$."
   ]
  },
  {
   "cell_type": "code",
   "execution_count": 3,
   "metadata": {},
   "outputs": [
    {
     "name": "stdout",
     "output_type": "stream",
     "text": [
      "[ 1 -1  2]\n",
      "[ 2 -1  3]\n"
     ]
    }
   ],
   "source": [
    "## Vectors:\n",
    "\n",
    "a = np.array([1, -1, 2])\n",
    "b = np.array([2, -1, 3])\n",
    "\n",
    "print(a)\n",
    "print(b)"
   ]
  },
  {
   "cell_type": "markdown",
   "metadata": {},
   "source": [
    "When it comes to vector addition and vector subtraction the operation performs element wise."
   ]
  },
  {
   "cell_type": "code",
   "execution_count": 4,
   "metadata": {},
   "outputs": [
    {
     "name": "stdout",
     "output_type": "stream",
     "text": [
      "[ 3 -2  5]\n",
      "[-1  0 -1]\n"
     ]
    }
   ],
   "source": [
    "print(a + b) # Vector addition\n",
    "print(a - b) # Vector subtraction"
   ]
  },
  {
   "cell_type": "markdown",
   "metadata": {},
   "source": [
    "Scalar multiplication is when a vector is multiplied by a number."
   ]
  },
  {
   "cell_type": "code",
   "execution_count": 5,
   "metadata": {},
   "outputs": [
    {
     "name": "stdout",
     "output_type": "stream",
     "text": [
      "[ 5 -5 10]\n"
     ]
    }
   ],
   "source": [
    "print(5*a) # Scalar multiplication on vector"
   ]
  },
  {
   "cell_type": "markdown",
   "metadata": {
    "collapsed": true
   },
   "source": [
    "<u>Dot Product</u>\n",
    "\n",
    "The dot product of two vectors consists of element wise multiplication and then taking the sum of the products."
   ]
  },
  {
   "cell_type": "code",
   "execution_count": 6,
   "metadata": {},
   "outputs": [
    {
     "name": "stdout",
     "output_type": "stream",
     "text": [
      "9\n"
     ]
    }
   ],
   "source": [
    "# Dot Product (Element wise multiplication and take sum of products):\n",
    "\n",
    "print(np.dot(a, b)) # (1*2) + (-1)(-1) + 2*3 = 2 + 1 + 6 = 9"
   ]
  },
  {
   "cell_type": "markdown",
   "metadata": {},
   "source": [
    "<u>Cross Product</u>\n",
    "\n",
    "Given two vectors, the cross product vector is a third vector that is perpendicular/orthogonal (or is 90 degrees) to both the two vectors."
   ]
  },
  {
   "cell_type": "code",
   "execution_count": 8,
   "metadata": {},
   "outputs": [
    {
     "name": "stdout",
     "output_type": "stream",
     "text": [
      "[-1  1  1]\n"
     ]
    }
   ],
   "source": [
    "# Cross Product (A Vector That Is Perpendicular/Orthogonal To Vectors a and b):\n",
    "\n",
    "cross_vect = np.cross(a, b)\n",
    "print(cross_vect)"
   ]
  },
  {
   "cell_type": "markdown",
   "metadata": {},
   "source": [
    "To make sure that the vector (-1, 1, 1) is truly a cross product vector to (1, -1, 2) and (2, -1, 3), we take the dot products between each of the two vectors and (-1, 1, 1)."
   ]
  },
  {
   "cell_type": "code",
   "execution_count": 9,
   "metadata": {},
   "outputs": [
    {
     "name": "stdout",
     "output_type": "stream",
     "text": [
      "0\n",
      "0\n"
     ]
    }
   ],
   "source": [
    "# Check orthognality by seeing dot product is zero between cross product with a and b:\n",
    "\n",
    "print(np.dot(cross_vect, a))\n",
    "\n",
    "print(np.dot(cross_vect, b))"
   ]
  },
  {
   "cell_type": "markdown",
   "metadata": {},
   "source": [
    "<u>Vector Of Random Numbers</u>\n",
    "\n",
    "In Numpy, you can create a vector of random numbers. In this example, I create four normally distributed random numbers."
   ]
  },
  {
   "cell_type": "code",
   "execution_count": 10,
   "metadata": {},
   "outputs": [
    {
     "name": "stdout",
     "output_type": "stream",
     "text": [
      "[[ 1.31267963 -0.25954768 -1.22271547 -0.11765921]]\n"
     ]
    }
   ],
   "source": [
    "# Vector with random numbers from a normal distribution.\n",
    "\n",
    "print(np.random.normal(size = (1, 4)))"
   ]
  },
  {
   "cell_type": "markdown",
   "metadata": {},
   "source": [
    "<u>A Function Example</u>\n",
    "\n",
    "You can feed in values from a Numpy array into a function. In this example, I have a Numpy array of 0, 1, 2 and 3 and I feed those numbers into a simple exponential function."
   ]
  },
  {
   "cell_type": "code",
   "execution_count": 11,
   "metadata": {},
   "outputs": [
    {
     "name": "stdout",
     "output_type": "stream",
     "text": [
      "[  1.           2.71828183   7.3890561   20.08553692]\n"
     ]
    }
   ],
   "source": [
    "# Function example:\n",
    "\n",
    "x = np.array([0, 1, 2, 3])\n",
    "\n",
    "print(np.exp(x))"
   ]
  },
  {
   "cell_type": "markdown",
   "metadata": {},
   "source": [
    "**<u>Part Two - Matrices</u>**\n",
    "\n",
    "This section starts with a few special matrices."
   ]
  },
  {
   "cell_type": "code",
   "execution_count": 12,
   "metadata": {},
   "outputs": [
    {
     "name": "stdout",
     "output_type": "stream",
     "text": [
      "[[ 1.  0.  0.  0.  0.]\n",
      " [ 0.  1.  0.  0.  0.]\n",
      " [ 0.  0.  1.  0.  0.]\n",
      " [ 0.  0.  0.  1.  0.]\n",
      " [ 0.  0.  0.  0.  1.]]\n"
     ]
    }
   ],
   "source": [
    "## Matrices:\n",
    "\n",
    "# 5 by 5 Identity Matrix\n",
    "\n",
    "identity_five = np.identity(5)\n",
    "\n",
    "print(identity_five)"
   ]
  },
  {
   "cell_type": "code",
   "execution_count": 13,
   "metadata": {},
   "outputs": [
    {
     "name": "stdout",
     "output_type": "stream",
     "text": [
      "[[ 0.  0.  0.]\n",
      " [ 0.  0.  0.]\n",
      " [ 0.  0.  0.]]\n",
      "[[ 1.  1.  1.]\n",
      " [ 1.  1.  1.]\n",
      " [ 1.  1.  1.]]\n"
     ]
    }
   ],
   "source": [
    "# 3 by 3 Matrix of zeroes:\n",
    "\n",
    "print(np.zeros( (3, 3)))\n",
    "\n",
    "# 3 by 3 Matrix of ones:\n",
    "\n",
    "print(np.ones( (3, 3)))"
   ]
  },
  {
   "cell_type": "markdown",
   "metadata": {},
   "source": [
    "In Numpy, matrices are created by rows and not by columns in `np.array()`. The matrix A is created in this form:\n",
    "\n",
    "$$\\text{A} = \\begin{bmatrix}\n",
    "    1     & 5 & 2 \\\\\n",
    "    2     & 3 & -1\\\\\n",
    "   0   & 1 & -5 \\\\\n",
    "\\end{bmatrix} $$"
   ]
  },
  {
   "cell_type": "code",
   "execution_count": 14,
   "metadata": {},
   "outputs": [
    {
     "name": "stdout",
     "output_type": "stream",
     "text": [
      "[[ 1.  5.  2.]\n",
      " [ 2.  3. -1.]\n",
      " [ 0.  1. -5.]]\n"
     ]
    }
   ],
   "source": [
    "# Creating a matrix:\n",
    "\n",
    "A = np.array([[1., 5., 2.], [2., 3.,-1.], [0., 1., -5.]])\n",
    "\n",
    "print(A)"
   ]
  },
  {
   "cell_type": "markdown",
   "metadata": {},
   "source": [
    "<u>Matrix Determinants</u>"
   ]
  },
  {
   "cell_type": "code",
   "execution_count": 15,
   "metadata": {},
   "outputs": [
    {
     "name": "stdout",
     "output_type": "stream",
     "text": [
      "40.0\n"
     ]
    }
   ],
   "source": [
    "# Matrix determinant:\n",
    "\n",
    "det_A = np.linalg.det(A)\n",
    "\n",
    "print(det_A)"
   ]
  },
  {
   "cell_type": "markdown",
   "metadata": {},
   "source": [
    "<u>Diagonal Of A Matrix</u>"
   ]
  },
  {
   "cell_type": "code",
   "execution_count": 17,
   "metadata": {},
   "outputs": [
    {
     "name": "stdout",
     "output_type": "stream",
     "text": [
      "[ 1.  3. -5.]\n"
     ]
    }
   ],
   "source": [
    "# Diagonal of Matrix:\n",
    "\n",
    "print(np.diag(A))"
   ]
  },
  {
   "cell_type": "markdown",
   "metadata": {},
   "source": [
    "<u>Trace Of A Matrix</u>"
   ]
  },
  {
   "cell_type": "code",
   "execution_count": 18,
   "metadata": {},
   "outputs": [
    {
     "name": "stdout",
     "output_type": "stream",
     "text": [
      "-1.0\n"
     ]
    }
   ],
   "source": [
    "# Trace Of A Matrix:\n",
    "\n",
    "print(np.trace(A))"
   ]
  },
  {
   "cell_type": "markdown",
   "metadata": {},
   "source": [
    "<u>Transpose Of A Matrix (Switch Rows With Columns & Vice Versa)</u>"
   ]
  },
  {
   "cell_type": "code",
   "execution_count": 20,
   "metadata": {},
   "outputs": [
    {
     "name": "stdout",
     "output_type": "stream",
     "text": [
      "[[ 1.  2.  0.]\n",
      " [ 5.  3.  1.]\n",
      " [ 2. -1. -5.]]\n"
     ]
    }
   ],
   "source": [
    "# Transpose Of Matrix:\n",
    "\n",
    "print(np.transpose(A)) # Transpose of matrix A"
   ]
  },
  {
   "cell_type": "markdown",
   "metadata": {},
   "source": [
    "<u>Inverse Of A Square Matrix</u>"
   ]
  },
  {
   "cell_type": "code",
   "execution_count": 22,
   "metadata": {},
   "outputs": [
    {
     "name": "stdout",
     "output_type": "stream",
     "text": [
      "[[-0.35   0.675 -0.275]\n",
      " [ 0.25  -0.125  0.125]\n",
      " [ 0.05  -0.025 -0.175]]\n"
     ]
    }
   ],
   "source": [
    "# Inverse Of A Square Matrix:\n",
    "\n",
    "print(np.linalg.inv(A))"
   ]
  },
  {
   "cell_type": "markdown",
   "metadata": {},
   "source": [
    "<u>Eigenvalues & Eigenvectors Of A Square Matrix</u>"
   ]
  },
  {
   "cell_type": "code",
   "execution_count": 24,
   "metadata": {},
   "outputs": [
    {
     "name": "stdout",
     "output_type": "stream",
     "text": [
      "(array([ 5.31205954, -1.59702758, -4.71503196]), array([[-0.76793053,  0.89996329, -0.49933346],\n",
      "       [-0.63754246, -0.41827952,  0.23744618],\n",
      "       [-0.06182494, -0.12291593,  0.83323791]]))\n"
     ]
    }
   ],
   "source": [
    "# Eigenvalues and Eigenvectors Of A Square Matrix:\n",
    "\n",
    "print(np.linalg.eig(A))"
   ]
  },
  {
   "cell_type": "markdown",
   "metadata": {},
   "source": [
    "<u>Matrix Multiplication</u>"
   ]
  },
  {
   "cell_type": "code",
   "execution_count": 25,
   "metadata": {},
   "outputs": [
    {
     "name": "stdout",
     "output_type": "stream",
     "text": [
      "[[-1]\n",
      " [ 0]]\n"
     ]
    }
   ],
   "source": [
    "# Matrix multiplication:\n",
    "\n",
    "B = np.array([[1, 3], [1, 2]]) # 2 by 2 matrix\n",
    "\n",
    "D = np.array([[2], [-1]]) # 2 by 1 matrix\n",
    "\n",
    "print(np.matmul(B, D))"
   ]
  },
  {
   "cell_type": "markdown",
   "metadata": {},
   "source": [
    "<u>Solving A Linear System</u>"
   ]
  },
  {
   "cell_type": "code",
   "execution_count": 27,
   "metadata": {},
   "outputs": [
    {
     "name": "stdout",
     "output_type": "stream",
     "text": [
      "[[-4.]\n",
      " [ 2.]]\n"
     ]
    }
   ],
   "source": [
    "# Solving a linear system example Bx = c.\n",
    "\n",
    "B = np.array([[1, 3], [1, 2]])\n",
    "\n",
    "c = np.array([[2], [0]])\n",
    "\n",
    "print(np.linalg.solve(B, c))"
   ]
  }
 ],
 "metadata": {
  "kernelspec": {
   "display_name": "Python 3",
   "language": "python",
   "name": "python3"
  },
  "language_info": {
   "codemirror_mode": {
    "name": "ipython",
    "version": 3
   },
   "file_extension": ".py",
   "mimetype": "text/x-python",
   "name": "python",
   "nbconvert_exporter": "python",
   "pygments_lexer": "ipython3",
   "version": "3.6.1"
  }
 },
 "nbformat": 4,
 "nbformat_minor": 2
}
