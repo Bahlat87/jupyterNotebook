{
 "cells": [
  {
   "cell_type": "markdown",
   "metadata": {},
   "source": [
    "**<u>Mean, Median, Mode & Variance In Python</u>**\n",
    "\n",
    "Hi there. This is a short page on computing means, medians, modes, and variances in Python. As someone who is coming from a heavy R background, I wanted to revisit Python and brush up on some things.\n",
    "\n",
    "**<u>Sections</u>**\n",
    "\n",
    "* Means\n",
    "\n",
    "* Medians\n",
    "\n",
    "* Modes\n",
    "\n",
    "* Variances\n",
    "\n",
    "* References"
   ]
  },
  {
   "cell_type": "markdown",
   "metadata": {},
   "source": [
    "**<u>Means</u>**\n",
    "\n",
    "The sample mean is not very difficult to implement in Python (or in any programming language). I add the realized values together and divide this sum by the number of values. In math notation, I would have:\n",
    "\n",
    "$$\\bar{x} = \\dfrac{1}{n} \\sum_{i = 1}^{n} x_{i} = \\dfrac{1}{n} (x_1 + x_2 + x_3 + ... + x_n)$$\n",
    "\n",
    "In Python, I would define the mean function by having a list as an input and returning the sum of the elements in this list divide by the number of elements in the list. An example is shown below."
   ]
  },
  {
   "cell_type": "code",
   "execution_count": 2,
   "metadata": {},
   "outputs": [
    {
     "name": "stdout",
     "output_type": "stream",
     "text": [
      "Mean: 8.71\n"
     ]
    }
   ],
   "source": [
    "# Mean, Median, Mode & Variance In Python Work\n",
    "\n",
    "import math\n",
    "from __future__ import division\n",
    " \n",
    "### Mean Example:\n",
    "\n",
    "test_ex = [5, 9, 12, 2, 4, 18, 11]\n",
    "\n",
    "def mean(x):\n",
    "     return sum(x) / len(x)\n",
    "     \n",
    "\n",
    "print(\"Mean:\", round(mean(test_ex), 2))"
   ]
  },
  {
   "cell_type": "markdown",
   "metadata": {},
   "source": [
    "**<u>Medians</u>**\n",
    "\n",
    "In a sorted list of numbers, the median is the middle number. The median number is also the 50th percentile. This means that half of the sorted numbers are above the median and the other half are below the median.\n",
    "\n",
    "If we have an odd amount of numbers in a list, the middle number can be obtained easily. In the event of an even amount of numbers, the median would be the average of the middle two numbers. (The average as in add the two middle numbers and divide by two.)"
   ]
  },
  {
   "cell_type": "code",
   "execution_count": 4,
   "metadata": {
    "collapsed": true
   },
   "outputs": [],
   "source": [
    "### Median Code & Example:\n",
    "\n",
    "def median(x):\n",
    "    # Input: list of numbers; Output: the \"middle\" number of an ordered list of #s\n",
    "    \n",
    "    sorted_x = sorted(x)\n",
    "    length_n = len(x)\n",
    "    \n",
    "    middle = length_n // 2 # Integer division\n",
    "    \n",
    "    # Even numbered amount in list:\n",
    "    if length_n % 2 == 0:\n",
    "        median_even = (sorted_x[middle - 1] + sorted_x[middle]) / 2\n",
    "        return(median_even) # Remember index 0 as 1st element.\n",
    "    else:\n",
    "        return(sorted_x[middle]) # Return middle number"
   ]
  },
  {
   "cell_type": "markdown",
   "metadata": {},
   "source": [
    "Remember that the first element of a list in Python has an index of 0. In R, the first element index is 1.\n",
    "\n",
    "Here are a few examples with the median."
   ]
  },
  {
   "cell_type": "code",
   "execution_count": 5,
   "metadata": {},
   "outputs": [
    {
     "name": "stdout",
     "output_type": "stream",
     "text": [
      "Median:  9\n",
      "Median:  3.0\n"
     ]
    }
   ],
   "source": [
    "# Test Cases:\n",
    " \n",
    "test_ex2 = [5, 1, 4, 2]\n",
    " \n",
    "print(\"Median: \", median(test_ex))\n",
    "\n",
    "print(\"Median: \", median(test_ex2))"
   ]
  },
  {
   "cell_type": "markdown",
   "metadata": {},
   "source": [
    "**<u>Modes</u>**\n",
    "\n",
    "In a list or sequence of numbers, the mode is the number which occurs the most frequently.\n",
    "\n",
    "I have found two ways to find the mode. The first way is with using the `Counter()` function and the second way is by using mode from the statistics package in Python."
   ]
  },
  {
   "cell_type": "code",
   "execution_count": 6,
   "metadata": {},
   "outputs": [
    {
     "name": "stdout",
     "output_type": "stream",
     "text": [
      "[(5, 3)]\n"
     ]
    }
   ],
   "source": [
    "### Mode Example:\n",
    "\n",
    "# Finding most occuring number/object in a list.\n",
    "\n",
    "from collections import Counter\n",
    "\n",
    "# References: https://stackoverflow.com/questions/2600191/how-can-i-count-the-occurrences-of-a-list-item-in-python\n",
    "# https://stackoverflow.com/questions/10797819/finding-the-mode-of-a-list\n",
    "# https://stackoverflow.com/questions/16670658/python-variance-of-a-list-of-defined-numbers\n",
    "\n",
    "test_ex3 = [5, 5, 0, 1, 4, 2, -1, 4, 3, 2, 7, 5]\n",
    "\n",
    "print(Counter(test_ex3).most_common(1))"
   ]
  },
  {
   "cell_type": "markdown",
   "metadata": {},
   "source": [
    "This output gives the mode and its frequency."
   ]
  },
  {
   "cell_type": "code",
   "execution_count": 7,
   "metadata": {},
   "outputs": [
    {
     "name": "stdout",
     "output_type": "stream",
     "text": [
      "Mode:  5\n"
     ]
    }
   ],
   "source": [
    "# Alternate Way:\n",
    "\n",
    "from statistics import mode\n",
    "\n",
    "print(\"Mode: \",mode(test_ex3))"
   ]
  },
  {
   "cell_type": "markdown",
   "metadata": {},
   "source": [
    "**<u>Variances</u>**\n",
    "\n",
    "Means, medians and modes are measures of central tendency and deal mostly with location. When it comes to measures such as variances, we deal with how the data is spread out.\n",
    "\n",
    "The sample variance involves taking each data point and subtracting it from the mean. This difference is squared and all of these squared differences are added together and divided by the number of data points minus one. In math notation it looks like this.\n",
    "\n",
    "$$\\bar{x} = \\dfrac{1}{n - 1} \\sum_{i = 1}^{n} (x_{i} - \\bar{x})^2 = \\dfrac{1}{n - 1} ((x_{1} - \\bar{x})^2 + (x_{2} - \\bar{x})^2 +  ... + (x_{n} - \\bar{x})^2 )$$\n",
    "\n",
    "Note that we divide by $n - 1$ for the sample variance as this is an unbiased estimator for the population variance (which divides by $n$ and not $n - 1$).\n",
    "\n",
    "\n",
    "Here is the Python code for the variance with an example."
   ]
  },
  {
   "cell_type": "code",
   "execution_count": 9,
   "metadata": {},
   "outputs": [
    {
     "name": "stdout",
     "output_type": "stream",
     "text": [
      "Variance:  3.33\n"
     ]
    }
   ],
   "source": [
    "### Variances\n",
    " \n",
    "def variance(x):\n",
    "     n = len(x)\n",
    "     x_bar = mean(x)\n",
    "     return(round(sum((x_i - x_bar)**2 for x_i in x) / (n - 1), 2))\n",
    "\n",
    "test_ex2 = [5, 1, 4, 2]\n",
    "\n",
    "print(\"Variance: \", variance(test_ex2)) # 3.33"
   ]
  },
  {
   "cell_type": "markdown",
   "metadata": {},
   "source": [
    "<u>Standard Deviation</u>\n",
    "\n",
    "The standard deviation is the square root of the variance. Since the variance is at least 0 (because of the squares), the standard deviation is non-negative as well. There is no need to worry about having negatives inside a square root."
   ]
  },
  {
   "cell_type": "code",
   "execution_count": 10,
   "metadata": {},
   "outputs": [
    {
     "name": "stdout",
     "output_type": "stream",
     "text": [
      "Standard Deviation:  1.82\n"
     ]
    }
   ],
   "source": [
    "def standard_deviation(x):\n",
    "     return(math.sqrt(variance(x)))\n",
    "     \n",
    "print(\"Standard Deviation: \", round(standard_deviation(test_ex2), 2))"
   ]
  },
  {
   "cell_type": "markdown",
   "metadata": {},
   "source": [
    "**<u>References</u>**\n",
    "\n",
    "* https://stackoverflow.com/questions/2600191/how-can-i-count-the-occurrences-of-a-list-item-in-python\n",
    "* https://stackoverflow.com/questions/10797819/finding-the-mode-of-a-list\n",
    "* https://stackoverflow.com/questions/16670658/python-variance-of-a-list-of-defined-numbers\n",
    "* Data Science from Scratch- First Principles with Python by Joel Grus"
   ]
  }
 ],
 "metadata": {
  "kernelspec": {
   "display_name": "Python 3",
   "language": "python",
   "name": "python3"
  },
  "language_info": {
   "codemirror_mode": {
    "name": "ipython",
    "version": 3
   },
   "file_extension": ".py",
   "mimetype": "text/x-python",
   "name": "python",
   "nbconvert_exporter": "python",
   "pygments_lexer": "ipython3",
   "version": "3.6.1"
  }
 },
 "nbformat": 4,
 "nbformat_minor": 2
}
