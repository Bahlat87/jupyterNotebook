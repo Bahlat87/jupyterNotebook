{
 "cells": [
  {
   "cell_type": "markdown",
   "metadata": {},
   "source": [
    "**<u>Arithmetic Sequences & Series In Python</u>**\n",
    "\n",
    "Hi there. This page is on working with arithmetic sequences and series in the Python programming language."
   ]
  },
  {
   "cell_type": "markdown",
   "metadata": {},
   "source": [
    "**<u>Arithmetic Sequences In Python</u>**\n",
    "\n",
    "In mathematics, arithmetic sequences involve a list of ordered numbers with a common difference. Examples include:\n",
    "\n",
    "* 1, 3, 5, 7, 9, 11, 13, 15, 17, ... \n",
    "\n",
    "&nbsp;\n",
    "\n",
    "* 1, 11, 21, 31, 41, 51, ...\n",
    "\n",
    "&nbsp;\n",
    "\n",
    "* -2, -4, -6, -8, -10, ..."
   ]
  },
  {
   "cell_type": "markdown",
   "metadata": {},
   "source": [
    "Given the first number in an arithmetic sequence and a common difference, you can find the n-th term in the arithmetic sequence.\n",
    "\n",
    "In math notation, the formula for the n-th term is:\n",
    "\n",
    "$$a_n = a_1 + (n - 1)d$$\n",
    "\n",
    "where:\n",
    "\n",
    "$a_n$ is the n-th term in the arithmetic sequence\n",
    "$a_1$ is the first term in the arithmetic sequence\n",
    "$n$ is the number of terms in the sequence from $a_1$ to $a_n$\n",
    "$d$ is the common difference\n",
    "\n",
    "\n",
    "The above math formula can be implemented into Python as a Python function. In the function, the inputs are the starting term, the number of terms and the common difference."
   ]
  },
  {
   "cell_type": "code",
   "execution_count": 2,
   "metadata": {
    "collapsed": true
   },
   "outputs": [],
   "source": [
    "# Formula: \n",
    "    \n",
    "# Arithmetic Sequence Formula: end = start + (n - 1)d\n",
    "# end - start = (n - 1)d\n",
    "# (end - start) / d = n - 1\n",
    "# (end - start) / d + 1 = n \n",
    "\n",
    "def find_term_n(start, n, diff):\n",
    "    if start % 1 != 0:\n",
    "        print(\"Please choose an integer.\")\n",
    "    elif n % 1 != 0 and n < 1:\n",
    "        print(\"Please choose a positive whole number.\")\n",
    "    else:\n",
    "        term_n = start + (n - 1)*diff\n",
    "        return term_n"
   ]
  },
  {
   "cell_type": "markdown",
   "metadata": {},
   "source": [
    "In the example below, I find the 10th term in the arithmetic sequence with the first term as one and the common difference as 6."
   ]
  },
  {
   "cell_type": "code",
   "execution_count": 3,
   "metadata": {},
   "outputs": [
    {
     "name": "stdout",
     "output_type": "stream",
     "text": [
      "55\n"
     ]
    }
   ],
   "source": [
    "print(find_term_n(start = 1, n = 10, diff = 6))"
   ]
  },
  {
   "cell_type": "markdown",
   "metadata": {},
   "source": [
    "<u>Finding The Number Of Terms In An Arithmetic Sequence</u>\n",
    "\n",
    "Another function in Python dealing with the number of terms in an arithmetic sequence can be made. Given the starting term, the end term and the common difference in the arithmetic sequence, the number of terms can be found.\n",
    "\n",
    "For finding the number of terms in an arithmetic sequence the math formula is:\n",
    "\n",
    "$$n = \\dfrac{a_n - a_1}{d} + 1 $$"
   ]
  },
  {
   "cell_type": "code",
   "execution_count": 5,
   "metadata": {
    "collapsed": true
   },
   "outputs": [],
   "source": [
    "def find_numTerms_arithSeq(start, end, diff):\n",
    "    if start % 1 != 0:\n",
    "        print(\"Please choose an integer.\")\n",
    "    numTerms = 1 + (end - start) / diff\n",
    "    if numTerms > 0:\n",
    "        return int(numTerms)\n",
    "    else:\n",
    "        print(\"The number of terms cannot be negative. Try again.\")"
   ]
  },
  {
   "cell_type": "markdown",
   "metadata": {},
   "source": [
    "As shown in the example below, the number of terms from the sequence 1, 2, 3, 4, 5, 6 up to 10 is 10. (Duh.)"
   ]
  },
  {
   "cell_type": "code",
   "execution_count": 6,
   "metadata": {},
   "outputs": [
    {
     "name": "stdout",
     "output_type": "stream",
     "text": [
      "10\n"
     ]
    }
   ],
   "source": [
    "print(find_numTerms_arithSeq(1, 10, 1))"
   ]
  },
  {
   "cell_type": "markdown",
   "metadata": {},
   "source": [
    "**<u>Arithmetic Series In Python</u>**\n",
    "\n",
    "\n",
    "An arithmetic sequence is a list of (ordered) numbers with a common difference. The sum of the numbers in an arithmetic sequence is an arithmetic series.\n",
    "\n",
    "An example of an arithmetic sequence is 3, 6, 9, 12, 15, 18, 21 up to 39. The arithmetic series of those numbers would have plus signs instead of commas. That is, 3 + 6 + 9 + 12 + 15 + 18 + 21 + 24 + 27 + 30 + 33 + 36 + 39.\n",
    "\n",
    "The formula for the arithmetic series is:\n",
    "\n",
    "$$S_n = \\dfrac{n}{2}(a_1 + a_n)$$"
   ]
  },
  {
   "cell_type": "code",
   "execution_count": 8,
   "metadata": {
    "collapsed": true
   },
   "outputs": [],
   "source": [
    "# Arithmetic Series formula:\n",
    "# Finding the sum of an arithmetic series.\n",
    "# Reference: https://stackoverflow.com/questions/21583758/how-to-check-if-a-float-value-is-a-whole-number\n",
    "# \n",
    "\n",
    "\n",
    "def find_arithmetic_seriesSum_verOne(start, end, n):\n",
    "    if start % 1 == 0 and start > 0:\n",
    "        if end % 1 == 0 and end > 0 and end > start:\n",
    "            total = 0.5*n*(start + end)\n",
    "            return total\n",
    "    else:\n",
    "        print(\"Choose a starting number that is a whole positive number please.\")"
   ]
  },
  {
   "cell_type": "markdown",
   "metadata": {},
   "source": [
    "The sum of the whole number integers from 1 to 10 is 55 as shown in the output below. Note that the argument for n uses a function call on the `find_numTerms_arithSeq(1, 10, 1)` that was done earlier. (1 + 2 + 3 + ... + 10 = 55)"
   ]
  },
  {
   "cell_type": "code",
   "execution_count": 9,
   "metadata": {},
   "outputs": [
    {
     "name": "stdout",
     "output_type": "stream",
     "text": [
      "55.0\n"
     ]
    }
   ],
   "source": [
    "print(find_arithmetic_seriesSum_verOne(start = 1, end = 10, n = find_numTerms_arithSeq(1, 10, 1)))"
   ]
  }
 ],
 "metadata": {
  "kernelspec": {
   "display_name": "Python 3",
   "language": "python",
   "name": "python3"
  },
  "language_info": {
   "codemirror_mode": {
    "name": "ipython",
    "version": 3
   },
   "file_extension": ".py",
   "mimetype": "text/x-python",
   "name": "python",
   "nbconvert_exporter": "python",
   "pygments_lexer": "ipython3",
   "version": "3.6.1"
  }
 },
 "nbformat": 4,
 "nbformat_minor": 2
}
