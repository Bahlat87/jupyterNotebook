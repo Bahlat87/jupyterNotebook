{
 "cells": [
  {
   "cell_type": "markdown",
   "metadata": {},
   "source": [
    "**<u>Simple Linear Regression In Python</u>**\n",
    "\n",
    "Hi there. In this post, I experiment with Python in creating a simple linear regression line (line of best fit) for (fake) sample data.\n",
    "\n",
    "**<u>Sections</u>**\n",
    "\n",
    "* Setup & Sample Data\n",
    "* A Scatterplot\n",
    "* Linear Regression Line Plot\n",
    "* References\n"
   ]
  },
  {
   "cell_type": "markdown",
   "metadata": {},
   "source": [
    "**<u>Setup & Sample Data</u>**\n",
    "\n",
    "To start, I import matplotlib and the linear_model function from sklearn into Python. (I am currently using Anaconda so installation of these packages would occur in the Anaconda prompt and not in the regular windows command prompt.)"
   ]
  },
  {
   "cell_type": "code",
   "execution_count": 2,
   "metadata": {
    "collapsed": true
   },
   "outputs": [],
   "source": [
    "# Simple Linear Regression In Python [Fake Data Example]\n",
    "# Ref: Datacamp's Python Cheat Sheet for matplotlib\n",
    "# http://dataconomy.com/2015/02/linear-regression-implementation-in-python/\n",
    "# http://scikit-learn.org/stable/auto_examples/linear_model/plot_ols.html\n",
    "\n",
    "import matplotlib.pyplot as plt\n",
    "from sklearn import linear_model\n",
    "\n",
    "xvalues = [-1, 2, 5, -2, -3, 5, 7, 10, -3, 8]\n",
    "\n",
    "yvalues = [8, 2, 7, 9, 1, 2, 9, 12, 14, 15]"
   ]
  },
  {
   "cell_type": "markdown",
   "metadata": {},
   "source": [
    "**<u>A Scatterplot</u>**\n",
    "\n",
    "Generating a simple scatterplot in matplotlib does not require many lines of code. Here is the code and output."
   ]
  },
  {
   "cell_type": "code",
   "execution_count": 3,
   "metadata": {},
   "outputs": [
    {
     "data": {
      "image/png": "[encoded data removed]",
      "text/plain": [
       "<matplotlib.figure.Figure at 0x1c11bc21b00>"
      ]
     },
     "metadata": {},
     "output_type": "display_data"
    }
   ],
   "source": [
    "# Scatterplot:\n",
    "\n",
    "plt.scatter(xvalues, yvalues, color = \"green\")\n",
    "\n",
    "\n",
    "plt.xlabel('\\n x')\n",
    "plt.ylabel('y\\n ')\n",
    "\n",
    "plt.title(\"Simple Scatterplot \\n\")\n",
    "\n",
    "plt.show()"
   ]
  },
  {
   "cell_type": "markdown",
   "metadata": {},
   "source": [
    "**<u>Linear Regression Line Plot</u>**\n",
    "\n",
    "When it comes to linear regression, we want to represent these points with one single line. This one single line can be seen as a line of best fit such that the aggregate distance from each point to the line of best fit is the lowest possible.\n",
    "\n",
    "(The line is simple for many but not the best fit overall. You could propose some other functions which be closer to the points but they would not be as easy to understand. There is a tradeoff here.)"
   ]
  },
  {
   "cell_type": "code",
   "execution_count": 4,
   "metadata": {},
   "outputs": [
    {
     "name": "stdout",
     "output_type": "stream",
     "text": [
      "[[-1], [2], [5], [-2], [-3], [5], [7], [10], [-3], [8]]\n"
     ]
    }
   ],
   "source": [
    "# Linear Fit Model Plot:\n",
    "\n",
    "# Need x values elements as its own list. (List comprehension)\n",
    "# https://stackoverflow.com/questions/15569529/convert-list-elements-into-list-of-lists\n",
    "# https://www.youtube.com/watch?v=pShL9DCSIUw\n",
    "\n",
    "xvalues = [[element] for element in xvalues]\n",
    "\n",
    "print(xvalues)"
   ]
  },
  {
   "cell_type": "markdown",
   "metadata": {},
   "source": [
    "After some trial and error, I have found out that you need to convert the elements from the x-values into its own list. If this is not done, then you get an error when running a linear regression with sklearn.\n",
    "\n",
    "Here is the rest of the code and the resulting linear regression plot."
   ]
  },
  {
   "cell_type": "code",
   "execution_count": 5,
   "metadata": {},
   "outputs": [
    {
     "data": {
      "image/png": "[encoded data removed]",
      "text/plain": [
       "<matplotlib.figure.Figure at 0x1c11e9f2ef0>"
      ]
     },
     "metadata": {},
     "output_type": "display_data"
    }
   ],
   "source": [
    "regr = linear_model.LinearRegression()\n",
    "regr.fit(xvalues, yvalues)\n",
    "\n",
    "y_predictions = regr.predict(xvalues)\n",
    "\n",
    "plt.scatter(xvalues, yvalues, color = \"blue\")\n",
    "plt.plot(xvalues, y_predictions, color = \"black\")\n",
    "\n",
    "plt.xticks(())\n",
    "plt.yticks(())\n",
    "\n",
    "plt.xlabel('\\n x')\n",
    "plt.ylabel('y\\n ')\n",
    "\n",
    "plt.title(\"Simple Scatterplot \\n\")\n",
    "\n",
    "plt.show()"
   ]
  },
  {
   "cell_type": "markdown",
   "metadata": {},
   "source": [
    "**<u>References</u>**\n",
    "\n",
    "* Datacamp's Python Cheat Sheet for matplotlib\n",
    "* http://dataconomy.com/2015/02/linear-regression-implementation-in-python/\n",
    "* http://scikit-learn.org/stable/auto_examples/linear_model/plot_ols.html\n",
    "* https://stackoverflow.com/questions/15569529/convert-list-elements-into-list-of-lists\n",
    "* https://www.youtube.com/watch?v=pShL9DCSIUw"
   ]
  }
 ],
 "metadata": {
  "kernelspec": {
   "display_name": "Python 3",
   "language": "python",
   "name": "python3"
  },
  "language_info": {
   "codemirror_mode": {
    "name": "ipython",
    "version": 3
   },
   "file_extension": ".py",
   "mimetype": "text/x-python",
   "name": "python",
   "nbconvert_exporter": "python",
   "pygments_lexer": "ipython3",
   "version": "3.7.3"
  }
 },
 "nbformat": 4,
 "nbformat_minor": 2
}
