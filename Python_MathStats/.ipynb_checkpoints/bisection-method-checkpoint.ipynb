{
 "cells": [
  {
   "cell_type": "markdown",
   "metadata": {},
   "source": [
    "**<u>The Bisection Method In Python</u>**\n",
    "\n",
    "Hello there. This page is on using Python to find approximate roots with the bisection method.\n",
    "\n",
    "**Sections**\n",
    "\n",
    "* What Is The Bisection Method? (Brief)\n",
    "\n",
    "* The Bisection Method In Python\n",
    "\n",
    "* References\n"
   ]
  },
  {
   "cell_type": "markdown",
   "metadata": {},
   "source": [
    "**<u>What Is The Bisection Method? (Brief)</u>**\n",
    "\n",
    "The Bisection Method belongs to a class of numerical methods found in applied/computational mathematics. There are cases when the exact answer to a question cannot be found. Approximate solutions (with a small acceptable margin of error) are used instead.\n",
    "\n",
    "&nbsp;\n",
    "\n",
    "<center><img src=\"http://www.mathwarehouse.com/calculus/continuity/images/bisection-algorithm-basic-idea.png\" /></center>\n",
    "\n",
    "&nbsp;\n",
    "\n",
    "Image Source: http://www.mathwarehouse.com/calculus/continuity/images/bisection-algorithm-basic-idea.png\n"
   ]
  },
  {
   "cell_type": "markdown",
   "metadata": {},
   "source": [
    "**<u>The Bisection Method In Python</u>**\n",
    "\n",
    "In the Python code, I define one function as an example. This function is $x^2 - 7$."
   ]
  },
  {
   "cell_type": "code",
   "execution_count": 3,
   "metadata": {
    "collapsed": true
   },
   "outputs": [],
   "source": [
    "# Bisection Method In Python\n",
    "\n",
    "# Goal: Finding Roots to Polynomials\n",
    "# Inputs: Function, a and b for interval [a, b], a guess in [a, b]\n",
    "# Output: Roots/Zeroes To Polynomials\n",
    "\n",
    "# Reference: Tim Sauer - Numerical Analysis Second Edition\n",
    "# http://code.activestate.com/recipes/578417-bisection-method-in-python/\n",
    "\n",
    "# https://stackoverflow.com/questions/6289646/python-function-as-a-function-argument\n",
    "\n",
    "def f(x):\n",
    "    return(x**2 - 7)\n",
    "\n",
    "def bisection_method(a, b, tol):\n",
    "    if f(a)*f(b) > 0:\n",
    "        #end function, no root.\n",
    "        print(\"No root found.\")\n",
    "    else:\n",
    "        while (b - a)/2.0 > tol:\n",
    "            midpoint = (a + b)/2.0\n",
    "            if f(midpoint) == 0:\n",
    "                return(midpoint) #The midpoint is the x-intercept/root.\n",
    "            elif f(a)*f(midpoint) < 0: # Increasing but below 0 case\n",
    "                b = midpoint\n",
    "            else:\n",
    "                a = midpoint\n",
    "        \n",
    "        return(midpoint)"
   ]
  },
  {
   "cell_type": "markdown",
   "metadata": {},
   "source": [
    "In the bisection method function, I have the inputs as a, b from the interval [a, b], and the tolerance (margin of error allowed) represented by tol.\n",
    "\n",
    "Instead of c, I use the variable midpoint.\n",
    "\n",
    "The output from the bisection method would be the approximate solution to the function. This approximate solution would be off from the exact solution by less than the tolerance.\n",
    "\n",
    "Here is a function call of the bisection method with $f(x) = x^2 - 7$ with the interval $[-1, 3]$ and a tolerance of 0.0001. The round function is used to limit the number of decimals."
   ]
  },
  {
   "cell_type": "code",
   "execution_count": 4,
   "metadata": {},
   "outputs": [
    {
     "name": "stdout",
     "output_type": "stream",
     "text": [
      "Answer: 2.646\n"
     ]
    }
   ],
   "source": [
    "answer = bisection_method(-1, 5, 0.0001)\n",
    "\n",
    "print(\"Answer:\", round(answer, 3))"
   ]
  },
  {
   "cell_type": "markdown",
   "metadata": {},
   "source": [
    "**<u>References</u>**\n",
    "\n",
    "* Tim Sauer - Numerical Analysis Second Edition\n",
    "* https://stackoverflow.com/questions/6289646/python-function-as-a-function-argument\n",
    "* http://code.activestate.com/recipes/578417-bisection-method-in-python/"
   ]
  }
 ],
 "metadata": {
  "kernelspec": {
   "display_name": "Python 3",
   "language": "python",
   "name": "python3"
  },
  "language_info": {
   "codemirror_mode": {
    "name": "ipython",
    "version": 3
   },
   "file_extension": ".py",
   "mimetype": "text/x-python",
   "name": "python",
   "nbconvert_exporter": "python",
   "pygments_lexer": "ipython3",
   "version": "3.6.1"
  }
 },
 "nbformat": 4,
 "nbformat_minor": 2
}
